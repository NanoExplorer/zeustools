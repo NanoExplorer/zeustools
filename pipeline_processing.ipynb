{
 "cells": [
  {
   "cell_type": "markdown",
   "id": "0bbc9a82",
   "metadata": {},
   "source": [
    "# Run the pipeline for our sources\n",
    "\n",
    "This notebook uses my wrapper function in zeustools/calibration_pipeline to run Bo's zeus2-toolbox pipeline. \n",
    "\n",
    "The way I've set it up, all variables for the pipeline can be modified through the `ReductionHelper` object, so I put its `reduce()` method in a for loop to run it for every scan. We don't make any plots here, and the folder structure is set up for my computer unfortunately (in hindsight I should've used a `data_dir` type variable).\n"
   ]
  },
  {
   "cell_type": "markdown",
   "id": "0567227e",
   "metadata": {},
   "source": [
    "## Set up notebook"
   ]
  },
  {
   "cell_type": "code",
   "execution_count": 22,
   "id": "20f0fff4",
   "metadata": {
    "init_cell": true
   },
   "outputs": [],
   "source": [
    "import zeustools as zt\n",
    "import time\n",
    "import itertools\n",
    "import numpy as np"
   ]
  },
  {
   "cell_type": "code",
   "execution_count": 9,
   "id": "7b6845bf",
   "metadata": {
    "init_cell": true
   },
   "outputs": [],
   "source": [
    "from zeustools import calibration_pipeline as calib_pipe"
   ]
  },
  {
   "cell_type": "code",
   "execution_count": 10,
   "id": "32da6a2c",
   "metadata": {
    "init_cell": true
   },
   "outputs": [],
   "source": [
    "am = zt.ArrayMapper()"
   ]
  },
  {
   "cell_type": "code",
   "execution_count": 11,
   "id": "33bde5e7",
   "metadata": {
    "init_cell": true
   },
   "outputs": [
    {
     "name": "stdout",
     "output_type": "stream",
     "text": [
      "Setting band using default layout.\n"
     ]
    }
   ],
   "source": [
    "r = calib_pipe.ReductionHelper()"
   ]
  },
  {
   "cell_type": "code",
   "execution_count": 12,
   "id": "ab1ec290",
   "metadata": {
    "init_cell": true
   },
   "outputs": [],
   "source": [
    "r.do_ica = True\n",
    "r.do_smooth=False"
   ]
  },
  {
   "cell_type": "markdown",
   "id": "99329c61",
   "metadata": {
    "heading_collapsed": true
   },
   "source": [
    "# LPSJ0226"
   ]
  },
  {
   "cell_type": "code",
   "execution_count": 6,
   "id": "077f2be1",
   "metadata": {
    "hidden": true
   },
   "outputs": [],
   "source": [
    "flats = [\n",
    "    {\"skychop_220916\": [(40, 41)]},\n",
    "    {\"skychop_220916\": [(48, 48)]},\n",
    "    #{\"skychop_220922\": [(39, 40)]},\n",
    "    {\"skychop_220922\": [(43, 44)]},\n",
    "    {\"skychop_220924\": [(32, 33)]},\n",
    "    {\"skychop_220924\": [(36, 37)]},\n",
    "    {\"skychop_220925\": [(7, 7)]},\n",
    "    {\"skychop_220925\": [(10, 10)]},\n",
    "    {\"skychop_220927\": [(8, 8)]},\n",
    "    {\"skychop_220927\": [(17, 17)]},\n",
    "    {\"skychop_220930\": [(21, 21)]},\n",
    "    {\"skychop_220930\": [(22, 22)]},\n",
    "    {\"skychop_220930\": [(24, 24)]},\n",
    "    {\"skychop_220930\": [(26, 27)]}\n",
    "]\n",
    "data = [\n",
    "    {\"lpsj0226_220916\": [(0, 39)]},\n",
    "    {\"lpsj0226_220916\": [(40, 59)]},\n",
    "    #{\"lpsj0226_220922\": [(0, 39)]},\n",
    "    {\"lpsj0226_220922\": [(42, 81)]},\n",
    "    {\"lpsj0226_220924\": [(0, 39)]},\n",
    "    {\"lpsj0226_220924\": [(40, 79)]},\n",
    "    {\"lpsj0226_220925\": [(0, 39)]},\n",
    "    {\"lpsj0226_220925\": [(40, 79)]},\n",
    "    {\"lpsj0226_220927\": [(3, 42)]},\n",
    "    {\"lpsj0226_220927\": [(43, 62)]},\n",
    "    {\"lpsj0226_220930\": [(0, 19), (23, 42)]},\n",
    "    {\"lpsj0226_220930\": [(43, 82)]},\n",
    "    {\"lpsj0226_220930\": [(83, 122)]},\n",
    "    {\"lpsj0226_220930\": [(123, 142)]}\n",
    "]\n",
    "bias = [\n",
    "    {\"bias_step\": [(32, 33)]},\n",
    "    {\"bias_step\": [(37, 38)]},\n",
    "    #{\"bias_step\": [(7, 8)]},\n",
    "    {\"bias_step\": [(9, 10)]},\n",
    "    {\"bias_step\": [(18, 20)]},\n",
    "    {\"bias_step\": [(21, 24)]},\n",
    "    {\"bias_step\": [(2, 2)]},\n",
    "    {\"bias_step\": [(5, 5)]},\n",
    "    {\"bias_step\": [(4, 6)]},\n",
    "    {\"bias_step\": [(10, 11)]},\n",
    "    {\"bias_step\": [(37, 37)]},\n",
    "    {\"bias_step\": [(42, 44)]},\n",
    "    {\"bias_step\": [(45, 46)]},\n",
    "    {\"bias_step\": [(50, 51)]}\n",
    "]\n",
    "folders = [\n",
    "    \"../../APEX_2022/20220916\",\n",
    "    \"../../APEX_2022/20220916\",\n",
    "    #\"../../APEX_2022/20220922\",\n",
    "    \"../../APEX_2022/20220922\",\n",
    "    \"../../APEX_2022/20220924\",\n",
    "    \"../../APEX_2022/20220924\",   \n",
    "    \"../../APEX_2022/20220925\", \n",
    "    \"../../APEX_2022/20220925\", \n",
    "    \"../../APEX_2022/20220927\", \n",
    "    \"../../APEX_2022/20220927\", \n",
    "    \"../../APEX_2022/20220930\", \n",
    "    \"../../APEX_2022/20220930\", \n",
    "    \"../../APEX_2022/20220930\", \n",
    "    \"../../APEX_2022/20220930\"\n",
    "]\n",
    "spatial = [1,0,#0,\n",
    "           0,0,0,0,0,0,0,0,0,0,0]\n",
    "spectral = spectral_pos_l = [10,8,\n",
    "               #11,\n",
    "               9,\n",
    "               7,6,\n",
    "               7,8,\n",
    "               8,9,\n",
    "               9,10,8,9] \n",
    "r.write_dir=\"LPSJ0226_ica\""
   ]
  },
  {
   "cell_type": "code",
   "execution_count": 7,
   "id": "e373082e",
   "metadata": {
    "hidden": true,
    "scrolled": true
   },
   "outputs": [
    {
     "name": "stdout",
     "output_type": "stream",
     "text": [
      "running in parallel on 2 threads.\n",
      "running in parallel on 2 threads.\n",
      "running in parallel on 12 threads.\n"
     ]
    },
    {
     "name": "stderr",
     "output_type": "stream",
     "text": [
      "RuntimeWarning: divide by zero encountered in divide\n",
      "UserWarning: No band specific config information found, will use the input kwargs only the DEFAULT configurations in conf_kwargs_.\n",
      "UserWarning: No band specific config information found, will use the input kwargs only the DEFAULT configurations in conf_kwargs_.\n",
      "UserWarning: More than one values found inobs_info_.table[mm PWV], will average.\n",
      "UserWarning: More than one values found inobs_info_.table[Elevation], will average.\n",
      "UserWarning: No band specific config information found, will use the input kwargs only the DEFAULT configurations in conf_kwargs_.\n"
     ]
    },
    {
     "name": "stdout",
     "output_type": "stream",
     "text": [
      "Setting band using default layout.\n"
     ]
    },
    {
     "name": "stderr",
     "output_type": "stream",
     "text": [
      "UserWarning: More than one values found inobs_info_.table[mm PWV], will average.\n",
      "UserWarning: More than one values found inobs_info_.table[Elevation], will average.\n",
      "UserWarning: No band specific config information found, will use the input kwargs only the DEFAULT configurations in conf_kwargs_.\n"
     ]
    },
    {
     "name": "stdout",
     "output_type": "stream",
     "text": [
      "Setting band using default layout.\n",
      "Processing beam ../../APEX_2022/20220916\\skychop_220916_0048.\n"
     ]
    },
    {
     "name": "stderr",
     "output_type": "stream",
     "text": [
      "RuntimeWarning: invalid value encountered in divide\n"
     ]
    },
    {
     "name": "stdout",
     "output_type": "stream",
     "text": [
      "running in parallel on 2 threads.\n",
      "running in parallel on 10 threads.\n"
     ]
    },
    {
     "name": "stderr",
     "output_type": "stream",
     "text": [
      "RuntimeWarning: divide by zero encountered in divide\n",
      "UserWarning: No band specific config information found, will use the input kwargs only the DEFAULT configurations in conf_kwargs_.\n",
      "UserWarning: No band specific config information found, will use the input kwargs only the DEFAULT configurations in conf_kwargs_.\n",
      "UserWarning: More than one values found inobs_info_.table[mm PWV], will average.\n",
      "UserWarning: More than one values found inobs_info_.table[Elevation], will average.\n",
      "UserWarning: No band specific config information found, will use the input kwargs only the DEFAULT configurations in conf_kwargs_.\n"
     ]
    },
    {
     "name": "stdout",
     "output_type": "stream",
     "text": [
      "Setting band using default layout.\n"
     ]
    },
    {
     "name": "stderr",
     "output_type": "stream",
     "text": [
      "UserWarning: More than one values found inobs_info_.table[mm PWV], will average.\n",
      "UserWarning: More than one values found inobs_info_.table[Elevation], will average.\n",
      "UserWarning: No band specific config information found, will use the input kwargs only the DEFAULT configurations in conf_kwargs_.\n"
     ]
    },
    {
     "name": "stdout",
     "output_type": "stream",
     "text": [
      "Setting band using default layout.\n",
      "running in parallel on 2 threads.\n",
      "running in parallel on 2 threads.\n",
      "running in parallel on 12 threads.\n"
     ]
    },
    {
     "name": "stderr",
     "output_type": "stream",
     "text": [
      "RuntimeWarning: divide by zero encountered in divide\n",
      "UserWarning: No band specific config information found, will use the input kwargs only the DEFAULT configurations in conf_kwargs_.\n",
      "UserWarning: No band specific config information found, will use the input kwargs only the DEFAULT configurations in conf_kwargs_.\n",
      "UserWarning: More than one values found inobs_info_.table[Elevation], will average.\n",
      "UserWarning: No band specific config information found, will use the input kwargs only the DEFAULT configurations in conf_kwargs_.\n"
     ]
    },
    {
     "name": "stdout",
     "output_type": "stream",
     "text": [
      "Setting band using default layout.\n"
     ]
    },
    {
     "name": "stderr",
     "output_type": "stream",
     "text": [
      "UserWarning: More than one values found inobs_info_.table[Elevation], will average.\n",
      "RuntimeWarning: divide by zero encountered in divide\n",
      "RuntimeWarning: divide by zero encountered in divide\n",
      "RuntimeWarning: divide by zero encountered in divide\n",
      "UserWarning: No band specific config information found, will use the input kwargs only the DEFAULT configurations in conf_kwargs_.\n"
     ]
    },
    {
     "name": "stdout",
     "output_type": "stream",
     "text": [
      "Setting band using default layout.\n",
      "running in parallel on 2 threads.\n",
      "running in parallel on 3 threads.\n",
      "running in parallel on 12 threads.\n"
     ]
    },
    {
     "name": "stderr",
     "output_type": "stream",
     "text": [
      "RuntimeWarning: divide by zero encountered in divide\n",
      "UserWarning: No band specific config information found, will use the input kwargs only the DEFAULT configurations in conf_kwargs_.\n",
      "UserWarning: No band specific config information found, will use the input kwargs only the DEFAULT configurations in conf_kwargs_.\n",
      "UserWarning: More than one values found inobs_info_.table[mm PWV], will average.\n",
      "UserWarning: More than one values found inobs_info_.table[Elevation], will average.\n",
      "UserWarning: No band specific config information found, will use the input kwargs only the DEFAULT configurations in conf_kwargs_.\n"
     ]
    },
    {
     "name": "stdout",
     "output_type": "stream",
     "text": [
      "Setting band using default layout.\n"
     ]
    },
    {
     "name": "stderr",
     "output_type": "stream",
     "text": [
      "UserWarning: More than one values found inobs_info_.table[mm PWV], will average.\n",
      "UserWarning: More than one values found inobs_info_.table[Elevation], will average.\n",
      "RuntimeWarning: divide by zero encountered in divide\n",
      "RuntimeWarning: divide by zero encountered in divide\n",
      "RuntimeWarning: divide by zero encountered in divide\n",
      "UserWarning: No band specific config information found, will use the input kwargs only the DEFAULT configurations in conf_kwargs_.\n"
     ]
    },
    {
     "name": "stdout",
     "output_type": "stream",
     "text": [
      "Setting band using default layout.\n",
      "running in parallel on 2 threads.\n",
      "running in parallel on 4 threads.\n",
      "running in parallel on 12 threads.\n"
     ]
    },
    {
     "name": "stderr",
     "output_type": "stream",
     "text": [
      "RuntimeWarning: divide by zero encountered in divide\n",
      "UserWarning: No band specific config information found, will use the input kwargs only the DEFAULT configurations in conf_kwargs_.\n",
      "UserWarning: No band specific config information found, will use the input kwargs only the DEFAULT configurations in conf_kwargs_.\n",
      "UserWarning: More than one values found inobs_info_.table[Elevation], will average.\n",
      "UserWarning: No band specific config information found, will use the input kwargs only the DEFAULT configurations in conf_kwargs_.\n"
     ]
    },
    {
     "name": "stdout",
     "output_type": "stream",
     "text": [
      "Setting band using default layout.\n"
     ]
    },
    {
     "name": "stderr",
     "output_type": "stream",
     "text": [
      "UserWarning: More than one values found inobs_info_.table[Elevation], will average.\n",
      "RuntimeWarning: divide by zero encountered in divide\n",
      "RuntimeWarning: divide by zero encountered in divide\n",
      "RuntimeWarning: divide by zero encountered in divide\n",
      "UserWarning: No band specific config information found, will use the input kwargs only the DEFAULT configurations in conf_kwargs_.\n"
     ]
    },
    {
     "name": "stdout",
     "output_type": "stream",
     "text": [
      "Setting band using default layout.\n",
      "Processing beam ../../APEX_2022/20220925\\skychop_220925_0007.\n"
     ]
    },
    {
     "name": "stderr",
     "output_type": "stream",
     "text": [
      "RuntimeWarning: divide by zero encountered in divide\n",
      "RuntimeWarning: invalid value encountered in divide\n"
     ]
    },
    {
     "name": "stdout",
     "output_type": "stream",
     "text": [
      "Processing beam ../../APEX_2022/20220925\\bias_step_0002.\n"
     ]
    },
    {
     "name": "stderr",
     "output_type": "stream",
     "text": [
      "UserWarning: Failed to read .hk for ../../APEX_2022/20220925\\bias_step_0002 due to <class 'FileNotFoundError'>: ../../APEX_2022/20220925\\bias_step_0002 or ../../APEX_2022/20220925\\bias_step_0002.hk are not hk files.\n",
      "UserWarning: ../../APEX_2022/20220925\\bias_step_0002.chop not found.\n",
      "UserWarning: ../../APEX_2022/20220925\\bias_step_0002.ts not found.\n",
      "RuntimeWarning: divide by zero encountered in divide\n",
      "RuntimeWarning: divide by zero encountered in divide\n",
      "RuntimeWarning: divide by zero encountered in divide\n",
      "RuntimeWarning: divide by zero encountered in divide\n"
     ]
    },
    {
     "name": "stdout",
     "output_type": "stream",
     "text": [
      "running in parallel on 12 threads.\n"
     ]
    },
    {
     "name": "stderr",
     "output_type": "stream",
     "text": [
      "RuntimeWarning: divide by zero encountered in divide\n",
      "UserWarning: No band specific config information found, will use the input kwargs only the DEFAULT configurations in conf_kwargs_.\n",
      "UserWarning: No band specific config information found, will use the input kwargs only the DEFAULT configurations in conf_kwargs_.\n",
      "UserWarning: No band specific config information found, will use the input kwargs only the DEFAULT configurations in conf_kwargs_.\n"
     ]
    },
    {
     "name": "stdout",
     "output_type": "stream",
     "text": [
      "Setting band using default layout.\n"
     ]
    },
    {
     "name": "stderr",
     "output_type": "stream",
     "text": [
      "RuntimeWarning: divide by zero encountered in divide\n",
      "RuntimeWarning: divide by zero encountered in divide\n",
      "RuntimeWarning: divide by zero encountered in divide\n",
      "UserWarning: No band specific config information found, will use the input kwargs only the DEFAULT configurations in conf_kwargs_.\n"
     ]
    },
    {
     "name": "stdout",
     "output_type": "stream",
     "text": [
      "Setting band using default layout.\n",
      "Processing beam ../../APEX_2022/20220925\\skychop_220925_0010.\n"
     ]
    },
    {
     "name": "stderr",
     "output_type": "stream",
     "text": [
      "RuntimeWarning: invalid value encountered in divide\n"
     ]
    },
    {
     "name": "stdout",
     "output_type": "stream",
     "text": [
      "Processing beam ../../APEX_2022/20220925\\bias_step_0005.\n"
     ]
    },
    {
     "name": "stderr",
     "output_type": "stream",
     "text": [
      "UserWarning: Failed to read .hk for ../../APEX_2022/20220925\\bias_step_0005 due to <class 'FileNotFoundError'>: ../../APEX_2022/20220925\\bias_step_0005 or ../../APEX_2022/20220925\\bias_step_0005.hk are not hk files.\n",
      "UserWarning: ../../APEX_2022/20220925\\bias_step_0005.chop not found.\n",
      "UserWarning: ../../APEX_2022/20220925\\bias_step_0005.ts not found.\n",
      "RuntimeWarning: divide by zero encountered in divide\n",
      "RuntimeWarning: divide by zero encountered in divide\n",
      "RuntimeWarning: divide by zero encountered in divide\n",
      "RuntimeWarning: divide by zero encountered in divide\n"
     ]
    },
    {
     "name": "stdout",
     "output_type": "stream",
     "text": [
      "running in parallel on 12 threads.\n"
     ]
    },
    {
     "name": "stderr",
     "output_type": "stream",
     "text": [
      "RuntimeWarning: divide by zero encountered in divide\n",
      "UserWarning: No band specific config information found, will use the input kwargs only the DEFAULT configurations in conf_kwargs_.\n",
      "UserWarning: No band specific config information found, will use the input kwargs only the DEFAULT configurations in conf_kwargs_.\n",
      "UserWarning: No band specific config information found, will use the input kwargs only the DEFAULT configurations in conf_kwargs_.\n"
     ]
    },
    {
     "name": "stdout",
     "output_type": "stream",
     "text": [
      "Setting band using default layout.\n"
     ]
    },
    {
     "name": "stderr",
     "output_type": "stream",
     "text": [
      "RuntimeWarning: divide by zero encountered in divide\n",
      "RuntimeWarning: divide by zero encountered in divide\n",
      "RuntimeWarning: divide by zero encountered in divide\n",
      "UserWarning: No band specific config information found, will use the input kwargs only the DEFAULT configurations in conf_kwargs_.\n"
     ]
    },
    {
     "name": "stdout",
     "output_type": "stream",
     "text": [
      "Setting band using default layout.\n",
      "Processing beam ../../APEX_2022/20220927\\skychop_220927_0008.\n"
     ]
    },
    {
     "name": "stderr",
     "output_type": "stream",
     "text": [
      "RuntimeWarning: invalid value encountered in divide\n"
     ]
    },
    {
     "name": "stdout",
     "output_type": "stream",
     "text": [
      "running in parallel on 3 threads.\n",
      "running in parallel on 12 threads.\n"
     ]
    },
    {
     "name": "stderr",
     "output_type": "stream",
     "text": [
      "RuntimeWarning: divide by zero encountered in divide\n",
      "UserWarning: No band specific config information found, will use the input kwargs only the DEFAULT configurations in conf_kwargs_.\n",
      "UserWarning: No band specific config information found, will use the input kwargs only the DEFAULT configurations in conf_kwargs_.\n",
      "UserWarning: More than one values found inobs_info_.table[mm PWV], will average.\n",
      "UserWarning: More than one values found inobs_info_.table[Elevation], will average.\n",
      "UserWarning: No band specific config information found, will use the input kwargs only the DEFAULT configurations in conf_kwargs_.\n"
     ]
    },
    {
     "name": "stdout",
     "output_type": "stream",
     "text": [
      "Setting band using default layout.\n"
     ]
    },
    {
     "name": "stderr",
     "output_type": "stream",
     "text": [
      "UserWarning: More than one values found inobs_info_.table[mm PWV], will average.\n",
      "UserWarning: More than one values found inobs_info_.table[Elevation], will average.\n",
      "RuntimeWarning: divide by zero encountered in divide\n",
      "RuntimeWarning: divide by zero encountered in divide\n",
      "RuntimeWarning: divide by zero encountered in divide\n",
      "UserWarning: No band specific config information found, will use the input kwargs only the DEFAULT configurations in conf_kwargs_.\n"
     ]
    },
    {
     "name": "stdout",
     "output_type": "stream",
     "text": [
      "Setting band using default layout.\n",
      "Processing beam ../../APEX_2022/20220927\\skychop_220927_0017.\n"
     ]
    },
    {
     "name": "stderr",
     "output_type": "stream",
     "text": [
      "RuntimeWarning: invalid value encountered in divide\n"
     ]
    },
    {
     "name": "stdout",
     "output_type": "stream",
     "text": [
      "running in parallel on 2 threads.\n",
      "running in parallel on 10 threads.\n"
     ]
    },
    {
     "name": "stderr",
     "output_type": "stream",
     "text": [
      "RuntimeWarning: divide by zero encountered in divide\n",
      "UserWarning: No band specific config information found, will use the input kwargs only the DEFAULT configurations in conf_kwargs_.\n",
      "UserWarning: No band specific config information found, will use the input kwargs only the DEFAULT configurations in conf_kwargs_.\n",
      "UserWarning: No band specific config information found, will use the input kwargs only the DEFAULT configurations in conf_kwargs_.\n"
     ]
    },
    {
     "name": "stdout",
     "output_type": "stream",
     "text": [
      "Setting band using default layout.\n"
     ]
    },
    {
     "name": "stderr",
     "output_type": "stream",
     "text": [
      "RuntimeWarning: divide by zero encountered in divide\n",
      "RuntimeWarning: divide by zero encountered in divide\n",
      "RuntimeWarning: divide by zero encountered in divide\n",
      "UserWarning: No band specific config information found, will use the input kwargs only the DEFAULT configurations in conf_kwargs_.\n"
     ]
    },
    {
     "name": "stdout",
     "output_type": "stream",
     "text": [
      "Setting band using default layout.\n",
      "Processing beam ../../APEX_2022/20220930\\skychop_220930_0021.\n"
     ]
    },
    {
     "name": "stderr",
     "output_type": "stream",
     "text": [
      "RuntimeWarning: invalid value encountered in divide\n"
     ]
    },
    {
     "name": "stdout",
     "output_type": "stream",
     "text": [
      "Processing beam ../../APEX_2022/20220930\\bias_step_0037.\n"
     ]
    },
    {
     "name": "stderr",
     "output_type": "stream",
     "text": [
      "UserWarning: Failed to read .hk for ../../APEX_2022/20220930\\bias_step_0037 due to <class 'FileNotFoundError'>: ../../APEX_2022/20220930\\bias_step_0037 or ../../APEX_2022/20220930\\bias_step_0037.hk are not hk files.\n",
      "UserWarning: ../../APEX_2022/20220930\\bias_step_0037.chop not found.\n",
      "UserWarning: ../../APEX_2022/20220930\\bias_step_0037.ts not found.\n",
      "RuntimeWarning: divide by zero encountered in divide\n",
      "RuntimeWarning: divide by zero encountered in divide\n",
      "RuntimeWarning: divide by zero encountered in divide\n",
      "RuntimeWarning: divide by zero encountered in divide\n"
     ]
    },
    {
     "name": "stdout",
     "output_type": "stream",
     "text": [
      "running in parallel on 12 threads.\n"
     ]
    },
    {
     "name": "stderr",
     "output_type": "stream",
     "text": [
      "RuntimeWarning: divide by zero encountered in divide\n",
      "UserWarning: No band specific config information found, will use the input kwargs only the DEFAULT configurations in conf_kwargs_.\n",
      "UserWarning: No band specific config information found, will use the input kwargs only the DEFAULT configurations in conf_kwargs_.\n",
      "UserWarning: More than one values found inobs_info_.table[mm PWV], will average.\n",
      "UserWarning: More than one values found inobs_info_.table[Elevation], will average.\n",
      "UserWarning: No band specific config information found, will use the input kwargs only the DEFAULT configurations in conf_kwargs_.\n"
     ]
    },
    {
     "name": "stdout",
     "output_type": "stream",
     "text": [
      "Setting band using default layout.\n"
     ]
    },
    {
     "name": "stderr",
     "output_type": "stream",
     "text": [
      "UserWarning: More than one values found inobs_info_.table[mm PWV], will average.\n",
      "UserWarning: More than one values found inobs_info_.table[Elevation], will average.\n",
      "RuntimeWarning: divide by zero encountered in divide\n",
      "RuntimeWarning: divide by zero encountered in divide\n",
      "RuntimeWarning: divide by zero encountered in divide\n",
      "UserWarning: No band specific config information found, will use the input kwargs only the DEFAULT configurations in conf_kwargs_.\n"
     ]
    },
    {
     "name": "stdout",
     "output_type": "stream",
     "text": [
      "Setting band using default layout.\n",
      "Processing beam ../../APEX_2022/20220930\\skychop_220930_0022.\n"
     ]
    },
    {
     "name": "stderr",
     "output_type": "stream",
     "text": [
      "RuntimeWarning: invalid value encountered in divide\n"
     ]
    },
    {
     "name": "stdout",
     "output_type": "stream",
     "text": [
      "running in parallel on 3 threads.\n",
      "running in parallel on 12 threads.\n"
     ]
    },
    {
     "name": "stderr",
     "output_type": "stream",
     "text": [
      "RuntimeWarning: divide by zero encountered in divide\n",
      "UserWarning: No band specific config information found, will use the input kwargs only the DEFAULT configurations in conf_kwargs_.\n",
      "UserWarning: No band specific config information found, will use the input kwargs only the DEFAULT configurations in conf_kwargs_.\n",
      "UserWarning: More than one values found inobs_info_.table[mm PWV], will average.\n",
      "UserWarning: More than one values found inobs_info_.table[Elevation], will average.\n",
      "UserWarning: No band specific config information found, will use the input kwargs only the DEFAULT configurations in conf_kwargs_.\n"
     ]
    },
    {
     "name": "stdout",
     "output_type": "stream",
     "text": [
      "Setting band using default layout.\n"
     ]
    },
    {
     "name": "stderr",
     "output_type": "stream",
     "text": [
      "UserWarning: More than one values found inobs_info_.table[mm PWV], will average.\n",
      "UserWarning: More than one values found inobs_info_.table[Elevation], will average.\n",
      "RuntimeWarning: divide by zero encountered in divide\n",
      "RuntimeWarning: divide by zero encountered in divide\n",
      "RuntimeWarning: divide by zero encountered in divide\n",
      "UserWarning: No band specific config information found, will use the input kwargs only the DEFAULT configurations in conf_kwargs_.\n"
     ]
    },
    {
     "name": "stdout",
     "output_type": "stream",
     "text": [
      "Setting band using default layout.\n",
      "Processing beam ../../APEX_2022/20220930\\skychop_220930_0024.\n"
     ]
    },
    {
     "name": "stderr",
     "output_type": "stream",
     "text": [
      "RuntimeWarning: invalid value encountered in divide\n"
     ]
    },
    {
     "name": "stdout",
     "output_type": "stream",
     "text": [
      "running in parallel on 2 threads.\n",
      "running in parallel on 12 threads.\n"
     ]
    },
    {
     "name": "stderr",
     "output_type": "stream",
     "text": [
      "RuntimeWarning: divide by zero encountered in divide\n",
      "UserWarning: No band specific config information found, will use the input kwargs only the DEFAULT configurations in conf_kwargs_.\n",
      "UserWarning: No band specific config information found, will use the input kwargs only the DEFAULT configurations in conf_kwargs_.\n",
      "UserWarning: More than one values found inobs_info_.table[mm PWV], will average.\n",
      "UserWarning: More than one values found inobs_info_.table[Elevation], will average.\n",
      "UserWarning: No band specific config information found, will use the input kwargs only the DEFAULT configurations in conf_kwargs_.\n"
     ]
    },
    {
     "name": "stdout",
     "output_type": "stream",
     "text": [
      "Setting band using default layout.\n"
     ]
    },
    {
     "name": "stderr",
     "output_type": "stream",
     "text": [
      "UserWarning: More than one values found inobs_info_.table[mm PWV], will average.\n",
      "UserWarning: More than one values found inobs_info_.table[Elevation], will average.\n",
      "RuntimeWarning: divide by zero encountered in divide\n",
      "RuntimeWarning: divide by zero encountered in divide\n",
      "RuntimeWarning: divide by zero encountered in divide\n",
      "UserWarning: No band specific config information found, will use the input kwargs only the DEFAULT configurations in conf_kwargs_.\n"
     ]
    },
    {
     "name": "stdout",
     "output_type": "stream",
     "text": [
      "Setting band using default layout.\n",
      "running in parallel on 2 threads.\n",
      "running in parallel on 2 threads.\n",
      "running in parallel on 10 threads.\n"
     ]
    },
    {
     "name": "stderr",
     "output_type": "stream",
     "text": [
      "RuntimeWarning: divide by zero encountered in divide\n",
      "UserWarning: No band specific config information found, will use the input kwargs only the DEFAULT configurations in conf_kwargs_.\n",
      "UserWarning: No band specific config information found, will use the input kwargs only the DEFAULT configurations in conf_kwargs_.\n",
      "UserWarning: No band specific config information found, will use the input kwargs only the DEFAULT configurations in conf_kwargs_.\n"
     ]
    },
    {
     "name": "stdout",
     "output_type": "stream",
     "text": [
      "Setting band using default layout.\n"
     ]
    },
    {
     "name": "stderr",
     "output_type": "stream",
     "text": [
      "RuntimeWarning: divide by zero encountered in divide\n",
      "RuntimeWarning: divide by zero encountered in divide\n",
      "RuntimeWarning: divide by zero encountered in divide\n",
      "UserWarning: No band specific config information found, will use the input kwargs only the DEFAULT configurations in conf_kwargs_.\n"
     ]
    },
    {
     "name": "stdout",
     "output_type": "stream",
     "text": [
      "Setting band using default layout.\n"
     ]
    }
   ],
   "source": [
    "\n",
    "for sky,bs,dat,folder,spat,spec in zip(flats,bias,data,folders,spatial,spectral):\n",
    "    r.data_dir = folder\n",
    "    #r.inject_signal = zt.mce_data.SignalInjection(amplitude=1,pixels=[am.phys_to_mce(spec,spat,400)])\n",
    "    r.reduce(sky,dat,bs)"
   ]
  },
  {
   "cell_type": "markdown",
   "id": "a505d4df",
   "metadata": {
    "heading_collapsed": true,
    "hidden": true
   },
   "source": [
    "## Random stuff"
   ]
  },
  {
   "cell_type": "code",
   "execution_count": 7,
   "id": "c1f50b75",
   "metadata": {
    "collapsed": true,
    "hidden": true
   },
   "outputs": [
    {
     "name": "stdout",
     "output_type": "stream",
     "text": [
      "Processing beam ../../APEX_2022/20220922\\skychop_220922_0039.\n"
     ]
    },
    {
     "name": "stderr",
     "output_type": "stream",
     "text": [
      "RuntimeWarning: invalid value encountered in divide\n"
     ]
    },
    {
     "name": "stdout",
     "output_type": "stream",
     "text": [
      "Processing beam ../../APEX_2022/20220922\\skychop_220922_0040.\n"
     ]
    },
    {
     "name": "stderr",
     "output_type": "stream",
     "text": [
      "RuntimeWarning: invalid value encountered in divide\n"
     ]
    },
    {
     "name": "stdout",
     "output_type": "stream",
     "text": [
      "Processing beam ../../APEX_2022/20220922\\bias_step_0007.\n"
     ]
    },
    {
     "name": "stderr",
     "output_type": "stream",
     "text": [
      "UserWarning: Failed to read .hk for ../../APEX_2022/20220922\\bias_step_0007 due to <class 'FileNotFoundError'>: ../../APEX_2022/20220922\\bias_step_0007 or ../../APEX_2022/20220922\\bias_step_0007.hk are not hk files.\n",
      "UserWarning: ../../APEX_2022/20220922\\bias_step_0007.chop not found.\n",
      "UserWarning: ../../APEX_2022/20220922\\bias_step_0007.ts not found.\n",
      "RuntimeWarning: divide by zero encountered in divide\n",
      "RuntimeWarning: divide by zero encountered in divide\n",
      "RuntimeWarning: divide by zero encountered in divide\n",
      "RuntimeWarning: divide by zero encountered in divide\n"
     ]
    },
    {
     "name": "stdout",
     "output_type": "stream",
     "text": [
      "Processing beam ../../APEX_2022/20220922\\bias_step_0008.\n"
     ]
    },
    {
     "name": "stderr",
     "output_type": "stream",
     "text": [
      "UserWarning: Failed to read .hk for ../../APEX_2022/20220922\\bias_step_0008 due to <class 'FileNotFoundError'>: ../../APEX_2022/20220922\\bias_step_0008 or ../../APEX_2022/20220922\\bias_step_0008.hk are not hk files.\n",
      "UserWarning: ../../APEX_2022/20220922\\bias_step_0008.chop not found.\n",
      "UserWarning: ../../APEX_2022/20220922\\bias_step_0008.ts not found.\n",
      "RuntimeWarning: divide by zero encountered in divide\n",
      "RuntimeWarning: divide by zero encountered in divide\n",
      "RuntimeWarning: divide by zero encountered in divide\n",
      "RuntimeWarning: divide by zero encountered in divide\n"
     ]
    },
    {
     "name": "stdout",
     "output_type": "stream",
     "text": [
      "Processing beam pair ../../APEX_2022/20220922\\lpsj0226_220922_0001 and ../../APEX_2022/20220922\\lpsj0226_220922_0000.\n"
     ]
    },
    {
     "name": "stderr",
     "output_type": "stream",
     "text": [
      "RuntimeWarning: divide by zero encountered in divide\n",
      "RuntimeWarning: divide by zero encountered in divide\n",
      "RuntimeWarning: divide by zero encountered in divide\n",
      "RuntimeWarning: divide by zero encountered in divide\n"
     ]
    },
    {
     "name": "stdout",
     "output_type": "stream",
     "text": [
      "Processing beam pair ../../APEX_2022/20220922\\lpsj0226_220922_0003 and ../../APEX_2022/20220922\\lpsj0226_220922_0002.\n"
     ]
    },
    {
     "name": "stderr",
     "output_type": "stream",
     "text": [
      "UserWarning: Extra time stamps truncated\n",
      "RuntimeWarning: divide by zero encountered in divide\n",
      "RuntimeWarning: divide by zero encountered in divide\n",
      "RuntimeWarning: divide by zero encountered in divide\n",
      "RuntimeWarning: divide by zero encountered in divide\n"
     ]
    },
    {
     "name": "stdout",
     "output_type": "stream",
     "text": [
      "Processing beam pair ../../APEX_2022/20220922\\lpsj0226_220922_0005 and ../../APEX_2022/20220922\\lpsj0226_220922_0004.\n"
     ]
    },
    {
     "name": "stderr",
     "output_type": "stream",
     "text": [
      "RuntimeWarning: invalid value encountered in divide\n"
     ]
    },
    {
     "ename": "ValueError",
     "evalue": "Input contains NaN, infinity or a value too large for dtype('float64').",
     "output_type": "error",
     "traceback": [
      "\u001b[1;31m---------------------------------------------------------------------------\u001b[0m",
      "\u001b[1;31mValueError\u001b[0m                                Traceback (most recent call last)",
      "Cell \u001b[1;32mIn[7], line 3\u001b[0m\n\u001b[0;32m      1\u001b[0m r\u001b[38;5;241m.\u001b[39mdata_dir \u001b[38;5;241m=\u001b[39m \u001b[38;5;124m\"\u001b[39m\u001b[38;5;124m../../APEX_2022/20220922\u001b[39m\u001b[38;5;124m\"\u001b[39m\n\u001b[0;32m      2\u001b[0m r\u001b[38;5;241m.\u001b[39mparallel\u001b[38;5;241m=\u001b[39m\u001b[38;5;28;01mFalse\u001b[39;00m\n\u001b[1;32m----> 3\u001b[0m \u001b[43mr\u001b[49m\u001b[38;5;241;43m.\u001b[39;49m\u001b[43mreduce\u001b[49m\u001b[43m(\u001b[49m\u001b[43m{\u001b[49m\u001b[38;5;124;43m\"\u001b[39;49m\u001b[38;5;124;43mskychop_220922\u001b[39;49m\u001b[38;5;124;43m\"\u001b[39;49m\u001b[43m:\u001b[49m\u001b[43m \u001b[49m\u001b[43m[\u001b[49m\u001b[43m(\u001b[49m\u001b[38;5;241;43m39\u001b[39;49m\u001b[43m,\u001b[49m\u001b[43m \u001b[49m\u001b[38;5;241;43m40\u001b[39;49m\u001b[43m)\u001b[49m\u001b[43m]\u001b[49m\u001b[43m}\u001b[49m\u001b[43m,\u001b[49m\u001b[43m{\u001b[49m\u001b[38;5;124;43m\"\u001b[39;49m\u001b[38;5;124;43mlpsj0226_220922\u001b[39;49m\u001b[38;5;124;43m\"\u001b[39;49m\u001b[43m:\u001b[49m\u001b[43m \u001b[49m\u001b[43m[\u001b[49m\u001b[43m(\u001b[49m\u001b[38;5;241;43m0\u001b[39;49m\u001b[43m,\u001b[49m\u001b[43m \u001b[49m\u001b[38;5;241;43m39\u001b[39;49m\u001b[43m)\u001b[49m\u001b[43m]\u001b[49m\u001b[43m}\u001b[49m\u001b[43m,\u001b[49m\u001b[43m{\u001b[49m\u001b[38;5;124;43m\"\u001b[39;49m\u001b[38;5;124;43mbias_step\u001b[39;49m\u001b[38;5;124;43m\"\u001b[39;49m\u001b[43m:\u001b[49m\u001b[43m \u001b[49m\u001b[43m[\u001b[49m\u001b[43m(\u001b[49m\u001b[38;5;241;43m7\u001b[39;49m\u001b[43m,\u001b[49m\u001b[43m \u001b[49m\u001b[38;5;241;43m8\u001b[39;49m\u001b[43m)\u001b[49m\u001b[43m]\u001b[49m\u001b[43m}\u001b[49m\u001b[43m)\u001b[49m\n",
      "File \u001b[1;32mc:\\users\\christopher\\dropbox\\code\\zeus2\\zeustools\\zeustools\\calibration_pipeline.py:388\u001b[0m, in \u001b[0;36mReductionHelper.reduce\u001b[1;34m(self, flat_header, data_header, bs_header)\u001b[0m\n\u001b[0;32m    385\u001b[0m bs_flux, bs_err, bs_pix_flag_list \u001b[38;5;241m=\u001b[39m bs_result[:\u001b[38;5;241m2\u001b[39m] \u001b[38;5;241m+\u001b[39m bs_result[\u001b[38;5;241m-\u001b[39m\u001b[38;5;241m1\u001b[39m:]\n\u001b[0;32m    387\u001b[0m flat_flux, flat_err, pix_flag_list \u001b[38;5;241m=\u001b[39m \u001b[38;5;241m1\u001b[39m, \u001b[38;5;241m0\u001b[39m, []\n\u001b[1;32m--> 388\u001b[0m zobs_result \u001b[38;5;241m=\u001b[39m \u001b[43mz2pipl\u001b[49m\u001b[38;5;241;43m.\u001b[39;49m\u001b[43mreduce_zobs\u001b[49m\u001b[43m(\u001b[49m\n\u001b[0;32m    389\u001b[0m \u001b[43m    \u001b[49m\u001b[43mdata_header\u001b[49m\u001b[38;5;241;43m=\u001b[39;49m\u001b[43mdata_header\u001b[49m\u001b[43m,\u001b[49m\u001b[43m \u001b[49m\u001b[43mdata_dir\u001b[49m\u001b[38;5;241;43m=\u001b[39;49m\u001b[38;5;28;43mself\u001b[39;49m\u001b[38;5;241;43m.\u001b[39;49m\u001b[43mdata_dir\u001b[49m\u001b[43m,\u001b[49m\u001b[43m \u001b[49m\u001b[43mwrite_dir\u001b[49m\u001b[38;5;241;43m=\u001b[39;49m\u001b[38;5;28;43mself\u001b[39;49m\u001b[38;5;241;43m.\u001b[39;49m\u001b[43mwrite_dir\u001b[49m\u001b[43m,\u001b[49m\n\u001b[0;32m    390\u001b[0m \u001b[43m    \u001b[49m\u001b[43marray_map\u001b[49m\u001b[38;5;241;43m=\u001b[39;49m\u001b[38;5;28;43mself\u001b[39;49m\u001b[38;5;241;43m.\u001b[39;49m\u001b[43marray_map\u001b[49m\u001b[43m,\u001b[49m\u001b[43m \u001b[49m\u001b[43mobs_log\u001b[49m\u001b[38;5;241;43m=\u001b[39;49m\u001b[38;5;28;43mself\u001b[39;49m\u001b[38;5;241;43m.\u001b[39;49m\u001b[43mobs_log\u001b[49m\u001b[43m,\u001b[49m\u001b[43m \u001b[49m\u001b[43mpix_flag_list\u001b[49m\u001b[38;5;241;43m=\u001b[39;49m\u001b[43mpix_flag_list\u001b[49m\u001b[43m,\u001b[49m\n\u001b[0;32m    391\u001b[0m \u001b[43m    \u001b[49m\u001b[43mflat_flux\u001b[49m\u001b[38;5;241;43m=\u001b[39;49m\u001b[43mflat_flux\u001b[49m\u001b[43m,\u001b[49m\u001b[43m \u001b[49m\u001b[43mflat_err\u001b[49m\u001b[38;5;241;43m=\u001b[39;49m\u001b[43mflat_err\u001b[49m\u001b[43m,\u001b[49m\u001b[43m \u001b[49m\u001b[43mparallel\u001b[49m\u001b[38;5;241;43m=\u001b[39;49m\u001b[38;5;28;43mself\u001b[39;49m\u001b[38;5;241;43m.\u001b[39;49m\u001b[43mparallel\u001b[49m\u001b[43m,\u001b[49m\u001b[43m \u001b[49m\u001b[43mstack\u001b[49m\u001b[38;5;241;43m=\u001b[39;49m\u001b[38;5;28;43mself\u001b[39;49m\u001b[38;5;241;43m.\u001b[39;49m\u001b[43mdo_ica\u001b[49m\u001b[43m,\u001b[49m\n\u001b[0;32m    392\u001b[0m \u001b[43m    \u001b[49m\u001b[43mdo_desnake\u001b[49m\u001b[38;5;241;43m=\u001b[39;49m\u001b[38;5;28;43mself\u001b[39;49m\u001b[38;5;241;43m.\u001b[39;49m\u001b[43mdo_desnake\u001b[49m\u001b[43m,\u001b[49m\u001b[43m \u001b[49m\u001b[43mref_pix\u001b[49m\u001b[38;5;241;43m=\u001b[39;49m\u001b[38;5;28;43mself\u001b[39;49m\u001b[38;5;241;43m.\u001b[39;49m\u001b[43mref_pix\u001b[49m\u001b[43m,\u001b[49m\u001b[43m \u001b[49m\u001b[43mdo_smooth\u001b[49m\u001b[38;5;241;43m=\u001b[39;49m\u001b[38;5;28;43mself\u001b[39;49m\u001b[38;5;241;43m.\u001b[39;49m\u001b[43mdo_smooth\u001b[49m\u001b[43m,\u001b[49m\u001b[43m \u001b[49m\u001b[43mreturn_ts\u001b[49m\u001b[38;5;241;43m=\u001b[39;49m\u001b[38;5;28;43;01mTrue\u001b[39;49;00m\u001b[43m,\u001b[49m\u001b[43m \u001b[49m\n\u001b[0;32m    393\u001b[0m \u001b[43m    \u001b[49m\u001b[43mdo_ica\u001b[49m\u001b[38;5;241;43m=\u001b[39;49m\u001b[38;5;28;43mself\u001b[39;49m\u001b[38;5;241;43m.\u001b[39;49m\u001b[43mdo_ica\u001b[49m\u001b[43m,\u001b[49m\u001b[43m \u001b[49m\u001b[43mspat_excl\u001b[49m\u001b[38;5;241;43m=\u001b[39;49m\u001b[38;5;28;43mself\u001b[39;49m\u001b[38;5;241;43m.\u001b[39;49m\u001b[43mspat_excl\u001b[49m\u001b[43m,\u001b[49m\u001b[43m \u001b[49m\u001b[43mreturn_pix_flag_list\u001b[49m\u001b[38;5;241;43m=\u001b[39;49m\u001b[38;5;28;43;01mTrue\u001b[39;49;00m\u001b[43m,\u001b[49m\n\u001b[0;32m    394\u001b[0m \u001b[43m    \u001b[49m\u001b[43mtable_save\u001b[49m\u001b[38;5;241;43m=\u001b[39;49m\u001b[38;5;28;43mself\u001b[39;49m\u001b[38;5;241;43m.\u001b[39;49m\u001b[43mtable_save\u001b[49m\u001b[43m,\u001b[49m\u001b[43m \u001b[49m\u001b[43mplot\u001b[49m\u001b[38;5;241;43m=\u001b[39;49m\u001b[38;5;28;43mself\u001b[39;49m\u001b[38;5;241;43m.\u001b[39;49m\u001b[43mplot\u001b[49m\u001b[43m,\u001b[49m\u001b[43m \u001b[49m\u001b[43mplot_ts\u001b[49m\u001b[38;5;241;43m=\u001b[39;49m\u001b[38;5;28;43mself\u001b[39;49m\u001b[38;5;241;43m.\u001b[39;49m\u001b[43mplot_ts\u001b[49m\u001b[43m,\u001b[49m\n\u001b[0;32m    395\u001b[0m \u001b[43m    \u001b[49m\u001b[43mreg_interest\u001b[49m\u001b[38;5;241;43m=\u001b[39;49m\u001b[38;5;28;43mself\u001b[39;49m\u001b[38;5;241;43m.\u001b[39;49m\u001b[43mreg_interest\u001b[49m\u001b[43m,\u001b[49m\u001b[43m \u001b[49m\u001b[43mplot_flux\u001b[49m\u001b[38;5;241;43m=\u001b[39;49m\u001b[38;5;28;43mself\u001b[39;49m\u001b[38;5;241;43m.\u001b[39;49m\u001b[43mplot_flux\u001b[49m\u001b[43m,\u001b[49m\n\u001b[0;32m    396\u001b[0m \u001b[43m    \u001b[49m\u001b[43mplot_show\u001b[49m\u001b[38;5;241;43m=\u001b[39;49m\u001b[38;5;28;43mself\u001b[39;49m\u001b[38;5;241;43m.\u001b[39;49m\u001b[43mplot_show\u001b[49m\u001b[43m,\u001b[49m\u001b[43m \u001b[49m\u001b[43mplot_save\u001b[49m\u001b[38;5;241;43m=\u001b[39;49m\u001b[38;5;28;43mself\u001b[39;49m\u001b[38;5;241;43m.\u001b[39;49m\u001b[43mplot_save\u001b[49m\u001b[43m,\u001b[49m\u001b[43m \u001b[49m\u001b[43manalyze\u001b[49m\u001b[38;5;241;43m=\u001b[39;49m\u001b[38;5;28;43mself\u001b[39;49m\u001b[38;5;241;43m.\u001b[39;49m\u001b[43manalyze\u001b[49m\u001b[43m,\u001b[49m\u001b[43m \u001b[49m\u001b[43muse_hk\u001b[49m\u001b[38;5;241;43m=\u001b[39;49m\u001b[38;5;28;43;01mTrue\u001b[39;49;00m\u001b[43m,\u001b[49m\u001b[43m \u001b[49m\n\u001b[0;32m    397\u001b[0m \u001b[43m    \u001b[49m\u001b[43mgrat_idx\u001b[49m\u001b[38;5;241;43m=\u001b[39;49m\u001b[38;5;28;43;01mNone\u001b[39;49;00m\u001b[43m,\u001b[49m\u001b[43m \u001b[49m\u001b[43mpwv\u001b[49m\u001b[38;5;241;43m=\u001b[39;49m\u001b[38;5;28;43;01mNone\u001b[39;49;00m\u001b[43m,\u001b[49m\u001b[43m \u001b[49m\u001b[43melev\u001b[49m\u001b[38;5;241;43m=\u001b[39;49m\u001b[38;5;28;43;01mNone\u001b[39;49;00m\u001b[43m,\u001b[49m\u001b[43m \u001b[49m\u001b[43minject_sig\u001b[49m\u001b[38;5;241;43m=\u001b[39;49m\u001b[38;5;28;43mself\u001b[39;49m\u001b[38;5;241;43m.\u001b[39;49m\u001b[43minject_signal\u001b[49m\u001b[43m)\u001b[49m\n\u001b[0;32m    399\u001b[0m zobs_flux, zobs_err, zobs_pix_flag_list \u001b[38;5;241m=\u001b[39m zobs_result[:\u001b[38;5;241m2\u001b[39m] \u001b[38;5;241m+\u001b[39m zobs_result[\u001b[38;5;241m-\u001b[39m\u001b[38;5;241m1\u001b[39m:]\n\u001b[0;32m    400\u001b[0m grat_idx \u001b[38;5;241m=\u001b[39m z2pipl\u001b[38;5;241m.\u001b[39mconfigure_helper(obs\u001b[38;5;241m=\u001b[39mzobs_flux, keyword\u001b[38;5;241m=\u001b[39m\u001b[38;5;124m\"\u001b[39m\u001b[38;5;124mgratingindex\u001b[39m\u001b[38;5;124m\"\u001b[39m, supersede\u001b[38;5;241m=\u001b[39m\u001b[38;5;28;01mTrue\u001b[39;00m)\n",
      "File \u001b[1;32mc:\\users\\christopher\\code\\zeus2_toolbox\\src\\zeus2_toolbox\\pipeline.py:2091\u001b[0m, in \u001b[0;36mreduce_zobs\u001b[1;34m(data_header, data_dir, write_dir, write_suffix, array_map, obs_log, pix_flag_list, flat_flux, flat_err, parallel, stack, do_desnake, ref_pix, do_smooth, do_ica, spat_excl, do_clean, return_ts, return_pix_flag_list, table_save, save_wl, save_atm, plot, plot_ts, plot_atm, reg_interest, plot_flux, plot_show, plot_save, analyze, use_hk, grat_idx, pwv, elev, inject_sig)\u001b[0m\n\u001b[0;32m   2089\u001b[0m             beam_pair\u001b[38;5;241m.\u001b[39mappend(group)\n\u001b[0;32m   2090\u001b[0m \u001b[38;5;28;01melse\u001b[39;00m:\n\u001b[1;32m-> 2091\u001b[0m     result \u001b[38;5;241m=\u001b[39m \u001b[43mreduce_beam_pairs\u001b[49m\u001b[43m(\u001b[49m\n\u001b[0;32m   2092\u001b[0m \u001b[43m            \u001b[49m\u001b[43mdata_header\u001b[49m\u001b[38;5;241;43m=\u001b[39;49m\u001b[43mdata_header\u001b[49m\u001b[43m,\u001b[49m\u001b[43m \u001b[49m\u001b[43mdata_dir\u001b[49m\u001b[38;5;241;43m=\u001b[39;49m\u001b[43mdata_dir\u001b[49m\u001b[43m,\u001b[49m\u001b[43m \u001b[49m\u001b[43mwrite_dir\u001b[49m\u001b[38;5;241;43m=\u001b[39;49m\u001b[43mwrite_dir\u001b[49m\u001b[43m,\u001b[49m\n\u001b[0;32m   2093\u001b[0m \u001b[43m            \u001b[49m\u001b[43mwrite_suffix\u001b[49m\u001b[38;5;241;43m=\u001b[39;49m\u001b[43mwrite_suffix\u001b[49m\u001b[43m,\u001b[49m\u001b[43m \u001b[49m\u001b[43marray_map\u001b[49m\u001b[38;5;241;43m=\u001b[39;49m\u001b[43marray_map\u001b[49m\u001b[43m,\u001b[49m\u001b[43m \u001b[49m\u001b[43mobs_log\u001b[49m\u001b[38;5;241;43m=\u001b[39;49m\u001b[43mobs_log\u001b[49m\u001b[43m,\u001b[49m\n\u001b[0;32m   2094\u001b[0m \u001b[43m            \u001b[49m\u001b[43mis_flat\u001b[49m\u001b[38;5;241;43m=\u001b[39;49m\u001b[38;5;28;43;01mFalse\u001b[39;49;00m\u001b[43m,\u001b[49m\u001b[43m \u001b[49m\u001b[43mpix_flag_list\u001b[49m\u001b[38;5;241;43m=\u001b[39;49m\u001b[43mpix_flag_list\u001b[49m\u001b[43m,\u001b[49m\u001b[43m \u001b[49m\u001b[43mflat_flux\u001b[49m\u001b[38;5;241;43m=\u001b[39;49m\u001b[43mflat_flux\u001b[49m\u001b[43m,\u001b[49m\n\u001b[0;32m   2095\u001b[0m \u001b[43m            \u001b[49m\u001b[43mflat_err\u001b[49m\u001b[38;5;241;43m=\u001b[39;49m\u001b[43mflat_err\u001b[49m\u001b[43m,\u001b[49m\u001b[43m \u001b[49m\u001b[43mparallel\u001b[49m\u001b[38;5;241;43m=\u001b[39;49m\u001b[43mparallel\u001b[49m\u001b[43m,\u001b[49m\u001b[43m \u001b[49m\u001b[43mdo_desnake\u001b[49m\u001b[38;5;241;43m=\u001b[39;49m\u001b[43mdo_desnake\u001b[49m\u001b[43m,\u001b[49m\n\u001b[0;32m   2096\u001b[0m \u001b[43m            \u001b[49m\u001b[43mref_pix\u001b[49m\u001b[38;5;241;43m=\u001b[39;49m\u001b[43mref_pix\u001b[49m\u001b[43m,\u001b[49m\u001b[43m \u001b[49m\u001b[43mdo_smooth\u001b[49m\u001b[38;5;241;43m=\u001b[39;49m\u001b[43mdo_smooth\u001b[49m\u001b[43m,\u001b[49m\u001b[43m \u001b[49m\u001b[43mdo_ica\u001b[49m\u001b[38;5;241;43m=\u001b[39;49m\u001b[43mdo_ica\u001b[49m\u001b[43m,\u001b[49m\n\u001b[0;32m   2097\u001b[0m \u001b[43m            \u001b[49m\u001b[43mspat_excl\u001b[49m\u001b[38;5;241;43m=\u001b[39;49m\u001b[43mspat_excl\u001b[49m\u001b[43m,\u001b[49m\u001b[43m \u001b[49m\u001b[43mdo_clean\u001b[49m\u001b[38;5;241;43m=\u001b[39;49m\u001b[43mdo_clean\u001b[49m\u001b[43m,\u001b[49m\n\u001b[0;32m   2098\u001b[0m \u001b[43m            \u001b[49m\u001b[43mreturn_ts\u001b[49m\u001b[38;5;241;43m=\u001b[39;49m\u001b[43mreturn_ts\u001b[49m\u001b[43m \u001b[49m\u001b[38;5;241;43m|\u001b[39;49m\u001b[43m \u001b[49m\u001b[43manalyze\u001b[49m\u001b[43m,\u001b[49m\n\u001b[0;32m   2099\u001b[0m \u001b[43m            \u001b[49m\u001b[43mreturn_pix_flag_list\u001b[49m\u001b[38;5;241;43m=\u001b[39;49m\u001b[38;5;28;43;01mTrue\u001b[39;49;00m\u001b[43m,\u001b[49m\u001b[43m \u001b[49m\u001b[43mplot\u001b[49m\u001b[38;5;241;43m=\u001b[39;49m\u001b[43mplot\u001b[49m\u001b[43m,\u001b[49m\u001b[43m \u001b[49m\u001b[43mplot_ts\u001b[49m\u001b[38;5;241;43m=\u001b[39;49m\u001b[43mplot_ts\u001b[49m\u001b[43m,\u001b[49m\n\u001b[0;32m   2100\u001b[0m \u001b[43m            \u001b[49m\u001b[43mreg_interest\u001b[49m\u001b[38;5;241;43m=\u001b[39;49m\u001b[43mreg_interest\u001b[49m\u001b[43m,\u001b[49m\u001b[43m \u001b[49m\u001b[43mplot_flux\u001b[49m\u001b[38;5;241;43m=\u001b[39;49m\u001b[43mplot_flux\u001b[49m\u001b[43m,\u001b[49m\n\u001b[0;32m   2101\u001b[0m \u001b[43m            \u001b[49m\u001b[43mplot_show\u001b[49m\u001b[38;5;241;43m=\u001b[39;49m\u001b[43mplot_show\u001b[49m\u001b[43m,\u001b[49m\u001b[43m \u001b[49m\u001b[43mplot_save\u001b[49m\u001b[38;5;241;43m=\u001b[39;49m\u001b[43mplot_save\u001b[49m\u001b[43m,\u001b[49m\u001b[43m \u001b[49m\u001b[43muse_hk\u001b[49m\u001b[38;5;241;43m=\u001b[39;49m\u001b[43muse_hk\u001b[49m\u001b[43m,\u001b[49m\u001b[43m \u001b[49m\u001b[43minject_sig\u001b[49m\u001b[38;5;241;43m=\u001b[39;49m\u001b[43minject_sig\u001b[49m\u001b[43m)\u001b[49m\n\u001b[0;32m   2102\u001b[0m     beam_pairs_flux, beam_pairs_err, beam_pairs_wt \u001b[38;5;241m=\u001b[39m result[:\u001b[38;5;241m3\u001b[39m]\n\u001b[0;32m   2103\u001b[0m plot_dict[\u001b[38;5;124m\"\u001b[39m\u001b[38;5;124mbeam pair flux\u001b[39m\u001b[38;5;124m\"\u001b[39m] \u001b[38;5;241m=\u001b[39m (beam_pairs_flux, beam_pairs_err, {\u001b[38;5;124m\"\u001b[39m\u001b[38;5;124mc\u001b[39m\u001b[38;5;124m\"\u001b[39m: \u001b[38;5;124m\"\u001b[39m\u001b[38;5;124mk\u001b[39m\u001b[38;5;124m\"\u001b[39m})\n",
      "File \u001b[1;32mc:\\users\\christopher\\code\\zeus2_toolbox\\src\\zeus2_toolbox\\pipeline.py:1737\u001b[0m, in \u001b[0;36mreduce_beam_pairs\u001b[1;34m(data_header, data_dir, write_dir, write_suffix, array_map, obs_log, is_flat, pix_flag_list, flat_flux, flat_err, parallel, do_desnake, ref_pix, do_smooth, do_ica, spat_excl, do_clean, return_ts, return_pix_flag_list, plot, plot_ts, reg_interest, plot_flux, plot_show, plot_save, use_hk, inject_sig, **kwargs)\u001b[0m\n\u001b[0;32m   1735\u001b[0m     results \u001b[38;5;241m=\u001b[39m []\n\u001b[0;32m   1736\u001b[0m     \u001b[38;5;28;01mfor\u001b[39;00m args \u001b[38;5;129;01min\u001b[39;00m args_list:\n\u001b[1;32m-> 1737\u001b[0m         results\u001b[38;5;241m.\u001b[39mappend(\u001b[43mreduce_beam_pair\u001b[49m\u001b[43m(\u001b[49m\u001b[38;5;241;43m*\u001b[39;49m\u001b[43margs\u001b[49m\u001b[43m)\u001b[49m)\n\u001b[0;32m   1739\u001b[0m type_result \u001b[38;5;241m=\u001b[39m Obs \u001b[38;5;28;01mif\u001b[39;00m array_map \u001b[38;5;129;01mis\u001b[39;00m \u001b[38;5;28;01mNone\u001b[39;00m \u001b[38;5;28;01melse\u001b[39;00m ObsArray\n\u001b[0;32m   1740\u001b[0m beam_pairs_flux, beam_pairs_err, beam_pairs_wt \u001b[38;5;241m=\u001b[39m \\\n\u001b[0;32m   1741\u001b[0m     type_result(), type_result(), type_result()\n",
      "File \u001b[1;32mc:\\users\\christopher\\code\\zeus2_toolbox\\src\\zeus2_toolbox\\pipeline.py:1449\u001b[0m, in \u001b[0;36mreduce_beam_pair\u001b[1;34m(file_header1, file_header2, write_dir, write_suffix, array_map, obs_log, is_flat, pix_flag_list, flat_flux, flat_err, do_desnake, ref_pix, do_smooth, do_ica, spat_excl, do_clean, return_ts, return_pix_flag_list, plot, plot_ts, reg_interest, plot_flux, plot_show, plot_save, inject_sig)\u001b[0m\n\u001b[0;32m   1447\u001b[0m \u001b[38;5;28;01mif\u001b[39;00m (\u001b[38;5;129;01mnot\u001b[39;00m beam_pair\u001b[38;5;241m.\u001b[39mempty_flag_) \u001b[38;5;129;01mand\u001b[39;00m (beam_pair\u001b[38;5;241m.\u001b[39mlen_ \u001b[38;5;241m>\u001b[39m \u001b[38;5;241m0\u001b[39m):\n\u001b[0;32m   1448\u001b[0m     write_header \u001b[38;5;241m=\u001b[39m os\u001b[38;5;241m.\u001b[39mpath\u001b[38;5;241m.\u001b[39mjoin(write_dir, header \u001b[38;5;241m+\u001b[39m write_suffix)\n\u001b[1;32m-> 1449\u001b[0m     result \u001b[38;5;241m=\u001b[39m \u001b[43mproc_beam\u001b[49m\u001b[43m(\u001b[49m\n\u001b[0;32m   1450\u001b[0m \u001b[43m            \u001b[49m\u001b[43mbeam_pair\u001b[49m\u001b[43m,\u001b[49m\u001b[43m \u001b[49m\u001b[43mwrite_header\u001b[49m\u001b[38;5;241;43m=\u001b[39;49m\u001b[43mwrite_header\u001b[49m\u001b[43m,\u001b[49m\u001b[43m \u001b[49m\u001b[43mis_flat\u001b[49m\u001b[38;5;241;43m=\u001b[39;49m\u001b[43mis_flat\u001b[49m\u001b[43m,\u001b[49m\n\u001b[0;32m   1451\u001b[0m \u001b[43m            \u001b[49m\u001b[43mis_bias_step\u001b[49m\u001b[38;5;241;43m=\u001b[39;49m\u001b[38;5;28;43;01mFalse\u001b[39;49;00m\u001b[43m,\u001b[49m\n\u001b[0;32m   1452\u001b[0m \u001b[43m            \u001b[49m\u001b[43mpix_flag_list\u001b[49m\u001b[38;5;241;43m=\u001b[39;49m\u001b[43mpix_flag_list\u001b[49m\u001b[43m,\u001b[49m\u001b[43m \u001b[49m\u001b[43mflat_flux\u001b[49m\u001b[38;5;241;43m=\u001b[39;49m\u001b[43mflat_flux\u001b[49m\u001b[43m,\u001b[49m\u001b[43m \u001b[49m\u001b[43mflat_err\u001b[49m\u001b[38;5;241;43m=\u001b[39;49m\u001b[43mflat_err\u001b[49m\u001b[43m,\u001b[49m\n\u001b[0;32m   1453\u001b[0m \u001b[43m            \u001b[49m\u001b[43mdo_desnake\u001b[49m\u001b[38;5;241;43m=\u001b[39;49m\u001b[43mdo_desnake\u001b[49m\u001b[43m,\u001b[49m\u001b[43m \u001b[49m\u001b[43mref_pix\u001b[49m\u001b[38;5;241;43m=\u001b[39;49m\u001b[43mref_pix\u001b[49m\u001b[43m,\u001b[49m\u001b[43m \u001b[49m\u001b[43mdo_smooth\u001b[49m\u001b[38;5;241;43m=\u001b[39;49m\u001b[43mdo_smooth\u001b[49m\u001b[43m,\u001b[49m\n\u001b[0;32m   1454\u001b[0m \u001b[43m            \u001b[49m\u001b[43mdo_ica\u001b[49m\u001b[38;5;241;43m=\u001b[39;49m\u001b[43mdo_ica\u001b[49m\u001b[43m,\u001b[49m\u001b[43m \u001b[49m\u001b[43mspat_excl\u001b[49m\u001b[38;5;241;43m=\u001b[39;49m\u001b[43mspat_excl\u001b[49m\u001b[43m,\u001b[49m\u001b[43m \u001b[49m\u001b[43mdo_clean\u001b[49m\u001b[38;5;241;43m=\u001b[39;49m\u001b[43mdo_clean\u001b[49m\u001b[43m,\u001b[49m\n\u001b[0;32m   1455\u001b[0m \u001b[43m            \u001b[49m\u001b[43mreturn_ts\u001b[49m\u001b[38;5;241;43m=\u001b[39;49m\u001b[43mreturn_ts\u001b[49m\u001b[43m,\u001b[49m\n\u001b[0;32m   1456\u001b[0m \u001b[43m            \u001b[49m\u001b[43mreturn_pix_flag_list\u001b[49m\u001b[38;5;241;43m=\u001b[39;49m\u001b[43mreturn_pix_flag_list\u001b[49m\u001b[43m,\u001b[49m\u001b[43m \u001b[49m\u001b[43mplot\u001b[49m\u001b[38;5;241;43m=\u001b[39;49m\u001b[43mplot\u001b[49m\u001b[43m,\u001b[49m\n\u001b[0;32m   1457\u001b[0m \u001b[43m            \u001b[49m\u001b[43mplot_ts\u001b[49m\u001b[38;5;241;43m=\u001b[39;49m\u001b[43mplot_ts\u001b[49m\u001b[43m,\u001b[49m\u001b[43m \u001b[49m\u001b[43mreg_interest\u001b[49m\u001b[38;5;241;43m=\u001b[39;49m\u001b[43mreg_interest\u001b[49m\u001b[43m,\u001b[49m\u001b[43m \u001b[49m\u001b[43mplot_flux\u001b[49m\u001b[38;5;241;43m=\u001b[39;49m\u001b[43mplot_flux\u001b[49m\u001b[43m,\u001b[49m\n\u001b[0;32m   1458\u001b[0m \u001b[43m            \u001b[49m\u001b[43mplot_show\u001b[49m\u001b[38;5;241;43m=\u001b[39;49m\u001b[43mplot_show\u001b[49m\u001b[43m,\u001b[49m\u001b[43m \u001b[49m\u001b[43mplot_save\u001b[49m\u001b[38;5;241;43m=\u001b[39;49m\u001b[43mplot_save\u001b[49m\u001b[43m,\u001b[49m\n\u001b[0;32m   1459\u001b[0m \u001b[43m            \u001b[49m\u001b[43mchunk_method\u001b[49m\u001b[38;5;241;43m=\u001b[39;49m\u001b[43mCHUNK_METHOD\u001b[49m\u001b[43m,\u001b[49m\u001b[43m \u001b[49m\u001b[43mmethod\u001b[49m\u001b[38;5;241;43m=\u001b[39;49m\u001b[43mMETHOD\u001b[49m\u001b[43m)\u001b[49m\n\u001b[0;32m   1460\u001b[0m \u001b[38;5;28;01melse\u001b[39;00m:\n\u001b[0;32m   1461\u001b[0m     result \u001b[38;5;241m=\u001b[39m (beam_pair\u001b[38;5;241m.\u001b[39mcopy(), beam_pair\u001b[38;5;241m.\u001b[39mcopy(), beam_pair\u001b[38;5;241m.\u001b[39mcopy())\n",
      "File \u001b[1;32mc:\\users\\christopher\\code\\zeus2_toolbox\\src\\zeus2_toolbox\\pipeline.py:627\u001b[0m, in \u001b[0;36mproc_beam\u001b[1;34m(beam, write_header, is_flat, is_bias_step, pix_flag_list, flat_flux, flat_err, cross, do_desnake, ref_pix, do_smooth, do_ica, spat_excl, do_clean, return_ts, return_pix_flag_list, plot, plot_ts, reg_interest, plot_flux, plot_show, plot_save, chunk_method, method)\u001b[0m\n\u001b[0;32m    622\u001b[0m     plot_dict[\u001b[38;5;124m\"\u001b[39m\u001b[38;5;124mclean\u001b[39m\u001b[38;5;124m\"\u001b[39m] \u001b[38;5;241m=\u001b[39m (noise_beam, {\u001b[38;5;124m\"\u001b[39m\u001b[38;5;124mc\u001b[39m\u001b[38;5;124m\"\u001b[39m: \u001b[38;5;124m\"\u001b[39m\u001b[38;5;124mc\u001b[39m\u001b[38;5;124m\"\u001b[39m}) \u001b[38;5;28;01mif\u001b[39;00m \\\n\u001b[0;32m    623\u001b[0m         (\u001b[38;5;124m\"\u001b[39m\u001b[38;5;124msnake\u001b[39m\u001b[38;5;124m\"\u001b[39m \u001b[38;5;129;01min\u001b[39;00m plot_dict) \u001b[38;5;129;01mor\u001b[39;00m (\u001b[38;5;124m\"\u001b[39m\u001b[38;5;124msmooth\u001b[39m\u001b[38;5;124m\"\u001b[39m \u001b[38;5;129;01min\u001b[39;00m plot_dict) \u001b[38;5;28;01melse\u001b[39;00m \\\n\u001b[0;32m    624\u001b[0m         (noise_beam, {\u001b[38;5;124m\"\u001b[39m\u001b[38;5;124mc\u001b[39m\u001b[38;5;124m\"\u001b[39m: \u001b[38;5;124m\"\u001b[39m\u001b[38;5;124mc\u001b[39m\u001b[38;5;124m\"\u001b[39m, \u001b[38;5;124m\"\u001b[39m\u001b[38;5;124mtwin_axes\u001b[39m\u001b[38;5;124m\"\u001b[39m: \u001b[38;5;28;01mTrue\u001b[39;00m})\n\u001b[0;32m    625\u001b[0m \u001b[38;5;28;01mif\u001b[39;00m do_ica:\n\u001b[0;32m    626\u001b[0m     ica_treated_beam, ica_noise_beam, amp_ica, ica_noise_model \u001b[38;5;241m=\u001b[39m \\\n\u001b[1;32m--> 627\u001b[0m         \u001b[43mica_treat_beam\u001b[49m\u001b[43m(\u001b[49m\u001b[43mbeam_use\u001b[49m\u001b[43m,\u001b[49m\u001b[43m \u001b[49m\u001b[43mspat_excl\u001b[49m\u001b[38;5;241;43m=\u001b[39;49m\u001b[43mspat_excl\u001b[49m\u001b[43m,\u001b[49m\n\u001b[0;32m    628\u001b[0m \u001b[43m                       \u001b[49m\u001b[43mpix_flag_list\u001b[49m\u001b[38;5;241;43m=\u001b[39;49m\u001b[43mpix_flag_list\u001b[49m\u001b[43m,\u001b[49m\u001b[43m \u001b[49m\u001b[43mverbose\u001b[49m\u001b[38;5;241;43m=\u001b[39;49m\u001b[43mVERBOSE\u001b[49m\u001b[43m,\u001b[49m\n\u001b[0;32m    629\u001b[0m \u001b[43m                       \u001b[49m\u001b[43mfinite_thre\u001b[49m\u001b[38;5;241;43m=\u001b[39;49m\u001b[43mFINITE_THRE\u001b[49m\u001b[43m,\u001b[49m\n\u001b[0;32m    630\u001b[0m \u001b[43m                       \u001b[49m\u001b[43mn_components_init\u001b[49m\u001b[38;5;241;43m=\u001b[39;49m\u001b[43mN_COMPONENTS_INIT\u001b[49m\u001b[43m,\u001b[49m\n\u001b[0;32m    631\u001b[0m \u001b[43m                       \u001b[49m\u001b[43mn_components_max\u001b[49m\u001b[38;5;241;43m=\u001b[39;49m\u001b[43mN_COMPONENTS_MAX\u001b[49m\u001b[43m,\u001b[49m\u001b[43m \u001b[49m\u001b[43mmax_iter\u001b[49m\u001b[38;5;241;43m=\u001b[39;49m\u001b[43mMAX_ITER\u001b[49m\u001b[43m,\u001b[49m\n\u001b[0;32m    632\u001b[0m \u001b[43m                       \u001b[49m\u001b[43mrandom_state\u001b[49m\u001b[38;5;241;43m=\u001b[39;49m\u001b[43mRANDOM_STATE\u001b[49m\u001b[43m)\u001b[49m\n\u001b[0;32m    633\u001b[0m     beam_use \u001b[38;5;241m=\u001b[39m auto_flag_ts(ica_treated_beam, is_flat\u001b[38;5;241m=\u001b[39mis_flat,\n\u001b[0;32m    634\u001b[0m                             mad_thre\u001b[38;5;241m=\u001b[39mMAD_THRE_BEAM,\n\u001b[0;32m    635\u001b[0m                             std_thre_flat\u001b[38;5;241m=\u001b[39mSTD_THRE_FLAT)\n\u001b[0;32m    636\u001b[0m     noise_beam \u001b[38;5;241m+\u001b[39m\u001b[38;5;241m=\u001b[39m ica_noise_beam\n",
      "File \u001b[1;32mc:\\users\\christopher\\code\\zeus2_toolbox\\src\\zeus2_toolbox\\pipeline.py:193\u001b[0m, in \u001b[0;36mica_treat_beam\u001b[1;34m(obs, spat_excl, pix_flag_list, verbose, finite_thre, n_components_init, n_components_max, max_iter, random_state)\u001b[0m\n\u001b[0;32m    189\u001b[0m \u001b[38;5;28;01mwith\u001b[39;00m warnings\u001b[38;5;241m.\u001b[39mcatch_warnings():\n\u001b[0;32m    190\u001b[0m     warnings\u001b[38;5;241m.\u001b[39mfilterwarnings(\u001b[38;5;124m\"\u001b[39m\u001b[38;5;124mignore\u001b[39m\u001b[38;5;124m\"\u001b[39m, message\u001b[38;5;241m=\u001b[39m\n\u001b[0;32m    191\u001b[0m     \u001b[38;5;124m\"\u001b[39m\u001b[38;5;124mFastICA did not converge. Consider increasing tolerance or\u001b[39m\u001b[38;5;124m\"\u001b[39m \u001b[38;5;241m+\u001b[39m\n\u001b[0;32m    192\u001b[0m     \u001b[38;5;124m\"\u001b[39m\u001b[38;5;124mthe maximum number of iterations.\u001b[39m\u001b[38;5;124m\"\u001b[39m)\n\u001b[1;32m--> 193\u001b[0m     obs_sources\u001b[38;5;241m.\u001b[39mexpand(\u001b[43madaptive_sklearn_obs\u001b[49m\u001b[43m(\u001b[49m\n\u001b[0;32m    194\u001b[0m \u001b[43m            \u001b[49m\u001b[43mobs_use\u001b[49m\u001b[43m,\u001b[49m\u001b[43m \u001b[49m\u001b[43mica\u001b[49m\u001b[43m,\u001b[49m\u001b[43m \u001b[49m\u001b[43mverbose\u001b[49m\u001b[38;5;241;43m=\u001b[39;49m\u001b[43mverbose\u001b[49m\u001b[43m,\u001b[49m\u001b[43m \u001b[49m\u001b[43mllim\u001b[49m\u001b[38;5;241;43m=\u001b[39;49m\u001b[38;5;241;43m1\u001b[39;49m\u001b[43m,\u001b[49m\n\u001b[0;32m    195\u001b[0m \u001b[43m            \u001b[49m\u001b[43mulim\u001b[49m\u001b[38;5;241;43m=\u001b[39;49m\u001b[38;5;28;43mmin\u001b[39;49m\u001b[43m(\u001b[49m\u001b[43mn_components_max\u001b[49m\u001b[43m,\u001b[49m\u001b[43m \u001b[49m\u001b[43mobs_use\u001b[49m\u001b[38;5;241;43m.\u001b[39;49m\u001b[43mshape_\u001b[49m\u001b[43m[\u001b[49m\u001b[38;5;241;43m0\u001b[39;49m\u001b[43m]\u001b[49m\u001b[43m)\u001b[49m\u001b[43m)\u001b[49m)\n\u001b[0;32m    196\u001b[0m \u001b[38;5;28;01mif\u001b[39;00m verbose:\n\u001b[0;32m    197\u001b[0m     \u001b[38;5;28mprint\u001b[39m(\u001b[38;5;124m\"\u001b[39m\u001b[38;5;124mMCE column = \u001b[39m\u001b[38;5;132;01m%i\u001b[39;00m\u001b[38;5;124m, iter num = \u001b[39m\u001b[38;5;132;01m%i\u001b[39;00m\u001b[38;5;124m, input pix num = \u001b[39m\u001b[38;5;132;01m%i\u001b[39;00m\u001b[38;5;124m\"\u001b[39m \u001b[38;5;241m%\u001b[39m\n\u001b[0;32m    198\u001b[0m           (col, ica\u001b[38;5;241m.\u001b[39mn_iter_, obs_use\u001b[38;5;241m.\u001b[39mshape_[\u001b[38;5;241m0\u001b[39m]))\n",
      "File \u001b[1;32mc:\\users\\christopher\\code\\zeus2_toolbox\\src\\zeus2_toolbox\\analyze.py:797\u001b[0m, in \u001b[0;36madaptive_sklearn_obs\u001b[1;34m(obs, sklearn_solver, verbose, llim, ulim)\u001b[0m\n\u001b[0;32m    792\u001b[0m \u001b[38;5;28;01mwith\u001b[39;00m warnings\u001b[38;5;241m.\u001b[39mcatch_warnings():\n\u001b[0;32m    793\u001b[0m     warnings\u001b[38;5;241m.\u001b[39mfilterwarnings(\n\u001b[0;32m    794\u001b[0m             \u001b[38;5;124m\"\u001b[39m\u001b[38;5;124mignore\u001b[39m\u001b[38;5;124m\"\u001b[39m, message\u001b[38;5;241m=\u001b[39m\u001b[38;5;124m\"\u001b[39m\u001b[38;5;124mFastICA did not converge. \u001b[39m\u001b[38;5;124m\"\u001b[39m \u001b[38;5;241m+\u001b[39m\n\u001b[0;32m    795\u001b[0m                               \u001b[38;5;124m\"\u001b[39m\u001b[38;5;124mConsider increasing tolerance or \u001b[39m\u001b[38;5;124m\"\u001b[39m \u001b[38;5;241m+\u001b[39m\n\u001b[0;32m    796\u001b[0m                               \u001b[38;5;124m\"\u001b[39m\u001b[38;5;124mthe maximum number of iterations.\u001b[39m\u001b[38;5;124m\"\u001b[39m)\n\u001b[1;32m--> 797\u001b[0m     \u001b[43mtmp_solver\u001b[49m\u001b[38;5;241;43m.\u001b[39;49m\u001b[43mfit\u001b[49m\u001b[43m(\u001b[49m\u001b[43msample_obs\u001b[49m\u001b[38;5;241;43m.\u001b[39;49m\u001b[43mdata_\u001b[49m\u001b[38;5;241;43m.\u001b[39;49m\u001b[43mtranspose\u001b[49m\u001b[43m(\u001b[49m\u001b[43m)\u001b[49m\u001b[43m)\u001b[49m\n\u001b[0;32m    798\u001b[0m \u001b[38;5;28;01mif\u001b[39;00m \u001b[38;5;124m\"\u001b[39m\u001b[38;5;124mn_iter_\u001b[39m\u001b[38;5;124m\"\u001b[39m \u001b[38;5;129;01mnot\u001b[39;00m \u001b[38;5;129;01min\u001b[39;00m tmp_solver\u001b[38;5;241m.\u001b[39m\u001b[38;5;18m__dict__\u001b[39m:\n\u001b[0;32m    799\u001b[0m     \u001b[38;5;28;01mraise\u001b[39;00m \u001b[38;5;167;01mValueError\u001b[39;00m(\u001b[38;5;124m\"\u001b[39m\u001b[38;5;124mThe solver doesn\u001b[39m\u001b[38;5;124m'\u001b[39m\u001b[38;5;124mt have n_iter_, does not support \u001b[39m\u001b[38;5;124m\"\u001b[39m \u001b[38;5;241m+\u001b[39m\n\u001b[0;32m    800\u001b[0m                      \u001b[38;5;124m\"\u001b[39m\u001b[38;5;124madaptive solving.\u001b[39m\u001b[38;5;124m\"\u001b[39m)\n",
      "File \u001b[1;32m~\\miniconda3\\envs\\jupyter2022\\lib\\site-packages\\sklearn\\decomposition\\_fastica.py:634\u001b[0m, in \u001b[0;36mFastICA.fit\u001b[1;34m(self, X, y)\u001b[0m\n\u001b[0;32m    617\u001b[0m \u001b[38;5;28;01mdef\u001b[39;00m \u001b[38;5;21mfit\u001b[39m(\u001b[38;5;28mself\u001b[39m, X, y\u001b[38;5;241m=\u001b[39m\u001b[38;5;28;01mNone\u001b[39;00m):\n\u001b[0;32m    618\u001b[0m     \u001b[38;5;124;03m\"\"\"Fit the model to X.\u001b[39;00m\n\u001b[0;32m    619\u001b[0m \n\u001b[0;32m    620\u001b[0m \u001b[38;5;124;03m    Parameters\u001b[39;00m\n\u001b[1;32m   (...)\u001b[0m\n\u001b[0;32m    632\u001b[0m \u001b[38;5;124;03m        Returns the instance itself.\u001b[39;00m\n\u001b[0;32m    633\u001b[0m \u001b[38;5;124;03m    \"\"\"\u001b[39;00m\n\u001b[1;32m--> 634\u001b[0m     \u001b[38;5;28;43mself\u001b[39;49m\u001b[38;5;241;43m.\u001b[39;49m\u001b[43m_fit\u001b[49m\u001b[43m(\u001b[49m\u001b[43mX\u001b[49m\u001b[43m,\u001b[49m\u001b[43m \u001b[49m\u001b[43mcompute_sources\u001b[49m\u001b[38;5;241;43m=\u001b[39;49m\u001b[38;5;28;43;01mFalse\u001b[39;49;00m\u001b[43m)\u001b[49m\n\u001b[0;32m    635\u001b[0m     \u001b[38;5;28;01mreturn\u001b[39;00m \u001b[38;5;28mself\u001b[39m\n",
      "File \u001b[1;32m~\\miniconda3\\envs\\jupyter2022\\lib\\site-packages\\sklearn\\decomposition\\_fastica.py:479\u001b[0m, in \u001b[0;36mFastICA._fit\u001b[1;34m(self, X, compute_sources)\u001b[0m\n\u001b[0;32m    461\u001b[0m \u001b[38;5;28;01mdef\u001b[39;00m \u001b[38;5;21m_fit\u001b[39m(\u001b[38;5;28mself\u001b[39m, X, compute_sources\u001b[38;5;241m=\u001b[39m\u001b[38;5;28;01mFalse\u001b[39;00m):\n\u001b[0;32m    462\u001b[0m     \u001b[38;5;124;03m\"\"\"Fit the model\u001b[39;00m\n\u001b[0;32m    463\u001b[0m \n\u001b[0;32m    464\u001b[0m \u001b[38;5;124;03m    Parameters\u001b[39;00m\n\u001b[1;32m   (...)\u001b[0m\n\u001b[0;32m    477\u001b[0m \u001b[38;5;124;03m        Sources matrix. `None` if `compute_sources` is `False`.\u001b[39;00m\n\u001b[0;32m    478\u001b[0m \u001b[38;5;124;03m    \"\"\"\u001b[39;00m\n\u001b[1;32m--> 479\u001b[0m     XT \u001b[38;5;241m=\u001b[39m \u001b[38;5;28;43mself\u001b[39;49m\u001b[38;5;241;43m.\u001b[39;49m\u001b[43m_validate_data\u001b[49m\u001b[43m(\u001b[49m\n\u001b[0;32m    480\u001b[0m \u001b[43m        \u001b[49m\u001b[43mX\u001b[49m\u001b[43m,\u001b[49m\u001b[43m \u001b[49m\u001b[43mcopy\u001b[49m\u001b[38;5;241;43m=\u001b[39;49m\u001b[38;5;28;43mself\u001b[39;49m\u001b[38;5;241;43m.\u001b[39;49m\u001b[43mwhiten\u001b[49m\u001b[43m,\u001b[49m\u001b[43m \u001b[49m\u001b[43mdtype\u001b[49m\u001b[38;5;241;43m=\u001b[39;49m\u001b[43mFLOAT_DTYPES\u001b[49m\u001b[43m,\u001b[49m\u001b[43m \u001b[49m\u001b[43mensure_min_samples\u001b[49m\u001b[38;5;241;43m=\u001b[39;49m\u001b[38;5;241;43m2\u001b[39;49m\n\u001b[0;32m    481\u001b[0m \u001b[43m    \u001b[49m\u001b[43m)\u001b[49m\u001b[38;5;241m.\u001b[39mT\n\u001b[0;32m    482\u001b[0m     fun_args \u001b[38;5;241m=\u001b[39m {} \u001b[38;5;28;01mif\u001b[39;00m \u001b[38;5;28mself\u001b[39m\u001b[38;5;241m.\u001b[39mfun_args \u001b[38;5;129;01mis\u001b[39;00m \u001b[38;5;28;01mNone\u001b[39;00m \u001b[38;5;28;01melse\u001b[39;00m \u001b[38;5;28mself\u001b[39m\u001b[38;5;241m.\u001b[39mfun_args\n\u001b[0;32m    483\u001b[0m     random_state \u001b[38;5;241m=\u001b[39m check_random_state(\u001b[38;5;28mself\u001b[39m\u001b[38;5;241m.\u001b[39mrandom_state)\n",
      "File \u001b[1;32m~\\miniconda3\\envs\\jupyter2022\\lib\\site-packages\\sklearn\\base.py:566\u001b[0m, in \u001b[0;36mBaseEstimator._validate_data\u001b[1;34m(self, X, y, reset, validate_separately, **check_params)\u001b[0m\n\u001b[0;32m    564\u001b[0m     \u001b[38;5;28;01mraise\u001b[39;00m \u001b[38;5;167;01mValueError\u001b[39;00m(\u001b[38;5;124m\"\u001b[39m\u001b[38;5;124mValidation should be done on X, y or both.\u001b[39m\u001b[38;5;124m\"\u001b[39m)\n\u001b[0;32m    565\u001b[0m \u001b[38;5;28;01melif\u001b[39;00m \u001b[38;5;129;01mnot\u001b[39;00m no_val_X \u001b[38;5;129;01mand\u001b[39;00m no_val_y:\n\u001b[1;32m--> 566\u001b[0m     X \u001b[38;5;241m=\u001b[39m check_array(X, \u001b[38;5;241m*\u001b[39m\u001b[38;5;241m*\u001b[39mcheck_params)\n\u001b[0;32m    567\u001b[0m     out \u001b[38;5;241m=\u001b[39m X\n\u001b[0;32m    568\u001b[0m \u001b[38;5;28;01melif\u001b[39;00m no_val_X \u001b[38;5;129;01mand\u001b[39;00m \u001b[38;5;129;01mnot\u001b[39;00m no_val_y:\n",
      "File \u001b[1;32m~\\miniconda3\\envs\\jupyter2022\\lib\\site-packages\\sklearn\\utils\\validation.py:800\u001b[0m, in \u001b[0;36mcheck_array\u001b[1;34m(array, accept_sparse, accept_large_sparse, dtype, order, copy, force_all_finite, ensure_2d, allow_nd, ensure_min_samples, ensure_min_features, estimator)\u001b[0m\n\u001b[0;32m    794\u001b[0m         \u001b[38;5;28;01mraise\u001b[39;00m \u001b[38;5;167;01mValueError\u001b[39;00m(\n\u001b[0;32m    795\u001b[0m             \u001b[38;5;124m\"\u001b[39m\u001b[38;5;124mFound array with dim \u001b[39m\u001b[38;5;132;01m%d\u001b[39;00m\u001b[38;5;124m. \u001b[39m\u001b[38;5;132;01m%s\u001b[39;00m\u001b[38;5;124m expected <= 2.\u001b[39m\u001b[38;5;124m\"\u001b[39m\n\u001b[0;32m    796\u001b[0m             \u001b[38;5;241m%\u001b[39m (array\u001b[38;5;241m.\u001b[39mndim, estimator_name)\n\u001b[0;32m    797\u001b[0m         )\n\u001b[0;32m    799\u001b[0m     \u001b[38;5;28;01mif\u001b[39;00m force_all_finite:\n\u001b[1;32m--> 800\u001b[0m         \u001b[43m_assert_all_finite\u001b[49m\u001b[43m(\u001b[49m\u001b[43marray\u001b[49m\u001b[43m,\u001b[49m\u001b[43m \u001b[49m\u001b[43mallow_nan\u001b[49m\u001b[38;5;241;43m=\u001b[39;49m\u001b[43mforce_all_finite\u001b[49m\u001b[43m \u001b[49m\u001b[38;5;241;43m==\u001b[39;49m\u001b[43m \u001b[49m\u001b[38;5;124;43m\"\u001b[39;49m\u001b[38;5;124;43mallow-nan\u001b[39;49m\u001b[38;5;124;43m\"\u001b[39;49m\u001b[43m)\u001b[49m\n\u001b[0;32m    802\u001b[0m \u001b[38;5;28;01mif\u001b[39;00m ensure_min_samples \u001b[38;5;241m>\u001b[39m \u001b[38;5;241m0\u001b[39m:\n\u001b[0;32m    803\u001b[0m     n_samples \u001b[38;5;241m=\u001b[39m _num_samples(array)\n",
      "File \u001b[1;32m~\\miniconda3\\envs\\jupyter2022\\lib\\site-packages\\daal4py\\sklearn\\utils\\validation.py:78\u001b[0m, in \u001b[0;36m_daal_assert_all_finite\u001b[1;34m(X, allow_nan, msg_dtype, estimator_name, input_name)\u001b[0m\n\u001b[0;32m     76\u001b[0m \u001b[38;5;28;01mif\u001b[39;00m dt \u001b[38;5;241m==\u001b[39m np\u001b[38;5;241m.\u001b[39mfloat64:\n\u001b[0;32m     77\u001b[0m     \u001b[38;5;28;01mif\u001b[39;00m \u001b[38;5;129;01mnot\u001b[39;00m d4p\u001b[38;5;241m.\u001b[39mdaal_assert_all_finite(x_for_daal, allow_nan, \u001b[38;5;241m0\u001b[39m):\n\u001b[1;32m---> 78\u001b[0m         \u001b[38;5;28;01mraise\u001b[39;00m \u001b[38;5;167;01mValueError\u001b[39;00m(err)\n\u001b[0;32m     79\u001b[0m \u001b[38;5;28;01melif\u001b[39;00m dt \u001b[38;5;241m==\u001b[39m np\u001b[38;5;241m.\u001b[39mfloat32:\n\u001b[0;32m     80\u001b[0m     \u001b[38;5;28;01mif\u001b[39;00m \u001b[38;5;129;01mnot\u001b[39;00m d4p\u001b[38;5;241m.\u001b[39mdaal_assert_all_finite(x_for_daal, allow_nan, \u001b[38;5;241m1\u001b[39m):\n",
      "\u001b[1;31mValueError\u001b[0m: Input contains NaN, infinity or a value too large for dtype('float64')."
     ]
    }
   ],
   "source": [
    "r.data_dir = \"../../APEX_2022/20220922\"\n",
    "r.parallel=False\n",
    "r.reduce({\"skychop_220922\": [(39, 40)]},{\"lpsj0226_220922\": [(0, 39)]},{\"bias_step\": [(7, 8)]})"
   ]
  },
  {
   "cell_type": "code",
   "execution_count": null,
   "id": "48caa8ca",
   "metadata": {
    "hidden": true
   },
   "outputs": [],
   "source": [
    "r.folder"
   ]
  },
  {
   "cell_type": "code",
   "execution_count": null,
   "id": "9a7d5a3f",
   "metadata": {
    "hidden": true
   },
   "outputs": [],
   "source": [
    "print(\"help\")"
   ]
  },
  {
   "cell_type": "code",
   "execution_count": null,
   "id": "9e535a6a",
   "metadata": {
    "hidden": true
   },
   "outputs": [],
   "source": [
    "r.parallel=False\n",
    "r.reduce"
   ]
  },
  {
   "cell_type": "code",
   "execution_count": 7,
   "id": "d050ee15",
   "metadata": {
    "hidden": true
   },
   "outputs": [],
   "source": [
    "import os"
   ]
  },
  {
   "cell_type": "code",
   "execution_count": 14,
   "id": "2ec407a7",
   "metadata": {
    "hidden": true
   },
   "outputs": [
    {
     "name": "stdout",
     "output_type": "stream",
     "text": [
      "../../APEX_2022/20220916\\skychop_0040\n"
     ]
    }
   ],
   "source": [
    "print(str(str(os.path.join(\"../../APEX_2022/20220916\",\"%s_%04d\" % (\"skychop\", 40)))))"
   ]
  },
  {
   "cell_type": "code",
   "execution_count": 6,
   "id": "c1d69833",
   "metadata": {
    "collapsed": true,
    "hidden": true
   },
   "outputs": [
    {
     "name": "stdout",
     "output_type": "stream",
     "text": [
      "Processing beam ../../APEX_2022/20220916/skychop_220916_0040.\n",
      "Processing beam ../../APEX_2022/20220916/skychop_220916_0041.\n",
      "running in parallel on 2 threads.\n",
      "Processing beam ../../APEX_2022/20220916/bias_step_0033.\n",
      "Processing beam ../../APEX_2022/20220916/bias_step_0032.\n",
      "running in parallel on 2 threads.\n",
      "Processing beam ../../APEX_2022/20220916/lpsj0226_220916_0002.Processing beam ../../APEX_2022/20220916/lpsj0226_220916_0000.Processing beam ../../APEX_2022/20220916/lpsj0226_220916_0006.\n",
      "Processing beam ../../APEX_2022/20220916/lpsj0226_220916_0004.Processing beam ../../APEX_2022/20220916/lpsj0226_220916_0008.Processing beam ../../APEX_2022/20220916/lpsj0226_220916_0010.\n",
      "\n",
      "\n",
      "Processing beam ../../APEX_2022/20220916/lpsj0226_220916_0012.Processing beam ../../APEX_2022/20220916/lpsj0226_220916_0014.\n",
      "\n",
      "\n",
      "\n",
      "running in parallel on 4 threads.\n",
      "Processing beam ../../APEX_2022/20220916/lpsj0226_220916_0001.\n",
      "Processing beam ../../APEX_2022/20220916/lpsj0226_220916_0003.\n",
      "Processing beam ../../APEX_2022/20220916/lpsj0226_220916_0013.\n",
      "Processing beam ../../APEX_2022/20220916/lpsj0226_220916_0007.\n",
      "Processing beam ../../APEX_2022/20220916/lpsj0226_220916_0005.Processing beam ../../APEX_2022/20220916/lpsj0226_220916_0011.\n",
      "\n",
      "Processing beam ../../APEX_2022/20220916/lpsj0226_220916_0015.\n",
      "Processing beam ../../APEX_2022/20220916/lpsj0226_220916_0009.\n",
      "Processing beam ../../APEX_2022/20220916/lpsj0226_220916_0016.\n",
      "Processing beam ../../APEX_2022/20220916/lpsj0226_220916_0018.\n",
      "Processing beam ../../APEX_2022/20220916/lpsj0226_220916_0020.\n",
      "Processing beam ../../APEX_2022/20220916/lpsj0226_220916_0022.\n",
      "Processing beam ../../APEX_2022/20220916/lpsj0226_220916_0024.\n",
      "Processing beam ../../APEX_2022/20220916/lpsj0226_220916_0026.\n",
      "Processing beam ../../APEX_2022/20220916/lpsj0226_220916_0028.\n",
      "Processing beam ../../APEX_2022/20220916/lpsj0226_220916_0030.\n",
      "Processing beam ../../APEX_2022/20220916/lpsj0226_220916_0017.\n",
      "Processing beam ../../APEX_2022/20220916/lpsj0226_220916_0019.\n",
      "Processing beam ../../APEX_2022/20220916/lpsj0226_220916_0021.\n",
      "Processing beam ../../APEX_2022/20220916/lpsj0226_220916_0023.\n",
      "Processing beam ../../APEX_2022/20220916/lpsj0226_220916_0025.\n",
      "Processing beam ../../APEX_2022/20220916/lpsj0226_220916_0027.\n",
      "Processing beam ../../APEX_2022/20220916/lpsj0226_220916_0029.\n",
      "Processing beam ../../APEX_2022/20220916/lpsj0226_220916_0031.\n",
      "Processing beam ../../APEX_2022/20220916/lpsj0226_220916_0032.\n",
      "Processing beam ../../APEX_2022/20220916/lpsj0226_220916_0034.\n",
      "Processing beam ../../APEX_2022/20220916/lpsj0226_220916_0036.\n",
      "Processing beam ../../APEX_2022/20220916/lpsj0226_220916_0038.\n",
      "Processing beam ../../APEX_2022/20220916/lpsj0226_220916_0033.\n",
      "Processing beam ../../APEX_2022/20220916/lpsj0226_220916_0035.\n",
      "Processing beam ../../APEX_2022/20220916/lpsj0226_220916_0037.\n",
      "Processing beam ../../APEX_2022/20220916/lpsj0226_220916_0039.\n"
     ]
    },
    {
     "name": "stderr",
     "output_type": "stream",
     "text": [
      "ErfaWarning: ERFA function \"utctai\" yielded 1 of \"dubious year (Note 3)\"\n",
      "ErfaWarning: ERFA function \"taiutc\" yielded 1 of \"dubious year (Note 4)\"\n",
      "UserWarning: No band specific config information found, will use the input kwargs only the DEFAULT configurations in conf_kwargs_.\n",
      "UserWarning: No band specific config information found, will use the input kwargs only the DEFAULT configurations in conf_kwargs_.\n",
      "UserWarning: More than one values found inobs_info_.table[mm PWV], will average.\n",
      "UserWarning: More than one values found inobs_info_.table[Elevation], will average.\n",
      "UserWarning: No band specific config information found, will use the input kwargs only the DEFAULT configurations in conf_kwargs_.\n"
     ]
    },
    {
     "name": "stdout",
     "output_type": "stream",
     "text": [
      "Setting band using default layout.\n"
     ]
    },
    {
     "name": "stderr",
     "output_type": "stream",
     "text": [
      "UserWarning: More than one values found inobs_info_.table[mm PWV], will average.\n",
      "UserWarning: More than one values found inobs_info_.table[Elevation], will average.\n",
      "UserWarning: No band specific config information found, will use the input kwargs only the DEFAULT configurations in conf_kwargs_.\n"
     ]
    },
    {
     "name": "stdout",
     "output_type": "stream",
     "text": [
      "Setting band using default layout.\n"
     ]
    },
    {
     "data": {
      "text/plain": [
       "(obs_id: lpsj0226_220916_0000, start: 2022-09-16 09:10:42.546, end: 2022-09-16 09:30:02.228\n",
       " \tObsArray, len=1 shape=(290, 1) dtype=float64\n",
       " \tChop, len=1 shape=(1,) dtype=bool\n",
       " \tTimeStamps, len=1 shape=(1,) dtype=float64\n",
       " \t start: 2022-09-16 09:20:22.927  end: 2022-09-16 09:20:22.927\n",
       " \tObsInfo, len=44\n",
       " \tArrayMap, len=290 shape=(290, 4) dtype=int64, band: 400 micron,\n",
       " obs_id: bias, start: 1969-12-31 23:59:40.000, end: 1969-12-31 23:59:40.000\n",
       " \tObsArray, len=1 shape=(290, 1) dtype=float64\n",
       " \tChop, len=0 shape=(0,) dtype=None\n",
       " \tTimeStamps, len=0 shape=(0,) dtype=None\n",
       " \t start: 1969-12-31 23:59:40.000  end: 1969-12-31 23:59:40.000\n",
       " \tObsInfo, len=44\n",
       " \tArrayMap, len=290 shape=(290, 4) dtype=int64, band: 400 micron)"
      ]
     },
     "execution_count": 6,
     "metadata": {},
     "output_type": "execute_result"
    }
   ],
   "source": [
    "r.reduce(flat_1,data_1,bs_1)"
   ]
  },
  {
   "cell_type": "code",
   "execution_count": 6,
   "id": "3228cd17",
   "metadata": {
    "hidden": true
   },
   "outputs": [],
   "source": [
    "import cProfile\n",
    "r.paralel=False"
   ]
  },
  {
   "cell_type": "code",
   "execution_count": 7,
   "id": "ccd7a3b8",
   "metadata": {
    "collapsed": true,
    "hidden": true
   },
   "outputs": [
    {
     "name": "stdout",
     "output_type": "stream",
     "text": [
      "Processing beam ../../APEX_2022/20220916/skychop_220916_0040.\n",
      "Processing beam ../../APEX_2022/20220916/skychop_220916_0041.\n",
      "Processing beam ../../APEX_2022/20220916/bias_step_0032.\n",
      "Processing beam ../../APEX_2022/20220916/bias_step_0033.\n",
      "Processing beam ../../APEX_2022/20220916/lpsj0226_220916_0000.\n",
      "Processing beam ../../APEX_2022/20220916/lpsj0226_220916_0001.\n",
      "Processing beam ../../APEX_2022/20220916/lpsj0226_220916_0002.\n",
      "Processing beam ../../APEX_2022/20220916/lpsj0226_220916_0003.\n",
      "Processing beam ../../APEX_2022/20220916/lpsj0226_220916_0004.\n",
      "Processing beam ../../APEX_2022/20220916/lpsj0226_220916_0005.\n",
      "Processing beam ../../APEX_2022/20220916/lpsj0226_220916_0006.\n",
      "Processing beam ../../APEX_2022/20220916/lpsj0226_220916_0007.\n",
      "Processing beam ../../APEX_2022/20220916/lpsj0226_220916_0008.\n",
      "Processing beam ../../APEX_2022/20220916/lpsj0226_220916_0009.\n",
      "Processing beam ../../APEX_2022/20220916/lpsj0226_220916_0010.\n",
      "Processing beam ../../APEX_2022/20220916/lpsj0226_220916_0011.\n",
      "Processing beam ../../APEX_2022/20220916/lpsj0226_220916_0012.\n",
      "Processing beam ../../APEX_2022/20220916/lpsj0226_220916_0013.\n",
      "Processing beam ../../APEX_2022/20220916/lpsj0226_220916_0014.\n",
      "Processing beam ../../APEX_2022/20220916/lpsj0226_220916_0015.\n",
      "Processing beam ../../APEX_2022/20220916/lpsj0226_220916_0016.\n",
      "Processing beam ../../APEX_2022/20220916/lpsj0226_220916_0017.\n",
      "Processing beam ../../APEX_2022/20220916/lpsj0226_220916_0018.\n",
      "Processing beam ../../APEX_2022/20220916/lpsj0226_220916_0019.\n",
      "Processing beam ../../APEX_2022/20220916/lpsj0226_220916_0020.\n",
      "Processing beam ../../APEX_2022/20220916/lpsj0226_220916_0021.\n",
      "Processing beam ../../APEX_2022/20220916/lpsj0226_220916_0022.\n",
      "Processing beam ../../APEX_2022/20220916/lpsj0226_220916_0023.\n",
      "Processing beam ../../APEX_2022/20220916/lpsj0226_220916_0024.\n",
      "Processing beam ../../APEX_2022/20220916/lpsj0226_220916_0025.\n",
      "Processing beam ../../APEX_2022/20220916/lpsj0226_220916_0026.\n",
      "Processing beam ../../APEX_2022/20220916/lpsj0226_220916_0027.\n",
      "Processing beam ../../APEX_2022/20220916/lpsj0226_220916_0028.\n",
      "Processing beam ../../APEX_2022/20220916/lpsj0226_220916_0029.\n",
      "Processing beam ../../APEX_2022/20220916/lpsj0226_220916_0030.\n",
      "Processing beam ../../APEX_2022/20220916/lpsj0226_220916_0031.\n",
      "Processing beam ../../APEX_2022/20220916/lpsj0226_220916_0032.\n",
      "Processing beam ../../APEX_2022/20220916/lpsj0226_220916_0033.\n",
      "Processing beam ../../APEX_2022/20220916/lpsj0226_220916_0034.\n",
      "Processing beam ../../APEX_2022/20220916/lpsj0226_220916_0035.\n",
      "Processing beam ../../APEX_2022/20220916/lpsj0226_220916_0036.\n",
      "Processing beam ../../APEX_2022/20220916/lpsj0226_220916_0037.\n",
      "Processing beam ../../APEX_2022/20220916/lpsj0226_220916_0038.\n",
      "Processing beam ../../APEX_2022/20220916/lpsj0226_220916_0039.\n"
     ]
    },
    {
     "name": "stderr",
     "output_type": "stream",
     "text": [
      "ErfaWarning: ERFA function \"utctai\" yielded 1 of \"dubious year (Note 3)\"\n",
      "ErfaWarning: ERFA function \"taiutc\" yielded 1 of \"dubious year (Note 4)\"\n",
      "UserWarning: No band specific config information found, will use the input kwargs only the DEFAULT configurations in conf_kwargs_.\n",
      "UserWarning: No band specific config information found, will use the input kwargs only the DEFAULT configurations in conf_kwargs_.\n",
      "UserWarning: More than one values found inobs_info_.table[mm PWV], will average.\n",
      "UserWarning: More than one values found inobs_info_.table[Elevation], will average.\n",
      "UserWarning: No band specific config information found, will use the input kwargs only the DEFAULT configurations in conf_kwargs_.\n"
     ]
    },
    {
     "name": "stdout",
     "output_type": "stream",
     "text": [
      "Setting band using default layout.\n"
     ]
    },
    {
     "name": "stderr",
     "output_type": "stream",
     "text": [
      "UserWarning: More than one values found inobs_info_.table[mm PWV], will average.\n",
      "UserWarning: More than one values found inobs_info_.table[Elevation], will average.\n",
      "UserWarning: No band specific config information found, will use the input kwargs only the DEFAULT configurations in conf_kwargs_.\n"
     ]
    },
    {
     "name": "stdout",
     "output_type": "stream",
     "text": [
      "Setting band using default layout.\n",
      "         337148613 function calls (320700743 primitive calls) in 272.450 seconds\n",
      "\n",
      "   Ordered by: standard name\n",
      "\n",
      "   ncalls  tottime  percall  cumtime  percall filename:lineno(function)\n",
      "     2549    0.005    0.000    0.042    0.000 <__array_function__ internals>:2(all)\n",
      "       11    0.000    0.000    0.000    0.000 <__array_function__ internals>:2(amax)\n",
      "       11    0.000    0.000    0.000    0.000 <__array_function__ internals>:2(amin)\n",
      "    69636    0.066    0.000    0.820    0.000 <__array_function__ internals>:2(any)\n",
      "      786    0.002    0.000   16.424    0.021 <__array_function__ internals>:2(apply_along_axis)\n",
      "      450    0.001    0.000    0.032    0.000 <__array_function__ internals>:2(argsort)\n",
      "    72356    0.062    0.000    0.467    0.000 <__array_function__ internals>:2(around)\n",
      "        7    0.000    0.000    0.000    0.000 <__array_function__ internals>:2(broadcast_arrays)\n",
      "    11727    0.021    0.000    1.431    0.000 <__array_function__ internals>:2(broadcast_to)\n",
      "     1521    0.001    0.000    0.018    0.000 <__array_function__ internals>:2(choose)\n",
      "     3485    0.007    0.000    0.454    0.000 <__array_function__ internals>:2(compress)\n",
      "     7086    0.012    0.000    2.462    0.000 <__array_function__ internals>:2(concatenate)\n",
      "        6    0.000    0.000    0.001    0.000 <__array_function__ internals>:2(convolve)\n",
      "    78180    0.086    0.000    0.655    0.000 <__array_function__ internals>:2(copyto)\n",
      "    59737    0.056    0.000    0.640    0.000 <__array_function__ internals>:2(count_nonzero)\n",
      "        6    0.000    0.000    0.000    0.000 <__array_function__ internals>:2(cumsum)\n",
      "     2368    0.004    0.000    0.052    0.000 <__array_function__ internals>:2(diff)\n",
      "    15679    0.016    0.000    0.061    0.000 <__array_function__ internals>:2(empty_like)\n",
      "      306    0.001    0.000    0.007    0.000 <__array_function__ internals>:2(expand_dims)\n",
      "      240    0.000    0.000    0.005    0.000 <__array_function__ internals>:2(extract)\n",
      "       42    0.000    0.000    3.370    0.080 <__array_function__ internals>:2(fft)\n",
      "    17736    0.015    0.000    0.188    0.000 <__array_function__ internals>:2(flatnonzero)\n",
      "      341    0.001    0.000    0.129    0.000 <__array_function__ internals>:2(full_like)\n",
      "       42    0.000    0.000    3.229    0.077 <__array_function__ internals>:2(ifft)\n",
      "    24370    0.018    0.000    2.549    0.000 <__array_function__ internals>:2(interp)\n",
      "    24370    0.016    0.000    0.056    0.000 <__array_function__ internals>:2(iscomplexobj)\n",
      "   125986    0.132    0.000    2.077    0.000 <__array_function__ internals>:2(mean)\n",
      "    96758    0.089    0.000    7.695    0.000 <__array_function__ internals>:2(median)\n",
      "       98    0.000    0.000    0.002    0.000 <__array_function__ internals>:2(moveaxis)\n",
      "     1346    0.002    0.000    0.035    0.000 <__array_function__ internals>:2(nanmax)\n",
      "    56817    0.055    0.000    2.905    0.000 <__array_function__ internals>:2(nanmean)\n",
      "     6698    0.011    0.000   22.194    0.003 <__array_function__ internals>:2(nanmedian)\n",
      "     2577    0.004    0.000    0.082    0.000 <__array_function__ internals>:2(nanmin)\n",
      "     5798    0.007    0.000    1.654    0.000 <__array_function__ internals>:2(nanstd)\n",
      "     3079    0.003    0.000    0.460    0.000 <__array_function__ internals>:2(nansum)\n",
      "     5798    0.007    0.000    1.618    0.000 <__array_function__ internals>:2(nanvar)\n",
      "   209073    0.149    0.000    1.203    0.000 <__array_function__ internals>:2(nonzero)\n",
      "        1    0.000    0.000    0.000    0.000 <__array_function__ internals>:2(ones_like)\n",
      "    45382    0.039    0.000    1.753    0.000 <__array_function__ internals>:2(partition)\n",
      "      187    0.000    0.000    0.004    0.000 <__array_function__ internals>:2(prod)\n",
      "      608    0.002    0.000    0.543    0.001 <__array_function__ internals>:2(putmask)\n",
      "    18216    0.013    0.000    0.072    0.000 <__array_function__ internals>:2(ravel)\n",
      "       96    0.000    0.000    0.003    0.000 <__array_function__ internals>:2(repeat)\n",
      "       42    0.000    0.000    0.032    0.001 <__array_function__ internals>:2(replace)\n",
      "     4479    0.006    0.000    0.018    0.000 <__array_function__ internals>:2(result_type)\n",
      "    72356    0.057    0.000    0.681    0.000 <__array_function__ internals>:2(round_)\n",
      "     1704    0.003    0.000    0.006    0.000 <__array_function__ internals>:2(shape)\n",
      "       42    0.000    0.000    0.000    0.000 <__array_function__ internals>:2(squeeze)\n",
      "    40574    0.046    0.000    0.370    0.000 <__array_function__ internals>:2(str_len)\n",
      "    81727    0.081    0.000    1.662    0.000 <__array_function__ internals>:2(sum)\n",
      "      240    0.000    0.000    0.001    0.000 <__array_function__ internals>:2(take)\n",
      "    11632    0.015    0.000    2.291    0.000 <__array_function__ internals>:2(take_along_axis)\n",
      "     1572    0.003    0.000    0.010    0.000 <__array_function__ internals>:2(transpose)\n",
      "     2497    0.004    0.000    0.301    0.000 <__array_function__ internals>:2(unique)\n",
      "     6242    0.009    0.000    0.041    0.000 <__array_function__ internals>:2(where)\n",
      "    15337    0.013    0.000    0.162    0.000 <__array_function__ internals>:2(zeros_like)\n",
      "       28    0.000    0.000    0.000    0.000 <frozen importlib._bootstrap>:100(acquire)\n",
      "       28    0.000    0.000    0.011    0.000 <frozen importlib._bootstrap>:1022(_find_and_load)\n",
      "     2230    0.003    0.000    0.005    0.000 <frozen importlib._bootstrap>:1053(_handle_fromlist)\n",
      "       28    0.000    0.000    0.000    0.000 <frozen importlib._bootstrap>:125(release)\n",
      "       28    0.000    0.000    0.000    0.000 <frozen importlib._bootstrap>:165(__init__)\n",
      "       28    0.000    0.000    0.001    0.000 <frozen importlib._bootstrap>:169(__enter__)\n",
      "       28    0.000    0.000    0.000    0.000 <frozen importlib._bootstrap>:173(__exit__)\n",
      "       28    0.000    0.000    0.000    0.000 <frozen importlib._bootstrap>:179(_get_module_lock)\n",
      "       28    0.000    0.000    0.000    0.000 <frozen importlib._bootstrap>:198(cb)\n",
      "     1400    0.000    0.000    0.000    0.000 <frozen importlib._bootstrap>:244(_verbose_message)\n",
      "       28    0.000    0.000    0.000    0.000 <frozen importlib._bootstrap>:357(__init__)\n",
      "     5602    0.008    0.000    0.012    0.000 <frozen importlib._bootstrap>:404(parent)\n",
      "       28    0.000    0.000    0.000    0.000 <frozen importlib._bootstrap>:71(__init__)\n",
      "       28    0.000    0.000    0.000    0.000 <frozen importlib._bootstrap>:746(find_spec)\n",
      "       28    0.000    0.000    0.000    0.000 <frozen importlib._bootstrap>:826(find_spec)\n",
      "      196    0.000    0.000    0.000    0.000 <frozen importlib._bootstrap>:893(__enter__)\n",
      "      196    0.000    0.000    0.000    0.000 <frozen importlib._bootstrap>:897(__exit__)\n",
      "       28    0.001    0.000    0.010    0.000 <frozen importlib._bootstrap>:921(_find_spec)\n",
      "       28    0.000    0.000    0.010    0.000 <frozen importlib._bootstrap>:987(_find_and_load_unlocked)\n",
      "     1400    0.001    0.000    0.003    0.000 <frozen importlib._bootstrap_external>:126(_path_join)\n",
      "     1400    0.001    0.000    0.001    0.000 <frozen importlib._bootstrap_external>:128(<listcomp>)\n",
      "      308    0.000    0.000    0.000    0.000 <frozen importlib._bootstrap_external>:1356(_path_importer_cache)\n",
      "       28    0.001    0.000    0.008    0.000 <frozen importlib._bootstrap_external>:1399(_get_spec)\n",
      "      280    0.000    0.000    0.002    0.000 <frozen importlib._bootstrap_external>:140(_path_stat)\n",
      "       28    0.000    0.000    0.008    0.000 <frozen importlib._bootstrap_external>:1431(find_spec)\n",
      "      280    0.002    0.000    0.007    0.000 <frozen importlib._bootstrap_external>:1536(find_spec)\n",
      "        2    0.000    0.000    0.000    0.000 <frozen importlib._bootstrap_external>:1587(_fill_cache)\n",
      "      280    0.000    0.000    0.000    0.000 <frozen importlib._bootstrap_external>:71(_relax_case)\n",
      "       49    0.000    0.000    0.000    0.000 <string>:1(<lambda>)\n",
      "        1    0.008    0.008  272.825  272.825 <string>:1(<module>)\n",
      "        8    0.000    0.000    0.000    0.000 ElementTree.py:1252(iterator)\n",
      "        8    0.000    0.000    0.000    0.000 ElementTree.py:1321(read_events)\n",
      "       56    0.000    0.000    0.000    0.000 __init__.py:24(_module_matches_namespace)\n",
      "        7    0.000    0.000    0.000    0.000 __init__.py:276(__getattr__)\n",
      "       20    0.000    0.000    0.000    0.000 __init__.py:39(get_format)\n",
      "     4072    0.008    0.000    0.180    0.000 __init__.py:565(__init__)\n",
      "       56    0.000    0.000    0.000    0.000 __init__.py:57(find_spec)\n",
      "     4072    0.005    0.000    0.173    0.000 __init__.py:640(update)\n",
      "       28    0.000    0.000    0.000    0.000 __init__.py:84(find_spec)\n",
      "       28    0.000    0.000    0.000    0.000 __init__.py:89(<lambda>)\n",
      "     2392    0.001    0.000    0.001    0.000 _dtype.py:24(_kind_name)\n",
      "     2392    0.002    0.000    0.002    0.000 _dtype.py:307(_name_includes_bit_suffix)\n",
      "     2392    0.006    0.000    0.010    0.000 _dtype.py:321(_name_get)\n",
      "     2392    0.008    0.000    0.018    0.000 _dtype.py:34(__str__)\n",
      "     4260    0.002    0.000    0.002    0.000 _internal.py:105(<listcomp>)\n",
      "       98    0.000    0.000    0.000    0.000 _internal.py:468(_view_is_safe)\n",
      "       42    0.000    0.000    0.000    0.000 _internal.py:863(npy_ctypes_check)\n",
      "8520/4260    0.020    0.000    0.023    0.000 _internal.py:88(_array_descr)\n",
      "     2420    0.002    0.000    0.002    0.000 _internal.py:906(__init__)\n",
      "      426    0.001    0.000    0.004    0.000 _internal.py:908(__call__)\n",
      "    83883    0.038    0.000    0.060    0.000 _iotools.py:11(_decode_line)\n",
      "       44    0.000    0.000    0.000    0.000 _iotools.py:170(__init__)\n",
      "    83709    0.069    0.000    0.152    0.000 _iotools.py:199(_delimited_splitter)\n",
      "    83709    0.048    0.000    0.260    0.000 _iotools.py:226(__call__)\n",
      "       44    0.000    0.000    0.000    0.000 _iotools.py:285(__init__)\n",
      "       44    0.000    0.000    0.000    0.000 _iotools.py:38(_is_string_like)\n",
      "       86    0.000    0.000    0.000    0.000 _iotools.py:531(_dtypeortype)\n",
      "       86    0.000    0.000    0.000    0.000 _iotools.py:584(_find_map_entry)\n",
      "       86    0.001    0.000    0.001    0.000 _iotools.py:598(__init__)\n",
      "     2568    0.001    0.000    0.002    0.000 _iotools.py:671(_loose_call)\n",
      "       44    0.000    0.000    0.000    0.000 _iotools.py:823(easy_dtype)\n",
      "       44    0.000    0.000    0.001    0.000 _iotools.py:87(flatten_dtype)\n",
      "   125995    0.546    0.000    1.613    0.000 _methods.py:162(_mean)\n",
      "    45231    0.024    0.000    0.238    0.000 _methods.py:38(_amax)\n",
      "     4657    0.002    0.000    0.014    0.000 _methods.py:42(_amin)\n",
      "    58052    0.025    0.000    0.997    0.000 _methods.py:46(_sum)\n",
      "   134538    0.078    0.000    0.637    0.000 _methods.py:54(_any)\n",
      "     5858    0.004    0.000    0.047    0.000 _methods.py:60(_all)\n",
      "   125995    0.374    0.000    0.447    0.000 _methods.py:66(_count_reduce_items)\n",
      "       84    0.000    0.000    0.000    0.000 _pocketfft.py:118(_fft_dispatcher)\n",
      "       42    0.000    0.000    3.370    0.080 _pocketfft.py:122(fft)\n",
      "       42    0.000    0.000    3.229    0.077 _pocketfft.py:219(ifft)\n",
      "       84    0.001    0.000    6.598    0.079 _pocketfft.py:49(_raw_fft)\n",
      "       42    0.000    0.000    0.000    0.000 _pocketfft.py:78(_get_forward_norm)\n",
      "       42    0.000    0.000    0.000    0.000 _pocketfft.py:92(_get_backward_norm)\n",
      "    84438    0.122    0.000    0.132    0.000 _ufunc_config.py:131(geterr)\n",
      "    84438    0.156    0.000    0.357    0.000 _ufunc_config.py:32(seterr)\n",
      "    42219    0.018    0.000    0.018    0.000 _ufunc_config.py:425(__init__)\n",
      "    42219    0.040    0.000    0.251    0.000 _ufunc_config.py:429(__enter__)\n",
      "    42219    0.038    0.000    0.185    0.000 _ufunc_config.py:434(__exit__)\n",
      "        6    0.000    0.000    0.000    0.000 _util.py:153(prod)\n",
      "        7    0.000    0.000    0.000    0.000 _util.py:247(_asarray_validated)\n",
      "   417086    0.187    0.000    0.465    0.000 abc.py:117(__instancecheck__)\n",
      "        6    0.000    0.000    0.000    0.000 abc.py:121(__subclasscheck__)\n",
      "       44    0.059    0.001   63.277    1.438 analyze.py:1020(get_chop_flux)\n",
      "        1    0.000    0.000    0.005    0.005 analyze.py:1135(get_bias_obs)\n",
      "        1    0.000    0.000    0.000    0.000 analyze.py:1177(<listcomp>)\n",
      "        9    0.001    0.000    0.011    0.001 analyze.py:1188(configure_helper)\n",
      "        3    0.000    0.000    0.000    0.000 analyze.py:1216(<listcomp>)\n",
      "        2    0.000    0.000    0.063    0.031 analyze.py:1343(get_transmission_raw_obs_array)\n",
      "        3    0.000    0.000    0.019    0.006 analyze.py:1399(get_transmission_obs_array)\n",
      "       86    0.995    0.012   31.580    0.367 analyze.py:1428(auto_flag_ts)\n",
      "       44    0.054    0.001    0.172    0.004 analyze.py:1492(auto_flag_pix_by_ts)\n",
      "       46    0.002    0.000    0.907    0.020 analyze.py:1513(auto_flag_pix_by_flux)\n",
      "        3    0.000    0.000    0.004    0.001 analyze.py:172(transmission_pixel)\n",
      "       42    0.873    0.021   15.626    0.372 analyze.py:291(gaussian_filter_obs)\n",
      "       42    0.013    0.000    7.195    0.171 analyze.py:369(fft_obs)\n",
      "       42    0.005    0.000    3.997    0.095 analyze.py:407(ifft_obs)\n",
      "       47    0.011    0.000    0.210    0.004 analyze.py:851(get_match_phase_flags)\n",
      "        3    0.000    0.000    0.459    0.153 analyze.py:906(get_match_phase_obs)\n",
      "        3    0.000    0.000    0.004    0.001 analyze.py:92(transmission_smoothed_range)\n",
      "        3    0.001    0.000    0.905    0.302 analyze.py:930(get_match_phase_pair)\n",
      "       50    0.096    0.002    1.331    0.027 analyze.py:950(weighted_proc_along_axis)\n",
      "      426    0.000    0.000    0.000    0.000 arrayprint.py:1321(__init__)\n",
      "      426    0.003    0.000    0.010    0.000 arrayprint.py:1324(from_data)\n",
      "      426    0.002    0.000    0.005    0.000 arrayprint.py:1338(__call__)\n",
      "      426    0.002    0.000    0.003    0.000 arrayprint.py:1339(<listcomp>)\n",
      "      426    0.003    0.000    0.019    0.000 arrayprint.py:1349(_void_scalar_repr)\n",
      "     2392    0.003    0.000    0.023    0.000 arrayprint.py:1527(_guarded_repr_or_str)\n",
      "     2392    0.009    0.000    0.043    0.000 arrayprint.py:1534(_array_str_implementation)\n",
      "      426    0.000    0.000    0.001    0.000 arrayprint.py:361(repr_format)\n",
      "      426    0.002    0.000    0.002    0.000 arrayprint.py:367(_get_formatdict)\n",
      "      426    0.000    0.000    0.000    0.000 arrayprint.py:387(<lambda>)\n",
      "      426    0.004    0.000    0.006    0.000 arrayprint.py:416(_get_format_function)\n",
      "     2392    0.009    0.000    0.035    0.000 arrayprint.py:468(wrapper)\n",
      "     2497    0.002    0.000    0.003    0.000 arraysetops.py:125(_unpack_tuple)\n",
      "     2497    0.001    0.000    0.001    0.000 arraysetops.py:133(_unique_dispatcher)\n",
      "     2497    0.009    0.000    0.290    0.000 arraysetops.py:138(unique)\n",
      "       49    0.000    0.000    0.000    0.000 arraysetops.py:286(<listcomp>)\n",
      "       49    0.000    0.000    0.001    0.000 arraysetops.py:307(reshape_uniq)\n",
      "     2497    0.060    0.000    0.258    0.000 arraysetops.py:320(_unique1d)\n",
      "        7    0.000    0.000    0.000    0.000 base.py:1205(isspmatrix)\n",
      "       28    0.001    0.000    0.014    0.000 base.py:262(identify_format)\n",
      "      424    0.001    0.000    0.001    0.000 base.py:309(_is_best_match)\n",
      "      424    0.001    0.000    0.001    0.000 base.py:320(<setcomp>)\n",
      "       28    0.000    0.000    0.014    0.000 base.py:328(_get_valid_format)\n",
      "      672    0.355    0.001    0.857    0.001 basic.py:109(process_lines)\n",
      "      336    0.001    0.000    3.738    0.011 basic.py:149(read)\n",
      "       42    0.001    0.000    0.002    0.000 basic.py:319(get_cols)\n",
      "       42    0.000    0.000    0.001    0.000 basic.py:340(<listcomp>)\n",
      "       84    0.000    0.000    0.000    0.000 basic.py:349(<genexpr>)\n",
      "        1    0.013    0.013  272.817  272.817 calibration_pipeline.py:368(reduce)\n",
      "       84    0.001    0.000    0.159    0.002 cds.py:181(process_lines)\n",
      "       84    0.096    0.001    0.159    0.002 cds.py:189(<listcomp>)\n",
      "       42    0.000    0.000    0.018    0.000 cds.py:309(__init__)\n",
      "       42    0.000    0.000    0.091    0.002 cds.py:317(read)\n",
      "       28    0.000    0.000    0.000    0.000 codecs.py:186(__init__)\n",
      "      216    0.000    0.000    0.000    0.000 codecs.py:260(__init__)\n",
      "       42    0.000    0.000    0.000    0.000 codecs.py:276(reset)\n",
      "      216    0.001    0.000    0.001    0.000 codecs.py:309(__init__)\n",
      "     1626    0.002    0.000    0.003    0.000 codecs.py:319(decode)\n",
      "       42    0.000    0.000    0.000    0.000 codecs.py:327(reset)\n",
      "    48807    0.088    0.000    2.891    0.000 column.py:1056(__new__)\n",
      "15948035/11475063   16.539    0.000   50.250    0.000 column.py:1070(__setattr__)\n",
      "    40574    0.215    0.000    1.305    0.000 column.py:1133(_check_string_truncate)\n",
      "        5    0.000    0.000    0.000    0.000 column.py:1156(__setitem__)\n",
      "   760764    1.549    0.000    3.275    0.000 column.py:1253(__init__)\n",
      "      426    0.001    0.000    0.003    0.000 column.py:1266(_represent_as_dict)\n",
      "   312557    3.541    0.000   85.802    0.000 column.py:1369(__new__)\n",
      "   483292    0.227    0.000    0.782    0.000 column.py:1427(fill_value)\n",
      "   312557    0.311    0.000    2.773    0.000 column.py:1431(fill_value)\n",
      "   654795    0.867    0.000   18.615    0.000 column.py:1454(data)\n",
      "    40265    0.264    0.000    4.699    0.000 column.py:1464(filled)\n",
      "   399560    0.534    0.000    9.801    0.000 column.py:1551(_copy_attrs_slice)\n",
      "   127702    0.824    0.000   21.472    0.000 column.py:1567(__setitem__)\n",
      "      999    0.006    0.000    0.299    0.000 column.py:308(_compare)\n",
      "    63851    0.246    0.000   18.454    0.000 column.py:347(new_like)\n",
      "   361364    2.456    0.000   21.955    0.000 column.py:395(__new__)\n",
      "     2174    0.017    0.000    3.439    0.002 column.py:45(_auto_names)\n",
      "    49114    0.037    0.000    0.064    0.000 column.py:450(data)\n",
      "  2413737    0.818    0.000    1.142    0.000 column.py:458(parent_table)\n",
      "  2461466    1.199    0.000    2.517    0.000 column.py:468(parent_table)\n",
      "     2174    0.128    0.000    3.412    0.002 column.py:47(<listcomp>)\n",
      "    11679    0.069    0.000    2.065    0.000 column.py:477(copy)\n",
      "  1586434    5.909    0.000   60.831    0.000 column.py:570(__array_finalize__)\n",
      "       58    0.000    0.000    0.001    0.000 column.py:588(__array_wrap__)\n",
      "    11301    0.013    0.000    2.061    0.000 column.py:59(col_copy)\n",
      "  1684994    0.355    0.000    0.355    0.000 column.py:617(name)\n",
      "  1745446    1.826    0.000    4.443    0.000 column.py:624(name)\n",
      "   458968    0.088    0.000    0.088    0.000 column.py:634(format)\n",
      "  1657307    0.338    0.000    0.338    0.000 column.py:821(unit)\n",
      "  2106810    0.724    0.000    1.460    0.000 column.py:832(unit)\n",
      "    11679    0.012    0.000    0.020    0.000 column.py:902(_copy_groups)\n",
      "  1745446    3.879    0.000   22.233    0.000 column.py:951(_copy_attrs)\n",
      "     1405    0.002    0.000    0.062    0.000 column.py:984(tolist)\n",
      "      116    0.000    0.000    0.000    0.000 compat.py:57(__getattr__)\n",
      "   517443    0.236    0.000    0.298    0.000 configobj.py:550(__getitem__)\n",
      "   172495    0.097    0.000    3.204    0.000 configuration.py:300(__get__)\n",
      "   172495    0.636    0.000    3.107    0.000 configuration.py:406(__call__)\n",
      "   172495    0.094    0.000    1.288    0.000 configuration.py:476(_validate_val)\n",
      "   344948    0.560    0.000    0.965    0.000 configuration.py:510(get_config)\n",
      "       28    0.000    0.000    0.011    0.000 connect.py:104(asdf_identify)\n",
      "       28    0.000    0.000    0.000    0.000 connect.py:122(__init__)\n",
      "       28    0.000    0.000    1.545    0.055 connect.py:126(__call__)\n",
      "       88    0.002    0.000   12.884    0.146 connect.py:13(io_read)\n",
      "       28    0.000    0.000    0.000    0.000 connect.py:16(is_votable)\n",
      "       28    0.007    0.000    1.530    0.055 connect.py:21(io_write)\n",
      "      168    0.000    0.000    0.000    0.000 connect.py:29(io_identify)\n",
      "       28    0.000    0.000    0.000    0.000 connect.py:38(is_fits)\n",
      "       88    0.000    0.000    0.001    0.000 connect.py:53(__init__)\n",
      "       88    0.001    0.000   12.888    0.146 connect.py:57(__call__)\n",
      "       10    0.000    0.000    0.000    0.000 constant.py:135(__quantity_subclass__)\n",
      "       10    0.000    0.000    0.000    0.000 constant.py:138(copy)\n",
      "       10    0.000    0.000    0.000    0.000 constant.py:155(name)\n",
      "       10    0.000    0.000    0.000    0.000 constant.py:179(system)\n",
      "       10    0.000    0.000    0.001    0.000 constant.py:34(wrapper)\n",
      "      162    0.001    0.000    0.001    0.000 contextlib.py:102(__init__)\n",
      "      162    0.000    0.000    0.009    0.000 contextlib.py:130(__enter__)\n",
      "      154    0.000    0.000    0.002    0.000 contextlib.py:139(__exit__)\n",
      "      162    0.000    0.000    0.001    0.000 contextlib.py:279(helper)\n",
      "     2230    0.001    0.000    0.001    0.000 contextlib.py:420(__init__)\n",
      "     2230    0.000    0.000    0.000    0.000 contextlib.py:423(__enter__)\n",
      "     2230    0.001    0.000    0.001    0.000 contextlib.py:426(__exit__)\n",
      "       44    0.000    0.000    0.000    0.000 contextlib.py:732(__init__)\n",
      "       44    0.000    0.000    0.000    0.000 contextlib.py:735(__enter__)\n",
      "       44    0.000    0.000    0.000    0.000 contextlib.py:738(__exit__)\n",
      "        1    0.000    0.000    0.139    0.139 convert.py:121(fb_to_v_tes)\n",
      "        2    0.000    0.000    0.000    0.000 convert.py:182(freq_to_wl)\n",
      "        8    0.000    0.000    0.002    0.000 convert.py:204(wl_to_freq)\n",
      "        3    0.001    0.000    0.001    0.000 convert.py:226(spec_to_wl)\n",
      "        2    0.001    0.000    0.001    0.000 convert.py:297(wl_to_spec)\n",
      "        5    0.001    0.000    0.004    0.001 convert.py:431(transmission_raw_range)\n",
      "     4395    0.052    0.000    6.012    0.001 convert.py:492(gps_ts_to_time)\n",
      "        3    0.000    0.000    0.001    0.000 convert.py:51(bias_to_v_bias)\n",
      "       44    0.001    0.000    0.042    0.001 convert.py:513(time_to_gps_ts)\n",
      "        3    0.000    0.000    0.001    0.000 convert.py:70(bias_to_i_bias)\n",
      "        7    0.000    0.000    0.034    0.005 convert.py:93(fb_to_i_tes)\n",
      "       84    0.000    0.000    0.001    0.000 converters.py:133(converters_and_unit)\n",
      "       84    0.000    0.000    0.000    0.000 converters.py:171(<listcomp>)\n",
      "      168    0.000    0.000    0.000    0.000 converters.py:176(<genexpr>)\n",
      "      606    0.000    0.000    0.000    0.000 copy.py:107(_copy_immutable)\n",
      "8896000/1523450   12.104    0.000   31.054    0.000 copy.py:128(deepcopy)\n",
      "  7174646    0.734    0.000    0.734    0.000 copy.py:182(_deepcopy_atomic)\n",
      "   368146    0.325    0.000    0.460    0.000 copy.py:201(_deepcopy_list)\n",
      "31328/7778    0.060    0.000    0.426    0.000 copy.py:210(_deepcopy_tuple)\n",
      "31328/7778    0.035    0.000    0.404    0.000 copy.py:211(<listcomp>)\n",
      "765045/725161    3.103    0.000   21.393    0.000 copy.py:227(_deepcopy_dict)\n",
      "  1695614    2.244    0.000    2.598    0.000 copy.py:243(_keep_alive)\n",
      "539299/514489    0.922    0.000    9.117    0.000 copy.py:259(_reconstruct)\n",
      "    27064    0.009    0.000    0.037    0.000 copy.py:264(<genexpr>)\n",
      "     3050    0.003    0.000    0.005    0.000 copy.py:66(copy)\n",
      "     1044    0.001    0.000    0.001    0.000 copyreg.py:100(__newobj__)\n",
      "        6    0.000    0.000    0.000    0.000 copyreg.py:109(_slotnames)\n",
      "    14217    0.216    0.000    1.255    0.000 core.py:1026(_apply)\n",
      "      179    0.000    0.000    0.003    0.000 core.py:1030(_get_converter)\n",
      "     9256    0.012    0.000    0.152    0.000 core.py:104(check_errwarn)\n",
      "      178    0.000    0.000    0.000    0.000 core.py:1047(<lambda>)\n",
      "      179    0.001    0.000    0.003    0.000 core.py:1068(_to)\n",
      "      112    0.001    0.000    0.002    0.000 core.py:1083(_deduplicate_names)\n",
      "      359    0.000    0.000    0.000    0.000 core.py:1094(<genexpr>)\n",
      "      180    0.000    0.000    0.004    0.000 core.py:1101(to)\n",
      "      606    0.001    0.000    0.067    0.000 core.py:1134(__deepcopy__)\n",
      "       36    0.000    0.000    0.058    0.002 core.py:114(writerows)\n",
      "     1008    0.004    0.000    0.005    0.000 core.py:1171(_is_number)\n",
      "       28    0.000    0.000    0.002    0.000 core.py:1178(_apply_include_exclude_names)\n",
      "       88    0.000    0.000    0.002    0.000 core.py:121(get_reader)\n",
      "     1222    0.026    0.000    0.035    0.000 core.py:1256(__init__)\n",
      "695665/693961    0.756    0.000    0.757    0.000 core.py:1278(_replace_dtype_fields_recursive)\n",
      "     1222    0.038    0.000   11.701    0.010 core.py:1292(read)\n",
      "   693961    0.910    0.000    1.667    0.000 core.py:1310(_replace_dtype_fields)\n",
      "    17805    0.016    0.000    0.079    0.000 core.py:1314(cache)\n",
      "       64    0.000    0.000    0.059    0.001 core.py:132(_writerow)\n",
      "   693961    0.320    0.000    1.986    0.000 core.py:1324(make_mask_descr)\n",
      "87026/47047    0.175    0.000    2.736    0.000 core.py:1325(__getattr__)\n",
      "  2787038    0.872    0.000    1.247    0.000 core.py:1357(getmask)\n",
      "       88    0.001    0.000    0.001    0.000 core.py:137(<listcomp>)\n",
      "     4492    0.039    0.000    0.344    0.000 core.py:1384(_time_comparison)\n",
      "      248    0.000    0.000    0.023    0.000 core.py:1408(__lt__)\n",
      "     4080    0.009    0.000    0.317    0.000 core.py:1414(__eq__)\n",
      "     8372    0.008    0.000    0.034    0.000 core.py:1419(getmaskarray)\n",
      "        6    0.000    0.000    0.000    0.000 core.py:142(<listcomp>)\n",
      "      164    0.001    0.000    0.014    0.000 core.py:1430(__gt__)\n",
      "        6    0.000    0.000    0.000    0.000 core.py:146(<listcomp>)\n",
      "       88    0.001    0.000   12.887    0.146 core.py:148(read)\n",
      "       20    0.000    0.000    0.000    0.000 core.py:149(registry)\n",
      "    13357    0.024    0.000    0.066    0.000 core.py:1492(__new__)\n",
      "13357/8962    0.044    0.000    3.311    0.000 core.py:1503(__init__)\n",
      "       42    0.190    0.005    0.281    0.007 core.py:1517(process_lines)\n",
      "        6    0.000    0.000    0.000    0.000 core.py:152(<listcomp>)\n",
      "     1994    0.002    0.000    0.013    0.000 core.py:1540(_shrink_mask)\n",
      "     1994    0.006    0.000    0.030    0.000 core.py:1550(make_mask)\n",
      "     2272    0.024    0.000    0.123    0.000 core.py:1561(_get_reader)\n",
      "     1222    0.002    0.000    0.002    0.000 core.py:1583(<genexpr>)\n",
      "    14296    0.017    0.000    0.078    0.000 core.py:1639(make_mask_none)\n",
      "       42    0.004    0.000    0.005    0.000 core.py:16576(dtf2d)\n",
      "       28    0.000    0.000    0.002    0.000 core.py:1671(_get_writer)\n",
      "     4565    0.044    0.000    0.118    0.000 core.py:16831(taiutc)\n",
      "     2420    0.010    0.000    0.046    0.000 core.py:1689(mask_or)\n",
      "    40748    0.004    0.000    0.004    0.000 core.py:170(__hash__)\n",
      "      426    0.003    0.000    0.003    0.000 core.py:1726(_recursive_mask_or)\n",
      "     4649    0.041    0.000    0.119    0.000 core.py:17733(utctai)\n",
      "       40    0.000    0.000    0.000    0.000 core.py:1780(name)\n",
      "     5816    0.007    0.000    0.060    0.000 core.py:1812(_check_mask_axis)\n",
      "      188    0.000    0.000    0.000    0.000 core.py:1878(decompose)\n",
      "      313    0.000    0.000    0.001    0.000 core.py:1971(__call__)\n",
      "78713/76583    0.065    0.000    0.181    0.000 core.py:200(_recursive_fill_value)\n",
      "     4260    0.003    0.000    0.009    0.000 core.py:205(<genexpr>)\n",
      "     4479    0.058    0.000    0.710    0.000 core.py:2128(__sub__)\n",
      "    76583    0.041    0.000    0.079    0.000 core.py:215(_get_dtype_of)\n",
      "      188    0.000    0.000    0.000    0.000 core.py:2168(decompose)\n",
      "       10    0.000    0.000    0.000    0.000 core.py:2171(is_unity)\n",
      "       30    0.000    0.000    0.000    0.000 core.py:2174(__hash__)\n",
      "      128    0.002    0.000    0.091    0.001 core.py:2186(__add__)\n",
      "       20    0.000    0.000    0.001    0.000 core.py:2227(__init__)\n",
      "       10    0.000    0.000    0.000    0.000 core.py:2240(<listcomp>)\n",
      "    75007    0.097    0.000    0.339    0.000 core.py:225(default_fill_value)\n",
      "      242    0.000    0.000    0.000    0.000 core.py:2280(scale)\n",
      "      262    0.000    0.000    0.000    0.000 core.py:2287(bases)\n",
      "      200    0.000    0.000    0.000    0.000 core.py:2294(powers)\n",
      "     4607    0.009    0.000    0.020    0.000 core.py:2299(__new__)\n",
      "       20    0.000    0.000    0.001    0.000 core.py:2301(_expand_and_gather)\n",
      "       60    0.000    0.000    0.000    0.000 core.py:2302(add_unit)\n",
      "     4607    0.011    0.000    0.538    0.000 core.py:2310(__init__)\n",
      "       20    0.000    0.000    0.000    0.000 core.py:2335(<listcomp>)\n",
      "       40    0.000    0.000    0.000    0.000 core.py:2336(<lambda>)\n",
      "       20    0.000    0.000    0.000    0.000 core.py:2338(<listcomp>)\n",
      "       20    0.000    0.000    0.000    0.000 core.py:2339(<listcomp>)\n",
      "  252/242    0.000    0.000    0.001    0.000 core.py:2348(decompose)\n",
      "       52    0.000    0.000    0.000    0.000 core.py:2367(is_unity)\n",
      "       42    0.001    0.000    0.011    0.000 core.py:2463(__truediv__)\n",
      "      852    0.003    0.000    0.007    0.000 core.py:2484(_recursive_filled)\n",
      "      179    0.000    0.000    0.000    0.000 core.py:2535(_condition_arg)\n",
      "        1    0.000    0.000    0.000    0.000 core.py:2565(unit_scale_converter)\n",
      "    11169    0.038    0.000    0.292    0.000 core.py:2580(wrapped_method)\n",
      "    22315    0.057    0.000    0.095    0.000 core.py:2663(_make_array)\n",
      "    17836    0.029    0.000    0.034    0.000 core.py:2693(_check_for_masked_and_fill)\n",
      "    75007    0.074    0.000    0.097    0.000 core.py:270(_scalar_fill_value)\n",
      "     9214    0.009    0.000    0.009    0.000 core.py:2764(_check_leapsec)\n",
      "     1576    0.003    0.000    0.022    0.000 core.py:280(_extremum_fill_value)\n",
      "   671504    4.858    0.000   52.929    0.000 core.py:2817(__new__)\n",
      "     1576    0.002    0.000    0.009    0.000 core.py:282(_scalar_fill_value)\n",
      "      630    0.001    0.000    0.001    0.000 core.py:285(__init__)\n",
      "       28    0.000    0.000    0.000    0.000 core.py:287(get_writer)\n",
      "     1576    0.002    0.000    0.024    0.000 core.py:294(minimum_fill_value)\n",
      "  2106216    8.781    0.000   14.564    0.000 core.py:2948(_update_from)\n",
      "  1750475   13.841    0.000   35.929    0.000 core.py:2974(__array_finalize__)\n",
      "       28    0.000    0.000    0.000    0.000 core.py:303(<listcomp>)\n",
      "     1222    0.005    0.000    1.250    0.001 core.py:304(get_lines)\n",
      "     6282    0.037    0.000    0.218    0.000 core.py:3067(__array_wrap__)\n",
      "     6242    0.006    0.000    0.012    0.000 core.py:3085(<listcomp>)\n",
      "   831283    1.904    0.000   26.638    0.000 core.py:3123(view)\n",
      "       28    0.000    0.000    1.544    0.055 core.py:314(write)\n"
     ]
    },
    {
     "name": "stdout",
     "output_type": "stream",
     "text": [
      "819396/418422    5.207    0.000   32.194    0.000 core.py:3213(__getitem__)\n",
      "   816568    0.369    0.000    0.512    0.000 core.py:3227(_is_scalar)\n",
      "   141756    1.116    0.000    8.907    0.000 core.py:3339(__setitem__)\n",
      "  7710219    3.023    0.000    3.023    0.000 core.py:3405(dtype)\n",
      "       20    0.000    0.000    0.000    0.000 core.py:341(get_current_unit_registry)\n",
      "  3914002    1.704    0.000    1.704    0.000 core.py:3421(shape)\n",
      "    12592    0.082    0.000    0.164    0.000 core.py:3433(__setmask__)\n",
      "17836/13441    0.102    0.000    3.749    0.000 core.py:346(_init_from_vals)\n",
      "   471529    0.235    0.000    0.422    0.000 core.py:3504(mask)\n",
      "      960    0.001    0.000    0.013    0.000 core.py:3514(mask)\n",
      "     1050    0.000    0.000    0.000    0.000 core.py:357(process_lines)\n",
      "   797026    0.503    0.000    6.821    0.000 core.py:3637(_get_data)\n",
      "   485212    0.498    0.000    0.565    0.000 core.py:3667(fill_value)\n",
      "   312557    0.542    0.000    2.214    0.000 core.py:3708(fill_value)\n",
      "    65169    0.206    0.000    2.143    0.000 core.py:3731(filled)\n",
      "      714    0.000    0.000    0.000    0.000 core.py:398(process_val)\n",
      "       42    0.000    0.000    0.132    0.003 core.py:402(__call__)\n",
      "       42    0.000    0.000    0.000    0.000 core.py:4028(_delegate_binop)\n",
      "17836/13441    0.063    0.000    3.579    0.000 core.py:403(_get_time_fmt)\n",
      "2420/1437    0.029    0.000    0.415    0.000 core.py:4042(_comparison)\n",
      "2420/1437    0.005    0.000    0.418    0.000 core.py:4106(__eq__)\n",
      "       42    0.000    0.000    0.000    0.000 core.py:4166(__mul__)\n",
      "  1795296    2.914    0.000    5.760    0.000 core.py:428(_check_fill_value)\n",
      "       28    0.000    0.000    0.004    0.000 core.py:43(_check_multidim_table)\n",
      "       28    0.000    0.000    0.000    0.000 core.py:4375(__int__)\n",
      "     5816    0.052    0.000    0.352    0.000 core.py:4441(count)\n",
      "      378    0.000    0.000    0.001    0.000 core.py:448(process_line)\n",
      "      426    0.002    0.000    0.010    0.000 core.py:4540(ravel)\n",
      "      966    0.005    0.000    0.010    0.000 core.py:456(__call__)\n",
      "    27824    0.009    0.000    0.009    0.000 core.py:471(format)\n",
      "      378    0.000    0.000    0.001    0.000 core.py:472(<listcomp>)\n",
      "      504    0.001    0.000    0.001    0.000 core.py:486(<listcomp>)\n",
      "      479    0.001    0.000    0.003    0.000 core.py:4887(nonzero)\n",
      "     5816    0.028    0.000    0.382    0.000 core.py:5039(sum)\n",
      "       84    0.000    0.000    0.000    0.000 core.py:508(_replace_tab_with_space)\n",
      "   136370    0.062    0.000    0.189    0.000 core.py:534(scale)\n",
      "     3108    0.002    0.000    0.285    0.000 core.py:538(_get_line_index)\n",
      "    13609    0.179    0.000    1.400    0.000 core.py:539(_set_scale)\n",
      "       28    0.001    0.000    0.003    0.000 core.py:54(<listcomp>)\n",
      "     6242    0.017    0.000    4.150    0.001 core.py:5415(argsort)\n",
      "   276818    0.024    0.000    0.024    0.000 core.py:549(<genexpr>)\n",
      "     5816    0.029    0.000    6.143    0.001 core.py:5577(sort)\n",
      "     1222    0.001    0.000    0.001    0.000 core.py:572(__init__)\n",
      "      420    0.001    0.000    0.002    0.000 core.py:575(_set_cols_from_names)\n",
      "      420    0.001    0.000    0.002    0.000 core.py:576(<listcomp>)\n",
      "      924    0.004    0.000    2.290    0.002 core.py:578(update_meta)\n",
      "     1994    0.001    0.000    0.002    0.000 core.py:582(filled)\n",
      "      924    0.903    0.001    2.282    0.002 core.py:586(<listcomp>)\n",
      "      924    0.000    0.000    0.000    0.000 core.py:589(<listcomp>)\n",
      "      756    0.006    0.000    0.878    0.001 core.py:594(get_cols)\n",
      "     5816    0.060    0.000    0.397    0.000 core.py:5961(take)\n",
      "    23431    0.007    0.000    0.007    0.000 core.py:598(precision)\n",
      "     1405    0.008    0.000    0.059    0.000 core.py:5997(tolist)\n",
      "    23431    0.013    0.000    0.017    0.000 core.py:614(in_subfmt)\n",
      "    23431    0.012    0.000    0.016    0.000 core.py:627(out_subfmt)\n",
      "     1764    0.002    0.000    0.004    0.000 core.py:631(process_lines)\n",
      "   102581    0.039    0.000    0.060    0.000 core.py:6374(isMaskedArray)\n",
      "     8874    0.006    0.000    0.007    0.000 core.py:640(shape)\n",
      "      618    0.000    0.000    0.000    0.000 core.py:6433(__has_singleton)\n",
      "      309    0.001    0.000    0.010    0.000 core.py:6457(__array_finalize__)\n",
      "      840    0.002    0.000    0.003    0.000 core.py:651(colnames)\n",
      "      309    0.001    0.000    0.001    0.000 core.py:6532(__setattr__)\n",
      "     1890    0.001    0.000    0.001    0.000 core.py:654(<genexpr>)\n",
      "    50162    0.032    0.000    0.098    0.000 core.py:6566(is_masked)\n",
      "     2420    0.006    0.000    0.009    0.000 core.py:666(getdata)\n",
      "    11632    0.034    0.000    0.779    0.000 core.py:6765(__call__)\n",
      "     5816    0.017    0.000    6.454    0.001 core.py:6885(sort)\n",
      "    48953    0.128    0.000    0.204    0.000 core.py:693(_shaped_like_input)\n",
      "      168    0.000    0.000    0.000    0.000 core.py:707(scale)\n",
      "      420    0.002    0.000    0.008    0.000 core.py:710(check_column_names)\n",
      "      168    0.000    0.000    0.000    0.000 core.py:714(bases)\n",
      "   335472    0.217    0.000    0.645    0.000 core.py:7142(reshape)\n",
      "    22257    0.045    0.000    0.295    0.000 core.py:718(jd1)\n",
      "      168    0.000    0.000    0.000    0.000 core.py:721(powers)\n",
      "    22257    0.032    0.000    0.161    0.000 core.py:726(jd2)\n",
      "     4439    0.026    0.000    1.475    0.000 core.py:734(to_value)\n",
      "     1222    0.003    0.000    0.007    0.000 core.py:766(__init__)\n",
      "     1134    0.004    0.000    6.618    0.006 core.py:775(process_lines)\n",
      "   335472    0.172    0.000    0.267    0.000 core.py:778(is_string_or_list_of_strings)\n",
      "       10    0.000    0.000    0.001    0.000 core.py:780(__div__)\n",
      "  7474086    1.803    0.000    2.473    0.000 core.py:790(<genexpr>)\n",
      "     1134    2.282    0.002    6.608    0.006 core.py:793(<listcomp>)\n",
      "    52206    0.147    0.000    4.873    0.000 core.py:7956(asanyarray)\n",
      "     1218    0.032    0.000    7.093    0.006 core.py:797(get_data_lines)\n",
      "     2238    0.014    0.000    0.122    0.000 core.py:8114(__call__)\n",
      "       42    0.000    0.000    0.000    0.000 core.py:818(__mul__)\n",
      "     9214    0.007    0.000    0.031    0.000 core.py:819(masked)\n",
      "       84    0.001    0.000    0.018    0.000 core.py:836(__rmul__)\n",
      "       28    0.000    0.000    0.001    0.000 core.py:86(__init__)\n",
      "      130    0.000    0.000    0.000    0.000 core.py:867(__hash__)\n",
      "       28    0.000    0.000    0.001    0.000 core.py:97(writerow)\n",
      "      606    0.001    0.000    0.066    0.000 core.py:970(copy)\n",
      "    13611    0.020    0.000    1.210    0.000 core.py:995(replicate)\n",
      "       42    0.000    0.000    0.000    0.000 daophot.py:145(get_cols)\n",
      "       42    0.000    0.000    0.000    0.000 daophot.py:203(__init__)\n",
      "       42    0.001    0.000    0.249    0.006 daophot.py:207(get_data_lines)\n",
      "       42    0.008    0.000    0.017    0.000 daophot.py:228(search_multiline)\n",
      "     6342    0.003    0.000    0.009    0.000 daophot.py:241(<genexpr>)\n",
      "       42    0.338    0.008    0.575    0.014 daophot.py:276(process_lines)\n",
      "       42    0.000    0.000    0.000    0.000 daophot.py:37(__init__)\n",
      "       42    0.000    0.000    0.001    0.000 daophot.py:388(__init__)\n",
      "       42    0.000    0.000    0.000    0.000 daophot.py:93(update_meta)\n",
      "       50    0.000    0.000    0.002    0.000 data.py:132(is_url)\n",
      "       92    0.003    0.000    0.008    0.000 data.py:167(get_readable_fileobj)\n",
      "       42    0.000    0.000    0.000    0.000 data.py:66(__del__)\n",
      "       42    0.000    0.000    0.000    0.000 data.py:76(__del__)\n",
      "      426    0.000    0.000    0.000    0.000 data_info.py:157(_get_obj_attrs_map)\n",
      "   690279    0.714    0.000    0.843    0.000 data_info.py:197(__get__)\n",
      "   760764    0.391    0.000    0.391    0.000 data_info.py:203(__set__)\n",
      "  1780789    0.903    0.000    2.348    0.000 data_info.py:215(__get__)\n",
      "  1187030    0.355    0.000    0.355    0.000 data_info.py:307(__init__)\n",
      "  1781641    0.578    0.000    0.578    0.000 data_info.py:314(_parent)\n",
      "  3027267    2.610    0.000    3.391    0.000 data_info.py:333(__get__)\n",
      "  1114814    4.910    0.000   25.925    0.000 data_info.py:348(__set__)\n",
      "      426    0.001    0.000    0.001    0.000 data_info.py:377(_represent_as_dict)\n",
      "  1187030    1.569    0.000    1.924    0.000 data_info.py:547(__init__)\n",
      "  1114836    1.555    0.000   27.754    0.000 data_info.py:555(__set__)\n",
      "   127707    0.098    0.000    0.316    0.000 data_info.py:591(adjust_indices)\n",
      "    63851    0.644    0.000    8.618    0.000 data_info.py:671(merge_cols_attributes)\n",
      "   126703    0.096    0.000    2.098    0.000 data_info.py:706(getattrs)\n",
      "   126703    0.348    0.000    2.002    0.000 data_info.py:707(<dictcomp>)\n",
      "   190554    0.107    0.000    0.173    0.000 data_info.py:719(<genexpr>)\n",
      "    35254    0.025    0.000    0.031    0.000 decorators.py:681(__get__)\n",
      "   227114    0.176    0.000    0.231    0.000 decorators.py:768(__get__)\n",
      "       42    0.000    0.000    0.000    0.000 defchararray.py:1139(_replace_dispatcher)\n",
      "       42    0.001    0.000    0.032    0.001 defchararray.py:1143(replace)\n",
      "    40574    0.012    0.000    0.012    0.000 defchararray.py:258(_unary_op_dispatcher)\n",
      "    40574    0.022    0.000    0.241    0.000 defchararray.py:262(str_len)\n",
      "       42    0.000    0.000    0.005    0.000 defchararray.py:63(_to_string_or_unicode_array)\n",
      "       42    0.000    0.000    0.000    0.000 defchararray.py:70(_clean_args)\n",
      "       42    0.000    0.000    0.001    0.000 ecsv.py:101(get_cols)\n",
      "       42    0.000    0.000    0.000    0.000 ecsv.py:33(process_lines)\n",
      "       42    0.000    0.000    0.000    0.000 ecsv.py:94(update_meta)\n",
      "     1917    0.002    0.000    0.002    0.000 enum.py:359(__call__)\n",
      "     1917    0.001    0.000    0.001    0.000 enum.py:678(__new__)\n",
      "   338138    0.061    0.000    0.061    0.000 enum.py:801(value)\n",
      "      264    0.001    0.000    0.001    0.000 enum.py:980(__or__)\n",
      "       75    0.000    0.000    0.001    0.000 enum.py:986(__and__)\n",
      "     5816    0.013    0.000    9.218    0.002 extras.py:634(median)\n",
      "     5816    0.215    0.000    9.121    0.002 extras.py:716(_median)\n",
      "     5816    0.024    0.000    0.120    0.000 extras.py:778(replace_masked)\n",
      "       84    0.001    0.000    0.037    0.000 fastbasic.py:136(make_table)\n",
      "      588    0.002    0.000    0.007    0.000 fastbasic.py:145(check_header)\n",
      "       28    0.006    0.000    0.168    0.006 fastbasic.py:169(_write)\n",
      "       28    0.000    0.000    0.001    0.000 fastbasic.py:199(__init__)\n",
      "       28    0.001    0.000    0.169    0.006 fastbasic.py:202(write)\n",
      "       42    0.000    0.000    0.002    0.000 fastbasic.py:219(__init__)\n",
      "      252    0.001    0.000    0.013    0.000 fastbasic.py:235(__init__)\n",
      "      336    0.001    0.000    0.019    0.000 fastbasic.py:256(__init__)\n",
      "     1078    0.008    0.000    0.053    0.000 fastbasic.py:28(__init__)\n",
      "      252    0.394    0.002    0.562    0.002 fastbasic.py:281(_read_header)\n",
      "       42    0.000    0.000    0.002    0.000 fastbasic.py:318(__init__)\n",
      "       42    0.003    0.000    0.013    0.000 fastbasic.py:323(_read_header)\n",
      "       84    0.000    0.000    0.001    0.000 fastbasic.py:364(<genexpr>)\n",
      "      588    0.001    0.000    0.004    0.000 fastbasic.py:60(_read_header)\n",
      "     1050    0.018    0.000    0.758    0.001 fastbasic.py:65(read)\n",
      "       84    0.000    0.000    0.002    0.000 fixedwidth.py:303(__init__)\n",
      "       42    0.000    0.000    0.001    0.000 fixedwidth.py:410(__init__)\n",
      "       84    0.000    0.000    0.001    0.000 fixedwidth.py:74(get_line)\n",
      "       84    0.001    0.000    0.003    0.000 fixedwidth.py:82(get_cols)\n",
      "   807335    0.329    0.000    0.626    0.000 fnmatch.py:70(fnmatchcase)\n",
      "55484/37904    0.169    0.000    4.114    0.000 formats.py:106(__init__)\n",
      "       42    0.000    0.000    0.000    0.000 formats.py:1267(_check_val_type)\n",
      "       42    0.000    0.000    0.015    0.000 formats.py:1315(set_jds)\n",
      "       42    0.003    0.000    0.013    0.000 formats.py:1361(get_jds_fast)\n",
      "    28434    0.019    0.000    0.211    0.000 formats.py:143(_get_allowed_subfmt)\n",
      "    41267    0.009    0.000    0.009    0.000 formats.py:157(in_subfmt)\n",
      "    55484    0.057    0.000    0.524    0.000 formats.py:161(in_subfmt)\n",
      "    27870    0.005    0.000    0.005    0.000 formats.py:167(out_subfmt)\n",
      "    55484    0.037    0.000    0.380    0.000 formats.py:171(out_subfmt)\n",
      "   135822    0.025    0.000    0.025    0.000 formats.py:177(jd1)\n",
      "    60091    0.046    0.000    0.177    0.000 formats.py:181(jd1)\n",
      "     9470    0.004    0.000    0.004    0.000 formats.py:1824(_check_scale)\n",
      "     4607    0.018    0.000    0.211    0.000 formats.py:1838(set_jds)\n",
      "    92864    0.019    0.000    0.019    0.000 formats.py:187(jd2)\n",
      "   120182    0.125    0.000    0.204    0.000 formats.py:1906(_validate_jd_for_storage)\n",
      "    60091    0.064    0.000    0.166    0.000 formats.py:191(jd2)\n",
      "    64698    0.030    0.000    0.030    0.000 formats.py:1923(_broadcast_writeable)\n",
      "   154080    0.088    0.000    0.145    0.000 formats.py:200(scale)\n",
      "    55484    0.020    0.000    0.020    0.000 formats.py:206(scale)\n",
      "    48953    0.024    0.000    0.293    0.000 formats.py:210(mask_if_needed)\n",
      "    14869    0.080    0.000    0.118    0.000 formats.py:215(mask)\n",
      "    67381    0.097    0.000    0.612    0.000 formats.py:223(masked)\n",
      "     9214    0.010    0.000    0.330    0.000 formats.py:229(jd2_filled)\n",
      "    19348    0.018    0.000    0.018    0.000 formats.py:233(cache)\n",
      "    17794    0.116    0.000    0.263    0.000 formats.py:240(_check_val_type)\n",
      "    35588    0.025    0.000    0.034    0.000 formats.py:289(asarray_or_scalar)\n",
      "   153612    0.057    0.000    0.058    0.000 formats.py:298(_check_scale)\n",
      "   161635    0.196    0.000    1.161    0.000 formats.py:370(_select_subfmts)\n",
      "   161635    0.295    0.000    0.920    0.000 formats.py:384(<listcomp>)\n",
      "    17794    0.085    0.000    0.571    0.000 formats.py:407(_check_val_type)\n",
      "     4439    0.037    0.000    0.193    0.000 formats.py:446(to_value)\n",
      "     4395    0.012    0.000    0.180    0.000 formats.py:484(set_jds)\n",
      "    35254    0.021    0.000    0.052    0.000 formats.py:592(epoch)\n",
      "     8792    0.098    0.000    2.642    0.000 formats.py:597(set_jds)\n",
      "     4439    0.057    0.000    1.408    0.000 formats.py:649(to_value)\n",
      "     4397    0.001    0.000    0.001    0.000 formats.py:677(_default_scale)\n",
      "      450    0.000    0.000    0.000    0.000 fromnumeric.py:1002(_argsort_dispatcher)\n",
      "      450    0.001    0.000    0.029    0.000 fromnumeric.py:1006(argsort)\n",
      "       42    0.000    0.000    0.000    0.000 fromnumeric.py:1437(_squeeze_dispatcher)\n",
      "       42    0.000    0.000    0.000    0.000 fromnumeric.py:1441(squeeze)\n",
      "    18216    0.003    0.000    0.003    0.000 fromnumeric.py:1714(_ravel_dispatcher)\n",
      "    18216    0.022    0.000    0.047    0.000 fromnumeric.py:1718(ravel)\n",
      "   209073    0.036    0.000    0.036    0.000 fromnumeric.py:1825(_nonzero_dispatcher)\n",
      "   209073    0.102    0.000    0.908    0.000 fromnumeric.py:1829(nonzero)\n",
      "     1704    0.001    0.000    0.001    0.000 fromnumeric.py:1924(_shape_dispatcher)\n",
      "     1704    0.001    0.000    0.001    0.000 fromnumeric.py:1928(shape)\n",
      "     3485    0.001    0.000    0.001    0.000 fromnumeric.py:1974(_compress_dispatcher)\n",
      "     3485    0.005    0.000    0.441    0.000 fromnumeric.py:1978(compress)\n",
      "    81727    0.014    0.000    0.014    0.000 fromnumeric.py:2118(_sum_dispatcher)\n",
      "    81727    0.112    0.000    1.508    0.000 fromnumeric.py:2123(sum)\n",
      "    69636    0.014    0.000    0.014    0.000 fromnumeric.py:2263(_any_dispatcher)\n",
      "    69636    0.086    0.000    0.606    0.000 fromnumeric.py:2268(any)\n",
      "     2549    0.001    0.000    0.001    0.000 fromnumeric.py:2362(_all_dispatcher)\n",
      "     2549    0.005    0.000    0.034    0.000 fromnumeric.py:2367(all)\n",
      "        6    0.000    0.000    0.000    0.000 fromnumeric.py:2454(_cumsum_dispatcher)\n",
      "        6    0.000    0.000    0.000    0.000 fromnumeric.py:2458(cumsum)\n",
      "       11    0.000    0.000    0.000    0.000 fromnumeric.py:2633(_amax_dispatcher)\n",
      "       11    0.000    0.000    0.000    0.000 fromnumeric.py:2638(amax)\n",
      "       11    0.000    0.000    0.000    0.000 fromnumeric.py:2758(_amin_dispatcher)\n",
      "       11    0.000    0.000    0.000    0.000 fromnumeric.py:2763(amin)\n",
      "      187    0.000    0.000    0.000    0.000 fromnumeric.py:2928(_prod_dispatcher)\n",
      "      187    0.000    0.000    0.003    0.000 fromnumeric.py:2933(prod)\n",
      "     7605    0.001    0.000    0.001    0.000 fromnumeric.py:301(_choose_dispatcher)\n",
      "     1521    0.001    0.000    0.012    0.000 fromnumeric.py:307(choose)\n",
      "   144712    0.022    0.000    0.022    0.000 fromnumeric.py:3216(_around_dispatcher)\n",
      "    72356    0.056    0.000    0.319    0.000 fromnumeric.py:3220(around)\n",
      "   125986    0.027    0.000    0.027    0.000 fromnumeric.py:3317(_mean_dispatcher)\n",
      "   125986    0.202    0.000    1.815    0.000 fromnumeric.py:3322(mean)\n",
      "    72356    0.052    0.000    0.519    0.000 fromnumeric.py:3730(round_)\n",
      "     1617    0.003    0.000    0.011    0.000 fromnumeric.py:38(_wrapit)\n",
      "       96    0.000    0.000    0.000    0.000 fromnumeric.py:432(_repeat_dispatcher)\n",
      "       96    0.000    0.000    0.002    0.000 fromnumeric.py:436(repeat)\n",
      "   288799    0.211    0.000    1.551    0.000 fromnumeric.py:51(_wrapfunc)\n",
      "     1572    0.000    0.000    0.000    0.000 fromnumeric.py:597(_transpose_dispatcher)\n",
      "     1572    0.001    0.000    0.006    0.000 fromnumeric.py:601(transpose)\n",
      "    45382    0.008    0.000    0.008    0.000 fromnumeric.py:663(_partition_dispatcher)\n",
      "    45382    0.062    0.000    1.677    0.000 fromnumeric.py:667(partition)\n",
      "   154121    0.309    0.000    1.930    0.000 fromnumeric.py:69(_wrapreduction)\n",
      "   154121    0.087    0.000    0.087    0.000 fromnumeric.py:70(<dictcomp>)\n",
      "      240    0.000    0.000    0.000    0.000 fromnumeric.py:89(_take_dispatcher)\n",
      "      240    0.000    0.000    0.001    0.000 fromnumeric.py:93(take)\n",
      "     2368    0.001    0.000    0.001    0.000 function_base.py:1160(_diff_dispatcher)\n",
      "     2368    0.040    0.000    0.043    0.000 function_base.py:1164(diff)\n",
      "    24370    0.005    0.000    0.005    0.000 function_base.py:1297(_interp_dispatcher)\n",
      "    24370    0.037    0.000    2.510    0.000 function_base.py:1301(interp)\n",
      "      240    0.000    0.000    0.000    0.000 function_base.py:1697(_extract_dispatcher)\n",
      "      240    0.001    0.000    0.004    0.000 function_base.py:1701(extract)\n",
      "    11733    0.008    0.000    0.011    0.000 function_base.py:244(iterable)\n",
      "109272/6698    0.311    0.000   22.144    0.003 function_base.py:3513(_ureduce)\n",
      "    96758    0.018    0.000    0.018    0.000 function_base.py:3568(_median_dispatcher)\n",
      "    96758    0.113    0.000    7.518    0.000 function_base.py:3573(median)\n",
      "    96758    0.720    0.000    7.137    0.000 function_base.py:3663(_median)\n",
      "       20    0.000    0.000    0.000    0.000 generic.py:488(_parse_unit)\n",
      "       20    0.000    0.000    0.000    0.000 generic.py:576(parse)\n",
      "       20    0.000    0.000    0.000    0.000 generic.py:607(_do_parse)\n",
      "      306    0.001    0.000    0.013    0.000 genericpath.py:27(isfile)\n",
      "      426    0.005    0.000   29.184    0.069 groups.py:15(table_group_by)\n",
      "      426    0.097    0.000   29.177    0.068 groups.py:21(_table_group_by)\n",
      "      426    0.001    0.000    0.001    0.000 groups.py:307(__init__)\n",
      "      426    0.000    0.000    0.000    0.000 groups.py:324(indices)\n",
      "      426    0.000    0.000    0.001    0.000 groups.py:51(<listcomp>)\n",
      "       28    0.000    0.000    0.000    0.000 hdf5.py:42(is_hdf5)\n",
      "       42    0.003    0.000    0.004    0.000 helper.py:123(fftfreq)\n",
      "       84    0.000    0.000    0.000    0.000 helpers.py:86(helper_onearg_test)\n",
      "      426    0.001    0.000    0.097    0.000 index.py:642(get_index_by_names)\n",
      "      426    0.001    0.000    0.001    0.000 index.py:675(__init__)\n",
      "      426    0.000    0.000    0.000    0.000 index.py:703(__enter__)\n",
      "      426    0.001    0.000    0.001    0.000 index.py:714(__exit__)\n",
      "      426    0.001    0.000    0.001    0.000 index.py:769(__init__)\n",
      "    15336    0.076    0.000    0.441    0.000 index_tricks.py:656(__init__)\n",
      "    15336    0.002    0.000    0.002    0.000 index_tricks.py:664(__iter__)\n",
      "   268934    0.160    0.000    0.249    0.000 index_tricks.py:683(__next__)\n",
      "    29000    0.005    0.000    0.005    0.000 index_tricks.py:757(__getitem__)\n",
      "       56    0.000    0.000    0.000    0.000 info.py:126(serialize_method_as)\n",
      "       49    0.004    0.000    0.017    0.000 inspect.py:1252(getfullargspec)\n",
      "       49    0.003    0.000    0.011    0.000 inspect.py:2276(_signature_from_function)\n",
      "       49    0.000    0.000    0.011    0.000 inspect.py:2371(_signature_from_callable)\n",
      "     1239    0.003    0.000    0.005    0.000 inspect.py:2630(__init__)\n",
      "     2478    0.000    0.000    0.000    0.000 inspect.py:2680(name)\n",
      "     2419    0.000    0.000    0.000    0.000 inspect.py:2684(default)\n",
      "     1239    0.000    0.000    0.000    0.000 inspect.py:2688(annotation)\n",
      "     1239    0.000    0.000    0.000    0.000 inspect.py:2692(kind)\n",
      "       98    0.000    0.000    0.000    0.000 inspect.py:277(isfunction)\n",
      "       49    0.001    0.000    0.002    0.000 inspect.py:2913(__init__)\n",
      "     1288    0.001    0.000    0.001    0.000 inspect.py:2962(<genexpr>)\n",
      "       49    0.000    0.000    0.000    0.000 inspect.py:2999(parameters)\n",
      "       49    0.000    0.000    0.000    0.000 inspect.py:3003(return_annotation)\n",
      "       49    0.000    0.000    0.000    0.000 inspect.py:66(get_annotations)\n",
      "      116    0.000    0.000    0.002    0.000 interface.py:146(__get__)\n",
      "      116    0.001    0.000    0.001    0.000 interface.py:39(__init__)\n",
      "      116    0.000    0.000    0.000    0.000 interface.py:48(registry)\n",
      "        7    0.000    0.000    0.000    0.000 interpolate.py:604(_call_linear_np)\n",
      "        7    0.000    0.000    0.000    0.000 interpolate.py:677(_evaluate)\n",
      "        7    0.000    0.000    0.000    0.000 interpolate.py:692(_check_bounds)\n",
      "     1249    0.022    0.000    0.193    0.000 io.py:1049(__check)\n",
      "      164    0.002    0.000    0.012    0.000 io.py:1086(__eq__)\n",
      "       44    0.000    0.000    0.219    0.005 io.py:1109(__contains__)\n",
      "     9418    0.046    0.000    0.180    0.000 io.py:1112(<lambda>)\n",
      "        2    0.001    0.000    0.023    0.011 io.py:1118(set_band)\n",
      "     1138    0.005    0.000    0.207    0.000 io.py:1211(take_by_flag)\n",
      "    17382    0.234    0.000    0.665    0.000 io.py:1275(get_flag_where)\n",
      "      611    0.004    0.000   70.054    0.115 io.py:139(append)\n",
      "       44    0.066    0.002    0.139    0.003 io.py:1406(<listcomp>)\n",
      "    16378    0.065    0.000    0.698    0.000 io.py:1438(get_index_where)\n",
      "      960    0.006    0.000    0.178    0.000 io.py:1523(take_where)\n",
      "       44    0.000    0.000    0.180    0.004 io.py:1609(exclude_where)\n",
      "       42    0.001    0.000    4.539    0.108 io.py:161(expand)\n",
      "        5    0.000    0.000    0.000    0.000 io.py:1717(get_conf)\n",
      "        1    0.000    0.000    0.002    0.002 io.py:1766(init_wl)\n",
      "     4080    0.036    0.000    1.964    0.000 io.py:183(add_id)\n",
      "        3    0.000    0.000    0.002    0.001 io.py:1830(wl_calculator)\n",
      "        2    0.000    0.000    0.002    0.001 io.py:1879(spec_calculator)\n",
      "     4889    0.014    0.000    0.147    0.000 io.py:1999(__init__)\n",
      "     1041    0.003    0.000    0.074    0.000 io.py:2025(replace)\n",
      "       44    0.001    0.000   12.776    0.290 io.py:2039(read)\n",
      "      888    0.002    0.000    0.004    0.000 io.py:2071(__eq__)\n",
      "     1961    0.007    0.000    0.007    0.000 io.py:2090(update_chunk)\n",
      "      582    0.010    0.000    0.077    0.000 io.py:2104(take_by_flag)\n",
      "      540    0.001    0.000    0.071    0.000 io.py:2127(take_by_flag_along_axis)\n",
      "      185    0.002    0.000    0.009    0.000 io.py:2130(append)\n",
      "       45    0.007    0.000    0.009    0.000 io.py:2149(get_flag_chunk_edges)\n",
      "       42    0.000    0.000    0.001    0.000 io.py:2201(get_flag_edge_chunks)\n",
      "      359    0.002    0.000    1.759    0.005 io.py:2266(chunk_proc)\n",
      "       44    0.001    0.000    0.300    0.007 io.py:2318(read)\n",
      "     1465    0.033    0.000    6.212    0.004 io.py:2375(__fill_values__)\n",
      "    23027    0.065    0.000   10.011    0.000 io.py:240(__init__)\n",
      "       42    0.001    0.000    0.002    0.000 io.py:2406(check)\n",
      "      185    0.000    0.000    0.772    0.004 io.py:2423(append)\n",
      "       55    0.001    0.000    0.008    0.000 io.py:2432(corr_by_chop)\n",
      "      185    0.020    0.000    0.698    0.004 io.py:2605(append)\n",
      "       44    0.007    0.000    2.546    0.058 io.py:2622(read)\n",
      "       44    0.018    0.000    1.083    0.025 io.py:2671(read_hk)\n",
      "     7213    0.020    0.000   10.095    0.001 io.py:272(replace)\n",
      "       44    0.011    0.000    0.712    0.016 io.py:2725(read_run)\n",
      "       44    0.007    0.000    0.740    0.017 io.py:2790(read_mce)\n",
      "       84    0.001    0.000    0.634    0.008 io.py:2828(__init__)\n",
      "    10125    0.093    0.000    7.269    0.001 io.py:288(__fill_values__)\n",
      "       42    0.002    0.000    1.065    0.025 io.py:2904(take_by_time)\n",
      "     3807    0.053    0.000    7.253    0.002 io.py:2969(__init__)\n",
      "      946    0.105    0.000  115.160    0.122 io.py:3031(__operate__)\n",
      "     3402    0.021    0.000    5.639    0.002 io.py:3077(replace)\n",
      "       44    0.085    0.002    4.437    0.101 io.py:3094(read)\n",
      "       44    0.011    0.000   20.114    0.457 io.py:3128(read_header)\n",
      "      948    3.643    0.004    5.097    0.005 io.py:316(__operate__)\n",
      "       42    0.000    0.000    0.537    0.013 io.py:3183(update_data)\n",
      "       47    0.000    0.000    0.003    0.000 io.py:3194(update_chop)\n",
      "       52    0.001    0.000    0.016    0.000 io.py:3208(update_ts)\n",
      "     4080    0.096    0.000   21.671    0.005 io.py:3224(update_obs_info)\n",
      "     7914    0.011    0.000    0.012    0.000 io.py:3258(__check)\n",
      "       47    0.079    0.002    0.193    0.004 io.py:3310(to_obs_array)\n",
      "       47    0.015    0.000    0.015    0.000 io.py:3354(<listcomp>)\n",
      "      185    0.031    0.000   25.238    0.136 io.py:3365(append)\n",
      "      104    0.001    0.000    0.875    0.008 io.py:3471(proc_along_time)\n",
      "      542    0.112    0.000   39.055    0.072 io.py:3525(take_by_flag_along_time)\n",
      "      542    0.004    0.000    0.280    0.001 io.py:3562(<listcomp>)\n",
      "        7    0.000    0.000    0.400    0.057 io.py:3577(take_by_idx_along_time)\n",
      "       84    0.001    0.000    5.084    0.061 io.py:3622(resample_by_ts)\n",
      "    24360    0.026    0.000    3.975    0.000 io.py:3651(<lambda>)\n",
      "      265    0.004    0.000   20.578    0.078 io.py:3716(chunk_proc)\n",
      "       42    0.001    0.000    0.547    0.013 io.py:3846(get_chop_freq)\n",
      "       42    0.004    0.000    5.704    0.136 io.py:3875(match_obs_log)\n",
      "    17847    0.021    0.000    0.038    0.000 io.py:39(__from_instance__)\n",
      "       13    0.000    0.000    0.005    0.000 io.py:3901(query_obs_info)\n",
      "     3763    0.021    0.000    6.768    0.002 io.py:3943(__init__)\n",
      "     3358    0.021    0.000    5.627    0.002 io.py:3970(replace)\n",
      "      177    0.000    0.000   35.525    0.201 io.py:415(__add__)\n",
      "       42    0.000    0.000    0.538    0.013 io.py:4152(update_data)\n",
      "     3751    0.012    0.000    0.097    0.000 io.py:4162(update_array_map)\n",
      "     3978    0.007    0.000    0.011    0.000 io.py:4174(__check)\n",
      "      185    0.002    0.000   25.256    0.137 io.py:4196(append)\n",
      "       50    0.000    0.000    0.285    0.006 io.py:4230(proc_along_axis)\n",
      "      104    0.001    0.000    0.876    0.008 io.py:4264(proc_along_time)\n",
      "        7    0.000    0.000    0.399    0.057 io.py:4274(take_by_flag_along_axis)\n",
      "       44    0.001    0.000    0.653    0.015 io.py:4300(take_by_array_map)\n",
      "       44    0.023    0.001    0.400    0.009 io.py:4320(<listcomp>)\n",
      "      132    0.000    0.000   35.585    0.270 io.py:436(__sub__)\n",
      "        2    0.000    0.000    0.002    0.001 io.py:439(__rsub__)\n",
      "       44    0.000    0.000    0.834    0.019 io.py:4400(exclude_where)\n",
      "       75    0.000    0.000   13.073    0.174 io.py:442(__mul__)\n",
      "        2    0.000    0.000    0.002    0.001 io.py:445(__rmul__)\n",
      "      240    0.002    0.000   27.008    0.113 io.py:448(__truediv__)\n",
      "       24    0.053    0.002    1.153    0.048 io.py:4514(to_table)\n",
      "      179    0.002    0.000    0.631    0.004 io.py:458(__rtruediv__)\n",
      "      579    0.008    0.000   69.392    0.120 io.py:4598(vstack_reconcile)\n",
      "      984    0.002    0.000    0.003    0.000 io.py:4669(check_array_type)\n",
      "       42    0.000    0.000    0.000    0.000 io.py:47(__len__)\n",
      "        3    0.000    0.000    0.003    0.001 io.py:477(__le__)\n",
      "      174    0.001    0.000    8.183    0.047 io.py:50(copy)\n",
      "        1    0.000    0.000    0.001    0.001 io.py:503(__neg__)\n",
      "      140    0.000    0.000    3.363    0.024 io.py:506(__pow__)\n",
      "       46    0.000    0.000    0.027    0.001 io.py:512(__abs__)\n",
      "     2040    0.047    0.000    0.092    0.000 io.py:524(__eq__)\n",
      "     2040    0.003    0.000    0.100    0.000 io.py:557(__ne__)\n",
      "       51    0.000    0.000    0.033    0.001 io.py:560(sqrt)\n",
      "     4953    0.012    0.000    0.012    0.000 io.py:596(__check_axis__)\n",
      "      359    0.001    0.000    0.003    0.000 io.py:604(update_type)\n",
      "      267    0.002    0.000    0.640    0.002 io.py:631(fill_by_mask)\n",
      "       42    0.033    0.001    0.034    0.001 io.py:651(fill_by_flag_along_axis)\n",
      "       91    0.000    0.000    0.098    0.001 io.py:675(get_nanmad_flag)\n",
      "      168    0.001    0.000   14.021    0.083 io.py:693(get_double_nanmad_flag)\n",
      "     4750    0.019    0.000   43.432    0.009 io.py:70(__init__)\n",
      "     3485    0.025    0.000    3.791    0.001 io.py:714(take_by_flag_along_axis)\n",
      "      104    0.002    0.000    0.407    0.004 io.py:741(take_by_idx_along_axis)\n",
      "      740    0.005    0.000    5.602    0.008 io.py:766(append_along_axis)\n",
      "      304    0.003    0.000    0.872    0.003 io.py:802(proc_along_axis)\n",
      "      890    0.002    0.000    0.098    0.000 io.py:833(get_index_chunk_edge)\n",
      "      931    0.633    0.001   21.071    0.023 io.py:881(chunk_proc)\n",
      "     1986    0.050    0.000    1.864    0.001 io.py:98(__fill_values__)\n",
      "     1249    0.036    0.000    0.265    0.000 io.py:997(__fill_values__)\n",
      "      152    0.001    0.000    0.005    0.000 iostream.py:208(schedule)\n",
      "      102    0.000    0.000    0.001    0.000 iostream.py:420(_is_master_process)\n",
      "      102    0.000    0.000    0.001    0.000 iostream.py:439(_schedule_flush)\n",
      "      102    0.001    0.000    0.007    0.000 iostream.py:502(write)\n",
      "      152    0.000    0.000    0.000    0.000 iostream.py:97(_event_pipe)\n",
      "       42    0.000    0.000    0.132    0.003 ipac.py:161(get_cols)\n",
      "       42    0.000    0.000    0.132    0.003 ipac.py:175(<listcomp>)\n",
      "       42    0.000    0.000    0.001    0.000 ipac.py:440(__init__)\n",
      "       42    0.082    0.002    0.132    0.003 ipac.py:83(process_lines)\n"
     ]
    },
    {
     "name": "stdout",
     "output_type": "stream",
     "text": [
      "       42    0.000    0.000    0.001    0.000 ipac.py:92(update_meta)\n",
      "       42    0.000    0.000    0.119    0.003 latex.py:125(start_line)\n",
      "       42    0.000    0.000    0.119    0.003 latex.py:172(start_line)\n",
      "       84    0.001    0.000    0.002    0.000 latex.py:321(__init__)\n",
      "       84    0.000    0.000    0.000    0.000 latex.py:342(<listcomp>)\n",
      "       42    0.000    0.000    0.113    0.003 latex.py:419(start_line)\n",
      "       42    0.000    0.000    0.001    0.000 latex.py:457(__init__)\n",
      "       84    0.112    0.001    0.232    0.003 latex.py:53(find_latex_line)\n",
      "       84    0.000    0.000    0.127    0.002 latex.py:80(process_lines)\n",
      "       84    0.082    0.001    0.127    0.002 latex.py:81(<listcomp>)\n",
      "      252    0.000    0.000    0.001    0.000 locale.py:605(setlocale)\n",
      "       10    0.000    0.000    0.001    0.000 logger.py:177(_showwarning)\n",
      "       44    0.000    0.000    0.000    0.000 mce_data.py:118(__init__)\n",
      "       88    0.000    0.000    0.000    0.000 mce_data.py:133(_rangify)\n",
      "       88    0.001    0.000    0.189    0.002 mce_data.py:186(__init__)\n",
      "      132    0.000    0.000    0.000    0.000 mce_data.py:21(__init__)\n",
      "       88    0.000    0.000    0.000    0.000 mce_data.py:218(Reset)\n",
      "     1672    0.002    0.000    0.006    0.000 mce_data.py:244(_rfMCEParam)\n",
      "      352    0.001    0.000    0.006    0.000 mce_data.py:258(_GetRCAItem)\n",
      "      352    0.000    0.000    0.000    0.000 mce_data.py:264(<listcomp>)\n",
      "      352    0.001    0.000    0.004    0.000 mce_data.py:266(<listcomp>)\n",
      "       88    0.001    0.000    0.008    0.000 mce_data.py:279(_GetContentInfo)\n",
      "       88    0.000    0.000    0.001    0.000 mce_data.py:337(<listcomp>)\n",
      "       88    0.004    0.000    0.022    0.000 mce_data.py:342(_GetPayloadInfo)\n",
      "       88    0.001    0.000    0.017    0.000 mce_data.py:372(_ReadHeader)\n",
      "       88    0.002    0.000    0.002    0.000 mce_data.py:389(<listcomp>)\n",
      "       88    0.000    0.000    0.158    0.002 mce_data.py:394(_ReadRunfile)\n",
      "       44    0.001    0.000    0.192    0.004 mce_data.py:404(ReadRaw)\n",
      "       44    0.001    0.000    0.003    0.000 mce_data.py:442(_NameChannels)\n",
      "       44    0.000    0.000    0.000    0.000 mce_data.py:451(<listcomp>)\n",
      "       44    0.000    0.000    0.001    0.000 mce_data.py:464(<listcomp>)\n",
      "       44    0.000    0.000    0.001    0.000 mce_data.py:466(<listcomp>)\n",
      "       44    0.000    0.000    0.000    0.000 mce_data.py:475(<listcomp>)\n",
      "       44    0.000    0.000    0.000    0.000 mce_data.py:477(<listcomp>)\n",
      "       44    1.377    0.031    1.748    0.040 mce_data.py:491(_ExtractRect)\n",
      "       44    0.583    0.013    1.512    0.034 mce_data.py:52(extract)\n",
      "       44    0.016    0.000    3.472    0.079 mce_data.py:541(Read)\n",
      "      132    0.005    0.000    0.240    0.002 mce_data.py:707(__init__)\n",
      "      132    0.031    0.000    0.235    0.002 mce_data.py:713(Read)\n",
      "     1672    0.003    0.000    0.004    0.000 mce_data.py:743(Item)\n",
      "     1672    0.001    0.000    0.001    0.000 mce_data.py:752(<listcomp>)\n",
      "    54780    0.090    0.000    0.184    0.000 mce_data.py:792(runfile_break)\n",
      "   189175    0.093    0.000    0.134    0.000 metadata.py:204(_both_isinstance)\n",
      "126323/63471    0.333    0.000    2.321    0.000 metadata.py:303(merge)\n",
      "    63851    0.619    0.000    3.363    0.000 metadata.py:36(common_dtype)\n",
      "  1774202    0.819    0.000    1.106    0.000 metadata.py:397(__get__)\n",
      "   373127    0.548    0.000    5.198    0.000 metadata.py:404(__set__)\n",
      "   760218    0.355    0.000    0.860    0.000 metadata.py:53(dtype)\n",
      "   190554    0.553    0.000    1.736    0.000 metadata.py:57(<genexpr>)\n",
      "    63851    0.108    0.000    0.458    0.000 metadata.py:66(<listcomp>)\n",
      "    63851    0.053    0.000    0.053    0.000 metadata.py:75(<listcomp>)\n",
      "       84    0.000    0.000    0.001    0.000 misc.py:15(first_true_index)\n",
      "       42    0.000    0.000    0.000    0.000 misc.py:20(<lambda>)\n",
      "       42    0.000    0.000    0.000    0.000 misc.py:25(first_false_index)\n",
      "    12878    0.008    0.000    0.010    0.000 misc.py:46(isiterable)\n",
      "      168    0.001    0.000    0.002    0.000 misc.py:801(_set_locale)\n",
      "    80839    0.242    0.000    0.627    0.000 misc.py:841(dtype_bytes_or_chars)\n",
      "    78180    0.017    0.000    0.017    0.000 multiarray.py:1071(copyto)\n",
      "      608    0.000    0.000    0.000    0.000 multiarray.py:1106(putmask)\n",
      "     7086    0.002    0.000    0.002    0.000 multiarray.py:148(concatenate)\n",
      "     6242    0.002    0.000    0.002    0.000 multiarray.py:341(where)\n",
      "     4479    0.001    0.000    0.001    0.000 multiarray.py:664(result_type)\n",
      "    15679    0.003    0.000    0.003    0.000 multiarray.py:80(empty_like)\n",
      "     5816    0.342    0.000   10.282    0.002 nanfunctions.py:1003(_nanmedian_small)\n",
      "     6698    0.002    0.000    0.002    0.000 nanfunctions.py:1023(_nanmedian_dispatcher)\n",
      "     6698    0.025    0.000   22.172    0.003 nanfunctions.py:1028(nanmedian)\n",
      "     7005    0.010    0.000    0.084    0.000 nanfunctions.py:113(_copyto)\n",
      "   191044    1.415    0.000    2.905    0.000 nanfunctions.py:142(_remove_nan_1d)\n",
      "     5798    0.001    0.000    0.001    0.000 nanfunctions.py:1422(_nanvar_dispatcher)\n",
      "     5798    0.279    0.000    1.601    0.000 nanfunctions.py:1427(nanvar)\n",
      "     5798    0.001    0.000    0.001    0.000 nanfunctions.py:1570(_nanstd_dispatcher)\n",
      "     5798    0.021    0.000    1.640    0.000 nanfunctions.py:1575(nanstd)\n",
      "    42219    0.229    0.000    0.691    0.000 nanfunctions.py:183(_divide_by_count)\n",
      "     2577    0.001    0.000    0.001    0.000 nanfunctions.py:224(_nanmin_dispatcher)\n",
      "     2577    0.022    0.000    0.074    0.000 nanfunctions.py:228(nanmin)\n",
      "     1346    0.000    0.000    0.000    0.000 nanfunctions.py:339(_nanmax_dispatcher)\n",
      "     1346    0.007    0.000    0.031    0.000 nanfunctions.py:343(nanmax)\n",
      "     3079    0.001    0.000    0.001    0.000 nanfunctions.py:553(_nansum_dispatcher)\n",
      "     3079    0.005    0.000    0.452    0.000 nanfunctions.py:557(nansum)\n",
      "    65694    0.657    0.000    1.283    0.000 nanfunctions.py:68(_replace_nan)\n",
      "    56817    0.011    0.000    0.011    0.000 nanfunctions.py:858(_nanmean_dispatcher)\n",
      "    56817    0.210    0.000    2.787    0.000 nanfunctions.py:862(nanmean)\n",
      "   191044    0.249    0.000   10.850    0.000 nanfunctions.py:960(_nanmedian1d)\n",
      "     6698    0.017    0.000   22.063    0.003 nanfunctions.py:977(_nanmedian)\n",
      "  2279213    0.896    0.000    0.896    0.000 np_utils.py:155(fix_column_name)\n",
      "       44    0.140    0.003    0.440    0.010 npyio.py:1560(genfromtxt)\n",
      "       44    0.000    0.000    0.000    0.000 npyio.py:1895(<listcomp>)\n",
      "       44    0.000    0.000    0.001    0.000 npyio.py:1997(<listcomp>)\n",
      "        2    0.010    0.005    0.010    0.005 npyio.py:2117(<listcomp>)\n",
      "       42    0.000    0.000    0.003    0.000 npyio.py:2139(<listcomp>)\n",
      "    12792    0.047    0.000    0.070    0.000 numeric.py:1335(normalize_axis_tuple)\n",
      "    12792    0.010    0.000    0.016    0.000 numeric.py:1385(<listcomp>)\n",
      "       98    0.000    0.000    0.000    0.000 numeric.py:1394(_moveaxis_dispatcher)\n",
      "       98    0.001    0.000    0.002    0.000 numeric.py:1398(moveaxis)\n",
      "       98    0.000    0.000    0.000    0.000 numeric.py:1460(<listcomp>)\n",
      "      430    0.001    0.000    0.004    0.000 numeric.py:149(ones)\n",
      "        1    0.000    0.000    0.000    0.000 numeric.py:214(_ones_like_dispatcher)\n",
      "        1    0.000    0.000    0.000    0.000 numeric.py:218(ones_like)\n",
      "      283    0.001    0.000    0.009    0.000 numeric.py:289(full)\n",
      "      341    0.000    0.000    0.000    0.000 numeric.py:353(_full_like_dispatcher)\n",
      "      341    0.001    0.000    0.127    0.000 numeric.py:357(full_like)\n",
      "    59737    0.011    0.000    0.011    0.000 numeric.py:421(_count_nonzero_dispatcher)\n",
      "    59737    0.050    0.000    0.533    0.000 numeric.py:425(count_nonzero)\n",
      "    17736    0.004    0.000    0.004    0.000 numeric.py:621(_flatnonzero_dispatcher)\n",
      "    17736    0.022    0.000    0.158    0.000 numeric.py:625(flatnonzero)\n",
      "    15337    0.003    0.000    0.003    0.000 numeric.py:72(_zeros_like_dispatcher)\n",
      "        6    0.000    0.000    0.000    0.000 numeric.py:744(_convolve_dispatcher)\n",
      "        6    0.000    0.000    0.001    0.000 numeric.py:748(convolve)\n",
      "    15337    0.029    0.000    0.137    0.000 numeric.py:76(zeros_like)\n",
      "     1576    0.003    0.000    0.003    0.000 numerictypes.py:230(obj2sctype)\n",
      "   487428    0.277    0.000    0.419    0.000 numerictypes.py:284(issubclass_)\n",
      "   243714    0.306    0.000    0.747    0.000 numerictypes.py:358(issubdtype)\n",
      "     1576    0.003    0.000    0.007    0.000 numerictypes.py:435(__getitem__)\n",
      "      619    0.001    0.000    0.001    0.000 operations.py:1310(_check_join_type)\n",
      "      579    1.174    0.002   69.354    0.120 operations.py:1329(_vstack)\n",
      "      579    0.001    0.000    0.014    0.000 operations.py:1363(<listcomp>)\n",
      "      579    0.001    0.000    0.003    0.000 operations.py:1383(<listcomp>)\n",
      "    63851    0.099    0.000    0.326    0.000 operations.py:1389(<listcomp>)\n",
      "       40    0.046    0.001    4.485    0.112 operations.py:1435(_hstack)\n",
      "       40    0.000    0.000    0.000    0.000 operations.py:1469(<listcomp>)\n",
      "       40    0.000    0.000    0.000    0.000 operations.py:1480(<listcomp>)\n",
      "      619    0.004    0.000    0.019    0.000 operations.py:34(_merge_table_meta)\n",
      "      619    0.002    0.000    0.004    0.000 operations.py:41(_get_list_of_tables)\n",
      "      579    0.008    0.000   69.385    0.120 operations.py:591(vstack)\n",
      "       40    0.001    0.000    4.487    0.112 operations.py:659(hstack)\n",
      "    64470    0.171    0.000    0.348    0.000 operations.py:73(_get_out_class)\n",
      "      426    0.007    0.000   38.463    0.090 operations.py:737(unique)\n",
      "   192411    0.088    0.000    0.100    0.000 operations.py:86(<genexpr>)\n",
      "      619    0.179    0.000    0.263    0.000 operations.py:866(get_col_name_map)\n",
      "    68451    0.025    0.000    0.030    0.000 operations.py:881(<lambda>)\n",
      "      579    0.001    0.000    0.001    0.000 operations.py:885(<listcomp>)\n",
      "     9200    0.006    0.000    0.013    0.000 operations.py:902(<genexpr>)\n",
      "      619    0.003    0.000    0.003    0.000 operations.py:910(<listcomp>)\n",
      "    69070    0.010    0.000    0.010    0.000 operations.py:917(<genexpr>)\n",
      "       28    0.000    0.000    0.000    0.000 parquet.py:27(parquet_identify)\n",
      "      100    0.000    0.000    0.000    0.000 parse.py:103(_noop)\n",
      "      100    0.000    0.000    0.000    0.000 parse.py:114(_coerce_args)\n",
      "       50    0.000    0.000    0.001    0.000 parse.py:372(urlparse)\n",
      "       46    0.000    0.000    0.000    0.000 parse.py:419(_checknetloc)\n",
      "       50    0.001    0.000    0.001    0.000 parse.py:437(urlsplit)\n",
      "        2    0.000    0.000    0.000    0.000 parse.py:88(clear_cache)\n",
      "    46/44    0.024    0.001   40.687    0.925 pipeline.py:1023(read_beam)\n",
      "        2    0.000    0.000    0.975    0.488 pipeline.py:1180(read_total_power)\n",
      "        2    0.000    0.000    1.059    0.529 pipeline.py:1278(read_bias_step)\n",
      "       44    0.020    0.000  233.465    5.306 pipeline.py:1340(reduce_beam)\n",
      "        3    0.017    0.006  258.772   86.257 pipeline.py:1556(reduce_beams)\n",
      "        1    0.002    0.002    4.186    4.186 pipeline.py:1779(reduce_skychop)\n",
      "        1    0.000    0.000    0.000    0.000 pipeline.py:1805(<listcomp>)\n",
      "        1    0.002    0.002    7.552    7.552 pipeline.py:1870(reduce_bias_step)\n",
      "        1    0.000    0.000    0.000    0.000 pipeline.py:1900(<listcomp>)\n",
      "        1    0.032    0.032  255.441  255.441 pipeline.py:1988(reduce_zobs)\n",
      "        1    0.000    0.000    0.000    0.000 pipeline.py:2048(<listcomp>)\n",
      "        3    0.000    0.000    3.130    1.043 pipeline.py:353(analyze_performance)\n",
      "       44    0.189    0.004  192.751    4.381 pipeline.py:508(proc_beam)\n",
      "        7    0.000    0.000    0.000    0.000 polyint.py:56(__call__)\n",
      "        7    0.000    0.000    0.000    0.000 polyint.py:87(_prepare_x)\n",
      "        7    0.000    0.000    0.000    0.000 polyint.py:93(_finish_y)\n",
      "        4    0.000    0.000    0.000    0.000 posixpath.py:140(basename)\n",
      "      123    0.000    0.000    0.000    0.000 posixpath.py:41(_get_sep)\n",
      "      119    0.001    0.000    0.001    0.000 posixpath.py:71(join)\n",
      "     2568    0.001    0.000    0.001    0.000 py3k.py:38(asunicode)\n",
      "       84    0.000    0.000    0.000    0.000 quantity.py:1010(__getattr__)\n",
      "       42    0.000    0.000    0.001    0.000 quantity.py:1125(__imul__)\n",
      "       10    0.000    0.000    0.001    0.000 quantity.py:1141(__truediv__)\n",
      "      210    0.001    0.000    0.018    0.000 quantity.py:408(__new__)\n",
      "      166    0.000    0.000    0.003    0.000 quantity.py:533(__array_finalize__)\n",
      "       84    0.001    0.000    0.002    0.000 quantity.py:570(__array_ufunc__)\n",
      "       20    0.000    0.000    0.000    0.000 quantity.py:665(__quantity_subclass__)\n",
      "       20    0.000    0.000    0.000    0.000 quantity.py:683(_new_view)\n",
      "      198    0.000    0.000    0.000    0.000 quantity.py:748(_set_unit)\n",
      "       10    0.000    0.000    0.001    0.000 quantity.py:796(_to_value)\n",
      "       10    0.000    0.000    0.001    0.000 quantity.py:815(to)\n",
      "      220    0.000    0.000    0.001    0.000 quantity.py:854(to_value)\n",
      "      422    0.000    0.000    0.000    0.000 quantity.py:916(unit)\n",
      "      260    0.000    0.000    0.002    0.000 re.py:187(match)\n",
      "    81057    0.088    0.000    0.357    0.000 re.py:197(search)\n",
      "       70    0.000    0.000    0.001    0.000 re.py:202(sub)\n",
      "   340768    0.128    0.000    0.696    0.000 re.py:249(compile)\n",
      "   422155    0.395    0.000    0.701    0.000 re.py:288(_compile)\n",
      "   249051    0.396    0.000    0.528    0.000 registry.py:47(get_mixin_handler)\n",
      "       42    0.000    0.000    0.001    0.000 rst.py:57(__init__)\n",
      "      426    0.003    0.000    0.010    0.000 serialize.py:174(represent_mixins_as_columns)\n",
      "      426    0.001    0.000    0.004    0.000 serialize.py:72(_represent_mixin_as_column)\n",
      "       42    0.000    0.000    0.657    0.016 sextractor.py:144(read)\n",
      "       42    0.000    0.000    0.002    0.000 sextractor.py:20(get_cols)\n",
      "      786    0.000    0.000    0.000    0.000 shape_base.py:263(_apply_along_axis_dispatcher)\n",
      "      786    0.823    0.001   16.420    0.021 shape_base.py:267(apply_along_axis)\n",
      "    11632    0.104    0.000    0.220    0.000 shape_base.py:29(_make_along_axis_idx)\n",
      "   225384    0.154    0.000    0.367    0.000 shape_base.py:370(<genexpr>)\n",
      "      306    0.000    0.000    0.000    0.000 shape_base.py:508(_expand_dims_dispatcher)\n",
      "      306    0.002    0.000    0.005    0.000 shape_base.py:512(expand_dims)\n",
      "    11632    0.003    0.000    0.003    0.000 shape_base.py:52(_take_along_axis_dispatcher)\n",
      "    11632    0.039    0.000    2.244    0.000 shape_base.py:56(take_along_axis)\n",
      "      306    0.000    0.000    0.000    0.000 shape_base.py:600(<listcomp>)\n",
      "        6    0.000    0.000    0.000    0.000 signaltools.py:1010(_conv_ops)\n",
      "        6    0.000    0.000    0.000    0.000 signaltools.py:1047(<listcomp>)\n",
      "        6    0.000    0.000    0.000    0.000 signaltools.py:1053(_fftconv_faster)\n",
      "        6    0.000    0.000    0.000    0.000 signaltools.py:1103(_np_conv_ok)\n",
      "        6    0.000    0.000    0.000    0.000 signaltools.py:1155(choose_conv_method)\n",
      "        6    0.000    0.000    0.000    0.000 signaltools.py:1277(<listcomp>)\n",
      "        6    0.000    0.000    0.001    0.000 signaltools.py:1293(convolve)\n",
      "        6    0.000    0.000    0.000    0.000 signaltools.py:55(_inputs_swap_needed)\n",
      "       24    0.000    0.000    0.000    0.000 signaltools.py:989(_numeric_arrays)\n",
      "       28    0.000    0.000    0.000    0.000 six.py:194(find_spec)\n",
      "      152    0.003    0.000    0.003    0.000 socket.py:480(send)\n",
      "       22    0.000    0.000    0.000    0.000 sre_compile.py:249(_compile_charset)\n",
      "       22    0.000    0.000    0.000    0.000 sre_compile.py:276(_optimize_charset)\n",
      "        1    0.000    0.000    0.000    0.000 sre_compile.py:411(_mk_bitmap)\n",
      "        1    0.000    0.000    0.000    0.000 sre_compile.py:413(<listcomp>)\n",
      "        1    0.000    0.000    0.000    0.000 sre_compile.py:416(_bytes_to_codes)\n",
      "       22    0.000    0.000    0.000    0.000 sre_compile.py:423(_simple)\n",
      "        4    0.000    0.000    0.000    0.000 sre_compile.py:432(_generate_overlap_table)\n",
      "      147    0.000    0.000    0.000    0.000 sre_compile.py:453(_get_iscased)\n",
      "    76/75    0.000    0.000    0.000    0.000 sre_compile.py:461(_get_literal_prefix)\n",
      "       71    0.000    0.000    0.000    0.000 sre_compile.py:492(_get_charset_prefix)\n",
      "       75    0.001    0.000    0.003    0.000 sre_compile.py:536(_compile_info)\n",
      "      150    0.000    0.000    0.000    0.000 sre_compile.py:595(isstring)\n",
      "       75    0.000    0.000    0.009    0.000 sre_compile.py:598(_code)\n",
      "       10    0.000    0.000    0.000    0.000 sre_compile.py:65(_combine_flags)\n",
      "   118/75    0.004    0.000    0.006    0.000 sre_compile.py:71(_compile)\n",
      "       75    0.001    0.000    0.026    0.000 sre_compile.py:759(compile)\n",
      "      124    0.000    0.000    0.000    0.000 sre_parse.py:111(__init__)\n",
      "      185    0.000    0.000    0.000    0.000 sre_parse.py:160(__len__)\n",
      "     3976    0.001    0.000    0.002    0.000 sre_parse.py:164(__getitem__)\n",
      "       24    0.000    0.000    0.000    0.000 sre_parse.py:168(__setitem__)\n",
      "     3705    0.001    0.000    0.002    0.000 sre_parse.py:172(append)\n",
      "   124/86    0.001    0.000    0.001    0.000 sre_parse.py:174(getwidth)\n",
      "       75    0.000    0.000    0.000    0.000 sre_parse.py:224(__init__)\n",
      "     4441    0.002    0.000    0.002    0.000 sre_parse.py:233(__next)\n",
      "      169    0.000    0.000    0.000    0.000 sre_parse.py:249(match)\n",
      "     4275    0.002    0.000    0.004    0.000 sre_parse.py:254(get)\n",
      "        6    0.000    0.000    0.000    0.000 sre_parse.py:267(getuntil)\n",
      "      133    0.000    0.000    0.000    0.000 sre_parse.py:286(tell)\n",
      "        1    0.000    0.000    0.000    0.000 sre_parse.py:288(seek)\n",
      "        2    0.000    0.000    0.000    0.000 sre_parse.py:295(_class_escape)\n",
      "       31    0.000    0.000    0.000    0.000 sre_parse.py:355(_escape)\n",
      "        4    0.000    0.000    0.000    0.000 sre_parse.py:432(_uniq)\n",
      "    91/75    0.000    0.000    0.014    0.000 sre_parse.py:435(_parse_sub)\n",
      "    99/81    0.006    0.000    0.014    0.000 sre_parse.py:493(_parse)\n",
      "       75    0.000    0.000    0.000    0.000 sre_parse.py:76(__init__)\n",
      "      170    0.000    0.000    0.000    0.000 sre_parse.py:81(groups)\n",
      "        9    0.000    0.000    0.000    0.000 sre_parse.py:84(opengroup)\n",
      "       75    0.000    0.000    0.000    0.000 sre_parse.py:923(fix_flags)\n",
      "       75    0.001    0.000    0.016    0.000 sre_parse.py:939(parse)\n",
      "        9    0.000    0.000    0.000    0.000 sre_parse.py:96(closegroup)\n",
      "    15336    0.007    0.000    0.007    0.000 stride_tricks.py:20(__init__)\n",
      "    27069    0.027    0.000    1.183    0.000 stride_tricks.py:25(_maybe_view_as_subclass)\n",
      "    11733    0.148    0.000    1.367    0.000 stride_tricks.py:339(_broadcast_to)\n",
      "    23472    0.007    0.000    0.007    0.000 stride_tricks.py:344(<genexpr>)\n",
      "    11727    0.003    0.000    0.003    0.000 stride_tricks.py:362(_broadcast_to_dispatcher)\n",
      "    11727    0.013    0.000    1.380    0.000 stride_tricks.py:366(broadcast_to)\n",
      "    15336    0.122    0.000    0.180    0.000 stride_tricks.py:38(as_strided)\n",
      "        7    0.000    0.000    0.000    0.000 stride_tricks.py:414(_broadcast_shape)\n",
      "        7    0.000    0.000    0.000    0.000 stride_tricks.py:474(_broadcast_arrays_dispatcher)\n",
      "        7    0.000    0.000    0.000    0.000 stride_tricks.py:478(broadcast_arrays)\n",
      "        7    0.000    0.000    0.000    0.000 stride_tricks.py:536(<listcomp>)\n",
      "       19    0.000    0.000    0.000    0.000 stride_tricks.py:540(<genexpr>)\n",
      "        2    0.000    0.000    0.000    0.000 stride_tricks.py:544(<listcomp>)\n",
      "      426    0.001    0.000    0.002    0.000 table.py:1048(index_mode)\n",
      "     6397    0.017    0.000    0.028    0.000 table.py:1089(_check_names_dtype)\n",
      "     6397    0.252    0.000   69.845    0.011 table.py:1163(_init_from_list)\n",
      "   249051    2.508    0.000   91.108    0.000 table.py:1182(_convert_data_to_col)\n",
      "       84    0.000    0.000    0.030    0.000 table.py:1341(_init_from_dict)\n",
      "       84    0.000    0.000    0.000    0.000 table.py:1344(<listcomp>)\n",
      "   248883    0.298    0.000    0.397    0.000 table.py:1347(_get_col_cls_for_table)\n",
      "   421454    0.326    0.000    0.511    0.000 table.py:1372(_convert_col_for_table)\n",
      "     2174    0.184    0.000    2.255    0.001 table.py:1386(_init_from_cols)\n",
      "   174577    0.035    0.000    0.052    0.000 table.py:1389(<genexpr>)\n",
      "     2174    0.037    0.000    0.165    0.000 table.py:1396(<listcomp>)\n",
      "     3166    0.613    0.000   30.525    0.010 table.py:1412(_new_from_slice)\n",
      "     5340    0.114    0.000    2.013    0.000 table.py:1445(_make_table_from_cols)\n",
      "     2174    0.081    0.000    0.415    0.000 table.py:1451(<listcomp>)\n",
      "   332155    0.065    0.000    0.065    0.000 table.py:1463(<genexpr>)\n",
      "   403463    0.344    0.000    1.443    0.000 table.py:1468(_set_col_parent_table_and_mask)\n",
      "   181122    0.075    0.000    0.292    0.000 table.py:1482(itercols)\n",
      "       28    0.000    0.000    0.002    0.000 table.py:1552(has_mixin_columns)\n",
      "     1433    0.001    0.000    0.002    0.000 table.py:1558(<genexpr>)\n",
      "     1704    0.004    0.000    0.012    0.000 table.py:1560(has_masked_columns)\n",
      "     3408    0.002    0.000    0.006    0.000 table.py:1568(<genexpr>)\n",
      "   496697    0.302    0.000    0.951    0.000 table.py:1583(_is_mixin_for_table)\n",
      "   182797    0.391    0.000    1.562    0.000 table.py:167(descr)\n",
      "   250497    0.178    0.000    0.582    0.000 table.py:178(has_info_class)\n",
      "      426    0.001    0.000    0.002    0.000 table.py:186(_get_names_from_list_of_dict)\n",
      "   441113    0.369    0.000   31.303    0.000 table.py:1880(__getitem__)\n",
      "    68451    0.243    0.000   29.383    0.000 table.py:1910(__setitem__)\n",
      "   663613    0.121    0.000    0.121    0.000 table.py:1985(masked)\n",
      "     6397    0.008    0.000    0.008    0.000 table.py:1994(_set_masked)\n",
      "   782464    0.196    0.000    0.196    0.000 table.py:2010(ColumnClass)\n",
      "     1986    0.176    0.000    1.792    0.001 table.py:2017(dtype)\n",
      "     1986    0.069    0.000    1.615    0.001 table.py:2019(<listcomp>)\n",
      "   207770    1.071    0.000    1.115    0.000 table.py:2021(colnames)\n",
      "     3166    0.002    0.000    0.003    0.000 table.py:2025(_is_list_or_tuple_of_str)\n",
      "   232094    0.276    0.000    0.378    0.000 table.py:2040(__len__)\n",
      "    76648    0.652    0.000   32.483    0.000 table.py:2092(add_column)\n",
      "       24    0.001    0.000    0.030    0.001 table.py:2226(add_columns)\n",
      "    11737    0.147    0.000    0.403    0.000 table.py:223(__init__)\n",
      "       24    0.000    0.000    0.000    0.000 table.py:2321(<listcomp>)\n",
      "   442130    0.270    0.000    0.370    0.000 table.py:236(__getitem__)\n",
      "   403463    0.311    0.000    0.317    0.000 table.py:260(__setitem__)\n",
      "      426    0.002    0.000    0.098    0.000 table.py:3157(argsort)\n",
      "      202    0.001    0.000    7.826    0.039 table.py:3400(copy)\n",
      "      174    0.000    0.000    7.300    0.042 table.py:3419(__deepcopy__)\n",
      "      426    0.001    0.000    0.260    0.001 table.py:3437(__eq__)\n",
      "      426    0.005    0.000    0.294    0.001 table.py:3440(__ne__)\n",
      "      426    0.003    0.000    0.259    0.001 table.py:3443(_rows_equal)\n",
      "      426    0.000    0.000    0.000    0.000 table.py:3565(groups)\n",
      "      426    0.001    0.000   29.186    0.069 table.py:3571(group_by)\n",
      "     1278    0.014    0.000    0.172    0.000 table.py:604(as_array)\n",
      "     6397    0.103    0.000   70.105    0.011 table.py:660(__init__)\n",
      "     6397    0.034    0.000    0.062    0.000 table.py:833(<listcomp>)\n",
      "    12962    0.003    0.000    0.003    0.000 table.py:858(_set_column_attribute)\n",
      "      426    0.026    0.000    0.096    0.000 table.py:953(indices)\n",
      "      152    0.000    0.000    0.000    0.000 threading.py:1095(_wait_for_tstate_lock)\n",
      "      152    0.000    0.000    0.001    0.000 threading.py:1162(is_alive)\n",
      "      152    0.000    0.000    0.000    0.000 threading.py:546(is_set)\n",
      "     9134    0.563    0.000    1.047    0.000 tools.py:109(<lambda>)\n",
      "       10    0.000    0.000    0.000    0.000 tools.py:12(custom_formatwarning)\n",
      "    14500    0.230    0.000    0.420    0.000 tools.py:136(weighted_mean)\n",
      "       45    0.010    0.000    0.010    0.000 tools.py:20(gaussian)\n",
      "      890    0.024    0.000    0.095    0.000 tools.py:230(index_diff_edge)\n",
      "      427    1.175    0.003   13.402    0.031 tools.py:292(nanmad_flag)\n",
      "      168    0.057    0.000   14.019    0.083 tools.py:330(double_nanmad_flag)\n",
      "    24360    1.320    0.000    3.949    0.000 tools.py:369(naninterp)\n",
      "       24    0.000    0.000    0.000    0.000 tools.py:448(check_orientation)\n",
      "        8    0.000    0.000    0.000    0.000 tools.py:467(build_header)\n",
      "      309    0.001    0.000    0.001    0.000 tools.py:493(is_meaningful)\n",
      "    83486    0.518    0.000   19.323    0.000 tools.py:81(proc_array)\n",
      "        8    0.000    0.000    0.000    0.000 transmission.py:123(interp)\n",
      "        4    0.000    0.000    0.000    0.000 transmission.py:214(compute_transmission)\n",
      "        1    0.000    0.000    0.001    0.001 transmission.py:227(get_transmission_microns)\n",
      "        1    0.000    0.000    0.000    0.000 transmission.py:90(<lambda>)\n",
      "    24370    0.004    0.000    0.004    0.000 type_check.py:206(_is_type_dispatcher)\n",
      "    24370    0.021    0.000    0.026    0.000 type_check.py:303(iscomplexobj)\n",
      "   338138    0.154    0.000    0.214    0.000 types.py:176(__get__)\n",
      "     2272    0.006    0.000    0.129    0.000 ui.py:112(get_reader)\n",
      "      116    0.000    0.000    0.000    0.000 ui.py:178(_get_format_class)\n",
      "       88    0.000    0.000    0.000    0.000 ui.py:191(_get_fast_reader_dict)\n",
      "      116    0.001    0.000    0.002    0.000 ui.py:203(_validate_read_write_kwargs)\n",
      "      168    0.000    0.000    0.000    0.000 ui.py:206(is_ducktype)\n",
      "      336    0.000    0.000    0.000    0.000 ui.py:248(<genexpr>)\n",
      "       88    0.005    0.000   12.881    0.146 ui.py:252(read)\n",
      "       46    0.078    0.002   12.744    0.277 ui.py:394(_guess)\n",
      "       88    0.001    0.000    0.005    0.000 ui.py:51(_probably_html)\n",
      "       46    0.002    0.000    0.002    0.000 ui.py:556(_get_guess_kwargs_list)\n",
      "       28    0.000    0.000    0.002    0.000 ui.py:743(get_writer)\n",
      "       28    0.003    0.000    1.522    0.054 ui.py:797(write)\n",
      "      176    0.000    0.000    0.002    0.000 ui.py:91(<genexpr>)\n",
      "   102574    0.788    0.000    1.889    0.000 utils.py:1007(_median_nancheck)\n",
      "   135584    0.238    0.000    0.238    0.000 utils.py:118(two_sum)\n",
      "    13525    0.031    0.000    0.045    0.000 utils.py:141(two_product)\n",
      "       20    0.000    0.000    0.000    0.000 utils.py:159(is_effectively_unity)\n",
      "       20    0.000    0.000    0.000    0.000 utils.py:169(sanitize_scale)\n",
      "    27050    0.014    0.000    0.014    0.000 utils.py:170(split)\n",
      "    36178    0.161    0.000    1.125    0.000 utils.py:18(day_frac)\n",
      "       30    0.000    0.000    0.000    0.000 utils.py:225(validate_power)\n",
      "       40    0.000    0.000    0.000    0.000 utils.py:270(resolve_fractions)\n",
      "       84    0.001    0.000    0.010    0.000 utils.py:75(quantity_day_frac)\n",
      "   172403    0.148    0.000    0.867    0.000 validate.py:1073(is_string)\n",
      "       42    0.000    0.000    0.000    0.000 validate.py:1316(is_option)\n",
      "   172495    0.131    0.000    1.194    0.000 validate.py:593(check)\n",
      "   172495    0.094    0.000    0.094    0.000 validate.py:637(_parse_with_caching)\n",
      "   172495    0.100    0.000    0.968    0.000 validate.py:651(_check_value)\n",
      "   172453    0.640    0.000    0.681    0.000 validate.py:746(_is_num_param)\n",
      "       50    0.000    0.000    0.000    0.000 validate.py:839(is_float)\n",
      "       10    0.000    0.000    0.001    0.000 warnings.py:10(showwarning)\n",
      "       10    0.000    0.000    0.000    0.000 warnings.py:117(_formatwarnmsg)\n",
      "   337618    0.743    0.000    2.382    0.000 warnings.py:130(filterwarnings)\n",
      "   337618    0.407    0.000    0.819    0.000 warnings.py:181(_add_filter)\n",
      "       10    0.000    0.000    0.001    0.000 warnings.py:20(_showwarnmsg_impl)\n",
      "       20    0.000    0.000    0.000    0.000 warnings.py:403(__init__)\n",
      "    85497    0.067    0.000    0.067    0.000 warnings.py:437(__init__)\n",
      "    85497    0.117    0.000    0.128    0.000 warnings.py:458(__enter__)\n",
      "    85497    0.107    0.000    0.120    0.000 warnings.py:477(__exit__)\n",
      "       10    0.000    0.000    0.001    0.000 warnings.py:96(_showwarnmsg)\n",
      "        6    0.000    0.000    0.000    0.000 zipfile.py:1815(__del__)\n",
      "        6    0.000    0.000    0.000    0.000 zipfile.py:1819(close)\n",
      "    33242    0.010    0.000    0.010    0.000 {built-in method __new__ of type object at 0x56546fadd7e0}\n",
      "   417086    0.278    0.000    0.278    0.000 {built-in method _abc._abc_instancecheck}\n",
      "        6    0.000    0.000    0.000    0.000 {built-in method _abc._abc_subclasscheck}\n",
      "     1626    0.002    0.000    0.002    0.000 {built-in method _codecs.utf_8_decode}\n",
      "     4072    0.162    0.000    0.162    0.000 {built-in method _collections._count_elements}\n",
      "      462    0.003    0.000    0.003    0.000 {built-in method _csv.reader}\n",
      "       28    0.000    0.000    0.000    0.000 {built-in method _csv.writer}\n",
      "     6242    0.004    0.000    0.004    0.000 {built-in method _functools.reduce}\n",
      "      252    0.000    0.000    0.000    0.000 {built-in method _imp.acquire_lock}\n",
      "       28    0.000    0.000    0.000    0.000 {built-in method _imp.is_builtin}\n",
      "       28    0.000    0.000    0.000    0.000 {built-in method _imp.is_frozen}\n",
      "      252    0.000    0.000    0.000    0.000 {built-in method _imp.release_lock}\n"
     ]
    },
    {
     "name": "stdout",
     "output_type": "stream",
     "text": [
      "      252    0.001    0.000    0.001    0.000 {built-in method _locale.setlocale}\n",
      "6926/5943    0.009    0.000    0.107    0.000 {built-in method _operator.eq}\n",
      "      164    0.000    0.000    0.000    0.000 {built-in method _operator.gt}\n",
      "    12486    0.003    0.000    0.003    0.000 {built-in method _operator.index}\n",
      "      248    0.000    0.000    0.000    0.000 {built-in method _operator.lt}\n",
      "       42    0.000    0.000    0.000    0.000 {built-in method _operator.not_}\n",
      "       75    0.000    0.000    0.000    0.000 {built-in method _sre.compile}\n",
      "     3634    0.001    0.000    0.001    0.000 {built-in method _sre.unicode_iscased}\n",
      "     2082    0.000    0.000    0.000    0.000 {built-in method _sre.unicode_tolower}\n",
      "      258    0.000    0.000    0.000    0.000 {built-in method _stat.S_ISREG}\n",
      "       56    0.000    0.000    0.000    0.000 {built-in method _thread.allocate_lock}\n",
      "     2448    0.001    0.000    0.001    0.000 {built-in method _thread.get_ident}\n",
      "   508612    0.060    0.000    0.060    0.000 {built-in method _warnings._filters_mutated}\n",
      "   380156    0.718    0.000    0.719    0.000 {built-in method _warnings.warn}\n",
      "17023/16977    0.131    0.000    0.154    0.000 {built-in method builtins.abs}\n",
      "      274    0.000    0.000    0.002    0.000 {built-in method builtins.all}\n",
      "    82877    0.082    0.000    0.212    0.000 {built-in method builtins.any}\n",
      "  1600759    0.235    0.000    0.235    0.000 {built-in method builtins.callable}\n",
      "        1    0.000    0.000  272.825  272.825 {built-in method builtins.exec}\n",
      "40529002/38920060    8.083    0.000   16.112    0.000 {built-in method builtins.getattr}\n",
      "  4985917    0.994    0.000    1.161    0.000 {built-in method builtins.hasattr}\n",
      " 13891844    1.536    0.000    1.536    0.000 {built-in method builtins.id}\n",
      " 39158152    5.322    0.000    5.786    0.000 {built-in method builtins.isinstance}\n",
      "  5034045    0.845    0.000    0.845    0.000 {built-in method builtins.issubclass}\n",
      "    29219    0.006    0.000    0.006    0.000 {built-in method builtins.iter}\n",
      "2212918/1976571    0.434    0.000    0.773    0.000 {built-in method builtins.len}\n",
      "     1172    0.004    0.000    0.004    0.000 {built-in method builtins.locals}\n",
      "       49    0.000    0.000    0.000    0.000 {built-in method builtins.max}\n",
      "     4757    0.002    0.000    0.002    0.000 {built-in method builtins.min}\n",
      "274990/274204    0.092    0.000    0.113    0.000 {built-in method builtins.next}\n",
      "     3591    0.000    0.000    0.000    0.000 {built-in method builtins.ord}\n",
      "       46    0.000    0.000    0.006    0.000 {built-in method builtins.print}\n",
      "      426    0.000    0.000    0.000    0.000 {built-in method builtins.repr}\n",
      "     4605    0.004    0.000    0.004    0.000 {built-in method builtins.round}\n",
      "  6996001    2.298    0.000   14.779    0.000 {built-in method builtins.setattr}\n",
      "     9396    0.010    0.000    0.010    0.000 {built-in method builtins.sorted}\n",
      "      621    0.026    0.000    0.050    0.000 {built-in method builtins.sum}\n",
      "        4    0.000    0.000    0.000    0.000 {built-in method fromkeys}\n",
      "      308    0.014    0.000    0.015    0.000 {built-in method io.open}\n",
      "    13472    0.045    0.000    0.045    0.000 {built-in method numpy.arange}\n",
      "5263052/5262968    5.001    0.000    5.170    0.000 {built-in method numpy.array}\n",
      "   754789    0.257    0.000    0.257    0.000 {built-in method numpy.asanyarray}\n",
      "   101137    0.403    0.000    0.403    0.000 {built-in method numpy.asarray}\n",
      "       49    0.000    0.000    0.000    0.000 {built-in method numpy.ascontiguousarray}\n",
      "    40616    0.245    0.000    0.245    0.000 {built-in method numpy.core._multiarray_umath._vec_string}\n",
      "        6    0.001    0.000    0.001    0.000 {built-in method numpy.core._multiarray_umath.correlate}\n",
      "    51030    0.067    0.000    0.067    0.000 {built-in method numpy.core._multiarray_umath.count_nonzero}\n",
      "1210010/328177    4.631    0.000   46.277    0.000 {built-in method numpy.core._multiarray_umath.implement_array_function}\n",
      "    24370    2.412    0.000    2.412    0.000 {built-in method numpy.core._multiarray_umath.interp}\n",
      "   159473    0.054    0.000    0.054    0.000 {built-in method numpy.core._multiarray_umath.normalize_axis_index}\n",
      "   132684    0.229    0.000    0.229    0.000 {built-in method numpy.empty}\n",
      "       84    6.597    0.079    6.597    0.079 {built-in method numpy.fft._pocketfft_internal.execute}\n",
      "      132    0.194    0.001    0.195    0.001 {built-in method numpy.fromfile}\n",
      "        1    0.000    0.000    0.000    0.000 {built-in method numpy.fromstring}\n",
      "   168876    0.032    0.000    0.032    0.000 {built-in method numpy.geterrobj}\n",
      "    84438    0.047    0.000    0.047    0.000 {built-in method numpy.seterrobj}\n",
      "   179692    0.321    0.000    0.321    0.000 {built-in method numpy.zeros}\n",
      "      123    0.000    0.000    0.000    0.000 {built-in method posix.fspath}\n",
      "       28    0.000    0.000    0.000    0.000 {built-in method posix.getcwd}\n",
      "      102    0.000    0.000    0.000    0.000 {built-in method posix.getpid}\n",
      "        2    0.000    0.000    0.000    0.000 {built-in method posix.listdir}\n",
      "      674    0.014    0.000    0.014    0.000 {built-in method posix.stat}\n",
      "     4456    0.001    0.000    0.001    0.000 {built-in method time.time}\n",
      "       84    0.001    0.000    0.001    0.000 {function Quantity.__array_ufunc__ at 0x7f2b053d9750}\n",
      "  1188562    0.184    0.000    0.184    0.000 {function TableColumns.__getitem__ at 0x7f2aff0e2ef0}\n",
      "      786    0.000    0.000    0.000    0.000 {method '__array_prepare__' of 'numpy.ndarray' objects}\n",
      "      844    0.000    0.000    0.001    0.000 {method '__array_wrap__' of 'numpy.ndarray' objects}\n",
      "     2086    0.003    0.000    0.003    0.000 {method '__deepcopy__' of 'numpy.generic' objects}\n",
      "     2436    0.297    0.000    0.297    0.000 {method '__deepcopy__' of 'numpy.ndarray' objects}\n",
      "       42    0.000    0.000    0.000    0.000 {method '__exit__' of '_io._IOBase' objects}\n",
      "    19348    0.006    0.000    0.006    0.000 {method '__exit__' of '_thread.RLock' objects}\n",
      "      140    0.000    0.000    0.000    0.000 {method '__exit__' of '_thread.lock' objects}\n",
      "    11733    0.004    0.000    0.004    0.000 {method '__exit__' of 'numpy.nditer' objects}\n",
      "   539299    0.618    0.000    0.618    0.000 {method '__reduce_ex__' of 'object' objects}\n",
      "     6244    0.004    0.000    0.004    0.000 {method '__setstate__' of 'numpy.dtype' objects}\n",
      "      152    0.000    0.000    0.000    0.000 {method 'acquire' of '_thread.lock' objects}\n",
      "     4009    0.001    0.000    0.001    0.000 {method 'add' of 'set' objects}\n",
      "     5858    0.006    0.000    0.053    0.000 {method 'all' of 'numpy.ndarray' objects}\n",
      "    59892    0.113    0.000    0.342    0.000 {method 'any' of 'numpy.generic' objects}\n",
      "    74646    0.077    0.000    0.485    0.000 {method 'any' of 'numpy.ndarray' objects}\n",
      "      152    0.000    0.000    0.000    0.000 {method 'append' of 'collections.deque' objects}\n",
      "  2405321    0.298    0.000    0.298    0.000 {method 'append' of 'list' objects}\n",
      "     6266    3.844    0.001    3.844    0.001 {method 'argsort' of 'numpy.ndarray' objects}\n",
      "51209/51167    7.842    0.000    7.847    0.000 {method 'astype' of 'numpy.ndarray' objects}\n",
      "        1    0.000    0.000    0.000    0.000 {method 'cast' of 'memoryview' objects}\n",
      "     1521    0.005    0.000    0.005    0.000 {method 'choose' of 'numpy.ndarray' objects}\n",
      "        4    0.000    0.000    0.000    0.000 {method 'clear' of 'dict' objects}\n",
      "       42    0.000    0.000    0.000    0.000 {method 'close' of '_io.FileIO' objects}\n",
      "     3485    0.428    0.000    0.428    0.000 {method 'compress' of 'numpy.ndarray' objects}\n",
      "     1237    0.000    0.000    0.000    0.000 {method 'copy' of 'dict' objects}\n",
      "     1453    0.001    0.000    0.001    0.000 {method 'copy' of 'list' objects}\n",
      "   334438    0.747    0.000    0.747    0.000 {method 'copy' of 'numpy.ndarray' objects}\n",
      "       88    0.001    0.000    0.001    0.000 {method 'count' of 'list' objects}\n",
      "       20    0.000    0.000    0.000    0.000 {method 'count' of 'str' objects}\n",
      "      588    0.012    0.000    0.012    0.000 {method 'cumsum' of 'numpy.ndarray' objects}\n",
      "    83665    0.022    0.000    0.022    0.000 {method 'decode' of 'bytes' objects}\n",
      "       42    0.000    0.000    0.000    0.000 {method 'detach' of '_io.BufferedReader' objects}\n",
      "       42    0.000    0.000    0.000    0.000 {method 'detach' of '_io.TextIOWrapper' objects}\n",
      "        1    0.000    0.000    0.000    0.000 {method 'disable' of '_lsprof.Profiler' objects}\n",
      "     2392    0.001    0.000    0.001    0.000 {method 'discard' of 'set' objects}\n",
      "       42    0.000    0.000    0.000    0.000 {method 'encode' of 'str' objects}\n",
      "   277147    0.034    0.000    0.034    0.000 {method 'endswith' of 'str' objects}\n",
      "       54    0.000    0.000    0.000    0.000 {method 'extend' of 'list' objects}\n",
      "       42    0.000    0.000    0.000    0.000 {method 'find' of 'bytearray' objects}\n",
      "       46    0.000    0.000    0.000    0.000 {method 'find' of 'str' objects}\n",
      "    61526    0.131    0.000    0.131    0.000 {method 'flatten' of 'numpy.ndarray' objects}\n",
      "   196002    0.107    0.000    0.107    0.000 {method 'format' of 'str' objects}\n",
      " 22991934    2.932    0.000    2.932    0.000 {method 'get' of 'dict' objects}\n",
      "        6    0.000    0.000    0.000    0.000 {method 'get' of 'mappingproxy' objects}\n",
      "      630    0.000    0.000    0.000    0.000 {method 'get_header_names' of 'astropy.io.ascii.cparser.CParser' objects}\n",
      "      210    0.000    0.000    0.000    0.000 {method 'get_names' of 'astropy.io.ascii.cparser.CParser' objects}\n",
      "       64    0.001    0.000    0.001    0.000 {method 'getvalue' of '_io.StringIO' objects}\n",
      "    80839    0.031    0.000    0.031    0.000 {method 'group' of 're.Match' objects}\n",
      "   283076    0.035    0.000    0.035    0.000 {method 'groups' of 're.Match' objects}\n",
      "   337718    0.063    0.000    0.063    0.000 {method 'insert' of 'list' objects}\n",
      "     2238    0.002    0.000    0.002    0.000 {method 'intersection' of 'set' objects}\n",
      "       40    0.000    0.000    0.000    0.000 {method 'isascii' of 'str' objects}\n",
      "     1245    0.000    0.000    0.000    0.000 {method 'isidentifier' of 'str' objects}\n",
      "       42    0.000    0.000    0.000    0.000 {method 'issubset' of 'set' objects}\n",
      "     4397    0.006    0.000    0.006    0.000 {method 'item' of 'numpy.generic' objects}\n",
      "    44346    0.014    0.000    0.014    0.000 {method 'item' of 'numpy.ndarray' objects}\n",
      "    64090    0.012    0.000    0.012    0.000 {method 'items' of 'collections.OrderedDict' objects}\n",
      "   990535    0.305    0.000    0.305    0.000 {method 'items' of 'dict' objects}\n",
      "  1009504    0.128    0.000    0.128    0.000 {method 'join' of 'str' objects}\n",
      "   210936    0.044    0.000    0.044    0.000 {method 'keys' of 'collections.OrderedDict' objects}\n",
      "        1    0.000    0.000    0.000    0.000 {method 'keys' of 'dict' objects}\n",
      "    66538    0.013    0.000    0.013    0.000 {method 'lower' of 'str' objects}\n",
      "  1660740    0.122    0.000    0.122    0.000 {method 'lstrip' of 'str' objects}\n",
      " 17138051    4.150    0.000    4.150    0.000 {method 'match' of 're.Pattern' objects}\n",
      "    45231    0.035    0.000    0.273    0.000 {method 'max' of 'numpy.ndarray' objects}\n",
      "        9    0.000    0.000    0.000    0.000 {method 'mean' of 'numpy.ndarray' objects}\n",
      "     4657    0.003    0.000    0.017    0.000 {method 'min' of 'numpy.ndarray' objects}\n",
      "     3418    0.000    0.000    0.000    0.000 {method 'move_to_end' of 'collections.OrderedDict' objects}\n",
      "   209073    0.610    0.000    0.610    0.000 {method 'nonzero' of 'numpy.ndarray' objects}\n",
      "    96758    3.063    0.000    3.063    0.000 {method 'partition' of 'numpy.ndarray' objects}\n",
      "       56    0.000    0.000    0.000    0.000 {method 'partition' of 'str' objects}\n",
      "     8258    0.001    0.000    0.001    0.000 {method 'pop' of 'dict' objects}\n",
      "     4600    0.001    0.000    0.001    0.000 {method 'pop' of 'list' objects}\n",
      "    63851    0.014    0.000    0.014    0.000 {method 'pop' of 'set' objects}\n",
      "    84265    0.033    0.000    0.053    0.000 {method 'ravel' of 'numpy.ndarray' objects}\n",
      "       42    0.000    0.000    0.000    0.000 {method 'read' of '_io.FileIO' objects}\n",
      "       42    0.001    0.000    0.001    0.000 {method 'read' of '_io.TextIOWrapper' objects}\n",
      "       84    0.114    0.001    0.114    0.001 {method 'read' of 'astropy.io.ascii.cparser.CParser' objects}\n",
      "      714    0.004    0.000    0.004    0.000 {method 'read_header' of 'astropy.io.ascii.cparser.CParser' objects}\n",
      "      132    0.013    0.000    0.016    0.000 {method 'readlines' of '_io._IOBase' objects}\n",
      "   504031    3.651    0.000    3.651    0.000 {method 'reduce' of 'numpy.ufunc' objects}\n",
      "   337618    0.312    0.000    0.312    0.000 {method 'remove' of 'list' objects}\n",
      "       96    0.001    0.000    0.001    0.000 {method 'repeat' of 'numpy.ndarray' objects}\n",
      "     1440    0.001    0.000    0.001    0.000 {method 'replace' of 'str' objects}\n",
      "      176    0.001    0.000    0.001    0.000 {method 'reshape' of 'numpy.generic' objects}\n",
      "   348595    0.813    0.000    0.813    0.000 {method 'reshape' of 'numpy.ndarray' objects}\n",
      "        4    0.000    0.000    0.000    0.000 {method 'rfind' of 'str' objects}\n",
      "    71852    0.184    0.000    0.184    0.000 {method 'round' of 'numpy.generic' objects}\n",
      "      504    0.001    0.000    0.001    0.000 {method 'round' of 'numpy.ndarray' objects}\n",
      "     5910    0.003    0.000    0.003    0.000 {method 'rpartition' of 'str' objects}\n",
      "   172453    0.039    0.000    0.039    0.000 {method 'rsplit' of 'str' objects}\n",
      "   279576    0.020    0.000    0.020    0.000 {method 'rstrip' of 'str' objects}\n",
      "   364133    0.262    0.000    0.262    0.000 {method 'search' of 're.Pattern' objects}\n",
      "       44    0.000    0.000    0.000    0.000 {method 'seek' of '_io.BufferedReader' objects}\n",
      "       42    0.000    0.000    0.000    0.000 {method 'seek' of '_io.FileIO' objects}\n",
      "       64    0.000    0.000    0.000    0.000 {method 'seek' of '_io.StringIO' objects}\n",
      "       42    0.000    0.000    0.000    0.000 {method 'seek' of '_io.TextIOWrapper' objects}\n",
      "       42    0.000    0.000    0.000    0.000 {method 'set_names' of 'astropy.io.ascii.cparser.CParser' objects}\n",
      "       84    0.000    0.000    0.000    0.000 {method 'setup_tokenizer' of 'astropy.io.ascii.cparser.CParser' objects}\n",
      "       20    0.000    0.000    0.000    0.000 {method 'sort' of 'list' objects}\n",
      "     3969    0.185    0.000    0.185    0.000 {method 'sort' of 'numpy.ndarray' objects}\n",
      "   795379    0.248    0.000    0.248    0.000 {method 'split' of 'str' objects}\n",
      "     1512    0.314    0.000    0.314    0.000 {method 'splitlines' of 'str' objects}\n",
      "     5840    0.005    0.000    0.005    0.000 {method 'squeeze' of 'numpy.ndarray' objects}\n",
      "   830535    0.093    0.000    0.093    0.000 {method 'startswith' of 'str' objects}\n",
      "  8149217    0.736    0.000    0.736    0.000 {method 'strip' of 'str' objects}\n",
      "       70    0.001    0.000    0.001    0.000 {method 'sub' of 're.Pattern' objects}\n",
      "        6    0.000    0.000    0.000    0.000 {method 'sum' of 'numpy.generic' objects}\n",
      "    58046    0.039    0.000    1.035    0.000 {method 'sum' of 'numpy.ndarray' objects}\n",
      "       84    0.000    0.000    0.000    0.000 {method 'swapaxes' of 'numpy.ndarray' objects}\n",
      "   108630    0.177    0.000    0.177    0.000 {method 'take' of 'numpy.ndarray' objects}\n",
      "        1    0.000    0.000    0.000    0.000 {method 'tolist' of 'memoryview' objects}\n",
      "    20626    0.044    0.000    0.044    0.000 {method 'tolist' of 'numpy.ndarray' objects}\n",
      "        1    0.000    0.000    0.000    0.000 {method 'translate' of 'bytearray' objects}\n",
      "     1911    0.002    0.000    0.002    0.000 {method 'transpose' of 'numpy.ndarray' objects}\n",
      "       64    0.000    0.000    0.000    0.000 {method 'truncate' of '_io.StringIO' objects}\n",
      "       42    0.000    0.000    0.000    0.000 {method 'union' of 'set' objects}\n",
      "     1238    0.018    0.000    0.018    0.000 {method 'update' of 'collections.OrderedDict' objects}\n",
      "  9048919    3.250    0.000    3.250    0.000 {method 'update' of 'dict' objects}\n",
      "       42    0.000    0.000    0.000    0.000 {method 'upper' of 'str' objects}\n",
      "     8548    0.002    0.000    0.002    0.000 {method 'values' of 'collections.OrderedDict' objects}\n",
      "        1    0.000    0.000    0.000    0.000 {method 'values' of 'dict' objects}\n",
      "       49    0.000    0.000    0.000    0.000 {method 'values' of 'mappingproxy' objects}\n",
      "   672546    1.218    0.000    1.218    0.000 {method 'view' of 'numpy.generic' objects}\n",
      "5282983/4168824    3.636    0.000   79.279    0.000 {method 'view' of 'numpy.ndarray' objects}\n",
      "       64    0.001    0.000    0.001    0.000 {method 'write' of '_io.TextIOWrapper' objects}\n",
      "       28    0.026    0.001    0.091    0.003 {method 'write' of 'astropy.io.ascii.cparser.FastWriter' objects}\n",
      "       28    0.001    0.000    0.001    0.000 {method 'writerow' of '_csv.writer' objects}\n",
      "       36    0.056    0.002    0.056    0.002 {method 'writerows' of '_csv.writer' objects}\n",
      "\n",
      "\n"
     ]
    }
   ],
   "source": [
    "cProfile.run(\"r.reduce(flat_1,data_1,bs_1)\")"
   ]
  },
  {
   "cell_type": "code",
   "execution_count": 8,
   "id": "664549d0",
   "metadata": {
    "hidden": true
   },
   "outputs": [
    {
     "ename": "KeyError",
     "evalue": "7",
     "output_type": "error",
     "traceback": [
      "\u001b[0;31m---------------------------------------------------------------------------\u001b[0m",
      "\u001b[0;31mKeyError\u001b[0m                                  Traceback (most recent call last)",
      "Input \u001b[0;32mIn [8]\u001b[0m, in \u001b[0;36m<cell line: 1>\u001b[0;34m()\u001b[0m\n\u001b[0;32m----> 1\u001b[0m \u001b[43mOut\u001b[49m\u001b[43m[\u001b[49m\u001b[38;5;241;43m7\u001b[39;49m\u001b[43m]\u001b[49m\n",
      "\u001b[0;31mKeyError\u001b[0m: 7"
     ]
    }
   ],
   "source": [
    "Out[7]"
   ]
  },
  {
   "cell_type": "markdown",
   "id": "b2e75ccb",
   "metadata": {
    "heading_collapsed": true
   },
   "source": [
    "# Uranus"
   ]
  },
  {
   "cell_type": "code",
   "execution_count": 8,
   "id": "1b06c577",
   "metadata": {
    "hidden": true
   },
   "outputs": [],
   "source": [
    "FLAT_HEADER = {\"skychop_220927\": [(12, 12)]}\n",
    "BS_HEADER = {\"bias_step\": [(7, 7)]}\n",
    "DATA_HEADER = {\"uranus_220927\": [(60, 63)]}"
   ]
  },
  {
   "cell_type": "code",
   "execution_count": 28,
   "id": "045d0e94",
   "metadata": {
    "hidden": true
   },
   "outputs": [],
   "source": [
    "r.data_dir =  \"../../APEX_2022/20220916\"\n",
    "r.parallel = False\n",
    "r.plot=False"
   ]
  },
  {
   "cell_type": "code",
   "execution_count": 29,
   "id": "a683a5d1",
   "metadata": {
    "collapsed": true,
    "hidden": true
   },
   "outputs": [
    {
     "name": "stdout",
     "output_type": "stream",
     "text": [
      "Processing beam ../../APEX_2022/20220916/skychop_220916_0016.\n",
      "Processing beam ../../APEX_2022/20220916/bias_step_0010.\n",
      "Processing beam ../../APEX_2022/20220916/uranus_220916_0041.\n",
      "Processing beam ../../APEX_2022/20220916/uranus_220916_0042.\n",
      "Processing beam ../../APEX_2022/20220916/uranus_220916_0043.\n",
      "Processing beam ../../APEX_2022/20220916/uranus_220916_0044.\n"
     ]
    },
    {
     "name": "stderr",
     "output_type": "stream",
     "text": [
      "ErfaWarning: ERFA function \"utctai\" yielded 1 of \"dubious year (Note 3)\"\n",
      "ErfaWarning: ERFA function \"taiutc\" yielded 1 of \"dubious year (Note 4)\"\n",
      "UserWarning: No band specific config information found, will use the input kwargs only the DEFAULT configurations in conf_kwargs_.\n",
      "UserWarning: More than one values found inobs_info_.table[Elevation], will average.\n",
      "UserWarning: No band specific config information found, will use the input kwargs only the DEFAULT configurations in conf_kwargs_.\n",
      "UserWarning: More than one values found inobs_info_.table[Elevation], will average.\n",
      "UserWarning: No band specific config information found, will use the input kwargs only the DEFAULT configurations in conf_kwargs_.\n"
     ]
    },
    {
     "ename": "TypeError",
     "evalue": "unsupported operand type(s) for /: 'NoneType' and 'float'",
     "output_type": "error",
     "traceback": [
      "\u001b[0;31m---------------------------------------------------------------------------\u001b[0m",
      "\u001b[0;31mTypeError\u001b[0m                                 Traceback (most recent call last)",
      "Input \u001b[0;32mIn [29]\u001b[0m, in \u001b[0;36m<cell line: 1>\u001b[0;34m()\u001b[0m\n\u001b[0;32m----> 1\u001b[0m \u001b[43mr\u001b[49m\u001b[38;5;241;43m.\u001b[39;49m\u001b[43mreduce\u001b[49m\u001b[43m(\u001b[49m\u001b[43mFLAT_HEADER\u001b[49m\u001b[43m,\u001b[49m\u001b[43mDATA_HEADER\u001b[49m\u001b[43m,\u001b[49m\u001b[43mBS_HEADER\u001b[49m\u001b[43m)\u001b[49m\n",
      "File \u001b[0;32m~/Dropbox/code/zeus2/zeustools/zeustools/calibration_pipeline.py:430\u001b[0m, in \u001b[0;36mReductionHelper.reduce\u001b[0;34m(self, flat_header, data_header, bs_header)\u001b[0m\n\u001b[1;32m    428\u001b[0m zobs_i_err \u001b[38;5;241m=\u001b[39m z2pipl\u001b[38;5;241m.\u001b[39mfb_to_i_tes(zobs_err)\n\u001b[1;32m    429\u001b[0m atm_trans \u001b[38;5;241m=\u001b[39m z2pipl\u001b[38;5;241m.\u001b[39mget_transmission_obs_array(\u001b[38;5;28mself\u001b[39m\u001b[38;5;241m.\u001b[39marray_map, pwv\u001b[38;5;241m=\u001b[39mpwv, elev\u001b[38;5;241m=\u001b[39melev)\n\u001b[0;32m--> 430\u001b[0m atm_trans_raw \u001b[38;5;241m=\u001b[39m \u001b[43mz2pipl\u001b[49m\u001b[38;5;241;43m.\u001b[39;49m\u001b[43mget_transmission_raw_obs_array\u001b[49m\u001b[43m(\u001b[49m\u001b[38;5;28;43mself\u001b[39;49m\u001b[38;5;241;43m.\u001b[39;49m\u001b[43marray_map\u001b[49m\u001b[43m,\u001b[49m\u001b[43m \u001b[49m\u001b[43mpwv\u001b[49m\u001b[38;5;241;43m=\u001b[39;49m\u001b[43mpwv\u001b[49m\u001b[43m,\u001b[49m\u001b[43m \u001b[49m\u001b[43melev\u001b[49m\u001b[38;5;241;43m=\u001b[39;49m\u001b[43melev\u001b[49m\u001b[43m,\u001b[49m\u001b[43m \u001b[49m\u001b[43mgrat_idx\u001b[49m\u001b[38;5;241;43m=\u001b[39;49m\u001b[43mgrat_idx\u001b[49m\u001b[43m)\u001b[49m\n\u001b[1;32m    431\u001b[0m filt_trans \u001b[38;5;241m=\u001b[39m z2pipl\u001b[38;5;241m.\u001b[39mObsArray(\u001b[38;5;28mself\u001b[39m\u001b[38;5;241m.\u001b[39mzoc\u001b[38;5;241m.\u001b[39mget_transmission_microns(\u001b[38;5;28mself\u001b[39m\u001b[38;5;241m.\u001b[39marray_map\u001b[38;5;241m.\u001b[39marray_wl_)[:, \u001b[38;5;28;01mNone\u001b[39;00m], \n\u001b[1;32m    432\u001b[0m                              array_map\u001b[38;5;241m=\u001b[39m\u001b[38;5;28mself\u001b[39m\u001b[38;5;241m.\u001b[39marray_map, obs_id\u001b[38;5;241m=\u001b[39m\u001b[38;5;124m\"\u001b[39m\u001b[38;5;124moptical chain\u001b[39m\u001b[38;5;124m\"\u001b[39m)\n\u001b[1;32m    433\u001b[0m filt_trans\u001b[38;5;241m.\u001b[39mto_table()\u001b[38;5;241m.\u001b[39mwrite(os\u001b[38;5;241m.\u001b[39mpath\u001b[38;5;241m.\u001b[39mjoin(\u001b[38;5;28mself\u001b[39m\u001b[38;5;241m.\u001b[39mwrite_dir, z2pipl\u001b[38;5;241m.\u001b[39mbuild_header(data_header)\u001b[38;5;241m+\u001b[39m\u001b[38;5;124m\"\u001b[39m\u001b[38;5;124m_inst_trans.csv\u001b[39m\u001b[38;5;124m\"\u001b[39m), overwrite\u001b[38;5;241m=\u001b[39m\u001b[38;5;28;01mTrue\u001b[39;00m)\n",
      "File \u001b[0;32m~/Dropbox/code/zeus2/zeus2_toolbox/src/zeus2_toolbox/analyze.py:1375\u001b[0m, in \u001b[0;36mget_transmission_raw_obs_array\u001b[0;34m(array_map, pwv, elev, **kwargs)\u001b[0m\n\u001b[1;32m   1372\u001b[0m spat_arr, wl_arr, trans_arr \u001b[38;5;241m=\u001b[39m np\u001b[38;5;241m.\u001b[39mbroadcast_arrays(\n\u001b[1;32m   1373\u001b[0m         spat_arr, wl_arr[:, \u001b[38;5;28;01mNone\u001b[39;00m], trans_arr[:, \u001b[38;5;28;01mNone\u001b[39;00m])\n\u001b[1;32m   1374\u001b[0m spat, wl, trans \u001b[38;5;241m=\u001b[39m spat_arr\u001b[38;5;241m.\u001b[39mflatten(), wl_arr\u001b[38;5;241m.\u001b[39mflatten(), trans_arr\u001b[38;5;241m.\u001b[39mflatten()\n\u001b[0;32m-> 1375\u001b[0m spec \u001b[38;5;241m=\u001b[39m \u001b[43marray_map\u001b[49m\u001b[38;5;241;43m.\u001b[39;49m\u001b[43mspec_calculator\u001b[49m\u001b[43m(\u001b[49m\u001b[43mwl\u001b[49m\u001b[38;5;241;43m=\u001b[39;49m\u001b[43mwl\u001b[49m\u001b[43m,\u001b[49m\u001b[43m \u001b[49m\u001b[43mspat\u001b[49m\u001b[38;5;241;43m=\u001b[39;49m\u001b[43mspat\u001b[49m\u001b[43m,\u001b[49m\u001b[43m \u001b[49m\u001b[38;5;241;43m*\u001b[39;49m\u001b[38;5;241;43m*\u001b[39;49m\u001b[43mkwargs\u001b[49m\u001b[43m)\u001b[49m\n\u001b[1;32m   1376\u001b[0m use_mask \u001b[38;5;241m=\u001b[39m np\u001b[38;5;241m.\u001b[39misfinite(spec)  \u001b[38;5;66;03m# using only valid spec\u001b[39;00m\n\u001b[1;32m   1377\u001b[0m spat, spec, trans, wl \u001b[38;5;241m=\u001b[39m spat[use_mask], spec[use_mask], trans[use_mask], \\\n\u001b[1;32m   1378\u001b[0m                         wl[use_mask]\n",
      "File \u001b[0;32m~/Dropbox/code/zeus2/zeus2_toolbox/src/zeus2_toolbox/io.py:1915\u001b[0m, in \u001b[0;36mArrayMap.spec_calculator\u001b[0;34m(self, wl, spat, **kwargs)\u001b[0m\n\u001b[1;32m   1913\u001b[0m     \u001b[38;5;28;01mif\u001b[39;00m (key \u001b[38;5;129;01min\u001b[39;00m (\u001b[38;5;124m\"\u001b[39m\u001b[38;5;124mwl\u001b[39m\u001b[38;5;124m\"\u001b[39m, \u001b[38;5;124m\"\u001b[39m\u001b[38;5;124mspat\u001b[39m\u001b[38;5;124m\"\u001b[39m)) \u001b[38;5;129;01mor\u001b[39;00m (key \u001b[38;5;129;01mnot\u001b[39;00m \u001b[38;5;129;01min\u001b[39;00m func_vars):\n\u001b[1;32m   1914\u001b[0m         kwargs_use\u001b[38;5;241m.\u001b[39mpop(key)\n\u001b[0;32m-> 1915\u001b[0m spec_use \u001b[38;5;241m=\u001b[39m \u001b[43mwl_to_spec\u001b[49m\u001b[43m(\u001b[49m\u001b[43mwl\u001b[49m\u001b[38;5;241;43m=\u001b[39;49m\u001b[43mwl_arr\u001b[49m\u001b[43m,\u001b[49m\u001b[43m \u001b[49m\u001b[43mspat\u001b[49m\u001b[38;5;241;43m=\u001b[39;49m\u001b[43mspat_arr\u001b[49m\u001b[43m,\u001b[49m\u001b[43m \u001b[49m\u001b[38;5;241;43m*\u001b[39;49m\u001b[38;5;241;43m*\u001b[39;49m\u001b[43mkwargs_use\u001b[49m\u001b[43m)\u001b[49m\n\u001b[1;32m   1917\u001b[0m extent \u001b[38;5;241m=\u001b[39m []\n\u001b[1;32m   1918\u001b[0m \u001b[38;5;28;01mfor\u001b[39;00m key \u001b[38;5;129;01min\u001b[39;00m (\u001b[38;5;124m\"\u001b[39m\u001b[38;5;124mspec_llim\u001b[39m\u001b[38;5;124m\"\u001b[39m, \u001b[38;5;124m\"\u001b[39m\u001b[38;5;124mspec_ulim\u001b[39m\u001b[38;5;124m\"\u001b[39m, \u001b[38;5;124m\"\u001b[39m\u001b[38;5;124mspat_ulim\u001b[39m\u001b[38;5;124m\"\u001b[39m, \u001b[38;5;124m\"\u001b[39m\u001b[38;5;124mspat_llim\u001b[39m\u001b[38;5;124m\"\u001b[39m):\n",
      "File \u001b[0;32m~/Dropbox/code/zeus2/zeus2_toolbox/src/zeus2_toolbox/convert.py:345\u001b[0m, in \u001b[0;36mwl_to_spec\u001b[0;34m(wl, spat, grat_idx, order, rd, rg, px_shift, py_shift, alpha_min_index, c0, c1, c2, c3, c4, c5, c6, c7, c8, quad)\u001b[0m\n\u001b[1;32m    297\u001b[0m \u001b[38;5;28;01mdef\u001b[39;00m \u001b[38;5;21mwl_to_spec\u001b[39m(wl, spat, grat_idx, order\u001b[38;5;241m=\u001b[39m\u001b[38;5;241m5\u001b[39m, rd\u001b[38;5;241m=\u001b[39m\u001b[38;5;241m200\u001b[39m, rg\u001b[38;5;241m=\u001b[39m\u001b[38;5;241m0.711111111111111\u001b[39m,\n\u001b[1;32m    298\u001b[0m                px_shift\u001b[38;5;241m=\u001b[39m\u001b[38;5;241m0\u001b[39m, py_shift\u001b[38;5;241m=\u001b[39m\u001b[38;5;241m0\u001b[39m, alpha_min_index\u001b[38;5;241m=\u001b[39m\u001b[38;5;241m73.9062453\u001b[39m,\n\u001b[1;32m    299\u001b[0m                c0\u001b[38;5;241m=\u001b[39m\u001b[38;5;241m0.9800910119\u001b[39m, c1\u001b[38;5;241m=\u001b[39m\u001b[38;5;241m-\u001b[39m\u001b[38;5;241m0.0017009051035\u001b[39m, c2\u001b[38;5;241m=\u001b[39m\u001b[38;5;241m-\u001b[39m\u001b[38;5;241m0.87654448327\u001b[39m,\n\u001b[1;32m    300\u001b[0m                c3\u001b[38;5;241m=\u001b[39m\u001b[38;5;241m36.248043521\u001b[39m, c4\u001b[38;5;241m=\u001b[39m\u001b[38;5;241m459.42373214\u001b[39m, c5\u001b[38;5;241m=\u001b[39m\u001b[38;5;241m-\u001b[39m\u001b[38;5;241m80.04474108\u001b[39m,\n\u001b[1;32m    301\u001b[0m                c6\u001b[38;5;241m=\u001b[39m\u001b[38;5;241m-\u001b[39m\u001b[38;5;241m0.0017003774252\u001b[39m, c7\u001b[38;5;241m=\u001b[39m\u001b[38;5;241m-\u001b[39m\u001b[38;5;241m1.5498032937\u001b[39m, c8\u001b[38;5;241m=\u001b[39m\u001b[38;5;241m102.04705483\u001b[39m,\n\u001b[1;32m    302\u001b[0m                quad\u001b[38;5;241m=\u001b[39m\u001b[38;5;124m\"\u001b[39m\u001b[38;5;124mspec\u001b[39m\u001b[38;5;124m\"\u001b[39m):\n\u001b[1;32m    303\u001b[0m     \u001b[38;5;124;03m\"\"\"\u001b[39;00m\n\u001b[1;32m    304\u001b[0m \u001b[38;5;124;03m    inverse function for grat_to_wl(), compute spectral index for input spatial\u001b[39;00m\n\u001b[1;32m    305\u001b[0m \u001b[38;5;124;03m    position, wavelength at the given grat_idx\u001b[39;00m\n\u001b[0;32m   (...)\u001b[0m\n\u001b[1;32m    342\u001b[0m \u001b[38;5;124;03m    :rtype: float or numpy.ndarray\u001b[39;00m\n\u001b[1;32m    343\u001b[0m \u001b[38;5;124;03m    \"\"\"\u001b[39;00m\n\u001b[0;32m--> 345\u001b[0m     alpha_s \u001b[38;5;241m=\u001b[39m alpha_min_index \u001b[38;5;241m-\u001b[39m \u001b[43mgrat_idx\u001b[49m\u001b[43m \u001b[49m\u001b[38;5;241;43m/\u001b[39;49m\u001b[43m \u001b[49m\u001b[43m(\u001b[49m\u001b[43mrd\u001b[49m\u001b[43m \u001b[49m\u001b[38;5;241;43m*\u001b[39;49m\u001b[43m \u001b[49m\u001b[43mrg\u001b[49m\u001b[43m)\u001b[49m\n\u001b[1;32m    346\u001b[0m     sin_alpha_s \u001b[38;5;241m=\u001b[39m np\u001b[38;5;241m.\u001b[39msin(alpha_s \u001b[38;5;241m*\u001b[39m np\u001b[38;5;241m.\u001b[39mpi \u001b[38;5;241m/\u001b[39m \u001b[38;5;241m180\u001b[39m)\n\u001b[1;32m    347\u001b[0m     px \u001b[38;5;241m=\u001b[39m spat \u001b[38;5;241m+\u001b[39m px_shift\n",
      "\u001b[0;31mTypeError\u001b[0m: unsupported operand type(s) for /: 'NoneType' and 'float'"
     ]
    }
   ],
   "source": [
    "r.reduce(FLAT_HEADER,DATA_HEADER,BS_HEADER)"
   ]
  },
  {
   "cell_type": "code",
   "execution_count": 13,
   "id": "2f6817be",
   "metadata": {
    "hidden": true
   },
   "outputs": [],
   "source": [
    "v=Out[11]"
   ]
  },
  {
   "cell_type": "code",
   "execution_count": 18,
   "id": "a3cd69e2",
   "metadata": {
    "hidden": true
   },
   "outputs": [
    {
     "ename": "TypeError",
     "evalue": "unsupported operand type(s) for /: 'Table' and 'Table'",
     "output_type": "error",
     "traceback": [
      "\u001b[0;31m---------------------------------------------------------------------------\u001b[0m",
      "\u001b[0;31mTypeError\u001b[0m                                 Traceback (most recent call last)",
      "Input \u001b[0;32mIn [18]\u001b[0m, in \u001b[0;36m<cell line: 1>\u001b[0;34m()\u001b[0m\n\u001b[0;32m----> 1\u001b[0m \u001b[43mv\u001b[49m\u001b[43m[\u001b[49m\u001b[38;5;241;43m0\u001b[39;49m\u001b[43m]\u001b[49m\u001b[38;5;241;43m.\u001b[39;49m\u001b[43mto_table\u001b[49m\u001b[43m(\u001b[49m\u001b[43m)\u001b[49m\u001b[38;5;241;43m/\u001b[39;49m\u001b[43mv\u001b[49m\u001b[43m[\u001b[49m\u001b[38;5;241;43m1\u001b[39;49m\u001b[43m]\u001b[49m\u001b[38;5;241;43m.\u001b[39;49m\u001b[43mto_table\u001b[49m\u001b[43m(\u001b[49m\u001b[43m)\u001b[49m\n",
      "\u001b[0;31mTypeError\u001b[0m: unsupported operand type(s) for /: 'Table' and 'Table'"
     ]
    }
   ],
   "source": [
    "v[0].to_table()/v[1].to_table()"
   ]
  },
  {
   "cell_type": "code",
   "execution_count": 17,
   "id": "58466ff8",
   "metadata": {
    "collapsed": true,
    "hidden": true
   },
   "outputs": [
    {
     "data": {
      "text/html": [
       "<div><i>Table masked=True length=9</i>\n",
       "<table id=\"table140038306980352\" class=\"table-striped table-bordered table-condensed\">\n",
       "<thead><tr><th>spatial_position</th><th>time_stamp</th><th>chop_phase</th><th>obs_id</th><th>spectral_index=0</th><th>spectral_index=1</th><th>spectral_index=2</th><th>spectral_index=3</th><th>spectral_index=4</th><th>spectral_index=5</th><th>spectral_index=6</th><th>spectral_index=7</th><th>spectral_index=8</th><th>spectral_index=9</th><th>spectral_index=10</th><th>spectral_index=11</th><th>spectral_index=12</th><th>spectral_index=13</th><th>spectral_index=14</th><th>spectral_index=15</th><th>spectral_index=16</th><th>spectral_index=17</th><th>spectral_index=18</th><th>spectral_index=19</th><th>spectral_index=20</th><th>spectral_index=21</th><th>spectral_index=22</th><th>spectral_index=23</th><th>spectral_index=24</th><th>spectral_index=25</th><th>spectral_index=26</th><th>spectral_index=27</th><th>spectral_index=28</th><th>spectral_index=29</th><th>spectral_index=30</th><th>spectral_index=31</th><th>spectral_index=32</th><th>spectral_index=33</th><th>spectral_index=34</th><th>spectral_index=35</th><th>spectral_index=36</th><th>spectral_index=37</th><th>spectral_index=38</th><th>spectral_index=39</th></tr></thead>\n",
       "<thead><tr><th>int64</th><th>float64</th><th>bool</th><th>str40</th><th>float64</th><th>float64</th><th>float64</th><th>float64</th><th>float64</th><th>float64</th><th>float64</th><th>float64</th><th>float64</th><th>float64</th><th>float64</th><th>float64</th><th>float64</th><th>float64</th><th>float64</th><th>float64</th><th>float64</th><th>float64</th><th>float64</th><th>float64</th><th>float64</th><th>float64</th><th>float64</th><th>float64</th><th>float64</th><th>float64</th><th>float64</th><th>float64</th><th>float64</th><th>float64</th><th>float64</th><th>float64</th><th>float64</th><th>float64</th><th>float64</th><th>float64</th><th>float64</th><th>float64</th><th>float64</th><th>float64</th></tr></thead>\n",
       "<tr><td>0</td><td>0.0</td><td>False</td><td>bias</td><td>nan</td><td>nan</td><td>nan</td><td>1.7778084328991657</td><td>0.4756657585616877</td><td>0.6316750238031944</td><td>nan</td><td>1.2317235866755387</td><td>1.0074313458367874</td><td>0.4734344851840903</td><td>0.3738258118425016</td><td>0.3403584165195592</td><td>nan</td><td>nan</td><td>nan</td><td>3.648966701319749</td><td>2.508116220861358</td><td>4.142931913039142</td><td>0.6815888037420339</td><td>0.46820290985098206</td><td>2.9074120729064536</td><td>nan</td><td>nan</td><td>nan</td><td>0.6946753385003873</td><td>1.9999197586663378</td><td>nan</td><td>1.402777502507969</td><td>1.288539237080805</td><td>0.9005456517010278</td><td>1.1846432754093135</td><td>1.7468374341717157</td><td>1.5304670723310254</td><td>1.1634568186123275</td><td>nan</td><td>--</td><td>--</td><td>--</td><td>--</td><td>--</td></tr>\n",
       "<tr><td>1</td><td>0.0</td><td>False</td><td>bias</td><td>--</td><td>nan</td><td>nan</td><td>nan</td><td>nan</td><td>nan</td><td>nan</td><td>1.522455021634688</td><td>1.6392514699714735</td><td>0.9007521505894396</td><td>0.6167187584762016</td><td>0.7849487609840321</td><td>0.6215996113321733</td><td>nan</td><td>nan</td><td>nan</td><td>2.760475384272498</td><td>1.5756614226306829</td><td>nan</td><td>1.0730724660630626</td><td>4.042151484807524</td><td>0.5113952118191762</td><td>0.6264045806663671</td><td>nan</td><td>nan</td><td>1.8074669311146059</td><td>nan</td><td>1.2097507089225559</td><td>1.7097546993323107</td><td>1.4587667914338032</td><td>0.9840572953915514</td><td>nan</td><td>44.456862507226425</td><td>nan</td><td>nan</td><td>nan</td><td>--</td><td>--</td><td>--</td><td>--</td></tr>\n",
       "<tr><td>2</td><td>0.0</td><td>False</td><td>bias</td><td>--</td><td>--</td><td>nan</td><td>nan</td><td>nan</td><td>nan</td><td>nan</td><td>2.211824404392846</td><td>8.764054322849866</td><td>1.581152065129687</td><td>0.40418586217355085</td><td>0.7349163100173017</td><td>nan</td><td>nan</td><td>nan</td><td>2.1855421513039737</td><td>nan</td><td>nan</td><td>nan</td><td>0.5910980138856837</td><td>nan</td><td>0.5338955338623457</td><td>nan</td><td>nan</td><td>1.5828671894879125</td><td>1.7376992572804022</td><td>nan</td><td>1.0021506565619178</td><td>1.5805802459009208</td><td>2.1003362763408924</td><td>4.009904864298718</td><td>nan</td><td>2.8731555904861947</td><td>1.3077582833395338</td><td>nan</td><td>nan</td><td>nan</td><td>--</td><td>--</td><td>--</td></tr>\n",
       "<tr><td>3</td><td>0.0</td><td>False</td><td>bias</td><td>--</td><td>--</td><td>--</td><td>nan</td><td>nan</td><td>nan</td><td>nan</td><td>nan</td><td>nan</td><td>nan</td><td>nan</td><td>1.2022328792215167</td><td>2.458044586963887</td><td>nan</td><td>nan</td><td>nan</td><td>nan</td><td>nan</td><td>3.4575058420067606</td><td>0.4570745723123025</td><td>0.9382101717854261</td><td>0.48379445022291967</td><td>nan</td><td>nan</td><td>nan</td><td>1.4989734665495924</td><td>0.9109850017702175</td><td>2.6256067689488503</td><td>1.7826645443141715</td><td>2.423002668367234</td><td>4.864604096905024</td><td>2.214228079567802</td><td>3.4989897358106443</td><td>nan</td><td>nan</td><td>2.120134292552266</td><td>3.9622333121996394</td><td>nan</td><td>--</td><td>--</td></tr>\n",
       "<tr><td>4</td><td>0.0</td><td>False</td><td>bias</td><td>--</td><td>--</td><td>--</td><td>--</td><td>nan</td><td>nan</td><td>3.6413638692397026</td><td>nan</td><td>0.9008460085506449</td><td>1.069664094371201</td><td>1.1118545015053878</td><td>0.6586417082468429</td><td>0.3504989745466862</td><td>nan</td><td>nan</td><td>8.005676487837341</td><td>nan</td><td>4.493792554946064</td><td>4.072956019682714</td><td>0.6941239042015366</td><td>2.6716427668473877</td><td>1.3086523477140046</td><td>0.9055911751565341</td><td>nan</td><td>nan</td><td>2.805376255427841</td><td>1.7388006891994143</td><td>1.1263086561073845</td><td>nan</td><td>2.1912555617781453</td><td>5.3454071722839345</td><td>2.9213937302036066</td><td>3.0496814838142035</td><td>1.4888404459216797</td><td>nan</td><td>2.7709036189968925</td><td>3.3728647435737287</td><td>nan</td><td>nan</td><td>--</td></tr>\n",
       "<tr><td>5</td><td>0.0</td><td>False</td><td>bias</td><td>--</td><td>--</td><td>--</td><td>--</td><td>--</td><td>nan</td><td>nan</td><td>3.066942845256714</td><td>0.5812654590656671</td><td>0.8103235165786814</td><td>nan</td><td>0.6932490198942283</td><td>0.4399167513531737</td><td>0.3626930631710301</td><td>nan</td><td>2.3369908237911043</td><td>nan</td><td>5.830637581061461</td><td>4.6388198145215656</td><td>0.5981872300826377</td><td>nan</td><td>1.4542740593478674</td><td>0.37019226556317336</td><td>0.5290056882361208</td><td>nan</td><td>nan</td><td>nan</td><td>1.5143423325120455</td><td>nan</td><td>1.5233912554730045</td><td>nan</td><td>nan</td><td>2.8041443678642466</td><td>1.1115209625962548</td><td>nan</td><td>2.981632538526999</td><td>nan</td><td>nan</td><td>nan</td><td>nan</td></tr>\n",
       "<tr><td>6</td><td>0.0</td><td>False</td><td>bias</td><td>--</td><td>--</td><td>--</td><td>--</td><td>--</td><td>--</td><td>nan</td><td>0.5904839699811094</td><td>0.8457577436998682</td><td>nan</td><td>nan</td><td>0.4508534739442439</td><td>0.2930533185585583</td><td>nan</td><td>nan</td><td>4.216160956245002</td><td>nan</td><td>nan</td><td>1.5956046623540088</td><td>0.7315238206914063</td><td>0.8388756891531396</td><td>0.8695172316592296</td><td>0.8335216535784714</td><td>nan</td><td>0.6069600809874189</td><td>0.7053475817870033</td><td>nan</td><td>1.209088785862812</td><td>0.858865450562177</td><td>0.6557593076800616</td><td>nan</td><td>nan</td><td>2.034782822633733</td><td>nan</td><td>nan</td><td>2.610247351978091</td><td>nan</td><td>nan</td><td>nan</td><td>nan</td></tr>\n",
       "<tr><td>7</td><td>0.0</td><td>False</td><td>bias</td><td>--</td><td>--</td><td>--</td><td>--</td><td>--</td><td>--</td><td>--</td><td>--</td><td>--</td><td>--</td><td>--</td><td>--</td><td>--</td><td>--</td><td>--</td><td>--</td><td>--</td><td>1.050475092371121</td><td>nan</td><td>0.48523843380506015</td><td>0.488183079668432</td><td>0.6971226104764929</td><td>0.5556100214197447</td><td>4.805542430166404</td><td>0.7531563454346235</td><td>1.082499399456032</td><td>nan</td><td>1.0183713439752264</td><td>1.0592571275904794</td><td>0.5431007879323217</td><td>nan</td><td>nan</td><td>1.7744732363947258</td><td>1.8028934865948645</td><td>nan</td><td>nan</td><td>nan</td><td>nan</td><td>nan</td><td>nan</td></tr>\n",
       "<tr><td>8</td><td>0.0</td><td>False</td><td>bias</td><td>nan</td><td>nan</td><td>nan</td><td>nan</td><td>nan</td><td>nan</td><td>nan</td><td>nan</td><td>nan</td><td>nan</td><td>--</td><td>--</td><td>--</td><td>--</td><td>--</td><td>--</td><td>--</td><td>--</td><td>--</td><td>--</td><td>--</td><td>--</td><td>--</td><td>--</td><td>--</td><td>--</td><td>--</td><td>nan</td><td>nan</td><td>nan</td><td>nan</td><td>nan</td><td>nan</td><td>nan</td><td>nan</td><td>nan</td><td>nan</td><td>nan</td><td>nan</td><td>nan</td></tr>\n",
       "</table></div>"
      ],
      "text/plain": [
       "<Table masked=True length=9>\n",
       "spatial_position time_stamp chop_phase ... spectral_index=38 spectral_index=39\n",
       "     int64        float64      bool    ...      float64           float64     \n",
       "---------------- ---------- ---------- ... ----------------- -----------------\n",
       "               0        0.0      False ...                --                --\n",
       "               1        0.0      False ...                --                --\n",
       "               2        0.0      False ...                --                --\n",
       "               3        0.0      False ...                --                --\n",
       "               4        0.0      False ...               nan                --\n",
       "               5        0.0      False ...               nan               nan\n",
       "               6        0.0      False ...               nan               nan\n",
       "               7        0.0      False ...               nan               nan\n",
       "               8        0.0      False ...               nan               nan"
      ]
     },
     "execution_count": 17,
     "metadata": {},
     "output_type": "execute_result"
    }
   ],
   "source": [
    "v[1].to_table()"
   ]
  },
  {
   "cell_type": "code",
   "execution_count": 19,
   "id": "1d086f73",
   "metadata": {
    "hidden": true
   },
   "outputs": [],
   "source": [
    "BS_HEADER = {\"bias_step\": [(36, 36)]}\n",
    "FLAT_HEADER = {\"skychop_220930\": [(20, 20)]}\n",
    "DATA_HEADER = {\"uranus_220930\": [(14, 15)]}"
   ]
  },
  {
   "cell_type": "code",
   "execution_count": 37,
   "id": "79a61821",
   "metadata": {
    "hidden": true
   },
   "outputs": [],
   "source": [
    "DATA_HEADER = {\"uranus_220916\": [(41, 44)]}\n",
    "FLAT_HEADER = {\"skychop_220916\": [(16, 16)]}\n",
    "BS_HEADER = {\"bias_step\": [(10, 10)]}"
   ]
  },
  {
   "cell_type": "code",
   "execution_count": null,
   "id": "e48cca44",
   "metadata": {
    "hidden": true
   },
   "outputs": [],
   "source": [
    "30000 "
   ]
  },
  {
   "cell_type": "code",
   "execution_count": 34,
   "id": "576381b0",
   "metadata": {
    "hidden": true
   },
   "outputs": [
    {
     "data": {
      "text/plain": [
       "1000.0"
      ]
     },
     "execution_count": 34,
     "metadata": {},
     "output_type": "execute_result"
    }
   ],
   "source": [
    "5000/10*2"
   ]
  },
  {
   "cell_type": "code",
   "execution_count": 36,
   "id": "2e645fe8",
   "metadata": {
    "hidden": true
   },
   "outputs": [
    {
     "data": {
      "text/plain": [
       "268.3281572999748"
      ]
     },
     "execution_count": 36,
     "metadata": {},
     "output_type": "execute_result"
    }
   ],
   "source": [
    "30*np.sqrt(80)"
   ]
  },
  {
   "cell_type": "code",
   "execution_count": 32,
   "id": "e1587811",
   "metadata": {
    "hidden": true
   },
   "outputs": [],
   "source": [
    "import numpy as np"
   ]
  },
  {
   "cell_type": "code",
   "execution_count": 38,
   "id": "6bbba805",
   "metadata": {
    "collapsed": true,
    "hidden": true
   },
   "outputs": [
    {
     "name": "stdout",
     "output_type": "stream",
     "text": [
      "Processing beam ../../APEX_2022/20220916/skychop_220916_0016.\n",
      "Processing beam ../../APEX_2022/20220916/bias_step_0010.\n",
      "Processing beam pair ../../APEX_2022/20220916/uranus_220916_0042 and ../../APEX_2022/20220916/uranus_220916_0041.\n",
      "Processing beam pair ../../APEX_2022/20220916/uranus_220916_0044 and ../../APEX_2022/20220916/uranus_220916_0043.\n"
     ]
    },
    {
     "name": "stderr",
     "output_type": "stream",
     "text": [
      "UserWarning: No band specific config information found, will use the input kwargs only the DEFAULT configurations in conf_kwargs_.\n",
      "UserWarning: More than one values found inobs_info_.table[Elevation], will average.\n",
      "UserWarning: No band specific config information found, will use the input kwargs only the DEFAULT configurations in conf_kwargs_.\n",
      "UserWarning: More than one values found inobs_info_.table[Elevation], will average.\n",
      "UserWarning: No band specific config information found, will use the input kwargs only the DEFAULT configurations in conf_kwargs_.\n"
     ]
    },
    {
     "ename": "TypeError",
     "evalue": "unsupported operand type(s) for /: 'NoneType' and 'float'",
     "output_type": "error",
     "traceback": [
      "\u001b[0;31m---------------------------------------------------------------------------\u001b[0m",
      "\u001b[0;31mTypeError\u001b[0m                                 Traceback (most recent call last)",
      "Input \u001b[0;32mIn [38]\u001b[0m, in \u001b[0;36m<cell line: 3>\u001b[0;34m()\u001b[0m\n\u001b[1;32m      1\u001b[0m r\u001b[38;5;241m.\u001b[39mdo_ica\u001b[38;5;241m=\u001b[39m\u001b[38;5;28;01mTrue\u001b[39;00m\n\u001b[1;32m      2\u001b[0m r\u001b[38;5;241m.\u001b[39mdo_smooth\u001b[38;5;241m=\u001b[39m\u001b[38;5;28;01mFalse\u001b[39;00m\n\u001b[0;32m----> 3\u001b[0m \u001b[43mr\u001b[49m\u001b[38;5;241;43m.\u001b[39;49m\u001b[43mreduce\u001b[49m\u001b[43m(\u001b[49m\u001b[43mFLAT_HEADER\u001b[49m\u001b[43m,\u001b[49m\u001b[43mDATA_HEADER\u001b[49m\u001b[43m,\u001b[49m\u001b[43mBS_HEADER\u001b[49m\u001b[43m)\u001b[49m\n",
      "File \u001b[0;32m~/Dropbox/code/zeus2/zeustools/zeustools/calibration_pipeline.py:430\u001b[0m, in \u001b[0;36mReductionHelper.reduce\u001b[0;34m(self, flat_header, data_header, bs_header)\u001b[0m\n\u001b[1;32m    428\u001b[0m zobs_i_err \u001b[38;5;241m=\u001b[39m z2pipl\u001b[38;5;241m.\u001b[39mfb_to_i_tes(zobs_err)\n\u001b[1;32m    429\u001b[0m atm_trans \u001b[38;5;241m=\u001b[39m z2pipl\u001b[38;5;241m.\u001b[39mget_transmission_obs_array(\u001b[38;5;28mself\u001b[39m\u001b[38;5;241m.\u001b[39marray_map, pwv\u001b[38;5;241m=\u001b[39mpwv, elev\u001b[38;5;241m=\u001b[39melev)\n\u001b[0;32m--> 430\u001b[0m atm_trans_raw \u001b[38;5;241m=\u001b[39m \u001b[43mz2pipl\u001b[49m\u001b[38;5;241;43m.\u001b[39;49m\u001b[43mget_transmission_raw_obs_array\u001b[49m\u001b[43m(\u001b[49m\u001b[38;5;28;43mself\u001b[39;49m\u001b[38;5;241;43m.\u001b[39;49m\u001b[43marray_map\u001b[49m\u001b[43m,\u001b[49m\u001b[43m \u001b[49m\u001b[43mpwv\u001b[49m\u001b[38;5;241;43m=\u001b[39;49m\u001b[43mpwv\u001b[49m\u001b[43m,\u001b[49m\u001b[43m \u001b[49m\u001b[43melev\u001b[49m\u001b[38;5;241;43m=\u001b[39;49m\u001b[43melev\u001b[49m\u001b[43m,\u001b[49m\u001b[43m \u001b[49m\u001b[43mgrat_idx\u001b[49m\u001b[38;5;241;43m=\u001b[39;49m\u001b[43mgrat_idx\u001b[49m\u001b[43m)\u001b[49m\n\u001b[1;32m    431\u001b[0m filt_trans \u001b[38;5;241m=\u001b[39m z2pipl\u001b[38;5;241m.\u001b[39mObsArray(\u001b[38;5;28mself\u001b[39m\u001b[38;5;241m.\u001b[39mzoc\u001b[38;5;241m.\u001b[39mget_transmission_microns(\u001b[38;5;28mself\u001b[39m\u001b[38;5;241m.\u001b[39marray_map\u001b[38;5;241m.\u001b[39marray_wl_)[:, \u001b[38;5;28;01mNone\u001b[39;00m], \n\u001b[1;32m    432\u001b[0m                              array_map\u001b[38;5;241m=\u001b[39m\u001b[38;5;28mself\u001b[39m\u001b[38;5;241m.\u001b[39marray_map, obs_id\u001b[38;5;241m=\u001b[39m\u001b[38;5;124m\"\u001b[39m\u001b[38;5;124moptical chain\u001b[39m\u001b[38;5;124m\"\u001b[39m)\n\u001b[1;32m    433\u001b[0m filt_trans\u001b[38;5;241m.\u001b[39mto_table()\u001b[38;5;241m.\u001b[39mwrite(os\u001b[38;5;241m.\u001b[39mpath\u001b[38;5;241m.\u001b[39mjoin(\u001b[38;5;28mself\u001b[39m\u001b[38;5;241m.\u001b[39mwrite_dir, z2pipl\u001b[38;5;241m.\u001b[39mbuild_header(data_header)\u001b[38;5;241m+\u001b[39m\u001b[38;5;124m\"\u001b[39m\u001b[38;5;124m_inst_trans.csv\u001b[39m\u001b[38;5;124m\"\u001b[39m), overwrite\u001b[38;5;241m=\u001b[39m\u001b[38;5;28;01mTrue\u001b[39;00m)\n",
      "File \u001b[0;32m~/Dropbox/code/zeus2/zeus2_toolbox/src/zeus2_toolbox/analyze.py:1375\u001b[0m, in \u001b[0;36mget_transmission_raw_obs_array\u001b[0;34m(array_map, pwv, elev, **kwargs)\u001b[0m\n\u001b[1;32m   1372\u001b[0m spat_arr, wl_arr, trans_arr \u001b[38;5;241m=\u001b[39m np\u001b[38;5;241m.\u001b[39mbroadcast_arrays(\n\u001b[1;32m   1373\u001b[0m         spat_arr, wl_arr[:, \u001b[38;5;28;01mNone\u001b[39;00m], trans_arr[:, \u001b[38;5;28;01mNone\u001b[39;00m])\n\u001b[1;32m   1374\u001b[0m spat, wl, trans \u001b[38;5;241m=\u001b[39m spat_arr\u001b[38;5;241m.\u001b[39mflatten(), wl_arr\u001b[38;5;241m.\u001b[39mflatten(), trans_arr\u001b[38;5;241m.\u001b[39mflatten()\n\u001b[0;32m-> 1375\u001b[0m spec \u001b[38;5;241m=\u001b[39m \u001b[43marray_map\u001b[49m\u001b[38;5;241;43m.\u001b[39;49m\u001b[43mspec_calculator\u001b[49m\u001b[43m(\u001b[49m\u001b[43mwl\u001b[49m\u001b[38;5;241;43m=\u001b[39;49m\u001b[43mwl\u001b[49m\u001b[43m,\u001b[49m\u001b[43m \u001b[49m\u001b[43mspat\u001b[49m\u001b[38;5;241;43m=\u001b[39;49m\u001b[43mspat\u001b[49m\u001b[43m,\u001b[49m\u001b[43m \u001b[49m\u001b[38;5;241;43m*\u001b[39;49m\u001b[38;5;241;43m*\u001b[39;49m\u001b[43mkwargs\u001b[49m\u001b[43m)\u001b[49m\n\u001b[1;32m   1376\u001b[0m use_mask \u001b[38;5;241m=\u001b[39m np\u001b[38;5;241m.\u001b[39misfinite(spec)  \u001b[38;5;66;03m# using only valid spec\u001b[39;00m\n\u001b[1;32m   1377\u001b[0m spat, spec, trans, wl \u001b[38;5;241m=\u001b[39m spat[use_mask], spec[use_mask], trans[use_mask], \\\n\u001b[1;32m   1378\u001b[0m                         wl[use_mask]\n",
      "File \u001b[0;32m~/Dropbox/code/zeus2/zeus2_toolbox/src/zeus2_toolbox/io.py:1915\u001b[0m, in \u001b[0;36mArrayMap.spec_calculator\u001b[0;34m(self, wl, spat, **kwargs)\u001b[0m\n\u001b[1;32m   1913\u001b[0m     \u001b[38;5;28;01mif\u001b[39;00m (key \u001b[38;5;129;01min\u001b[39;00m (\u001b[38;5;124m\"\u001b[39m\u001b[38;5;124mwl\u001b[39m\u001b[38;5;124m\"\u001b[39m, \u001b[38;5;124m\"\u001b[39m\u001b[38;5;124mspat\u001b[39m\u001b[38;5;124m\"\u001b[39m)) \u001b[38;5;129;01mor\u001b[39;00m (key \u001b[38;5;129;01mnot\u001b[39;00m \u001b[38;5;129;01min\u001b[39;00m func_vars):\n\u001b[1;32m   1914\u001b[0m         kwargs_use\u001b[38;5;241m.\u001b[39mpop(key)\n\u001b[0;32m-> 1915\u001b[0m spec_use \u001b[38;5;241m=\u001b[39m \u001b[43mwl_to_spec\u001b[49m\u001b[43m(\u001b[49m\u001b[43mwl\u001b[49m\u001b[38;5;241;43m=\u001b[39;49m\u001b[43mwl_arr\u001b[49m\u001b[43m,\u001b[49m\u001b[43m \u001b[49m\u001b[43mspat\u001b[49m\u001b[38;5;241;43m=\u001b[39;49m\u001b[43mspat_arr\u001b[49m\u001b[43m,\u001b[49m\u001b[43m \u001b[49m\u001b[38;5;241;43m*\u001b[39;49m\u001b[38;5;241;43m*\u001b[39;49m\u001b[43mkwargs_use\u001b[49m\u001b[43m)\u001b[49m\n\u001b[1;32m   1917\u001b[0m extent \u001b[38;5;241m=\u001b[39m []\n\u001b[1;32m   1918\u001b[0m \u001b[38;5;28;01mfor\u001b[39;00m key \u001b[38;5;129;01min\u001b[39;00m (\u001b[38;5;124m\"\u001b[39m\u001b[38;5;124mspec_llim\u001b[39m\u001b[38;5;124m\"\u001b[39m, \u001b[38;5;124m\"\u001b[39m\u001b[38;5;124mspec_ulim\u001b[39m\u001b[38;5;124m\"\u001b[39m, \u001b[38;5;124m\"\u001b[39m\u001b[38;5;124mspat_ulim\u001b[39m\u001b[38;5;124m\"\u001b[39m, \u001b[38;5;124m\"\u001b[39m\u001b[38;5;124mspat_llim\u001b[39m\u001b[38;5;124m\"\u001b[39m):\n",
      "File \u001b[0;32m~/Dropbox/code/zeus2/zeus2_toolbox/src/zeus2_toolbox/convert.py:345\u001b[0m, in \u001b[0;36mwl_to_spec\u001b[0;34m(wl, spat, grat_idx, order, rd, rg, px_shift, py_shift, alpha_min_index, c0, c1, c2, c3, c4, c5, c6, c7, c8, quad)\u001b[0m\n\u001b[1;32m    297\u001b[0m \u001b[38;5;28;01mdef\u001b[39;00m \u001b[38;5;21mwl_to_spec\u001b[39m(wl, spat, grat_idx, order\u001b[38;5;241m=\u001b[39m\u001b[38;5;241m5\u001b[39m, rd\u001b[38;5;241m=\u001b[39m\u001b[38;5;241m200\u001b[39m, rg\u001b[38;5;241m=\u001b[39m\u001b[38;5;241m0.711111111111111\u001b[39m,\n\u001b[1;32m    298\u001b[0m                px_shift\u001b[38;5;241m=\u001b[39m\u001b[38;5;241m0\u001b[39m, py_shift\u001b[38;5;241m=\u001b[39m\u001b[38;5;241m0\u001b[39m, alpha_min_index\u001b[38;5;241m=\u001b[39m\u001b[38;5;241m73.9062453\u001b[39m,\n\u001b[1;32m    299\u001b[0m                c0\u001b[38;5;241m=\u001b[39m\u001b[38;5;241m0.9800910119\u001b[39m, c1\u001b[38;5;241m=\u001b[39m\u001b[38;5;241m-\u001b[39m\u001b[38;5;241m0.0017009051035\u001b[39m, c2\u001b[38;5;241m=\u001b[39m\u001b[38;5;241m-\u001b[39m\u001b[38;5;241m0.87654448327\u001b[39m,\n\u001b[1;32m    300\u001b[0m                c3\u001b[38;5;241m=\u001b[39m\u001b[38;5;241m36.248043521\u001b[39m, c4\u001b[38;5;241m=\u001b[39m\u001b[38;5;241m459.42373214\u001b[39m, c5\u001b[38;5;241m=\u001b[39m\u001b[38;5;241m-\u001b[39m\u001b[38;5;241m80.04474108\u001b[39m,\n\u001b[1;32m    301\u001b[0m                c6\u001b[38;5;241m=\u001b[39m\u001b[38;5;241m-\u001b[39m\u001b[38;5;241m0.0017003774252\u001b[39m, c7\u001b[38;5;241m=\u001b[39m\u001b[38;5;241m-\u001b[39m\u001b[38;5;241m1.5498032937\u001b[39m, c8\u001b[38;5;241m=\u001b[39m\u001b[38;5;241m102.04705483\u001b[39m,\n\u001b[1;32m    302\u001b[0m                quad\u001b[38;5;241m=\u001b[39m\u001b[38;5;124m\"\u001b[39m\u001b[38;5;124mspec\u001b[39m\u001b[38;5;124m\"\u001b[39m):\n\u001b[1;32m    303\u001b[0m     \u001b[38;5;124;03m\"\"\"\u001b[39;00m\n\u001b[1;32m    304\u001b[0m \u001b[38;5;124;03m    inverse function for grat_to_wl(), compute spectral index for input spatial\u001b[39;00m\n\u001b[1;32m    305\u001b[0m \u001b[38;5;124;03m    position, wavelength at the given grat_idx\u001b[39;00m\n\u001b[0;32m   (...)\u001b[0m\n\u001b[1;32m    342\u001b[0m \u001b[38;5;124;03m    :rtype: float or numpy.ndarray\u001b[39;00m\n\u001b[1;32m    343\u001b[0m \u001b[38;5;124;03m    \"\"\"\u001b[39;00m\n\u001b[0;32m--> 345\u001b[0m     alpha_s \u001b[38;5;241m=\u001b[39m alpha_min_index \u001b[38;5;241m-\u001b[39m \u001b[43mgrat_idx\u001b[49m\u001b[43m \u001b[49m\u001b[38;5;241;43m/\u001b[39;49m\u001b[43m \u001b[49m\u001b[43m(\u001b[49m\u001b[43mrd\u001b[49m\u001b[43m \u001b[49m\u001b[38;5;241;43m*\u001b[39;49m\u001b[43m \u001b[49m\u001b[43mrg\u001b[49m\u001b[43m)\u001b[49m\n\u001b[1;32m    346\u001b[0m     sin_alpha_s \u001b[38;5;241m=\u001b[39m np\u001b[38;5;241m.\u001b[39msin(alpha_s \u001b[38;5;241m*\u001b[39m np\u001b[38;5;241m.\u001b[39mpi \u001b[38;5;241m/\u001b[39m \u001b[38;5;241m180\u001b[39m)\n\u001b[1;32m    347\u001b[0m     px \u001b[38;5;241m=\u001b[39m spat \u001b[38;5;241m+\u001b[39m px_shift\n",
      "\u001b[0;31mTypeError\u001b[0m: unsupported operand type(s) for /: 'NoneType' and 'float'"
     ]
    }
   ],
   "source": [
    "r.do_ica=True\n",
    "r.do_smooth=False\n",
    "r.reduce(FLAT_HEADER,DATA_HEADER,BS_HEADER)"
   ]
  },
  {
   "cell_type": "code",
   "execution_count": null,
   "id": "2f03d73e",
   "metadata": {
    "hidden": true
   },
   "outputs": [],
   "source": [
    "DATA_HEADER = {\"uranus_220922\": [(2, 5)]}\n",
    "FLAT_HEADER = {\"skychop_220922\": [(36, 36)]}\n",
    "BS_HEADER = {\"bias_step\": [(5, 5)]}\n",
    "\n",
    "grating=1790"
   ]
  },
  {
   "cell_type": "code",
   "execution_count": 1,
   "id": "f5d459b5",
   "metadata": {
    "hidden": true
   },
   "outputs": [],
   "source": [
    "DATA_HEADER = {\"uranus_220922\": [(6, 9)]}\n",
    "FLAT_HEADER = {\"skychop_220922\": [(37, 37)]}\n",
    "BS_HEADER = {\"bias_step\": [(6, 6)]}\n",
    "\n",
    "grating=1790"
   ]
  },
  {
   "cell_type": "markdown",
   "id": "847dc63d",
   "metadata": {
    "heading_collapsed": true
   },
   "source": [
    "# HLSJ0455"
   ]
  },
  {
   "cell_type": "code",
   "execution_count": 25,
   "id": "09e2bf5e",
   "metadata": {
    "hidden": true
   },
   "outputs": [],
   "source": [
    "r.write_dir = \"HLSJ0455\"\n",
    "flats = [\n",
    "    {\"skychop_220922\": [(56, 57)]},\n",
    "    {\"skychop_220922\": [(58, 59)]},\n",
    "    {\"skychop_220922\": [(66, 67)]},\n",
    "    {\"skychop_220922\": [(68, 69)]},\n",
    "    {\"skychop_220924\": [(40, 41)]},\n",
    "    {\"skychop_220924\": [(44, 44)]},\n",
    "    {\"skychop_220924\": [(45,45)]},\n",
    "    {\"skychop_220924\": [(47, 48)]},\n",
    "    {\"skychop_220924\": [(49, 49)]},\n",
    "    {\"skychop_220924\": [(50,50)]},\n",
    "    {\"skychop_220929\": [(5, 6)]},\n",
    "    {\"skychop_220929\": [(7, 7)]},\n",
    "    {\"skychop_220929\": [(8,8)]},\n",
    "    {\"skychop_220929\": [(10, 10)]},\n",
    "    {\"skychop_220929\": [(11,11)]},\n",
    "]\n",
    "data = [\n",
    "    {\"HLSJ0455_220922\": [(0,39)]},\n",
    "    {\"HLSJ0455_220922\": [(40,79)]},\n",
    "    {\"HLSJ0455_220922\": [(80,119)]},\n",
    "    {\"HLSJ0455_220922\": [(120,161)]},\n",
    "    {\"hlsj0455_220924\": [(0,39)]},\n",
    "    {\"hlsj0455_220924\": [(40,59)]},\n",
    "    {\"hlsj0455_220924\": [(60,79)]},\n",
    "    {\"hlsj0455_220924\": [(80,119)]},\n",
    "    {\"hlsj0455_220924\": [(120,139)]},\n",
    "    {\"hlsj0455_220924\": [(140,159)]},\n",
    "    {\"hlsj0455_220929\": [(0,39)]},\n",
    "    {\"hlsj0455_220929\": [(40, 59)]},\n",
    "    {\"hlsj0455_220929\": [(60, 79)]},\n",
    "    {\"hlsj0455_220929\": [(80, 99)]},\n",
    "    {\"hlsj0455_220929\": [(100, 119)]},\n",
    "]\n",
    "bias = [\n",
    "    {\"bias_step\": [(12, 13)]},\n",
    "    {\"bias_step\": [(14, 15)]},\n",
    "    {\"bias_step\": [(20, 21)]},\n",
    "    {\"bias_step\": [(22, 23)]},\n",
    "    {\"bias_step\": [(26, 28)]},\n",
    "    {\"bias_step\": [(30, 30)]},\n",
    "    {\"bias_step\": [(31,31)]},\n",
    "    {\"bias_step\": [(33, 35)]},\n",
    "    {\"bias_step\": [(36, 37)]},\n",
    "    {\"bias_step\": [(38,39)]},\n",
    "    {\"bias_step\": [(2, 3)]},\n",
    "    {\"bias_step\": [(5, 6)]},\n",
    "    {\"bias_step\": [(7,8)]},\n",
    "    {\"bias_step\": [(9, 10)]},\n",
    "    {\"bias_step\": [(12,13)]},\n",
    "]\n",
    "folders = [\n",
    "    \"../../APEX_2022/20220922\",\n",
    "    \"../../APEX_2022/20220922\",\n",
    "    \"../../APEX_2022/20220922\",\n",
    "    \"../../APEX_2022/20220922\",\n",
    "    \"../../APEX_2022/20220924\",\n",
    "    \"../../APEX_2022/20220924\",\n",
    "    \"../../APEX_2022/20220924\",\n",
    "    \"../../APEX_2022/20220924\",\n",
    "    \"../../APEX_2022/20220924\",\n",
    "    \"../../APEX_2022/20220924\",\n",
    "    \"../../APEX_2022/20220929\",\n",
    "    \"../../APEX_2022/20220929\",\n",
    "    \"../../APEX_2022/20220929\",\n",
    "    \"../../APEX_2022/20220929\",\n",
    "    \"../../APEX_2022/20220929\",\n",
    "]\n",
    "grat_idx=[2456,2436,2416,2476,2396,2416,2416,2375,2436,2436,2476,2436,2436,2416,2416]"
   ]
  },
  {
   "cell_type": "code",
   "execution_count": 26,
   "id": "73c70c08",
   "metadata": {
    "hidden": true
   },
   "outputs": [
    {
     "name": "stdout",
     "output_type": "stream",
     "text": [
      "{'HLSJ0455_220922': [(0, 39)]} 2456\n",
      "{'HLSJ0455_220922': [(40, 79)]} 2436\n",
      "{'HLSJ0455_220922': [(80, 119)]} 2416\n",
      "{'HLSJ0455_220922': [(120, 161)]} 2476\n",
      "{'hlsj0455_220924': [(0, 39)]} 2396\n",
      "{'hlsj0455_220924': [(40, 59)]} 2416\n",
      "{'hlsj0455_220924': [(60, 79)]} 2416\n",
      "{'hlsj0455_220924': [(80, 119)]} 2375\n",
      "{'hlsj0455_220924': [(120, 139)]} 2436\n",
      "{'hlsj0455_220924': [(140, 159)]} 2436\n",
      "{'hlsj0455_220929': [(0, 39)]} 2476\n",
      "{'hlsj0455_220929': [(40, 59)]} 2436\n",
      "{'hlsj0455_220929': [(60, 79)]} 2436\n",
      "{'hlsj0455_220929': [(80, 99)]} 2416\n",
      "{'hlsj0455_220929': [(100, 119)]} 2416\n"
     ]
    }
   ],
   "source": [
    "for i,j in zip(data,grat_idx):\n",
    "    print(i,j)"
   ]
  },
  {
   "cell_type": "code",
   "execution_count": 27,
   "id": "26d5791c",
   "metadata": {
    "hidden": true
   },
   "outputs": [
    {
     "data": {
      "text/plain": [
       "(15, 15, 15, 15, 15)"
      ]
     },
     "execution_count": 27,
     "metadata": {},
     "output_type": "execute_result"
    }
   ],
   "source": [
    "len(data),len(bias),len(flats),len(folders),len(grat_idx)"
   ]
  },
  {
   "cell_type": "code",
   "execution_count": 30,
   "id": "bf526ac8",
   "metadata": {
    "hidden": true
   },
   "outputs": [],
   "source": []
  },
  {
   "cell_type": "code",
   "execution_count": 32,
   "id": "8e12c878",
   "metadata": {
    "hidden": true
   },
   "outputs": [],
   "source": [
    "times = []"
   ]
  },
  {
   "cell_type": "code",
   "execution_count": 33,
   "id": "436d0fd0",
   "metadata": {
    "hidden": true
   },
   "outputs": [
    {
     "name": "stdout",
     "output_type": "stream",
     "text": [
      "Processing beam ../../APEX_2022/20220922/skychop_220922_0057.Processing beam ../../APEX_2022/20220922/skychop_220922_0056.\n",
      "\n",
      "running in parallel on 2 threads.\n",
      "Processing beam ../../APEX_2022/20220922/bias_step_0012.\n",
      "Processing beam ../../APEX_2022/20220922/bias_step_0013.\n",
      "running in parallel on 2 threads.\n",
      "Processing beam pair ../../APEX_2022/20220922/HLSJ0455_220922_0005 and ../../APEX_2022/20220922/HLSJ0455_220922_0004.Processing beam pair ../../APEX_2022/20220922/HLSJ0455_220922_0007 and ../../APEX_2022/20220922/HLSJ0455_220922_0006.\n",
      "Processing beam pair ../../APEX_2022/20220922/HLSJ0455_220922_0009 and ../../APEX_2022/20220922/HLSJ0455_220922_0008.Processing beam pair ../../APEX_2022/20220922/HLSJ0455_220922_0003 and ../../APEX_2022/20220922/HLSJ0455_220922_0002.\n",
      "\n",
      "Processing beam pair ../../APEX_2022/20220922/HLSJ0455_220922_0011 and ../../APEX_2022/20220922/HLSJ0455_220922_0010.Processing beam pair ../../APEX_2022/20220922/HLSJ0455_220922_0001 and ../../APEX_2022/20220922/HLSJ0455_220922_0000.Processing beam pair ../../APEX_2022/20220922/HLSJ0455_220922_0013 and ../../APEX_2022/20220922/HLSJ0455_220922_0012.\n",
      "Processing beam pair ../../APEX_2022/20220922/HLSJ0455_220922_0015 and ../../APEX_2022/20220922/HLSJ0455_220922_0014.\n",
      "\n",
      "\n",
      "\n",
      "running in parallel on 4 threads.\n"
     ]
    },
    {
     "name": "stderr",
     "output_type": "stream",
     "text": [
      "UserWarning: Extra time stamps truncated\n"
     ]
    },
    {
     "name": "stdout",
     "output_type": "stream",
     "text": [
      "Processing beam pair ../../APEX_2022/20220922/HLSJ0455_220922_0017 and ../../APEX_2022/20220922/HLSJ0455_220922_0016.\n",
      "Processing beam pair ../../APEX_2022/20220922/HLSJ0455_220922_0019 and ../../APEX_2022/20220922/HLSJ0455_220922_0018.\n",
      "Processing beam pair ../../APEX_2022/20220922/HLSJ0455_220922_0021 and ../../APEX_2022/20220922/HLSJ0455_220922_0020.\n",
      "Processing beam pair ../../APEX_2022/20220922/HLSJ0455_220922_0023 and ../../APEX_2022/20220922/HLSJ0455_220922_0022.\n",
      "Processing beam pair ../../APEX_2022/20220922/HLSJ0455_220922_0025 and ../../APEX_2022/20220922/HLSJ0455_220922_0024.\n",
      "Processing beam pair ../../APEX_2022/20220922/HLSJ0455_220922_0027 and ../../APEX_2022/20220922/HLSJ0455_220922_0026.\n",
      "Processing beam pair ../../APEX_2022/20220922/HLSJ0455_220922_0029 and ../../APEX_2022/20220922/HLSJ0455_220922_0028.\n",
      "Processing beam pair ../../APEX_2022/20220922/HLSJ0455_220922_0031 and ../../APEX_2022/20220922/HLSJ0455_220922_0030.\n",
      "Processing beam pair ../../APEX_2022/20220922/HLSJ0455_220922_0033 and ../../APEX_2022/20220922/HLSJ0455_220922_0032.\n",
      "Processing beam pair ../../APEX_2022/20220922/HLSJ0455_220922_0035 and ../../APEX_2022/20220922/HLSJ0455_220922_0034.\n",
      "Processing beam pair ../../APEX_2022/20220922/HLSJ0455_220922_0037 and ../../APEX_2022/20220922/HLSJ0455_220922_0036.\n",
      "Processing beam pair ../../APEX_2022/20220922/HLSJ0455_220922_0039 and ../../APEX_2022/20220922/HLSJ0455_220922_0038.\n"
     ]
    },
    {
     "name": "stderr",
     "output_type": "stream",
     "text": [
      "UserWarning: Extra time stamps truncated\n",
      "UserWarning: No band specific config information found, will use the input kwargs only the DEFAULT configurations in conf_kwargs_.\n",
      "UserWarning: No band specific config information found, will use the input kwargs only the DEFAULT configurations in conf_kwargs_.\n",
      "UserWarning: No band specific config information found, will use the input kwargs only the DEFAULT configurations in conf_kwargs_.\n"
     ]
    },
    {
     "name": "stdout",
     "output_type": "stream",
     "text": [
      "Setting band using default layout.\n"
     ]
    },
    {
     "name": "stderr",
     "output_type": "stream",
     "text": [
      "UserWarning: No band specific config information found, will use the input kwargs only the DEFAULT configurations in conf_kwargs_.\n"
     ]
    },
    {
     "name": "stdout",
     "output_type": "stream",
     "text": [
      "Setting band using default layout.\n",
      "Processing beam ../../APEX_2022/20220922/skychop_220922_0058.\n",
      "Processing beam ../../APEX_2022/20220922/skychop_220922_0059.\n",
      "running in parallel on 2 threads.\n",
      "Processing beam ../../APEX_2022/20220922/bias_step_0014.\n",
      "Processing beam ../../APEX_2022/20220922/bias_step_0015.\n",
      "running in parallel on 2 threads.\n",
      "Processing beam pair ../../APEX_2022/20220922/HLSJ0455_220922_0041 and ../../APEX_2022/20220922/HLSJ0455_220922_0040.Processing beam pair ../../APEX_2022/20220922/HLSJ0455_220922_0043 and ../../APEX_2022/20220922/HLSJ0455_220922_0042.Processing beam pair ../../APEX_2022/20220922/HLSJ0455_220922_0047 and ../../APEX_2022/20220922/HLSJ0455_220922_0046.\n",
      "\n",
      "Processing beam pair ../../APEX_2022/20220922/HLSJ0455_220922_0045 and ../../APEX_2022/20220922/HLSJ0455_220922_0044.Processing beam pair ../../APEX_2022/20220922/HLSJ0455_220922_0049 and ../../APEX_2022/20220922/HLSJ0455_220922_0048.\n",
      "Processing beam pair ../../APEX_2022/20220922/HLSJ0455_220922_0051 and ../../APEX_2022/20220922/HLSJ0455_220922_0050.\n",
      "\n",
      "Processing beam pair ../../APEX_2022/20220922/HLSJ0455_220922_0053 and ../../APEX_2022/20220922/HLSJ0455_220922_0052.Processing beam pair ../../APEX_2022/20220922/HLSJ0455_220922_0055 and ../../APEX_2022/20220922/HLSJ0455_220922_0054.\n",
      "\n",
      "\n",
      "running in parallel on 4 threads.\n"
     ]
    },
    {
     "name": "stderr",
     "output_type": "stream",
     "text": [
      "UserWarning: Extra time stamps truncated\n",
      "UserWarning: Extra time stamps truncated\n"
     ]
    },
    {
     "name": "stdout",
     "output_type": "stream",
     "text": [
      "Processing beam pair ../../APEX_2022/20220922/HLSJ0455_220922_0057 and ../../APEX_2022/20220922/HLSJ0455_220922_0056.\n",
      "Processing beam pair ../../APEX_2022/20220922/HLSJ0455_220922_0059 and ../../APEX_2022/20220922/HLSJ0455_220922_0058.\n",
      "Processing beam pair ../../APEX_2022/20220922/HLSJ0455_220922_0061 and ../../APEX_2022/20220922/HLSJ0455_220922_0060.\n",
      "Processing beam pair ../../APEX_2022/20220922/HLSJ0455_220922_0063 and ../../APEX_2022/20220922/HLSJ0455_220922_0062.\n",
      "Processing beam pair ../../APEX_2022/20220922/HLSJ0455_220922_0065 and ../../APEX_2022/20220922/HLSJ0455_220922_0064.\n",
      "Processing beam pair ../../APEX_2022/20220922/HLSJ0455_220922_0067 and ../../APEX_2022/20220922/HLSJ0455_220922_0066.\n",
      "Processing beam pair ../../APEX_2022/20220922/HLSJ0455_220922_0069 and ../../APEX_2022/20220922/HLSJ0455_220922_0068.\n",
      "Processing beam pair ../../APEX_2022/20220922/HLSJ0455_220922_0071 and ../../APEX_2022/20220922/HLSJ0455_220922_0070.\n",
      "Processing beam pair ../../APEX_2022/20220922/HLSJ0455_220922_0073 and ../../APEX_2022/20220922/HLSJ0455_220922_0072.\n",
      "Processing beam pair ../../APEX_2022/20220922/HLSJ0455_220922_0075 and ../../APEX_2022/20220922/HLSJ0455_220922_0074.\n",
      "Processing beam pair ../../APEX_2022/20220922/HLSJ0455_220922_0077 and ../../APEX_2022/20220922/HLSJ0455_220922_0076.\n",
      "Processing beam pair ../../APEX_2022/20220922/HLSJ0455_220922_0079 and ../../APEX_2022/20220922/HLSJ0455_220922_0078.\n"
     ]
    },
    {
     "name": "stderr",
     "output_type": "stream",
     "text": [
      "UserWarning: No band specific config information found, will use the input kwargs only the DEFAULT configurations in conf_kwargs_.\n",
      "UserWarning: No band specific config information found, will use the input kwargs only the DEFAULT configurations in conf_kwargs_.\n",
      "UserWarning: No band specific config information found, will use the input kwargs only the DEFAULT configurations in conf_kwargs_.\n"
     ]
    },
    {
     "name": "stdout",
     "output_type": "stream",
     "text": [
      "Setting band using default layout.\n"
     ]
    },
    {
     "name": "stderr",
     "output_type": "stream",
     "text": [
      "UserWarning: No band specific config information found, will use the input kwargs only the DEFAULT configurations in conf_kwargs_.\n"
     ]
    },
    {
     "name": "stdout",
     "output_type": "stream",
     "text": [
      "Setting band using default layout.\n",
      "Processing beam ../../APEX_2022/20220922/skychop_220922_0066.\n",
      "Processing beam ../../APEX_2022/20220922/skychop_220922_0067.\n",
      "running in parallel on 2 threads.\n",
      "Processing beam ../../APEX_2022/20220922/bias_step_0020.\n",
      "Processing beam ../../APEX_2022/20220922/bias_step_0021.\n",
      "running in parallel on 2 threads.\n",
      "Processing beam pair ../../APEX_2022/20220922/HLSJ0455_220922_0083 and ../../APEX_2022/20220922/HLSJ0455_220922_0082.\n",
      "Processing beam pair ../../APEX_2022/20220922/HLSJ0455_220922_0081 and ../../APEX_2022/20220922/HLSJ0455_220922_0080.Processing beam pair ../../APEX_2022/20220922/HLSJ0455_220922_0087 and ../../APEX_2022/20220922/HLSJ0455_220922_0086.Processing beam pair ../../APEX_2022/20220922/HLSJ0455_220922_0085 and ../../APEX_2022/20220922/HLSJ0455_220922_0084.\n",
      "\n",
      "Processing beam pair ../../APEX_2022/20220922/HLSJ0455_220922_0089 and ../../APEX_2022/20220922/HLSJ0455_220922_0088.Processing beam pair ../../APEX_2022/20220922/HLSJ0455_220922_0093 and ../../APEX_2022/20220922/HLSJ0455_220922_0092.\n",
      "Processing beam pair ../../APEX_2022/20220922/HLSJ0455_220922_0095 and ../../APEX_2022/20220922/HLSJ0455_220922_0094.\n",
      "\n",
      "Processing beam pair ../../APEX_2022/20220922/HLSJ0455_220922_0091 and ../../APEX_2022/20220922/HLSJ0455_220922_0090.\n",
      "\n",
      "running in parallel on 4 threads.\n",
      "Processing beam pair ../../APEX_2022/20220922/HLSJ0455_220922_0097 and ../../APEX_2022/20220922/HLSJ0455_220922_0096.\n",
      "Processing beam pair ../../APEX_2022/20220922/HLSJ0455_220922_0099 and ../../APEX_2022/20220922/HLSJ0455_220922_0098.\n",
      "Processing beam pair ../../APEX_2022/20220922/HLSJ0455_220922_0101 and ../../APEX_2022/20220922/HLSJ0455_220922_0100.\n",
      "Processing beam pair ../../APEX_2022/20220922/HLSJ0455_220922_0103 and ../../APEX_2022/20220922/HLSJ0455_220922_0102.\n",
      "Processing beam pair ../../APEX_2022/20220922/HLSJ0455_220922_0105 and ../../APEX_2022/20220922/HLSJ0455_220922_0104.\n"
     ]
    },
    {
     "name": "stderr",
     "output_type": "stream",
     "text": [
      "UserWarning: Extra time stamps truncated\n"
     ]
    },
    {
     "name": "stdout",
     "output_type": "stream",
     "text": [
      "Processing beam pair ../../APEX_2022/20220922/HLSJ0455_220922_0107 and ../../APEX_2022/20220922/HLSJ0455_220922_0106.\n",
      "Processing beam pair ../../APEX_2022/20220922/HLSJ0455_220922_0109 and ../../APEX_2022/20220922/HLSJ0455_220922_0108.\n",
      "Processing beam pair ../../APEX_2022/20220922/HLSJ0455_220922_0111 and ../../APEX_2022/20220922/HLSJ0455_220922_0110.\n",
      "Processing beam pair ../../APEX_2022/20220922/HLSJ0455_220922_0113 and ../../APEX_2022/20220922/HLSJ0455_220922_0112.\n",
      "Processing beam pair ../../APEX_2022/20220922/HLSJ0455_220922_0115 and ../../APEX_2022/20220922/HLSJ0455_220922_0114.\n",
      "Processing beam pair ../../APEX_2022/20220922/HLSJ0455_220922_0117 and ../../APEX_2022/20220922/HLSJ0455_220922_0116.\n",
      "Processing beam pair ../../APEX_2022/20220922/HLSJ0455_220922_0119 and ../../APEX_2022/20220922/HLSJ0455_220922_0118.\n"
     ]
    },
    {
     "name": "stderr",
     "output_type": "stream",
     "text": [
      "UserWarning: No band specific config information found, will use the input kwargs only the DEFAULT configurations in conf_kwargs_.\n",
      "UserWarning: No band specific config information found, will use the input kwargs only the DEFAULT configurations in conf_kwargs_.\n",
      "UserWarning: No band specific config information found, will use the input kwargs only the DEFAULT configurations in conf_kwargs_.\n"
     ]
    },
    {
     "name": "stdout",
     "output_type": "stream",
     "text": [
      "Setting band using default layout.\n"
     ]
    },
    {
     "name": "stderr",
     "output_type": "stream",
     "text": [
      "UserWarning: No band specific config information found, will use the input kwargs only the DEFAULT configurations in conf_kwargs_.\n"
     ]
    },
    {
     "name": "stdout",
     "output_type": "stream",
     "text": [
      "Setting band using default layout.\n",
      "Processing beam ../../APEX_2022/20220922/skychop_220922_0068.\n",
      "Processing beam ../../APEX_2022/20220922/skychop_220922_0069.\n",
      "running in parallel on 2 threads.\n",
      "Processing beam ../../APEX_2022/20220922/bias_step_0022.\n",
      "Processing beam ../../APEX_2022/20220922/bias_step_0023.\n",
      "running in parallel on 2 threads.\n",
      "Processing beam pair ../../APEX_2022/20220922/HLSJ0455_220922_0123 and ../../APEX_2022/20220922/HLSJ0455_220922_0122.\n",
      "Processing beam pair ../../APEX_2022/20220922/HLSJ0455_220922_0127 and ../../APEX_2022/20220922/HLSJ0455_220922_0126.Processing beam pair ../../APEX_2022/20220922/HLSJ0455_220922_0125 and ../../APEX_2022/20220922/HLSJ0455_220922_0124.Processing beam pair ../../APEX_2022/20220922/HLSJ0455_220922_0121 and ../../APEX_2022/20220922/HLSJ0455_220922_0120.\n",
      "\n",
      "Processing beam pair ../../APEX_2022/20220922/HLSJ0455_220922_0129 and ../../APEX_2022/20220922/HLSJ0455_220922_0128.Processing beam pair ../../APEX_2022/20220922/HLSJ0455_220922_0131 and ../../APEX_2022/20220922/HLSJ0455_220922_0130.\n",
      "Processing beam pair ../../APEX_2022/20220922/HLSJ0455_220922_0133 and ../../APEX_2022/20220922/HLSJ0455_220922_0132.\n",
      "\n",
      "Processing beam pair ../../APEX_2022/20220922/HLSJ0455_220922_0135 and ../../APEX_2022/20220922/HLSJ0455_220922_0134.\n",
      "\n",
      "running in parallel on 4 threads.\n",
      "Processing beam pair ../../APEX_2022/20220922/HLSJ0455_220922_0137 and ../../APEX_2022/20220922/HLSJ0455_220922_0136.\n",
      "Processing beam pair ../../APEX_2022/20220922/HLSJ0455_220922_0139 and ../../APEX_2022/20220922/HLSJ0455_220922_0138.\n",
      "Processing beam pair ../../APEX_2022/20220922/HLSJ0455_220922_0141 and ../../APEX_2022/20220922/HLSJ0455_220922_0140.\n",
      "Processing beam pair ../../APEX_2022/20220922/HLSJ0455_220922_0143 and ../../APEX_2022/20220922/HLSJ0455_220922_0142.\n",
      "Processing beam pair ../../APEX_2022/20220922/HLSJ0455_220922_0145 and ../../APEX_2022/20220922/HLSJ0455_220922_0144.\n"
     ]
    },
    {
     "name": "stderr",
     "output_type": "stream",
     "text": [
      "UserWarning: Extra time stamps truncated\n"
     ]
    },
    {
     "name": "stdout",
     "output_type": "stream",
     "text": [
      "Processing beam pair ../../APEX_2022/20220922/HLSJ0455_220922_0147 and ../../APEX_2022/20220922/HLSJ0455_220922_0146.\n",
      "Processing beam pair ../../APEX_2022/20220922/HLSJ0455_220922_0149 and ../../APEX_2022/20220922/HLSJ0455_220922_0148.\n",
      "Processing beam pair ../../APEX_2022/20220922/HLSJ0455_220922_0151 and ../../APEX_2022/20220922/HLSJ0455_220922_0150.\n"
     ]
    },
    {
     "name": "stderr",
     "output_type": "stream",
     "text": [
      "UserWarning: Extra time stamps truncated\n"
     ]
    },
    {
     "name": "stdout",
     "output_type": "stream",
     "text": [
      "Processing beam pair ../../APEX_2022/20220922/HLSJ0455_220922_0153 and ../../APEX_2022/20220922/HLSJ0455_220922_0152.\n",
      "Processing beam pair ../../APEX_2022/20220922/HLSJ0455_220922_0155 and ../../APEX_2022/20220922/HLSJ0455_220922_0154.\n",
      "Processing beam pair ../../APEX_2022/20220922/HLSJ0455_220922_0157 and ../../APEX_2022/20220922/HLSJ0455_220922_0156.\n",
      "Processing beam pair ../../APEX_2022/20220922/HLSJ0455_220922_0159 and ../../APEX_2022/20220922/HLSJ0455_220922_0158.\n",
      "Processing beam pair ../../APEX_2022/20220922/HLSJ0455_220922_0161 and ../../APEX_2022/20220922/HLSJ0455_220922_0160.\n"
     ]
    },
    {
     "name": "stderr",
     "output_type": "stream",
     "text": [
      "UserWarning: No band specific config information found, will use the input kwargs only the DEFAULT configurations in conf_kwargs_.\n",
      "UserWarning: No band specific config information found, will use the input kwargs only the DEFAULT configurations in conf_kwargs_.\n",
      "UserWarning: More than one values found inobs_info_.table[mm PWV], will average.\n",
      "UserWarning: More than one values found inobs_info_.table[Elevation], will average.\n",
      "UserWarning: No band specific config information found, will use the input kwargs only the DEFAULT configurations in conf_kwargs_.\n"
     ]
    },
    {
     "name": "stdout",
     "output_type": "stream",
     "text": [
      "Setting band using default layout.\n"
     ]
    },
    {
     "name": "stderr",
     "output_type": "stream",
     "text": [
      "UserWarning: More than one values found inobs_info_.table[mm PWV], will average.\n",
      "UserWarning: More than one values found inobs_info_.table[Elevation], will average.\n",
      "UserWarning: No band specific config information found, will use the input kwargs only the DEFAULT configurations in conf_kwargs_.\n"
     ]
    },
    {
     "name": "stdout",
     "output_type": "stream",
     "text": [
      "Setting band using default layout.\n",
      "Processing beam ../../APEX_2022/20220924/skychop_220924_0040.\n",
      "Processing beam ../../APEX_2022/20220924/skychop_220924_0041.\n",
      "running in parallel on 2 threads.\n",
      "Processing beam ../../APEX_2022/20220924/bias_step_0026.\n",
      "Processing beam ../../APEX_2022/20220924/bias_step_0028.Processing beam ../../APEX_2022/20220924/bias_step_0027.\n",
      "\n",
      "running in parallel on 3 threads.\n",
      "Processing beam pair ../../APEX_2022/20220924/hlsj0455_220924_0003 and ../../APEX_2022/20220924/hlsj0455_220924_0002.Processing beam pair ../../APEX_2022/20220924/hlsj0455_220924_0005 and ../../APEX_2022/20220924/hlsj0455_220924_0004.\n",
      "Processing beam pair ../../APEX_2022/20220924/hlsj0455_220924_0009 and ../../APEX_2022/20220924/hlsj0455_220924_0008.Processing beam pair ../../APEX_2022/20220924/hlsj0455_220924_0001 and ../../APEX_2022/20220924/hlsj0455_220924_0000.Processing beam pair ../../APEX_2022/20220924/hlsj0455_220924_0007 and ../../APEX_2022/20220924/hlsj0455_220924_0006.\n",
      "Processing beam pair ../../APEX_2022/20220924/hlsj0455_220924_0013 and ../../APEX_2022/20220924/hlsj0455_220924_0012.Processing beam pair ../../APEX_2022/20220924/hlsj0455_220924_0011 and ../../APEX_2022/20220924/hlsj0455_220924_0010.\n",
      "\n",
      "\n",
      "\n",
      "\n",
      "Processing beam pair ../../APEX_2022/20220924/hlsj0455_220924_0015 and ../../APEX_2022/20220924/hlsj0455_220924_0014.\n",
      "running in parallel on 4 threads.\n",
      "Processing beam pair ../../APEX_2022/20220924/hlsj0455_220924_0017 and ../../APEX_2022/20220924/hlsj0455_220924_0016.\n",
      "Processing beam pair ../../APEX_2022/20220924/hlsj0455_220924_0019 and ../../APEX_2022/20220924/hlsj0455_220924_0018.\n",
      "Processing beam pair ../../APEX_2022/20220924/hlsj0455_220924_0021 and ../../APEX_2022/20220924/hlsj0455_220924_0020.\n",
      "Processing beam pair ../../APEX_2022/20220924/hlsj0455_220924_0023 and ../../APEX_2022/20220924/hlsj0455_220924_0022.\n",
      "Processing beam pair ../../APEX_2022/20220924/hlsj0455_220924_0025 and ../../APEX_2022/20220924/hlsj0455_220924_0024.\n",
      "Processing beam pair ../../APEX_2022/20220924/hlsj0455_220924_0027 and ../../APEX_2022/20220924/hlsj0455_220924_0026.\n",
      "Processing beam pair ../../APEX_2022/20220924/hlsj0455_220924_0029 and ../../APEX_2022/20220924/hlsj0455_220924_0028.\n",
      "Processing beam pair ../../APEX_2022/20220924/hlsj0455_220924_0031 and ../../APEX_2022/20220924/hlsj0455_220924_0030.\n"
     ]
    },
    {
     "name": "stderr",
     "output_type": "stream",
     "text": [
      "UserWarning: Extra time stamps truncated\n"
     ]
    },
    {
     "name": "stdout",
     "output_type": "stream",
     "text": [
      "Processing beam pair ../../APEX_2022/20220924/hlsj0455_220924_0033 and ../../APEX_2022/20220924/hlsj0455_220924_0032.\n",
      "Processing beam pair ../../APEX_2022/20220924/hlsj0455_220924_0035 and ../../APEX_2022/20220924/hlsj0455_220924_0034.\n",
      "Processing beam pair ../../APEX_2022/20220924/hlsj0455_220924_0037 and ../../APEX_2022/20220924/hlsj0455_220924_0036.\n",
      "Processing beam pair ../../APEX_2022/20220924/hlsj0455_220924_0039 and ../../APEX_2022/20220924/hlsj0455_220924_0038.\n"
     ]
    },
    {
     "name": "stderr",
     "output_type": "stream",
     "text": [
      "UserWarning: No band specific config information found, will use the input kwargs only the DEFAULT configurations in conf_kwargs_.\n",
      "UserWarning: No band specific config information found, will use the input kwargs only the DEFAULT configurations in conf_kwargs_.\n",
      "UserWarning: No band specific config information found, will use the input kwargs only the DEFAULT configurations in conf_kwargs_.\n"
     ]
    },
    {
     "name": "stdout",
     "output_type": "stream",
     "text": [
      "Setting band using default layout.\n"
     ]
    },
    {
     "name": "stderr",
     "output_type": "stream",
     "text": [
      "UserWarning: No band specific config information found, will use the input kwargs only the DEFAULT configurations in conf_kwargs_.\n"
     ]
    },
    {
     "name": "stdout",
     "output_type": "stream",
     "text": [
      "Setting band using default layout.\n",
      "Processing beam ../../APEX_2022/20220924/skychop_220924_0044.\n",
      "Processing beam ../../APEX_2022/20220924/bias_step_0030.\n",
      "Processing beam pair ../../APEX_2022/20220924/hlsj0455_220924_0045 and ../../APEX_2022/20220924/hlsj0455_220924_0044.Processing beam pair ../../APEX_2022/20220924/hlsj0455_220924_0041 and ../../APEX_2022/20220924/hlsj0455_220924_0040.Processing beam pair ../../APEX_2022/20220924/hlsj0455_220924_0043 and ../../APEX_2022/20220924/hlsj0455_220924_0042.\n",
      "\n",
      "Processing beam pair ../../APEX_2022/20220924/hlsj0455_220924_0047 and ../../APEX_2022/20220924/hlsj0455_220924_0046.\n",
      "\n",
      "Processing beam pair ../../APEX_2022/20220924/hlsj0455_220924_0051 and ../../APEX_2022/20220924/hlsj0455_220924_0050.Processing beam pair ../../APEX_2022/20220924/hlsj0455_220924_0049 and ../../APEX_2022/20220924/hlsj0455_220924_0048.Processing beam pair ../../APEX_2022/20220924/hlsj0455_220924_0053 and ../../APEX_2022/20220924/hlsj0455_220924_0052.\n",
      "\n",
      "\n",
      "Processing beam pair ../../APEX_2022/20220924/hlsj0455_220924_0055 and ../../APEX_2022/20220924/hlsj0455_220924_0054.\n",
      "running in parallel on 4 threads.\n"
     ]
    },
    {
     "name": "stderr",
     "output_type": "stream",
     "text": [
      "UserWarning: Extra time stamps truncated\n"
     ]
    },
    {
     "name": "stdout",
     "output_type": "stream",
     "text": [
      "Processing beam pair ../../APEX_2022/20220924/hlsj0455_220924_0057 and ../../APEX_2022/20220924/hlsj0455_220924_0056.\n",
      "Processing beam pair ../../APEX_2022/20220924/hlsj0455_220924_0059 and ../../APEX_2022/20220924/hlsj0455_220924_0058.\n"
     ]
    },
    {
     "name": "stderr",
     "output_type": "stream",
     "text": [
      "UserWarning: No band specific config information found, will use the input kwargs only the DEFAULT configurations in conf_kwargs_.\n",
      "UserWarning: No band specific config information found, will use the input kwargs only the DEFAULT configurations in conf_kwargs_.\n",
      "UserWarning: No band specific config information found, will use the input kwargs only the DEFAULT configurations in conf_kwargs_.\n"
     ]
    },
    {
     "name": "stdout",
     "output_type": "stream",
     "text": [
      "Setting band using default layout.\n"
     ]
    },
    {
     "name": "stderr",
     "output_type": "stream",
     "text": [
      "UserWarning: No band specific config information found, will use the input kwargs only the DEFAULT configurations in conf_kwargs_.\n"
     ]
    },
    {
     "name": "stdout",
     "output_type": "stream",
     "text": [
      "Setting band using default layout.\n",
      "Processing beam ../../APEX_2022/20220924/skychop_220924_0045.\n",
      "Processing beam ../../APEX_2022/20220924/bias_step_0031.\n",
      "Processing beam pair ../../APEX_2022/20220924/hlsj0455_220924_0067 and ../../APEX_2022/20220924/hlsj0455_220924_0066.\n",
      "Processing beam pair ../../APEX_2022/20220924/hlsj0455_220924_0061 and ../../APEX_2022/20220924/hlsj0455_220924_0060.Processing beam pair ../../APEX_2022/20220924/hlsj0455_220924_0069 and ../../APEX_2022/20220924/hlsj0455_220924_0068.Processing beam pair ../../APEX_2022/20220924/hlsj0455_220924_0071 and ../../APEX_2022/20220924/hlsj0455_220924_0070.\n",
      "Processing beam pair ../../APEX_2022/20220924/hlsj0455_220924_0065 and ../../APEX_2022/20220924/hlsj0455_220924_0064.\n",
      "\n",
      "Processing beam pair ../../APEX_2022/20220924/hlsj0455_220924_0063 and ../../APEX_2022/20220924/hlsj0455_220924_0062.Processing beam pair ../../APEX_2022/20220924/hlsj0455_220924_0075 and ../../APEX_2022/20220924/hlsj0455_220924_0074.\n",
      "\n",
      "\n",
      "Processing beam pair ../../APEX_2022/20220924/hlsj0455_220924_0073 and ../../APEX_2022/20220924/hlsj0455_220924_0072.\n",
      "running in parallel on 4 threads.\n",
      "Processing beam pair ../../APEX_2022/20220924/hlsj0455_220924_0077 and ../../APEX_2022/20220924/hlsj0455_220924_0076.\n",
      "Processing beam pair ../../APEX_2022/20220924/hlsj0455_220924_0079 and ../../APEX_2022/20220924/hlsj0455_220924_0078.\n"
     ]
    },
    {
     "name": "stderr",
     "output_type": "stream",
     "text": [
      "UserWarning: No band specific config information found, will use the input kwargs only the DEFAULT configurations in conf_kwargs_.\n",
      "UserWarning: No band specific config information found, will use the input kwargs only the DEFAULT configurations in conf_kwargs_.\n",
      "UserWarning: No band specific config information found, will use the input kwargs only the DEFAULT configurations in conf_kwargs_.\n"
     ]
    },
    {
     "name": "stdout",
     "output_type": "stream",
     "text": [
      "Setting band using default layout.\n"
     ]
    },
    {
     "name": "stderr",
     "output_type": "stream",
     "text": [
      "UserWarning: No band specific config information found, will use the input kwargs only the DEFAULT configurations in conf_kwargs_.\n"
     ]
    },
    {
     "name": "stdout",
     "output_type": "stream",
     "text": [
      "Setting band using default layout.\n",
      "Processing beam ../../APEX_2022/20220924/skychop_220924_0047.\n",
      "Processing beam ../../APEX_2022/20220924/skychop_220924_0048.\n",
      "running in parallel on 2 threads.\n",
      "Processing beam ../../APEX_2022/20220924/bias_step_0033.\n",
      "Processing beam ../../APEX_2022/20220924/bias_step_0035.Processing beam ../../APEX_2022/20220924/bias_step_0034.\n",
      "\n",
      "running in parallel on 3 threads.\n",
      "Processing beam pair ../../APEX_2022/20220924/hlsj0455_220924_0085 and ../../APEX_2022/20220924/hlsj0455_220924_0084.\n",
      "Processing beam pair ../../APEX_2022/20220924/hlsj0455_220924_0087 and ../../APEX_2022/20220924/hlsj0455_220924_0086.Processing beam pair ../../APEX_2022/20220924/hlsj0455_220924_0081 and ../../APEX_2022/20220924/hlsj0455_220924_0080.Processing beam pair ../../APEX_2022/20220924/hlsj0455_220924_0089 and ../../APEX_2022/20220924/hlsj0455_220924_0088.\n",
      "Processing beam pair ../../APEX_2022/20220924/hlsj0455_220924_0091 and ../../APEX_2022/20220924/hlsj0455_220924_0090.\n",
      "Processing beam pair ../../APEX_2022/20220924/hlsj0455_220924_0093 and ../../APEX_2022/20220924/hlsj0455_220924_0092.\n",
      "Processing beam pair ../../APEX_2022/20220924/hlsj0455_220924_0083 and ../../APEX_2022/20220924/hlsj0455_220924_0082.\n",
      "Processing beam pair ../../APEX_2022/20220924/hlsj0455_220924_0095 and ../../APEX_2022/20220924/hlsj0455_220924_0094.\n",
      "\n",
      "\n",
      "running in parallel on 4 threads.\n",
      "Processing beam pair ../../APEX_2022/20220924/hlsj0455_220924_0097 and ../../APEX_2022/20220924/hlsj0455_220924_0096.\n",
      "Processing beam pair ../../APEX_2022/20220924/hlsj0455_220924_0099 and ../../APEX_2022/20220924/hlsj0455_220924_0098.\n",
      "Processing beam pair ../../APEX_2022/20220924/hlsj0455_220924_0101 and ../../APEX_2022/20220924/hlsj0455_220924_0100.\n",
      "Processing beam pair ../../APEX_2022/20220924/hlsj0455_220924_0103 and ../../APEX_2022/20220924/hlsj0455_220924_0102.\n",
      "Processing beam pair ../../APEX_2022/20220924/hlsj0455_220924_0105 and ../../APEX_2022/20220924/hlsj0455_220924_0104.\n",
      "Processing beam pair ../../APEX_2022/20220924/hlsj0455_220924_0107 and ../../APEX_2022/20220924/hlsj0455_220924_0106.\n",
      "Processing beam pair ../../APEX_2022/20220924/hlsj0455_220924_0109 and ../../APEX_2022/20220924/hlsj0455_220924_0108.\n",
      "Processing beam pair ../../APEX_2022/20220924/hlsj0455_220924_0111 and ../../APEX_2022/20220924/hlsj0455_220924_0110.\n",
      "Processing beam pair ../../APEX_2022/20220924/hlsj0455_220924_0113 and ../../APEX_2022/20220924/hlsj0455_220924_0112.\n",
      "Processing beam pair ../../APEX_2022/20220924/hlsj0455_220924_0115 and ../../APEX_2022/20220924/hlsj0455_220924_0114.\n",
      "Processing beam pair ../../APEX_2022/20220924/hlsj0455_220924_0117 and ../../APEX_2022/20220924/hlsj0455_220924_0116.\n",
      "Processing beam pair ../../APEX_2022/20220924/hlsj0455_220924_0119 and ../../APEX_2022/20220924/hlsj0455_220924_0118.\n"
     ]
    },
    {
     "name": "stderr",
     "output_type": "stream",
     "text": [
      "UserWarning: No band specific config information found, will use the input kwargs only the DEFAULT configurations in conf_kwargs_.\n",
      "UserWarning: No band specific config information found, will use the input kwargs only the DEFAULT configurations in conf_kwargs_.\n",
      "UserWarning: More than one values found inobs_info_.table[mm PWV], will average.\n",
      "UserWarning: More than one values found inobs_info_.table[Elevation], will average.\n",
      "UserWarning: No band specific config information found, will use the input kwargs only the DEFAULT configurations in conf_kwargs_.\n"
     ]
    },
    {
     "name": "stdout",
     "output_type": "stream",
     "text": [
      "Setting band using default layout.\n"
     ]
    },
    {
     "name": "stderr",
     "output_type": "stream",
     "text": [
      "UserWarning: More than one values found inobs_info_.table[mm PWV], will average.\n",
      "UserWarning: More than one values found inobs_info_.table[Elevation], will average.\n",
      "UserWarning: No band specific config information found, will use the input kwargs only the DEFAULT configurations in conf_kwargs_.\n"
     ]
    },
    {
     "name": "stdout",
     "output_type": "stream",
     "text": [
      "Setting band using default layout.\n",
      "Processing beam ../../APEX_2022/20220924/skychop_220924_0049.\n",
      "Processing beam ../../APEX_2022/20220924/bias_step_0036.\n",
      "Processing beam ../../APEX_2022/20220924/bias_step_0037.\n",
      "running in parallel on 2 threads.\n",
      "Processing beam pair ../../APEX_2022/20220924/hlsj0455_220924_0123 and ../../APEX_2022/20220924/hlsj0455_220924_0122.Processing beam pair ../../APEX_2022/20220924/hlsj0455_220924_0125 and ../../APEX_2022/20220924/hlsj0455_220924_0124.Processing beam pair ../../APEX_2022/20220924/hlsj0455_220924_0121 and ../../APEX_2022/20220924/hlsj0455_220924_0120.Processing beam pair ../../APEX_2022/20220924/hlsj0455_220924_0127 and ../../APEX_2022/20220924/hlsj0455_220924_0126.\n",
      "\n",
      "Processing beam pair ../../APEX_2022/20220924/hlsj0455_220924_0129 and ../../APEX_2022/20220924/hlsj0455_220924_0128.Processing beam pair ../../APEX_2022/20220924/hlsj0455_220924_0131 and ../../APEX_2022/20220924/hlsj0455_220924_0130.\n",
      "\n",
      "\n",
      "\n",
      "Processing beam pair ../../APEX_2022/20220924/hlsj0455_220924_0133 and ../../APEX_2022/20220924/hlsj0455_220924_0132.Processing beam pair ../../APEX_2022/20220924/hlsj0455_220924_0135 and ../../APEX_2022/20220924/hlsj0455_220924_0134.\n",
      "\n",
      "running in parallel on 4 threads.\n"
     ]
    },
    {
     "name": "stderr",
     "output_type": "stream",
     "text": [
      "UserWarning: Extra time stamps truncated\n"
     ]
    },
    {
     "name": "stdout",
     "output_type": "stream",
     "text": [
      "Processing beam pair ../../APEX_2022/20220924/hlsj0455_220924_0137 and ../../APEX_2022/20220924/hlsj0455_220924_0136.\n",
      "Processing beam pair ../../APEX_2022/20220924/hlsj0455_220924_0139 and ../../APEX_2022/20220924/hlsj0455_220924_0138.\n"
     ]
    },
    {
     "name": "stderr",
     "output_type": "stream",
     "text": [
      "UserWarning: No band specific config information found, will use the input kwargs only the DEFAULT configurations in conf_kwargs_.\n",
      "UserWarning: No band specific config information found, will use the input kwargs only the DEFAULT configurations in conf_kwargs_.\n",
      "UserWarning: No band specific config information found, will use the input kwargs only the DEFAULT configurations in conf_kwargs_.\n"
     ]
    },
    {
     "name": "stdout",
     "output_type": "stream",
     "text": [
      "Setting band using default layout.\n"
     ]
    },
    {
     "name": "stderr",
     "output_type": "stream",
     "text": [
      "UserWarning: No band specific config information found, will use the input kwargs only the DEFAULT configurations in conf_kwargs_.\n"
     ]
    },
    {
     "name": "stdout",
     "output_type": "stream",
     "text": [
      "Setting band using default layout.\n",
      "Processing beam ../../APEX_2022/20220924/skychop_220924_0050.\n",
      "Processing beam ../../APEX_2022/20220924/bias_step_0038.Processing beam ../../APEX_2022/20220924/bias_step_0039.\n",
      "\n",
      "running in parallel on 2 threads.\n",
      "Processing beam pair ../../APEX_2022/20220924/hlsj0455_220924_0143 and ../../APEX_2022/20220924/hlsj0455_220924_0142.Processing beam pair ../../APEX_2022/20220924/hlsj0455_220924_0145 and ../../APEX_2022/20220924/hlsj0455_220924_0144.Processing beam pair ../../APEX_2022/20220924/hlsj0455_220924_0141 and ../../APEX_2022/20220924/hlsj0455_220924_0140.Processing beam pair ../../APEX_2022/20220924/hlsj0455_220924_0147 and ../../APEX_2022/20220924/hlsj0455_220924_0146.\n",
      "\n",
      "Processing beam pair ../../APEX_2022/20220924/hlsj0455_220924_0151 and ../../APEX_2022/20220924/hlsj0455_220924_0150.\n",
      "Processing beam pair ../../APEX_2022/20220924/hlsj0455_220924_0149 and ../../APEX_2022/20220924/hlsj0455_220924_0148.\n",
      "\n",
      "Processing beam pair ../../APEX_2022/20220924/hlsj0455_220924_0153 and ../../APEX_2022/20220924/hlsj0455_220924_0152.Processing beam pair ../../APEX_2022/20220924/hlsj0455_220924_0155 and ../../APEX_2022/20220924/hlsj0455_220924_0154.\n",
      "\n",
      "\n",
      "running in parallel on 4 threads.\n",
      "Processing beam pair ../../APEX_2022/20220924/hlsj0455_220924_0157 and ../../APEX_2022/20220924/hlsj0455_220924_0156.\n",
      "Processing beam pair ../../APEX_2022/20220924/hlsj0455_220924_0159 and ../../APEX_2022/20220924/hlsj0455_220924_0158.\n"
     ]
    },
    {
     "name": "stderr",
     "output_type": "stream",
     "text": [
      "UserWarning: No band specific config information found, will use the input kwargs only the DEFAULT configurations in conf_kwargs_.\n",
      "UserWarning: No band specific config information found, will use the input kwargs only the DEFAULT configurations in conf_kwargs_.\n",
      "UserWarning: No band specific config information found, will use the input kwargs only the DEFAULT configurations in conf_kwargs_.\n"
     ]
    },
    {
     "name": "stdout",
     "output_type": "stream",
     "text": [
      "Setting band using default layout.\n"
     ]
    },
    {
     "name": "stderr",
     "output_type": "stream",
     "text": [
      "UserWarning: No band specific config information found, will use the input kwargs only the DEFAULT configurations in conf_kwargs_.\n"
     ]
    },
    {
     "name": "stdout",
     "output_type": "stream",
     "text": [
      "Setting band using default layout.\n",
      "Processing beam ../../APEX_2022/20220929/skychop_220929_0005.\n",
      "Processing beam ../../APEX_2022/20220929/skychop_220929_0006.\n",
      "running in parallel on 2 threads.\n",
      "Processing beam ../../APEX_2022/20220929/bias_step_0002.\n",
      "Processing beam ../../APEX_2022/20220929/bias_step_0003.\n",
      "running in parallel on 2 threads.\n",
      "Processing beam pair ../../APEX_2022/20220929/hlsj0455_220929_0003 and ../../APEX_2022/20220929/hlsj0455_220929_0002.Processing beam pair ../../APEX_2022/20220929/hlsj0455_220929_0001 and ../../APEX_2022/20220929/hlsj0455_220929_0000.\n",
      "Processing beam pair ../../APEX_2022/20220929/hlsj0455_220929_0007 and ../../APEX_2022/20220929/hlsj0455_220929_0006.Processing beam pair ../../APEX_2022/20220929/hlsj0455_220929_0011 and ../../APEX_2022/20220929/hlsj0455_220929_0010.Processing beam pair ../../APEX_2022/20220929/hlsj0455_220929_0009 and ../../APEX_2022/20220929/hlsj0455_220929_0008.\n",
      "Processing beam pair ../../APEX_2022/20220929/hlsj0455_220929_0005 and ../../APEX_2022/20220929/hlsj0455_220929_0004.\n",
      "\n",
      "Processing beam pair ../../APEX_2022/20220929/hlsj0455_220929_0015 and ../../APEX_2022/20220929/hlsj0455_220929_0014.Processing beam pair ../../APEX_2022/20220929/hlsj0455_220929_0013 and ../../APEX_2022/20220929/hlsj0455_220929_0012.\n",
      "\n",
      "\n",
      "\n",
      "running in parallel on 4 threads.\n"
     ]
    },
    {
     "name": "stderr",
     "output_type": "stream",
     "text": [
      "UserWarning: Extra time stamps truncated\n"
     ]
    },
    {
     "name": "stdout",
     "output_type": "stream",
     "text": [
      "Processing beam pair ../../APEX_2022/20220929/hlsj0455_220929_0017 and ../../APEX_2022/20220929/hlsj0455_220929_0016.\n",
      "Processing beam pair ../../APEX_2022/20220929/hlsj0455_220929_0019 and ../../APEX_2022/20220929/hlsj0455_220929_0018.\n",
      "Processing beam pair ../../APEX_2022/20220929/hlsj0455_220929_0021 and ../../APEX_2022/20220929/hlsj0455_220929_0020.\n",
      "Processing beam pair ../../APEX_2022/20220929/hlsj0455_220929_0023 and ../../APEX_2022/20220929/hlsj0455_220929_0022.\n"
     ]
    },
    {
     "name": "stderr",
     "output_type": "stream",
     "text": [
      "UserWarning: Extra time stamps truncated\n"
     ]
    },
    {
     "name": "stdout",
     "output_type": "stream",
     "text": [
      "Processing beam pair ../../APEX_2022/20220929/hlsj0455_220929_0025 and ../../APEX_2022/20220929/hlsj0455_220929_0024.\n",
      "Processing beam pair ../../APEX_2022/20220929/hlsj0455_220929_0027 and ../../APEX_2022/20220929/hlsj0455_220929_0026.\n",
      "Processing beam pair ../../APEX_2022/20220929/hlsj0455_220929_0029 and ../../APEX_2022/20220929/hlsj0455_220929_0028.\n",
      "Processing beam pair ../../APEX_2022/20220929/hlsj0455_220929_0031 and ../../APEX_2022/20220929/hlsj0455_220929_0030.\n",
      "Processing beam pair ../../APEX_2022/20220929/hlsj0455_220929_0033 and ../../APEX_2022/20220929/hlsj0455_220929_0032.\n",
      "Processing beam pair ../../APEX_2022/20220929/hlsj0455_220929_0035 and ../../APEX_2022/20220929/hlsj0455_220929_0034.\n",
      "Processing beam pair ../../APEX_2022/20220929/hlsj0455_220929_0037 and ../../APEX_2022/20220929/hlsj0455_220929_0036.\n",
      "Processing beam pair ../../APEX_2022/20220929/hlsj0455_220929_0039 and ../../APEX_2022/20220929/hlsj0455_220929_0038.\n"
     ]
    },
    {
     "name": "stderr",
     "output_type": "stream",
     "text": [
      "UserWarning: Extra time stamps truncated\n",
      "UserWarning: No band specific config information found, will use the input kwargs only the DEFAULT configurations in conf_kwargs_.\n",
      "UserWarning: No band specific config information found, will use the input kwargs only the DEFAULT configurations in conf_kwargs_.\n",
      "UserWarning: More than one values found inobs_info_.table[mm PWV], will average.\n",
      "UserWarning: More than one values found inobs_info_.table[Elevation], will average.\n",
      "UserWarning: No band specific config information found, will use the input kwargs only the DEFAULT configurations in conf_kwargs_.\n"
     ]
    },
    {
     "name": "stdout",
     "output_type": "stream",
     "text": [
      "Setting band using default layout.\n"
     ]
    },
    {
     "name": "stderr",
     "output_type": "stream",
     "text": [
      "UserWarning: More than one values found inobs_info_.table[mm PWV], will average.\n",
      "UserWarning: More than one values found inobs_info_.table[Elevation], will average.\n",
      "UserWarning: No band specific config information found, will use the input kwargs only the DEFAULT configurations in conf_kwargs_.\n"
     ]
    },
    {
     "name": "stdout",
     "output_type": "stream",
     "text": [
      "Setting band using default layout.\n",
      "Processing beam ../../APEX_2022/20220929/skychop_220929_0007.\n",
      "Processing beam ../../APEX_2022/20220929/bias_step_0005.\n",
      "Processing beam ../../APEX_2022/20220929/bias_step_0006.\n",
      "running in parallel on 2 threads.\n",
      "Processing beam pair ../../APEX_2022/20220929/hlsj0455_220929_0041 and ../../APEX_2022/20220929/hlsj0455_220929_0040.Processing beam pair ../../APEX_2022/20220929/hlsj0455_220929_0047 and ../../APEX_2022/20220929/hlsj0455_220929_0046.Processing beam pair ../../APEX_2022/20220929/hlsj0455_220929_0045 and ../../APEX_2022/20220929/hlsj0455_220929_0044.Processing beam pair ../../APEX_2022/20220929/hlsj0455_220929_0043 and ../../APEX_2022/20220929/hlsj0455_220929_0042.\n",
      "\n",
      "\n",
      "Processing beam pair ../../APEX_2022/20220929/hlsj0455_220929_0049 and ../../APEX_2022/20220929/hlsj0455_220929_0048.Processing beam pair ../../APEX_2022/20220929/hlsj0455_220929_0053 and ../../APEX_2022/20220929/hlsj0455_220929_0052.\n",
      "\n",
      "Processing beam pair ../../APEX_2022/20220929/hlsj0455_220929_0055 and ../../APEX_2022/20220929/hlsj0455_220929_0054.\n",
      "\n",
      "Processing beam pair ../../APEX_2022/20220929/hlsj0455_220929_0051 and ../../APEX_2022/20220929/hlsj0455_220929_0050.\n",
      "running in parallel on 4 threads.\n",
      "Processing beam pair ../../APEX_2022/20220929/hlsj0455_220929_0057 and ../../APEX_2022/20220929/hlsj0455_220929_0056.\n",
      "Processing beam pair ../../APEX_2022/20220929/hlsj0455_220929_0059 and ../../APEX_2022/20220929/hlsj0455_220929_0058.\n"
     ]
    },
    {
     "name": "stderr",
     "output_type": "stream",
     "text": [
      "UserWarning: No band specific config information found, will use the input kwargs only the DEFAULT configurations in conf_kwargs_.\n",
      "UserWarning: No band specific config information found, will use the input kwargs only the DEFAULT configurations in conf_kwargs_.\n",
      "UserWarning: No band specific config information found, will use the input kwargs only the DEFAULT configurations in conf_kwargs_.\n"
     ]
    },
    {
     "name": "stdout",
     "output_type": "stream",
     "text": [
      "Setting band using default layout.\n"
     ]
    },
    {
     "name": "stderr",
     "output_type": "stream",
     "text": [
      "UserWarning: No band specific config information found, will use the input kwargs only the DEFAULT configurations in conf_kwargs_.\n"
     ]
    },
    {
     "name": "stdout",
     "output_type": "stream",
     "text": [
      "Setting band using default layout.\n",
      "Processing beam ../../APEX_2022/20220929/skychop_220929_0008.\n",
      "Processing beam ../../APEX_2022/20220929/bias_step_0007.\n",
      "Processing beam ../../APEX_2022/20220929/bias_step_0008.\n",
      "running in parallel on 2 threads.\n",
      "Processing beam pair ../../APEX_2022/20220929/hlsj0455_220929_0061 and ../../APEX_2022/20220929/hlsj0455_220929_0060.\n",
      "Processing beam pair ../../APEX_2022/20220929/hlsj0455_220929_0067 and ../../APEX_2022/20220929/hlsj0455_220929_0066.Processing beam pair ../../APEX_2022/20220929/hlsj0455_220929_0069 and ../../APEX_2022/20220929/hlsj0455_220929_0068.Processing beam pair ../../APEX_2022/20220929/hlsj0455_220929_0065 and ../../APEX_2022/20220929/hlsj0455_220929_0064.Processing beam pair ../../APEX_2022/20220929/hlsj0455_220929_0063 and ../../APEX_2022/20220929/hlsj0455_220929_0062.\n",
      "\n",
      "Processing beam pair ../../APEX_2022/20220929/hlsj0455_220929_0073 and ../../APEX_2022/20220929/hlsj0455_220929_0072.Processing beam pair ../../APEX_2022/20220929/hlsj0455_220929_0071 and ../../APEX_2022/20220929/hlsj0455_220929_0070.\n",
      "\n",
      "\n",
      "Processing beam pair ../../APEX_2022/20220929/hlsj0455_220929_0075 and ../../APEX_2022/20220929/hlsj0455_220929_0074.\n",
      "\n",
      "running in parallel on 4 threads.\n"
     ]
    },
    {
     "name": "stderr",
     "output_type": "stream",
     "text": [
      "UserWarning: Extra time stamps truncated\n",
      "UserWarning: Extra time stamps truncated\n"
     ]
    },
    {
     "name": "stdout",
     "output_type": "stream",
     "text": [
      "Processing beam pair ../../APEX_2022/20220929/hlsj0455_220929_0077 and ../../APEX_2022/20220929/hlsj0455_220929_0076.\n",
      "Processing beam pair ../../APEX_2022/20220929/hlsj0455_220929_0079 and ../../APEX_2022/20220929/hlsj0455_220929_0078.\n"
     ]
    },
    {
     "name": "stderr",
     "output_type": "stream",
     "text": [
      "UserWarning: No band specific config information found, will use the input kwargs only the DEFAULT configurations in conf_kwargs_.\n",
      "UserWarning: No band specific config information found, will use the input kwargs only the DEFAULT configurations in conf_kwargs_.\n",
      "UserWarning: No band specific config information found, will use the input kwargs only the DEFAULT configurations in conf_kwargs_.\n"
     ]
    },
    {
     "name": "stdout",
     "output_type": "stream",
     "text": [
      "Setting band using default layout.\n"
     ]
    },
    {
     "name": "stderr",
     "output_type": "stream",
     "text": [
      "UserWarning: No band specific config information found, will use the input kwargs only the DEFAULT configurations in conf_kwargs_.\n"
     ]
    },
    {
     "name": "stdout",
     "output_type": "stream",
     "text": [
      "Setting band using default layout.\n",
      "Processing beam ../../APEX_2022/20220929/skychop_220929_0010.\n",
      "Processing beam ../../APEX_2022/20220929/bias_step_0010.\n",
      "Processing beam ../../APEX_2022/20220929/bias_step_0009.\n",
      "running in parallel on 2 threads.\n",
      "Processing beam pair ../../APEX_2022/20220929/hlsj0455_220929_0081 and ../../APEX_2022/20220929/hlsj0455_220929_0080.\n",
      "Processing beam pair ../../APEX_2022/20220929/hlsj0455_220929_0085 and ../../APEX_2022/20220929/hlsj0455_220929_0084.\n",
      "Processing beam pair ../../APEX_2022/20220929/hlsj0455_220929_0083 and ../../APEX_2022/20220929/hlsj0455_220929_0082.Processing beam pair ../../APEX_2022/20220929/hlsj0455_220929_0091 and ../../APEX_2022/20220929/hlsj0455_220929_0090.Processing beam pair ../../APEX_2022/20220929/hlsj0455_220929_0087 and ../../APEX_2022/20220929/hlsj0455_220929_0086.Processing beam pair ../../APEX_2022/20220929/hlsj0455_220929_0089 and ../../APEX_2022/20220929/hlsj0455_220929_0088.\n",
      "\n",
      "Processing beam pair ../../APEX_2022/20220929/hlsj0455_220929_0093 and ../../APEX_2022/20220929/hlsj0455_220929_0092.\n",
      "Processing beam pair ../../APEX_2022/20220929/hlsj0455_220929_0095 and ../../APEX_2022/20220929/hlsj0455_220929_0094.\n",
      "\n",
      "\n",
      "running in parallel on 4 threads.\n",
      "Processing beam pair ../../APEX_2022/20220929/hlsj0455_220929_0097 and ../../APEX_2022/20220929/hlsj0455_220929_0096.\n",
      "Processing beam pair ../../APEX_2022/20220929/hlsj0455_220929_0099 and ../../APEX_2022/20220929/hlsj0455_220929_0098.\n"
     ]
    },
    {
     "name": "stderr",
     "output_type": "stream",
     "text": [
      "UserWarning: Chunk number disagree, needs human inspection\n",
      "UserWarning: Times stamp is rebuilt.\n",
      "UserWarning: No band specific config information found, will use the input kwargs only the DEFAULT configurations in conf_kwargs_.\n",
      "UserWarning: No band specific config information found, will use the input kwargs only the DEFAULT configurations in conf_kwargs_.\n",
      "UserWarning: No band specific config information found, will use the input kwargs only the DEFAULT configurations in conf_kwargs_.\n"
     ]
    },
    {
     "name": "stdout",
     "output_type": "stream",
     "text": [
      "Setting band using default layout.\n"
     ]
    },
    {
     "name": "stderr",
     "output_type": "stream",
     "text": [
      "UserWarning: No band specific config information found, will use the input kwargs only the DEFAULT configurations in conf_kwargs_.\n"
     ]
    },
    {
     "name": "stdout",
     "output_type": "stream",
     "text": [
      "Setting band using default layout.\n",
      "Processing beam ../../APEX_2022/20220929/skychop_220929_0011.\n",
      "Processing beam ../../APEX_2022/20220929/bias_step_0013.\n",
      "Processing beam ../../APEX_2022/20220929/bias_step_0012.\n",
      "running in parallel on 2 threads.\n",
      "Processing beam pair ../../APEX_2022/20220929/hlsj0455_220929_0101 and ../../APEX_2022/20220929/hlsj0455_220929_0100.Processing beam pair ../../APEX_2022/20220929/hlsj0455_220929_0105 and ../../APEX_2022/20220929/hlsj0455_220929_0104.\n",
      "Processing beam pair ../../APEX_2022/20220929/hlsj0455_220929_0103 and ../../APEX_2022/20220929/hlsj0455_220929_0102.\n",
      "\n",
      "Processing beam pair ../../APEX_2022/20220929/hlsj0455_220929_0107 and ../../APEX_2022/20220929/hlsj0455_220929_0106.Processing beam pair ../../APEX_2022/20220929/hlsj0455_220929_0113 and ../../APEX_2022/20220929/hlsj0455_220929_0112.Processing beam pair ../../APEX_2022/20220929/hlsj0455_220929_0111 and ../../APEX_2022/20220929/hlsj0455_220929_0110.\n",
      "Processing beam pair ../../APEX_2022/20220929/hlsj0455_220929_0109 and ../../APEX_2022/20220929/hlsj0455_220929_0108.\n",
      "\n",
      "\n",
      "Processing beam pair ../../APEX_2022/20220929/hlsj0455_220929_0115 and ../../APEX_2022/20220929/hlsj0455_220929_0114.\n",
      "running in parallel on 4 threads.\n"
     ]
    },
    {
     "name": "stderr",
     "output_type": "stream",
     "text": [
      "UserWarning: Extra time stamps truncated\n",
      "UserWarning: Extra time stamps truncated\n",
      "UserWarning: Extra time stamps truncated\n"
     ]
    },
    {
     "name": "stdout",
     "output_type": "stream",
     "text": [
      "Processing beam pair ../../APEX_2022/20220929/hlsj0455_220929_0117 and ../../APEX_2022/20220929/hlsj0455_220929_0116.\n",
      "Processing beam pair ../../APEX_2022/20220929/hlsj0455_220929_0119 and ../../APEX_2022/20220929/hlsj0455_220929_0118.\n"
     ]
    },
    {
     "name": "stderr",
     "output_type": "stream",
     "text": [
      "UserWarning: No band specific config information found, will use the input kwargs only the DEFAULT configurations in conf_kwargs_.\n",
      "UserWarning: No band specific config information found, will use the input kwargs only the DEFAULT configurations in conf_kwargs_.\n",
      "UserWarning: No band specific config information found, will use the input kwargs only the DEFAULT configurations in conf_kwargs_.\n"
     ]
    },
    {
     "name": "stdout",
     "output_type": "stream",
     "text": [
      "Setting band using default layout.\n"
     ]
    },
    {
     "name": "stderr",
     "output_type": "stream",
     "text": [
      "UserWarning: No band specific config information found, will use the input kwargs only the DEFAULT configurations in conf_kwargs_.\n"
     ]
    },
    {
     "name": "stdout",
     "output_type": "stream",
     "text": [
      "Setting band using default layout.\n"
     ]
    }
   ],
   "source": [
    "r.do_ica = True\n",
    "r.do_smooth=False\n",
    "times.append(time.time())\n",
    "for sky,bs,dat,folder in zip(flats,bias,data,folders):\n",
    "    r.data_dir = folder\n",
    "    #r.inject_signal = zt.mce_data.SignalInjection(amplitude=1,pixels=[am.phys_to_mce(spec,spat,400)])\n",
    "    r.reduce(sky,dat,bs)\n",
    "    times.append(time.time())"
   ]
  },
  {
   "cell_type": "code",
   "execution_count": 34,
   "id": "272fbadc",
   "metadata": {
    "hidden": true
   },
   "outputs": [
    {
     "data": {
      "text/plain": [
       "[<function time.time>,\n",
       " <function time.time>,\n",
       " <function time.time>,\n",
       " <function time.time>,\n",
       " <function time.time>,\n",
       " <function time.time>,\n",
       " <function time.time>,\n",
       " <function time.time>,\n",
       " <function time.time>,\n",
       " <function time.time>,\n",
       " <function time.time>,\n",
       " <function time.time>,\n",
       " <function time.time>,\n",
       " <function time.time>,\n",
       " <function time.time>,\n",
       " <function time.time>]"
      ]
     },
     "execution_count": 34,
     "metadata": {},
     "output_type": "execute_result"
    }
   ],
   "source": [
    "times"
   ]
  },
  {
   "cell_type": "markdown",
   "id": "060f5392",
   "metadata": {
    "heading_collapsed": true
   },
   "source": [
    "# SPTJ0550\n",
    "\n",
    "J0550 has observations on 10-01 only\n",
    "\n",
    "```\n",
    "691\n",
    "737\n",
    "796\n",
    "797\n",
    "798\n",
    "799\n",
    "800\n",
    "801*\n",
    "```\n"
   ]
  },
  {
   "cell_type": "code",
   "execution_count": 34,
   "id": "02310da6",
   "metadata": {
    "hidden": true
   },
   "outputs": [],
   "source": [
    "r.write_dir = \"SPTJ0550\"\n",
    "flats = [\n",
    "    {\"skychop_58691\": [(0, 1)]},\n",
    "    {\"skychop_58737\": [(0, 0)]},\n",
    "    {\"skychop_58796\": [(0, 0)]},\n",
    "    {\"skychop_58797\": [(0, 1)]},\n",
    "    {\"skychop_58798\": [(0, 0)]},\n",
    "    {\"skychop_58799\": [(0, 0)]},\n",
    "    {\"skychop_58800\": [(0, 0)]},\n",
    "    {\"skychop_58800\": [(0, 0)]}\n",
    "\n",
    "]\n",
    "data = [\n",
    "    {\"apecs_58691\": [(0, 19)]},\n",
    "    {\"apecs_58737\": [(0, 19)]},\n",
    "    {\"apecs_58796\": [(0, 19)]},\n",
    "    {\"apecs_58797\": [(0, 19)]},\n",
    "    {\"apecs_58798\": [(0, 19)]},\n",
    "    {\"apecs_58799\": [(0, 19)]},\n",
    "    {\"apecs_58800\": [(0, 19)]},\n",
    "    {\"apecs_58801\": [(0, 9)]}\n",
    "\n",
    "\n",
    "]\n",
    "bias = [\n",
    "    {\"bias_step\": [(8, 9)]},\n",
    "    {\"bias_step\": [(11, 12)]},\n",
    "    {\"bias_step\": [(13, 13)]},\n",
    "    {\"bias_step\": [(14, 15)]},\n",
    "    {\"bias_step\": [(16, 17)]},\n",
    "    {\"bias_step\": [(18, 18)]},\n",
    "    {\"bias_step\": [(19, 20)]},\n",
    "    {\"bias_step\": [(21, 21)]}\n",
    "    \n",
    "]\n",
    "folders = itertools.repeat(\"../../APEX_2022/20221001\")\n"
   ]
  },
  {
   "cell_type": "code",
   "execution_count": 26,
   "id": "8c91d8d7",
   "metadata": {
    "hidden": true
   },
   "outputs": [
    {
     "name": "stdout",
     "output_type": "stream",
     "text": [
      "{'apecs_58691': [(0, 19)]} {'bias_step': [(8, 9)]}\n",
      "{'apecs_58737': [(0, 19)]} {'bias_step': [(11, 12)]}\n",
      "{'apecs_58796': [(0, 19)]} {'bias_step': [(13, 13)]}\n",
      "{'apecs_58797': [(0, 19)]} {'bias_step': [(14, 15)]}\n",
      "{'apecs_58798': [(0, 19)]} {'bias_step': [(16, 17)]}\n",
      "{'apecs_58799': [(0, 19)]} {'bias_step': [(18, 18)]}\n",
      "{'apecs_58800': [(0, 19)]} {'bias_step': [(19, 20)]}\n",
      "{'apecs_58801': [(0, 19)]} {'bias_step': [(21, 21)]}\n"
     ]
    }
   ],
   "source": [
    "for i,j in zip(data,bias):\n",
    "    print(i,j)"
   ]
  },
  {
   "cell_type": "code",
   "execution_count": 27,
   "id": "273b62b9",
   "metadata": {
    "hidden": true
   },
   "outputs": [
    {
     "data": {
      "text/plain": [
       "(8, 8, 8)"
      ]
     },
     "execution_count": 27,
     "metadata": {},
     "output_type": "execute_result"
    }
   ],
   "source": [
    "len(data),len(bias),len(flats)"
   ]
  },
  {
   "cell_type": "code",
   "execution_count": 28,
   "id": "ccfcdadc",
   "metadata": {
    "hidden": true
   },
   "outputs": [],
   "source": [
    "import time"
   ]
  },
  {
   "cell_type": "code",
   "execution_count": 29,
   "id": "29e70fba",
   "metadata": {
    "hidden": true
   },
   "outputs": [],
   "source": [
    "times = []"
   ]
  },
  {
   "cell_type": "code",
   "execution_count": 32,
   "id": "aa7c79c3",
   "metadata": {
    "hidden": true
   },
   "outputs": [
    {
     "name": "stdout",
     "output_type": "stream",
     "text": [
      "Processing beam ../../APEX_2022/20221001/skychop_58691_0000.\n",
      "Processing beam ../../APEX_2022/20221001/skychop_58691_0001.\n",
      "running in parallel on 2 threads.\n"
     ]
    },
    {
     "name": "stderr",
     "output_type": "stream",
     "text": [
      "RuntimeWarning: invalid value encountered in divide\n",
      "RuntimeWarning: invalid value encountered in divide\n"
     ]
    },
    {
     "name": "stdout",
     "output_type": "stream",
     "text": [
      "Processing beam ../../APEX_2022/20221001/bias_step_0008.\n",
      "Processing beam ../../APEX_2022/20221001/bias_step_0009.\n",
      "running in parallel on 2 threads.\n"
     ]
    },
    {
     "name": "stderr",
     "output_type": "stream",
     "text": [
      "RuntimeWarning: divide by zero encountered in divide\n",
      "RuntimeWarning: divide by zero encountered in divide\n",
      "RuntimeWarning: divide by zero encountered in divide\n",
      "RuntimeWarning: divide by zero encountered in divide\n",
      "RuntimeWarning: divide by zero encountered in divide\n",
      "RuntimeWarning: divide by zero encountered in divide\n",
      "RuntimeWarning: divide by zero encountered in divide\n",
      "RuntimeWarning: divide by zero encountered in divide\n"
     ]
    },
    {
     "name": "stdout",
     "output_type": "stream",
     "text": [
      "Processing beam pair ../../APEX_2022/20221001/apecs_58691_0003 and ../../APEX_2022/20221001/apecs_58691_0002.Processing beam pair ../../APEX_2022/20221001/apecs_58691_0001 and ../../APEX_2022/20221001/apecs_58691_0000.Processing beam pair ../../APEX_2022/20221001/apecs_58691_0005 and ../../APEX_2022/20221001/apecs_58691_0004.\n",
      "\n",
      "Processing beam pair ../../APEX_2022/20221001/apecs_58691_0009 and ../../APEX_2022/20221001/apecs_58691_0008.Processing beam pair ../../APEX_2022/20221001/apecs_58691_0011 and ../../APEX_2022/20221001/apecs_58691_0010.Processing beam pair ../../APEX_2022/20221001/apecs_58691_0007 and ../../APEX_2022/20221001/apecs_58691_0006.\n",
      "\n",
      "Processing beam pair ../../APEX_2022/20221001/apecs_58691_0013 and ../../APEX_2022/20221001/apecs_58691_0012.\n",
      "Processing beam pair ../../APEX_2022/20221001/apecs_58691_0015 and ../../APEX_2022/20221001/apecs_58691_0014.\n",
      "\n",
      "\n",
      "running in parallel on 4 threads.\n"
     ]
    },
    {
     "name": "stderr",
     "output_type": "stream",
     "text": [
      "RuntimeWarning: divide by zero encountered in divide\n",
      "RuntimeWarning: divide by zero encountered in divide\n",
      "RuntimeWarning: divide by zero encountered in divide\n",
      "RuntimeWarning: divide by zero encountered in divide\n"
     ]
    },
    {
     "name": "stdout",
     "output_type": "stream",
     "text": [
      "Processing beam pair ../../APEX_2022/20221001/apecs_58691_0017 and ../../APEX_2022/20221001/apecs_58691_0016.\n"
     ]
    },
    {
     "name": "stderr",
     "output_type": "stream",
     "text": [
      "RuntimeWarning: divide by zero encountered in divide\n",
      "RuntimeWarning: divide by zero encountered in divide\n",
      "RuntimeWarning: divide by zero encountered in divide\n"
     ]
    },
    {
     "name": "stdout",
     "output_type": "stream",
     "text": [
      "Processing beam pair ../../APEX_2022/20221001/apecs_58691_0019 and ../../APEX_2022/20221001/apecs_58691_0018.\n"
     ]
    },
    {
     "name": "stderr",
     "output_type": "stream",
     "text": [
      "RuntimeWarning: divide by zero encountered in divide\n",
      "RuntimeWarning: divide by zero encountered in divide\n",
      "RuntimeWarning: divide by zero encountered in divide\n",
      "RuntimeWarning: divide by zero encountered in divide\n",
      "RuntimeWarning: divide by zero encountered in divide\n",
      "RuntimeWarning: divide by zero encountered in divide\n",
      "RuntimeWarning: divide by zero encountered in divide\n",
      "RuntimeWarning: divide by zero encountered in divide\n",
      "RuntimeWarning: divide by zero encountered in divide\n",
      "RuntimeWarning: divide by zero encountered in divide\n",
      "RuntimeWarning: divide by zero encountered in divide\n",
      "RuntimeWarning: divide by zero encountered in divide\n",
      "RuntimeWarning: divide by zero encountered in divide\n",
      "RuntimeWarning: divide by zero encountered in divide\n",
      "RuntimeWarning: divide by zero encountered in divide\n",
      "RuntimeWarning: divide by zero encountered in divide\n",
      "RuntimeWarning: divide by zero encountered in divide\n",
      "RuntimeWarning: divide by zero encountered in divide\n",
      "RuntimeWarning: divide by zero encountered in divide\n",
      "RuntimeWarning: divide by zero encountered in divide\n",
      "RuntimeWarning: divide by zero encountered in divide\n",
      "RuntimeWarning: divide by zero encountered in divide\n",
      "RuntimeWarning: divide by zero encountered in divide\n",
      "RuntimeWarning: divide by zero encountered in divide\n",
      "RuntimeWarning: divide by zero encountered in divide\n",
      "RuntimeWarning: divide by zero encountered in divide\n",
      "RuntimeWarning: divide by zero encountered in divide\n",
      "RuntimeWarning: divide by zero encountered in divide\n",
      "RuntimeWarning: divide by zero encountered in divide\n",
      "RuntimeWarning: divide by zero encountered in divide\n",
      "RuntimeWarning: divide by zero encountered in divide\n",
      "UserWarning: No band specific config information found, will use the input kwargs only the DEFAULT configurations in conf_kwargs_.\n",
      "UserWarning: No band specific config information found, will use the input kwargs only the DEFAULT configurations in conf_kwargs_.\n",
      "UserWarning: No band specific config information found, will use the input kwargs only the DEFAULT configurations in conf_kwargs_.\n"
     ]
    },
    {
     "name": "stdout",
     "output_type": "stream",
     "text": [
      "Setting band using default layout.\n"
     ]
    },
    {
     "name": "stderr",
     "output_type": "stream",
     "text": [
      "RuntimeWarning: divide by zero encountered in divide\n",
      "RuntimeWarning: divide by zero encountered in divide\n",
      "RuntimeWarning: divide by zero encountered in divide\n",
      "UserWarning: No band specific config information found, will use the input kwargs only the DEFAULT configurations in conf_kwargs_.\n"
     ]
    },
    {
     "name": "stdout",
     "output_type": "stream",
     "text": [
      "Setting band using default layout.\n",
      "Processing beam ../../APEX_2022/20221001/skychop_58737_0000.\n"
     ]
    },
    {
     "name": "stderr",
     "output_type": "stream",
     "text": [
      "RuntimeWarning: invalid value encountered in divide\n"
     ]
    },
    {
     "name": "stdout",
     "output_type": "stream",
     "text": [
      "Processing beam ../../APEX_2022/20221001/bias_step_0011.\n",
      "Processing beam ../../APEX_2022/20221001/bias_step_0012.\n",
      "running in parallel on 2 threads.\n"
     ]
    },
    {
     "name": "stderr",
     "output_type": "stream",
     "text": [
      "RuntimeWarning: divide by zero encountered in divide\n",
      "RuntimeWarning: divide by zero encountered in divide\n",
      "RuntimeWarning: divide by zero encountered in divide\n",
      "RuntimeWarning: divide by zero encountered in divide\n",
      "RuntimeWarning: divide by zero encountered in divide\n",
      "RuntimeWarning: divide by zero encountered in divide\n",
      "RuntimeWarning: divide by zero encountered in divide\n",
      "RuntimeWarning: divide by zero encountered in divide\n"
     ]
    },
    {
     "name": "stdout",
     "output_type": "stream",
     "text": [
      "Processing beam pair ../../APEX_2022/20221001/apecs_58737_0001 and ../../APEX_2022/20221001/apecs_58737_0000.Processing beam pair ../../APEX_2022/20221001/apecs_58737_0005 and ../../APEX_2022/20221001/apecs_58737_0004.Processing beam pair ../../APEX_2022/20221001/apecs_58737_0003 and ../../APEX_2022/20221001/apecs_58737_0002.\n",
      "Processing beam pair ../../APEX_2022/20221001/apecs_58737_0007 and ../../APEX_2022/20221001/apecs_58737_0006.\n",
      "Processing beam pair ../../APEX_2022/20221001/apecs_58737_0009 and ../../APEX_2022/20221001/apecs_58737_0008.\n",
      "\n",
      "Processing beam pair ../../APEX_2022/20221001/apecs_58737_0011 and ../../APEX_2022/20221001/apecs_58737_0010.\n",
      "Processing beam pair ../../APEX_2022/20221001/apecs_58737_0013 and ../../APEX_2022/20221001/apecs_58737_0012.Processing beam pair ../../APEX_2022/20221001/apecs_58737_0015 and ../../APEX_2022/20221001/apecs_58737_0014.\n",
      "\n",
      "\n",
      "running in parallel on 4 threads.\n"
     ]
    },
    {
     "name": "stderr",
     "output_type": "stream",
     "text": [
      "UserWarning: Extra time stamps truncated\n",
      "RuntimeWarning: divide by zero encountered in divide\n",
      "RuntimeWarning: divide by zero encountered in divide\n",
      "RuntimeWarning: divide by zero encountered in divide\n",
      "RuntimeWarning: divide by zero encountered in divide\n",
      "RuntimeWarning: divide by zero encountered in divide\n"
     ]
    },
    {
     "name": "stdout",
     "output_type": "stream",
     "text": [
      "Processing beam pair ../../APEX_2022/20221001/apecs_58737_0017 and ../../APEX_2022/20221001/apecs_58737_0016.\n"
     ]
    },
    {
     "name": "stderr",
     "output_type": "stream",
     "text": [
      "RuntimeWarning: divide by zero encountered in divide\n",
      "RuntimeWarning: divide by zero encountered in divide\n",
      "RuntimeWarning: divide by zero encountered in divide\n",
      "RuntimeWarning: divide by zero encountered in divide\n",
      "RuntimeWarning: divide by zero encountered in divide\n"
     ]
    },
    {
     "name": "stdout",
     "output_type": "stream",
     "text": [
      "Processing beam pair ../../APEX_2022/20221001/apecs_58737_0019 and ../../APEX_2022/20221001/apecs_58737_0018.\n"
     ]
    },
    {
     "name": "stderr",
     "output_type": "stream",
     "text": [
      "RuntimeWarning: divide by zero encountered in divide\n",
      "RuntimeWarning: divide by zero encountered in divide\n",
      "RuntimeWarning: divide by zero encountered in divide\n",
      "RuntimeWarning: divide by zero encountered in divide\n",
      "RuntimeWarning: divide by zero encountered in divide\n",
      "RuntimeWarning: divide by zero encountered in divide\n",
      "RuntimeWarning: divide by zero encountered in divide\n",
      "RuntimeWarning: divide by zero encountered in divide\n",
      "RuntimeWarning: divide by zero encountered in divide\n",
      "RuntimeWarning: divide by zero encountered in divide\n",
      "RuntimeWarning: divide by zero encountered in divide\n",
      "RuntimeWarning: divide by zero encountered in divide\n",
      "RuntimeWarning: divide by zero encountered in divide\n",
      "RuntimeWarning: divide by zero encountered in divide\n",
      "RuntimeWarning: divide by zero encountered in divide\n",
      "RuntimeWarning: divide by zero encountered in divide\n",
      "RuntimeWarning: divide by zero encountered in divide\n",
      "RuntimeWarning: divide by zero encountered in divide\n",
      "RuntimeWarning: divide by zero encountered in divide\n",
      "RuntimeWarning: divide by zero encountered in divide\n",
      "RuntimeWarning: divide by zero encountered in divide\n",
      "RuntimeWarning: divide by zero encountered in divide\n",
      "RuntimeWarning: divide by zero encountered in divide\n",
      "RuntimeWarning: divide by zero encountered in divide\n",
      "RuntimeWarning: divide by zero encountered in divide\n",
      "RuntimeWarning: divide by zero encountered in divide\n",
      "RuntimeWarning: divide by zero encountered in divide\n",
      "RuntimeWarning: divide by zero encountered in divide\n",
      "UserWarning: No band specific config information found, will use the input kwargs only the DEFAULT configurations in conf_kwargs_.\n",
      "UserWarning: No band specific config information found, will use the input kwargs only the DEFAULT configurations in conf_kwargs_.\n",
      "UserWarning: No band specific config information found, will use the input kwargs only the DEFAULT configurations in conf_kwargs_.\n"
     ]
    },
    {
     "name": "stdout",
     "output_type": "stream",
     "text": [
      "Setting band using default layout.\n"
     ]
    },
    {
     "name": "stderr",
     "output_type": "stream",
     "text": [
      "RuntimeWarning: divide by zero encountered in divide\n",
      "RuntimeWarning: divide by zero encountered in divide\n",
      "RuntimeWarning: divide by zero encountered in divide\n",
      "UserWarning: No band specific config information found, will use the input kwargs only the DEFAULT configurations in conf_kwargs_.\n"
     ]
    },
    {
     "name": "stdout",
     "output_type": "stream",
     "text": [
      "Setting band using default layout.\n",
      "Processing beam ../../APEX_2022/20221001/skychop_58796_0000.\n"
     ]
    },
    {
     "name": "stderr",
     "output_type": "stream",
     "text": [
      "RuntimeWarning: invalid value encountered in divide\n"
     ]
    },
    {
     "name": "stdout",
     "output_type": "stream",
     "text": [
      "Processing beam ../../APEX_2022/20221001/bias_step_0013.\n"
     ]
    },
    {
     "name": "stderr",
     "output_type": "stream",
     "text": [
      "RuntimeWarning: divide by zero encountered in divide\n",
      "RuntimeWarning: divide by zero encountered in divide\n",
      "RuntimeWarning: divide by zero encountered in divide\n",
      "RuntimeWarning: divide by zero encountered in divide\n"
     ]
    },
    {
     "name": "stdout",
     "output_type": "stream",
     "text": [
      "Processing beam pair ../../APEX_2022/20221001/apecs_58796_0001 and ../../APEX_2022/20221001/apecs_58796_0000.\n",
      "Processing beam pair ../../APEX_2022/20221001/apecs_58796_0005 and ../../APEX_2022/20221001/apecs_58796_0004.Processing beam pair ../../APEX_2022/20221001/apecs_58796_0009 and ../../APEX_2022/20221001/apecs_58796_0008.Processing beam pair ../../APEX_2022/20221001/apecs_58796_0011 and ../../APEX_2022/20221001/apecs_58796_0010.Processing beam pair ../../APEX_2022/20221001/apecs_58796_0003 and ../../APEX_2022/20221001/apecs_58796_0002.\n",
      "\n",
      "Processing beam pair ../../APEX_2022/20221001/apecs_58796_0007 and ../../APEX_2022/20221001/apecs_58796_0006.Processing beam pair ../../APEX_2022/20221001/apecs_58796_0013 and ../../APEX_2022/20221001/apecs_58796_0012.\n",
      "\n",
      "\n",
      "\n",
      "Processing beam pair ../../APEX_2022/20221001/apecs_58796_0015 and ../../APEX_2022/20221001/apecs_58796_0014.\n",
      "running in parallel on 4 threads.\n"
     ]
    },
    {
     "name": "stderr",
     "output_type": "stream",
     "text": [
      "RuntimeWarning: divide by zero encountered in divide\n",
      "RuntimeWarning: divide by zero encountered in divide\n",
      "RuntimeWarning: divide by zero encountered in divide\n",
      "RuntimeWarning: divide by zero encountered in divide\n",
      "RuntimeWarning: divide by zero encountered in divide\n",
      "RuntimeWarning: divide by zero encountered in divide\n",
      "RuntimeWarning: divide by zero encountered in divide\n",
      "RuntimeWarning: divide by zero encountered in divide\n",
      "RuntimeWarning: divide by zero encountered in divide\n"
     ]
    },
    {
     "name": "stdout",
     "output_type": "stream",
     "text": [
      "Processing beam pair ../../APEX_2022/20221001/apecs_58796_0017 and ../../APEX_2022/20221001/apecs_58796_0016.\n"
     ]
    },
    {
     "name": "stderr",
     "output_type": "stream",
     "text": [
      "RuntimeWarning: divide by zero encountered in divide\n",
      "RuntimeWarning: divide by zero encountered in divide\n",
      "RuntimeWarning: divide by zero encountered in divide\n",
      "RuntimeWarning: divide by zero encountered in divide\n",
      "RuntimeWarning: divide by zero encountered in divide\n",
      "RuntimeWarning: divide by zero encountered in divide\n"
     ]
    },
    {
     "name": "stdout",
     "output_type": "stream",
     "text": [
      "Processing beam pair ../../APEX_2022/20221001/apecs_58796_0019 and ../../APEX_2022/20221001/apecs_58796_0018.\n"
     ]
    },
    {
     "name": "stderr",
     "output_type": "stream",
     "text": [
      "RuntimeWarning: divide by zero encountered in divide\n",
      "RuntimeWarning: divide by zero encountered in divide\n",
      "RuntimeWarning: divide by zero encountered in divide\n",
      "RuntimeWarning: divide by zero encountered in divide\n",
      "RuntimeWarning: divide by zero encountered in divide\n",
      "RuntimeWarning: divide by zero encountered in divide\n",
      "RuntimeWarning: divide by zero encountered in divide\n",
      "RuntimeWarning: divide by zero encountered in divide\n",
      "RuntimeWarning: divide by zero encountered in divide\n",
      "RuntimeWarning: divide by zero encountered in divide\n",
      "RuntimeWarning: divide by zero encountered in divide\n",
      "RuntimeWarning: divide by zero encountered in divide\n",
      "RuntimeWarning: divide by zero encountered in divide\n",
      "RuntimeWarning: divide by zero encountered in divide\n",
      "RuntimeWarning: divide by zero encountered in divide\n",
      "RuntimeWarning: divide by zero encountered in divide\n",
      "RuntimeWarning: divide by zero encountered in divide\n",
      "RuntimeWarning: divide by zero encountered in divide\n",
      "RuntimeWarning: divide by zero encountered in divide\n",
      "RuntimeWarning: divide by zero encountered in divide\n",
      "RuntimeWarning: divide by zero encountered in divide\n",
      "RuntimeWarning: divide by zero encountered in divide\n",
      "RuntimeWarning: divide by zero encountered in divide\n",
      "RuntimeWarning: divide by zero encountered in divide\n",
      "UserWarning: No band specific config information found, will use the input kwargs only the DEFAULT configurations in conf_kwargs_.\n",
      "UserWarning: No band specific config information found, will use the input kwargs only the DEFAULT configurations in conf_kwargs_.\n",
      "UserWarning: No band specific config information found, will use the input kwargs only the DEFAULT configurations in conf_kwargs_.\n"
     ]
    },
    {
     "name": "stdout",
     "output_type": "stream",
     "text": [
      "Setting band using default layout.\n"
     ]
    },
    {
     "name": "stderr",
     "output_type": "stream",
     "text": [
      "RuntimeWarning: divide by zero encountered in divide\n",
      "RuntimeWarning: divide by zero encountered in divide\n",
      "RuntimeWarning: divide by zero encountered in divide\n",
      "UserWarning: No band specific config information found, will use the input kwargs only the DEFAULT configurations in conf_kwargs_.\n"
     ]
    },
    {
     "name": "stdout",
     "output_type": "stream",
     "text": [
      "Setting band using default layout.\n",
      "Processing beam ../../APEX_2022/20221001/skychop_58797_0000.\n",
      "Processing beam ../../APEX_2022/20221001/skychop_58797_0001."
     ]
    },
    {
     "name": "stderr",
     "output_type": "stream",
     "text": [
      "UserWarning: Failed to read MCE header for ../../APEX_2022/20221001/skychop_58797_0000 due to <class 'IndexError'>: index 0 is out of bounds for axis 0 with size 0\n"
     ]
    },
    {
     "name": "stdout",
     "output_type": "stream",
     "text": [
      "\n"
     ]
    },
    {
     "name": "stderr",
     "output_type": "stream",
     "text": [
      "UserWarning: genfromtxt: Empty input file: \"<_io.BufferedReader name='../../APEX_2022/20221001/skychop_58797_0000'>\"\n",
      "UserWarning: fail to read in ../../APEX_2022/20221001/skychop_58797_0000 due to <class 'IndexError'>: index 0 is out of bounds for axis 0 with size 0\n"
     ]
    },
    {
     "name": "stdout",
     "output_type": "stream",
     "text": [
      "running in parallel on 2 threads.\n"
     ]
    },
    {
     "name": "stderr",
     "output_type": "stream",
     "text": [
      "RuntimeWarning: invalid value encountered in divide\n"
     ]
    },
    {
     "name": "stdout",
     "output_type": "stream",
     "text": [
      "Processing beam ../../APEX_2022/20221001/bias_step_0014.\n",
      "Processing beam ../../APEX_2022/20221001/bias_step_0015.\n",
      "running in parallel on 2 threads.\n"
     ]
    },
    {
     "name": "stderr",
     "output_type": "stream",
     "text": [
      "RuntimeWarning: divide by zero encountered in divide\n",
      "RuntimeWarning: divide by zero encountered in divide\n",
      "RuntimeWarning: divide by zero encountered in divide\n",
      "RuntimeWarning: divide by zero encountered in divide\n",
      "RuntimeWarning: divide by zero encountered in divide\n",
      "RuntimeWarning: divide by zero encountered in divide\n",
      "RuntimeWarning: divide by zero encountered in divide\n",
      "RuntimeWarning: divide by zero encountered in divide\n"
     ]
    },
    {
     "name": "stdout",
     "output_type": "stream",
     "text": [
      "Processing beam pair ../../APEX_2022/20221001/apecs_58797_0001 and ../../APEX_2022/20221001/apecs_58797_0000.Processing beam pair ../../APEX_2022/20221001/apecs_58797_0003 and ../../APEX_2022/20221001/apecs_58797_0002.\n",
      "Processing beam pair ../../APEX_2022/20221001/apecs_58797_0005 and ../../APEX_2022/20221001/apecs_58797_0004.Processing beam pair ../../APEX_2022/20221001/apecs_58797_0007 and ../../APEX_2022/20221001/apecs_58797_0006.\n",
      "\n",
      "Processing beam pair ../../APEX_2022/20221001/apecs_58797_0009 and ../../APEX_2022/20221001/apecs_58797_0008.Processing beam pair ../../APEX_2022/20221001/apecs_58797_0011 and ../../APEX_2022/20221001/apecs_58797_0010.\n",
      "\n",
      "Processing beam pair ../../APEX_2022/20221001/apecs_58797_0013 and ../../APEX_2022/20221001/apecs_58797_0012.\n",
      "Processing beam pair ../../APEX_2022/20221001/apecs_58797_0015 and ../../APEX_2022/20221001/apecs_58797_0014.\n",
      "\n",
      "running in parallel on 4 threads.\n"
     ]
    },
    {
     "name": "stderr",
     "output_type": "stream",
     "text": [
      "UserWarning: Extra time stamps truncated\n",
      "RuntimeWarning: divide by zero encountered in divide\n",
      "RuntimeWarning: divide by zero encountered in divide\n",
      "RuntimeWarning: divide by zero encountered in divide\n",
      "RuntimeWarning: divide by zero encountered in divide\n",
      "RuntimeWarning: divide by zero encountered in divide\n",
      "RuntimeWarning: divide by zero encountered in divide\n",
      "RuntimeWarning: divide by zero encountered in divide\n",
      "RuntimeWarning: divide by zero encountered in divide\n"
     ]
    },
    {
     "name": "stdout",
     "output_type": "stream",
     "text": [
      "Processing beam pair ../../APEX_2022/20221001/apecs_58797_0017 and ../../APEX_2022/20221001/apecs_58797_0016.\n",
      "Processing beam pair ../../APEX_2022/20221001/apecs_58797_0019 and ../../APEX_2022/20221001/apecs_58797_0018.\n"
     ]
    },
    {
     "name": "stderr",
     "output_type": "stream",
     "text": [
      "RuntimeWarning: divide by zero encountered in divide\n",
      "RuntimeWarning: divide by zero encountered in divide\n",
      "RuntimeWarning: divide by zero encountered in divide\n",
      "RuntimeWarning: divide by zero encountered in divide\n",
      "RuntimeWarning: divide by zero encountered in divide\n",
      "RuntimeWarning: divide by zero encountered in divide\n",
      "RuntimeWarning: divide by zero encountered in divide\n",
      "RuntimeWarning: divide by zero encountered in divide\n",
      "RuntimeWarning: divide by zero encountered in divide\n",
      "RuntimeWarning: divide by zero encountered in divide\n",
      "RuntimeWarning: divide by zero encountered in divide\n",
      "RuntimeWarning: divide by zero encountered in divide\n",
      "RuntimeWarning: divide by zero encountered in divide\n",
      "RuntimeWarning: divide by zero encountered in divide\n",
      "RuntimeWarning: divide by zero encountered in divide\n",
      "RuntimeWarning: divide by zero encountered in divide\n",
      "RuntimeWarning: divide by zero encountered in divide\n",
      "RuntimeWarning: divide by zero encountered in divide\n",
      "RuntimeWarning: divide by zero encountered in divide\n",
      "RuntimeWarning: divide by zero encountered in divide\n",
      "RuntimeWarning: divide by zero encountered in divide\n",
      "RuntimeWarning: divide by zero encountered in divide\n",
      "RuntimeWarning: divide by zero encountered in divide\n",
      "RuntimeWarning: divide by zero encountered in divide\n",
      "RuntimeWarning: divide by zero encountered in divide\n",
      "RuntimeWarning: divide by zero encountered in divide\n",
      "RuntimeWarning: divide by zero encountered in divide\n",
      "RuntimeWarning: divide by zero encountered in divide\n",
      "RuntimeWarning: divide by zero encountered in divide\n",
      "RuntimeWarning: divide by zero encountered in divide\n",
      "UserWarning: No band specific config information found, will use the input kwargs only the DEFAULT configurations in conf_kwargs_.\n",
      "UserWarning: No band specific config information found, will use the input kwargs only the DEFAULT configurations in conf_kwargs_.\n",
      "UserWarning: No band specific config information found, will use the input kwargs only the DEFAULT configurations in conf_kwargs_.\n"
     ]
    },
    {
     "name": "stdout",
     "output_type": "stream",
     "text": [
      "Setting band using default layout.\n"
     ]
    },
    {
     "name": "stderr",
     "output_type": "stream",
     "text": [
      "RuntimeWarning: divide by zero encountered in divide\n",
      "RuntimeWarning: divide by zero encountered in divide\n",
      "RuntimeWarning: divide by zero encountered in divide\n",
      "UserWarning: No band specific config information found, will use the input kwargs only the DEFAULT configurations in conf_kwargs_.\n"
     ]
    },
    {
     "name": "stdout",
     "output_type": "stream",
     "text": [
      "Setting band using default layout.\n",
      "Processing beam ../../APEX_2022/20221001/skychop_58798_0000.\n"
     ]
    },
    {
     "name": "stderr",
     "output_type": "stream",
     "text": [
      "RuntimeWarning: invalid value encountered in divide\n"
     ]
    },
    {
     "name": "stdout",
     "output_type": "stream",
     "text": [
      "Processing beam ../../APEX_2022/20221001/bias_step_0016.\n",
      "Processing beam ../../APEX_2022/20221001/bias_step_0017.\n",
      "running in parallel on 2 threads.\n"
     ]
    },
    {
     "name": "stderr",
     "output_type": "stream",
     "text": [
      "RuntimeWarning: divide by zero encountered in divide\n",
      "RuntimeWarning: divide by zero encountered in divide\n",
      "RuntimeWarning: divide by zero encountered in divide\n",
      "RuntimeWarning: divide by zero encountered in divide\n",
      "RuntimeWarning: divide by zero encountered in divide\n",
      "RuntimeWarning: divide by zero encountered in divide\n",
      "RuntimeWarning: divide by zero encountered in divide\n",
      "RuntimeWarning: divide by zero encountered in divide\n"
     ]
    },
    {
     "name": "stdout",
     "output_type": "stream",
     "text": [
      "Processing beam pair ../../APEX_2022/20221001/apecs_58798_0005 and ../../APEX_2022/20221001/apecs_58798_0004.Processing beam pair ../../APEX_2022/20221001/apecs_58798_0001 and ../../APEX_2022/20221001/apecs_58798_0000.Processing beam pair ../../APEX_2022/20221001/apecs_58798_0007 and ../../APEX_2022/20221001/apecs_58798_0006.Processing beam pair ../../APEX_2022/20221001/apecs_58798_0003 and ../../APEX_2022/20221001/apecs_58798_0002.\n",
      "\n",
      "\n",
      "\n",
      "Processing beam pair ../../APEX_2022/20221001/apecs_58798_0011 and ../../APEX_2022/20221001/apecs_58798_0010.Processing beam pair ../../APEX_2022/20221001/apecs_58798_0009 and ../../APEX_2022/20221001/apecs_58798_0008.Processing beam pair ../../APEX_2022/20221001/apecs_58798_0013 and ../../APEX_2022/20221001/apecs_58798_0012.\n",
      "\n",
      "Processing beam pair ../../APEX_2022/20221001/apecs_58798_0015 and ../../APEX_2022/20221001/apecs_58798_0014.\n",
      "\n",
      "running in parallel on 4 threads.\n"
     ]
    },
    {
     "name": "stderr",
     "output_type": "stream",
     "text": [
      "UserWarning: Extra time stamps truncated\n",
      "RuntimeWarning: divide by zero encountered in divide\n",
      "RuntimeWarning: divide by zero encountered in divide\n",
      "RuntimeWarning: divide by zero encountered in divide\n",
      "RuntimeWarning: divide by zero encountered in divide\n",
      "RuntimeWarning: divide by zero encountered in divide\n"
     ]
    },
    {
     "name": "stdout",
     "output_type": "stream",
     "text": [
      "Processing beam pair ../../APEX_2022/20221001/apecs_58798_0017 and ../../APEX_2022/20221001/apecs_58798_0016.\n"
     ]
    },
    {
     "name": "stderr",
     "output_type": "stream",
     "text": [
      "RuntimeWarning: divide by zero encountered in divide\n",
      "RuntimeWarning: divide by zero encountered in divide\n",
      "RuntimeWarning: divide by zero encountered in divide\n",
      "RuntimeWarning: divide by zero encountered in divide\n",
      "RuntimeWarning: divide by zero encountered in divide\n"
     ]
    },
    {
     "name": "stdout",
     "output_type": "stream",
     "text": [
      "Processing beam pair ../../APEX_2022/20221001/apecs_58798_0019 and ../../APEX_2022/20221001/apecs_58798_0018.\n"
     ]
    },
    {
     "name": "stderr",
     "output_type": "stream",
     "text": [
      "RuntimeWarning: divide by zero encountered in divide\n",
      "RuntimeWarning: divide by zero encountered in divide\n",
      "RuntimeWarning: divide by zero encountered in divide\n",
      "RuntimeWarning: divide by zero encountered in divide\n",
      "RuntimeWarning: divide by zero encountered in divide\n",
      "RuntimeWarning: divide by zero encountered in divide\n",
      "RuntimeWarning: divide by zero encountered in divide\n",
      "RuntimeWarning: divide by zero encountered in divide\n",
      "RuntimeWarning: divide by zero encountered in divide\n",
      "RuntimeWarning: divide by zero encountered in divide\n",
      "RuntimeWarning: divide by zero encountered in divide\n",
      "RuntimeWarning: divide by zero encountered in divide\n",
      "RuntimeWarning: divide by zero encountered in divide\n",
      "RuntimeWarning: divide by zero encountered in divide\n",
      "RuntimeWarning: divide by zero encountered in divide\n",
      "RuntimeWarning: divide by zero encountered in divide\n",
      "RuntimeWarning: divide by zero encountered in divide\n",
      "RuntimeWarning: divide by zero encountered in divide\n",
      "RuntimeWarning: divide by zero encountered in divide\n",
      "RuntimeWarning: divide by zero encountered in divide\n",
      "RuntimeWarning: divide by zero encountered in divide\n",
      "RuntimeWarning: divide by zero encountered in divide\n",
      "RuntimeWarning: divide by zero encountered in divide\n",
      "RuntimeWarning: divide by zero encountered in divide\n",
      "RuntimeWarning: divide by zero encountered in divide\n",
      "RuntimeWarning: divide by zero encountered in divide\n",
      "RuntimeWarning: divide by zero encountered in divide\n",
      "RuntimeWarning: divide by zero encountered in divide\n",
      "RuntimeWarning: divide by zero encountered in divide\n",
      "RuntimeWarning: divide by zero encountered in divide\n",
      "RuntimeWarning: divide by zero encountered in divide\n",
      "UserWarning: No band specific config information found, will use the input kwargs only the DEFAULT configurations in conf_kwargs_.\n",
      "UserWarning: No band specific config information found, will use the input kwargs only the DEFAULT configurations in conf_kwargs_.\n",
      "UserWarning: No band specific config information found, will use the input kwargs only the DEFAULT configurations in conf_kwargs_.\n"
     ]
    },
    {
     "name": "stdout",
     "output_type": "stream",
     "text": [
      "Setting band using default layout.\n"
     ]
    },
    {
     "name": "stderr",
     "output_type": "stream",
     "text": [
      "RuntimeWarning: divide by zero encountered in divide\n",
      "RuntimeWarning: divide by zero encountered in divide\n",
      "RuntimeWarning: divide by zero encountered in divide\n",
      "UserWarning: No band specific config information found, will use the input kwargs only the DEFAULT configurations in conf_kwargs_.\n"
     ]
    },
    {
     "name": "stdout",
     "output_type": "stream",
     "text": [
      "Setting band using default layout.\n",
      "Processing beam ../../APEX_2022/20221001/skychop_58799_0000.\n"
     ]
    },
    {
     "name": "stderr",
     "output_type": "stream",
     "text": [
      "UserWarning: Failed to read MCE header for ../../APEX_2022/20221001/skychop_58799_0000 due to <class 'IndexError'>: index 0 is out of bounds for axis 0 with size 0\n",
      "UserWarning: genfromtxt: Empty input file: \"<_io.BufferedReader name='../../APEX_2022/20221001/skychop_58799_0000'>\"\n",
      "UserWarning: fail to read in ../../APEX_2022/20221001/skychop_58799_0000 due to <class 'IndexError'>: index 0 is out of bounds for axis 0 with size 0\n"
     ]
    },
    {
     "name": "stdout",
     "output_type": "stream",
     "text": [
      "Processing beam ../../APEX_2022/20221001/bias_step_0018.\n"
     ]
    },
    {
     "name": "stderr",
     "output_type": "stream",
     "text": [
      "RuntimeWarning: divide by zero encountered in divide\n",
      "RuntimeWarning: divide by zero encountered in divide\n",
      "RuntimeWarning: divide by zero encountered in divide\n",
      "RuntimeWarning: divide by zero encountered in divide\n"
     ]
    },
    {
     "name": "stdout",
     "output_type": "stream",
     "text": [
      "Processing beam pair ../../APEX_2022/20221001/apecs_58799_0001 and ../../APEX_2022/20221001/apecs_58799_0000.Processing beam pair ../../APEX_2022/20221001/apecs_58799_0003 and ../../APEX_2022/20221001/apecs_58799_0002.Processing beam pair ../../APEX_2022/20221001/apecs_58799_0005 and ../../APEX_2022/20221001/apecs_58799_0004.\n",
      "Processing beam pair ../../APEX_2022/20221001/apecs_58799_0009 and ../../APEX_2022/20221001/apecs_58799_0008.\n",
      "\n",
      "Processing beam pair ../../APEX_2022/20221001/apecs_58799_0007 and ../../APEX_2022/20221001/apecs_58799_0006.Processing beam pair ../../APEX_2022/20221001/apecs_58799_0011 and ../../APEX_2022/20221001/apecs_58799_0010.\n",
      "\n",
      "\n",
      "Processing beam pair ../../APEX_2022/20221001/apecs_58799_0015 and ../../APEX_2022/20221001/apecs_58799_0014.\n",
      "Processing beam pair ../../APEX_2022/20221001/apecs_58799_0013 and ../../APEX_2022/20221001/apecs_58799_0012.\n",
      "running in parallel on 4 threads.\n"
     ]
    },
    {
     "name": "stderr",
     "output_type": "stream",
     "text": [
      "UserWarning: Extra time stamps truncated\n",
      "RuntimeWarning: divide by zero encountered in divide\n",
      "RuntimeWarning: divide by zero encountered in divide\n",
      "RuntimeWarning: divide by zero encountered in divide\n",
      "RuntimeWarning: divide by zero encountered in divide\n",
      "RuntimeWarning: divide by zero encountered in divide\n"
     ]
    },
    {
     "name": "stdout",
     "output_type": "stream",
     "text": [
      "Processing beam pair ../../APEX_2022/20221001/apecs_58799_0017 and ../../APEX_2022/20221001/apecs_58799_0016.\n"
     ]
    },
    {
     "name": "stderr",
     "output_type": "stream",
     "text": [
      "RuntimeWarning: divide by zero encountered in divide\n",
      "RuntimeWarning: divide by zero encountered in divide\n",
      "RuntimeWarning: divide by zero encountered in divide\n",
      "RuntimeWarning: divide by zero encountered in divide\n",
      "RuntimeWarning: divide by zero encountered in divide\n"
     ]
    },
    {
     "name": "stdout",
     "output_type": "stream",
     "text": [
      "Processing beam pair ../../APEX_2022/20221001/apecs_58799_0019 and ../../APEX_2022/20221001/apecs_58799_0018.\n"
     ]
    },
    {
     "name": "stderr",
     "output_type": "stream",
     "text": [
      "RuntimeWarning: divide by zero encountered in divide\n",
      "RuntimeWarning: divide by zero encountered in divide\n",
      "RuntimeWarning: divide by zero encountered in divide\n",
      "RuntimeWarning: divide by zero encountered in divide\n",
      "RuntimeWarning: divide by zero encountered in divide\n",
      "RuntimeWarning: divide by zero encountered in divide\n",
      "RuntimeWarning: divide by zero encountered in divide\n",
      "RuntimeWarning: divide by zero encountered in divide\n",
      "RuntimeWarning: divide by zero encountered in divide\n",
      "RuntimeWarning: divide by zero encountered in divide\n",
      "RuntimeWarning: divide by zero encountered in divide\n",
      "RuntimeWarning: divide by zero encountered in divide\n",
      "RuntimeWarning: divide by zero encountered in divide\n",
      "RuntimeWarning: divide by zero encountered in divide\n",
      "RuntimeWarning: divide by zero encountered in divide\n",
      "RuntimeWarning: divide by zero encountered in divide\n",
      "RuntimeWarning: divide by zero encountered in divide\n",
      "RuntimeWarning: divide by zero encountered in divide\n",
      "RuntimeWarning: divide by zero encountered in divide\n",
      "RuntimeWarning: divide by zero encountered in divide\n",
      "RuntimeWarning: divide by zero encountered in divide\n",
      "RuntimeWarning: divide by zero encountered in divide\n",
      "RuntimeWarning: divide by zero encountered in divide\n",
      "RuntimeWarning: divide by zero encountered in divide\n",
      "RuntimeWarning: divide by zero encountered in divide\n",
      "RuntimeWarning: divide by zero encountered in divide\n",
      "RuntimeWarning: divide by zero encountered in divide\n",
      "RuntimeWarning: divide by zero encountered in divide\n",
      "RuntimeWarning: divide by zero encountered in divide\n",
      "UserWarning: No band specific config information found, will use the input kwargs only the DEFAULT configurations in conf_kwargs_.\n",
      "UserWarning: No band specific config information found, will use the input kwargs only the DEFAULT configurations in conf_kwargs_.\n",
      "UserWarning: No band specific config information found, will use the input kwargs only the DEFAULT configurations in conf_kwargs_.\n"
     ]
    },
    {
     "name": "stdout",
     "output_type": "stream",
     "text": [
      "Setting band using default layout.\n"
     ]
    },
    {
     "name": "stderr",
     "output_type": "stream",
     "text": [
      "UserWarning: No band specific config information found, will use the input kwargs only the DEFAULT configurations in conf_kwargs_.\n"
     ]
    },
    {
     "name": "stdout",
     "output_type": "stream",
     "text": [
      "Setting band using default layout.\n",
      "Processing beam ../../APEX_2022/20221001/skychop_58800_0000.\n"
     ]
    },
    {
     "name": "stderr",
     "output_type": "stream",
     "text": [
      "RuntimeWarning: invalid value encountered in divide\n"
     ]
    },
    {
     "name": "stdout",
     "output_type": "stream",
     "text": [
      "Processing beam ../../APEX_2022/20221001/bias_step_0019.Processing beam ../../APEX_2022/20221001/bias_step_0020.\n",
      "\n",
      "running in parallel on 2 threads.\n"
     ]
    },
    {
     "name": "stderr",
     "output_type": "stream",
     "text": [
      "RuntimeWarning: divide by zero encountered in divide\n",
      "RuntimeWarning: divide by zero encountered in divide\n",
      "RuntimeWarning: divide by zero encountered in divide\n",
      "RuntimeWarning: divide by zero encountered in divide\n",
      "RuntimeWarning: divide by zero encountered in divide\n",
      "RuntimeWarning: divide by zero encountered in divide\n",
      "RuntimeWarning: divide by zero encountered in divide\n",
      "RuntimeWarning: divide by zero encountered in divide\n"
     ]
    },
    {
     "name": "stdout",
     "output_type": "stream",
     "text": [
      "Processing beam pair ../../APEX_2022/20221001/apecs_58800_0003 and ../../APEX_2022/20221001/apecs_58800_0002.Processing beam pair ../../APEX_2022/20221001/apecs_58800_0005 and ../../APEX_2022/20221001/apecs_58800_0004.Processing beam pair ../../APEX_2022/20221001/apecs_58800_0007 and ../../APEX_2022/20221001/apecs_58800_0006.\n",
      "Processing beam pair ../../APEX_2022/20221001/apecs_58800_0009 and ../../APEX_2022/20221001/apecs_58800_0008.Processing beam pair ../../APEX_2022/20221001/apecs_58800_0001 and ../../APEX_2022/20221001/apecs_58800_0000.\n",
      "\n",
      "\n",
      "Processing beam pair ../../APEX_2022/20221001/apecs_58800_0011 and ../../APEX_2022/20221001/apecs_58800_0010.Processing beam pair ../../APEX_2022/20221001/apecs_58800_0013 and ../../APEX_2022/20221001/apecs_58800_0012.Processing beam pair ../../APEX_2022/20221001/apecs_58800_0015 and ../../APEX_2022/20221001/apecs_58800_0014.\n",
      "\n",
      "\n",
      "\n",
      "running in parallel on 4 threads.\n"
     ]
    },
    {
     "name": "stderr",
     "output_type": "stream",
     "text": [
      "UserWarning: Extra time stamps truncated\n",
      "RuntimeWarning: divide by zero encountered in divide\n",
      "RuntimeWarning: divide by zero encountered in divide\n",
      "RuntimeWarning: divide by zero encountered in divide\n",
      "RuntimeWarning: divide by zero encountered in divide\n",
      "RuntimeWarning: divide by zero encountered in divide\n",
      "RuntimeWarning: divide by zero encountered in divide\n",
      "RuntimeWarning: divide by zero encountered in divide\n"
     ]
    },
    {
     "name": "stdout",
     "output_type": "stream",
     "text": [
      "Processing beam pair ../../APEX_2022/20221001/apecs_58800_0017 and ../../APEX_2022/20221001/apecs_58800_0016.\n"
     ]
    },
    {
     "name": "stderr",
     "output_type": "stream",
     "text": [
      "RuntimeWarning: divide by zero encountered in divide\n",
      "RuntimeWarning: divide by zero encountered in divide\n",
      "RuntimeWarning: divide by zero encountered in divide\n",
      "RuntimeWarning: divide by zero encountered in divide\n",
      "RuntimeWarning: divide by zero encountered in divide\n",
      "RuntimeWarning: divide by zero encountered in divide\n"
     ]
    },
    {
     "name": "stdout",
     "output_type": "stream",
     "text": [
      "Processing beam pair ../../APEX_2022/20221001/apecs_58800_0019 and ../../APEX_2022/20221001/apecs_58800_0018.\n"
     ]
    },
    {
     "name": "stderr",
     "output_type": "stream",
     "text": [
      "RuntimeWarning: divide by zero encountered in divide\n",
      "RuntimeWarning: divide by zero encountered in divide\n",
      "RuntimeWarning: divide by zero encountered in divide\n",
      "RuntimeWarning: divide by zero encountered in divide\n",
      "RuntimeWarning: divide by zero encountered in divide\n",
      "RuntimeWarning: divide by zero encountered in divide\n",
      "RuntimeWarning: divide by zero encountered in divide\n",
      "RuntimeWarning: divide by zero encountered in divide\n",
      "RuntimeWarning: divide by zero encountered in divide\n",
      "RuntimeWarning: divide by zero encountered in divide\n",
      "RuntimeWarning: divide by zero encountered in divide\n",
      "RuntimeWarning: divide by zero encountered in divide\n",
      "RuntimeWarning: divide by zero encountered in divide\n",
      "RuntimeWarning: divide by zero encountered in divide\n",
      "RuntimeWarning: divide by zero encountered in divide\n",
      "RuntimeWarning: divide by zero encountered in divide\n",
      "RuntimeWarning: divide by zero encountered in divide\n",
      "RuntimeWarning: divide by zero encountered in divide\n",
      "RuntimeWarning: divide by zero encountered in divide\n",
      "RuntimeWarning: divide by zero encountered in divide\n",
      "RuntimeWarning: divide by zero encountered in divide\n",
      "UserWarning: No band specific config information found, will use the input kwargs only the DEFAULT configurations in conf_kwargs_.\n",
      "UserWarning: No band specific config information found, will use the input kwargs only the DEFAULT configurations in conf_kwargs_.\n",
      "UserWarning: No band specific config information found, will use the input kwargs only the DEFAULT configurations in conf_kwargs_.\n"
     ]
    },
    {
     "name": "stdout",
     "output_type": "stream",
     "text": [
      "Setting band using default layout.\n"
     ]
    },
    {
     "name": "stderr",
     "output_type": "stream",
     "text": [
      "RuntimeWarning: divide by zero encountered in divide\n",
      "RuntimeWarning: divide by zero encountered in divide\n",
      "RuntimeWarning: divide by zero encountered in divide\n",
      "UserWarning: No band specific config information found, will use the input kwargs only the DEFAULT configurations in conf_kwargs_.\n"
     ]
    },
    {
     "name": "stdout",
     "output_type": "stream",
     "text": [
      "Setting band using default layout.\n",
      "Processing beam ../../APEX_2022/20221001/skychop_58800_0000.\n"
     ]
    },
    {
     "name": "stderr",
     "output_type": "stream",
     "text": [
      "RuntimeWarning: invalid value encountered in divide\n"
     ]
    },
    {
     "name": "stdout",
     "output_type": "stream",
     "text": [
      "Processing beam ../../APEX_2022/20221001/bias_step_0021.\n"
     ]
    },
    {
     "name": "stderr",
     "output_type": "stream",
     "text": [
      "RuntimeWarning: divide by zero encountered in divide\n",
      "RuntimeWarning: divide by zero encountered in divide\n",
      "RuntimeWarning: divide by zero encountered in divide\n",
      "RuntimeWarning: divide by zero encountered in divide\n",
      "UserWarning: Failed to read MCE header for ../../APEX_2022/20221001/apecs_58801_0010 due to <class 'FileNotFoundError'>: ../../APEX_2022/20221001/apecs_58801_0010 does not exist.\n",
      "UserWarning: Failed to read .hk for ../../APEX_2022/20221001/apecs_58801_0010 due to <class 'FileNotFoundError'>: ../../APEX_2022/20221001/apecs_58801_0010 or ../../APEX_2022/20221001/apecs_58801_0010.hk does not exist.\n",
      "UserWarning: Failed to read .run for ../../APEX_2022/20221001/apecs_58801_0010 due to <class 'FileNotFoundError'>: ../../APEX_2022/20221001/apecs_58801_0010 or ../../APEX_2022/20221001/apecs_58801_0010.run does not exist.\n",
      "UserWarning: Failed to read MCE header for ../../APEX_2022/20221001/apecs_58801_0011 due to <class 'FileNotFoundError'>: ../../APEX_2022/20221001/apecs_58801_0011 does not exist.\n",
      "UserWarning: Failed to read .hk for ../../APEX_2022/20221001/apecs_58801_0011 due to <class 'FileNotFoundError'>: ../../APEX_2022/20221001/apecs_58801_0011 or ../../APEX_2022/20221001/apecs_58801_0011.hk does not exist.\n",
      "UserWarning: Failed to read .run for ../../APEX_2022/20221001/apecs_58801_0011 due to <class 'FileNotFoundError'>: ../../APEX_2022/20221001/apecs_58801_0011 or ../../APEX_2022/20221001/apecs_58801_0011.run does not exist.\n",
      "UserWarning: Failed to read MCE header for ../../APEX_2022/20221001/apecs_58801_0012 due to <class 'FileNotFoundError'>: ../../APEX_2022/20221001/apecs_58801_0012 does not exist.\n",
      "UserWarning: Failed to read .hk for ../../APEX_2022/20221001/apecs_58801_0012 due to <class 'FileNotFoundError'>: ../../APEX_2022/20221001/apecs_58801_0012 or ../../APEX_2022/20221001/apecs_58801_0012.hk does not exist.\n",
      "UserWarning: Failed to read .run for ../../APEX_2022/20221001/apecs_58801_0012 due to <class 'FileNotFoundError'>: ../../APEX_2022/20221001/apecs_58801_0012 or ../../APEX_2022/20221001/apecs_58801_0012.run does not exist.\n",
      "UserWarning: Failed to read MCE header for ../../APEX_2022/20221001/apecs_58801_0013 due to <class 'FileNotFoundError'>: ../../APEX_2022/20221001/apecs_58801_0013 does not exist.\n",
      "UserWarning: Failed to read .hk for ../../APEX_2022/20221001/apecs_58801_0013 due to <class 'FileNotFoundError'>: ../../APEX_2022/20221001/apecs_58801_0013 or ../../APEX_2022/20221001/apecs_58801_0013.hk does not exist.\n",
      "UserWarning: Failed to read .run for ../../APEX_2022/20221001/apecs_58801_0013 due to <class 'FileNotFoundError'>: ../../APEX_2022/20221001/apecs_58801_0013 or ../../APEX_2022/20221001/apecs_58801_0013.run does not exist.\n",
      "UserWarning: Failed to read MCE header for ../../APEX_2022/20221001/apecs_58801_0014 due to <class 'FileNotFoundError'>: ../../APEX_2022/20221001/apecs_58801_0014 does not exist.\n",
      "UserWarning: Failed to read .hk for ../../APEX_2022/20221001/apecs_58801_0014 due to <class 'FileNotFoundError'>: ../../APEX_2022/20221001/apecs_58801_0014 or ../../APEX_2022/20221001/apecs_58801_0014.hk does not exist.\n",
      "UserWarning: Failed to read .run for ../../APEX_2022/20221001/apecs_58801_0014 due to <class 'FileNotFoundError'>: ../../APEX_2022/20221001/apecs_58801_0014 or ../../APEX_2022/20221001/apecs_58801_0014.run does not exist.\n",
      "UserWarning: Failed to read MCE header for ../../APEX_2022/20221001/apecs_58801_0015 due to <class 'FileNotFoundError'>: ../../APEX_2022/20221001/apecs_58801_0015 does not exist.\n",
      "UserWarning: Failed to read .hk for ../../APEX_2022/20221001/apecs_58801_0015 due to <class 'FileNotFoundError'>: ../../APEX_2022/20221001/apecs_58801_0015 or ../../APEX_2022/20221001/apecs_58801_0015.hk does not exist.\n",
      "UserWarning: Failed to read .run for ../../APEX_2022/20221001/apecs_58801_0015 due to <class 'FileNotFoundError'>: ../../APEX_2022/20221001/apecs_58801_0015 or ../../APEX_2022/20221001/apecs_58801_0015.run does not exist.\n",
      "UserWarning: Failed to read MCE header for ../../APEX_2022/20221001/apecs_58801_0016 due to <class 'FileNotFoundError'>: ../../APEX_2022/20221001/apecs_58801_0016 does not exist.\n",
      "UserWarning: Failed to read .hk for ../../APEX_2022/20221001/apecs_58801_0016 due to <class 'FileNotFoundError'>: ../../APEX_2022/20221001/apecs_58801_0016 or ../../APEX_2022/20221001/apecs_58801_0016.hk does not exist.\n",
      "UserWarning: Failed to read .run for ../../APEX_2022/20221001/apecs_58801_0016 due to <class 'FileNotFoundError'>: ../../APEX_2022/20221001/apecs_58801_0016 or ../../APEX_2022/20221001/apecs_58801_0016.run does not exist.\n",
      "UserWarning: Failed to read MCE header for ../../APEX_2022/20221001/apecs_58801_0017 due to <class 'FileNotFoundError'>: ../../APEX_2022/20221001/apecs_58801_0017 does not exist.\n",
      "UserWarning: Failed to read .hk for ../../APEX_2022/20221001/apecs_58801_0017 due to <class 'FileNotFoundError'>: ../../APEX_2022/20221001/apecs_58801_0017 or ../../APEX_2022/20221001/apecs_58801_0017.hk does not exist.\n",
      "UserWarning: Failed to read .run for ../../APEX_2022/20221001/apecs_58801_0017 due to <class 'FileNotFoundError'>: ../../APEX_2022/20221001/apecs_58801_0017 or ../../APEX_2022/20221001/apecs_58801_0017.run does not exist.\n",
      "UserWarning: Failed to read MCE header for ../../APEX_2022/20221001/apecs_58801_0018 due to <class 'FileNotFoundError'>: ../../APEX_2022/20221001/apecs_58801_0018 does not exist.\n",
      "UserWarning: Failed to read .hk for ../../APEX_2022/20221001/apecs_58801_0018 due to <class 'FileNotFoundError'>: ../../APEX_2022/20221001/apecs_58801_0018 or ../../APEX_2022/20221001/apecs_58801_0018.hk does not exist.\n",
      "UserWarning: Failed to read .run for ../../APEX_2022/20221001/apecs_58801_0018 due to <class 'FileNotFoundError'>: ../../APEX_2022/20221001/apecs_58801_0018 or ../../APEX_2022/20221001/apecs_58801_0018.run does not exist.\n",
      "UserWarning: Failed to read MCE header for ../../APEX_2022/20221001/apecs_58801_0019 due to <class 'FileNotFoundError'>: ../../APEX_2022/20221001/apecs_58801_0019 does not exist.\n",
      "UserWarning: Failed to read .hk for ../../APEX_2022/20221001/apecs_58801_0019 due to <class 'FileNotFoundError'>: ../../APEX_2022/20221001/apecs_58801_0019 or ../../APEX_2022/20221001/apecs_58801_0019.hk does not exist.\n",
      "UserWarning: Failed to read .run for ../../APEX_2022/20221001/apecs_58801_0019 due to <class 'FileNotFoundError'>: ../../APEX_2022/20221001/apecs_58801_0019 or ../../APEX_2022/20221001/apecs_58801_0019.run does not exist.\n"
     ]
    },
    {
     "name": "stdout",
     "output_type": "stream",
     "text": [
      "Processing beam pair ../../APEX_2022/20221001/apecs_58801_0001 and ../../APEX_2022/20221001/apecs_58801_0000.Processing beam pair ../../APEX_2022/20221001/apecs_58801_0003 and ../../APEX_2022/20221001/apecs_58801_0002.\n",
      "Processing beam pair ../../APEX_2022/20221001/apecs_58801_0007 and ../../APEX_2022/20221001/apecs_58801_0006.\n",
      "Processing beam pair ../../APEX_2022/20221001/apecs_58801_0009 and ../../APEX_2022/20221001/apecs_58801_0008.Processing beam pair ../../APEX_2022/20221001/apecs_58801_0005 and ../../APEX_2022/20221001/apecs_58801_0004.Processing beam pair ../../APEX_2022/20221001/apecs_58801_0011 and ../../APEX_2022/20221001/apecs_58801_0010.\n",
      "Processing beam pair ../../APEX_2022/20221001/apecs_58801_0013 and ../../APEX_2022/20221001/apecs_58801_0012.\n"
     ]
    },
    {
     "name": "stderr",
     "output_type": "stream",
     "text": [
      "UserWarning: Failed to read MCE header for ../../APEX_2022/20221001/apecs_58801_0013 due to <class 'FileNotFoundError'>: ../../APEX_2022/20221001/apecs_58801_0013 does not exist.\n"
     ]
    },
    {
     "name": "stdout",
     "output_type": "stream",
     "text": [
      "\n"
     ]
    },
    {
     "name": "stderr",
     "output_type": "stream",
     "text": [
      "UserWarning: Failed to read .hk for ../../APEX_2022/20221001/apecs_58801_0013 due to <class 'FileNotFoundError'>: ../../APEX_2022/20221001/apecs_58801_0013 or ../../APEX_2022/20221001/apecs_58801_0013.hk does not exist.\n"
     ]
    },
    {
     "name": "stdout",
     "output_type": "stream",
     "text": [
      "Processing beam pair ../../APEX_2022/20221001/apecs_58801_0015 and ../../APEX_2022/20221001/apecs_58801_0014.\n"
     ]
    },
    {
     "name": "stderr",
     "output_type": "stream",
     "text": [
      "UserWarning: Failed to read MCE header for ../../APEX_2022/20221001/apecs_58801_0015 due to <class 'FileNotFoundError'>: ../../APEX_2022/20221001/apecs_58801_0015 does not exist.\n"
     ]
    },
    {
     "name": "stdout",
     "output_type": "stream",
     "text": [
      "\n"
     ]
    },
    {
     "name": "stderr",
     "output_type": "stream",
     "text": [
      "UserWarning: Failed to read .hk for ../../APEX_2022/20221001/apecs_58801_0015 due to <class 'FileNotFoundError'>: ../../APEX_2022/20221001/apecs_58801_0015 or ../../APEX_2022/20221001/apecs_58801_0015.hk does not exist.\n"
     ]
    },
    {
     "name": "stdout",
     "output_type": "stream",
     "text": [
      "\n"
     ]
    },
    {
     "name": "stderr",
     "output_type": "stream",
     "text": [
      "UserWarning: Failed to read MCE header for ../../APEX_2022/20221001/apecs_58801_0011 due to <class 'FileNotFoundError'>: ../../APEX_2022/20221001/apecs_58801_0011 does not exist.\n",
      "UserWarning: Failed to read .run for ../../APEX_2022/20221001/apecs_58801_0015 due to <class 'FileNotFoundError'>: ../../APEX_2022/20221001/apecs_58801_0015 or ../../APEX_2022/20221001/apecs_58801_0015.run does not exist.\n",
      "UserWarning: Failed to read .run for ../../APEX_2022/20221001/apecs_58801_0013 due to <class 'FileNotFoundError'>: ../../APEX_2022/20221001/apecs_58801_0013 or ../../APEX_2022/20221001/apecs_58801_0013.run does not exist.\n",
      "UserWarning: Failed to read .hk for ../../APEX_2022/20221001/apecs_58801_0011 due to <class 'FileNotFoundError'>: ../../APEX_2022/20221001/apecs_58801_0011 or ../../APEX_2022/20221001/apecs_58801_0011.hk does not exist.\n",
      "UserWarning: Failed to read .run for ../../APEX_2022/20221001/apecs_58801_0011 due to <class 'FileNotFoundError'>: ../../APEX_2022/20221001/apecs_58801_0011 or ../../APEX_2022/20221001/apecs_58801_0011.run does not exist.\n",
      "UserWarning: ../../APEX_2022/20221001/apecs_58801_0013 not found.\n",
      "UserWarning: ../../APEX_2022/20221001/apecs_58801_0011 not found.\n",
      "UserWarning: ../../APEX_2022/20221001/apecs_58801_0013.chop not found.\n",
      "UserWarning: ../../APEX_2022/20221001/apecs_58801_0015 not found.\n",
      "UserWarning: ../../APEX_2022/20221001/apecs_58801_0011.chop not found.\n",
      "UserWarning: ../../APEX_2022/20221001/apecs_58801_0011.ts not found.\n",
      "UserWarning: ../../APEX_2022/20221001/apecs_58801_0013.ts not found.\n",
      "UserWarning: ../../APEX_2022/20221001/apecs_58801_0015.chop not found.\n",
      "UserWarning: Failed to read MCE header for ../../APEX_2022/20221001/apecs_58801_0010 due to <class 'FileNotFoundError'>: ../../APEX_2022/20221001/apecs_58801_0010 does not exist.\n",
      "UserWarning: Failed to read MCE header for ../../APEX_2022/20221001/apecs_58801_0012 due to <class 'FileNotFoundError'>: ../../APEX_2022/20221001/apecs_58801_0012 does not exist.\n",
      "UserWarning: Failed to read .hk for ../../APEX_2022/20221001/apecs_58801_0012 due to <class 'FileNotFoundError'>: ../../APEX_2022/20221001/apecs_58801_0012 or ../../APEX_2022/20221001/apecs_58801_0012.hk does not exist.\n",
      "UserWarning: ../../APEX_2022/20221001/apecs_58801_0015.ts not found.\n",
      "UserWarning: Failed to read .run for ../../APEX_2022/20221001/apecs_58801_0012 due to <class 'FileNotFoundError'>: ../../APEX_2022/20221001/apecs_58801_0012 or ../../APEX_2022/20221001/apecs_58801_0012.run does not exist.\n",
      "UserWarning: Failed to read MCE header for ../../APEX_2022/20221001/apecs_58801_0014 due to <class 'FileNotFoundError'>: ../../APEX_2022/20221001/apecs_58801_0014 does not exist.\n",
      "UserWarning: ../../APEX_2022/20221001/apecs_58801_0012 not found.\n",
      "UserWarning: Failed to read .hk for ../../APEX_2022/20221001/apecs_58801_0010 due to <class 'FileNotFoundError'>: ../../APEX_2022/20221001/apecs_58801_0010 or ../../APEX_2022/20221001/apecs_58801_0010.hk does not exist.\n"
     ]
    },
    {
     "name": "stdout",
     "output_type": "stream",
     "text": [
      "running in parallel on 4 threads.\n"
     ]
    },
    {
     "name": "stderr",
     "output_type": "stream",
     "text": [
      "UserWarning: Failed to read .hk for ../../APEX_2022/20221001/apecs_58801_0014 due to <class 'FileNotFoundError'>: ../../APEX_2022/20221001/apecs_58801_0014 or ../../APEX_2022/20221001/apecs_58801_0014.hk does not exist.\n",
      "UserWarning: ../../APEX_2022/20221001/apecs_58801_0012.chop not found.\n",
      "UserWarning: Failed to read .run for ../../APEX_2022/20221001/apecs_58801_0014 due to <class 'FileNotFoundError'>: ../../APEX_2022/20221001/apecs_58801_0014 or ../../APEX_2022/20221001/apecs_58801_0014.run does not exist.\n",
      "UserWarning: ../../APEX_2022/20221001/apecs_58801_0014 not found.\n",
      "UserWarning: Failed to read .run for ../../APEX_2022/20221001/apecs_58801_0010 due to <class 'FileNotFoundError'>: ../../APEX_2022/20221001/apecs_58801_0010 or ../../APEX_2022/20221001/apecs_58801_0010.run does not exist.\n",
      "UserWarning: ../../APEX_2022/20221001/apecs_58801_0012.ts not found.\n",
      "UserWarning: ../../APEX_2022/20221001/apecs_58801_0014.chop not found.\n",
      "UserWarning: ../../APEX_2022/20221001/apecs_58801_0010 not found.\n",
      "UserWarning: ../../APEX_2022/20221001/apecs_58801_0014.ts not found.\n",
      "RuntimeWarning: invalid value encountered in divide\n",
      "UserWarning: ../../APEX_2022/20221001/apecs_58801_0010.chop not found.\n",
      "UserWarning: ../../APEX_2022/20221001/apecs_58801_0010.ts not found.\n",
      "RuntimeWarning: invalid value encountered in divide\n"
     ]
    },
    {
     "name": "stdout",
     "output_type": "stream",
     "text": [
      "Processing beam pair ../../APEX_2022/20221001/apecs_58801_0017 and ../../APEX_2022/20221001/apecs_58801_0016.\n"
     ]
    },
    {
     "name": "stderr",
     "output_type": "stream",
     "text": [
      "UserWarning: Failed to read MCE header for ../../APEX_2022/20221001/apecs_58801_0017 due to <class 'FileNotFoundError'>: ../../APEX_2022/20221001/apecs_58801_0017 does not exist.\n",
      "UserWarning: Failed to read .hk for ../../APEX_2022/20221001/apecs_58801_0017 due to <class 'FileNotFoundError'>: ../../APEX_2022/20221001/apecs_58801_0017 or ../../APEX_2022/20221001/apecs_58801_0017.hk does not exist.\n",
      "RuntimeWarning: invalid value encountered in divide\n"
     ]
    },
    {
     "name": "stdout",
     "output_type": "stream",
     "text": [
      "Processing beam pair ../../APEX_2022/20221001/apecs_58801_0019 and ../../APEX_2022/20221001/apecs_58801_0018."
     ]
    },
    {
     "name": "stderr",
     "output_type": "stream",
     "text": [
      "UserWarning: Failed to read .run for ../../APEX_2022/20221001/apecs_58801_0017 due to <class 'FileNotFoundError'>: ../../APEX_2022/20221001/apecs_58801_0017 or ../../APEX_2022/20221001/apecs_58801_0017.run does not exist.\n"
     ]
    },
    {
     "name": "stdout",
     "output_type": "stream",
     "text": [
      "\n"
     ]
    },
    {
     "name": "stderr",
     "output_type": "stream",
     "text": [
      "UserWarning: ../../APEX_2022/20221001/apecs_58801_0017 not found.\n",
      "UserWarning: Failed to read MCE header for ../../APEX_2022/20221001/apecs_58801_0019 due to <class 'FileNotFoundError'>: ../../APEX_2022/20221001/apecs_58801_0019 does not exist.\n",
      "UserWarning: ../../APEX_2022/20221001/apecs_58801_0017.chop not found.\n",
      "UserWarning: Failed to read .hk for ../../APEX_2022/20221001/apecs_58801_0019 due to <class 'FileNotFoundError'>: ../../APEX_2022/20221001/apecs_58801_0019 or ../../APEX_2022/20221001/apecs_58801_0019.hk does not exist.\n",
      "UserWarning: Failed to read .run for ../../APEX_2022/20221001/apecs_58801_0019 due to <class 'FileNotFoundError'>: ../../APEX_2022/20221001/apecs_58801_0019 or ../../APEX_2022/20221001/apecs_58801_0019.run does not exist.\n",
      "UserWarning: ../../APEX_2022/20221001/apecs_58801_0019 not found.\n",
      "UserWarning: ../../APEX_2022/20221001/apecs_58801_0017.ts not found.\n",
      "UserWarning: ../../APEX_2022/20221001/apecs_58801_0019.chop not found.\n",
      "UserWarning: Failed to read MCE header for ../../APEX_2022/20221001/apecs_58801_0016 due to <class 'FileNotFoundError'>: ../../APEX_2022/20221001/apecs_58801_0016 does not exist.\n",
      "UserWarning: Failed to read .hk for ../../APEX_2022/20221001/apecs_58801_0016 due to <class 'FileNotFoundError'>: ../../APEX_2022/20221001/apecs_58801_0016 or ../../APEX_2022/20221001/apecs_58801_0016.hk does not exist.\n",
      "UserWarning: ../../APEX_2022/20221001/apecs_58801_0019.ts not found.\n",
      "UserWarning: Failed to read .run for ../../APEX_2022/20221001/apecs_58801_0016 due to <class 'FileNotFoundError'>: ../../APEX_2022/20221001/apecs_58801_0016 or ../../APEX_2022/20221001/apecs_58801_0016.run does not exist.\n",
      "UserWarning: Failed to read MCE header for ../../APEX_2022/20221001/apecs_58801_0018 due to <class 'FileNotFoundError'>: ../../APEX_2022/20221001/apecs_58801_0018 does not exist.\n",
      "UserWarning: Failed to read .hk for ../../APEX_2022/20221001/apecs_58801_0018 due to <class 'FileNotFoundError'>: ../../APEX_2022/20221001/apecs_58801_0018 or ../../APEX_2022/20221001/apecs_58801_0018.hk does not exist.\n",
      "UserWarning: ../../APEX_2022/20221001/apecs_58801_0016 not found.\n",
      "UserWarning: Failed to read .run for ../../APEX_2022/20221001/apecs_58801_0018 due to <class 'FileNotFoundError'>: ../../APEX_2022/20221001/apecs_58801_0018 or ../../APEX_2022/20221001/apecs_58801_0018.run does not exist.\n",
      "UserWarning: ../../APEX_2022/20221001/apecs_58801_0016.chop not found.\n",
      "UserWarning: ../../APEX_2022/20221001/apecs_58801_0018 not found.\n",
      "UserWarning: ../../APEX_2022/20221001/apecs_58801_0018.chop not found.\n",
      "UserWarning: ../../APEX_2022/20221001/apecs_58801_0016.ts not found.\n",
      "UserWarning: ../../APEX_2022/20221001/apecs_58801_0018.ts not found.\n",
      "RuntimeWarning: invalid value encountered in divide\n",
      "RuntimeWarning: invalid value encountered in divide\n",
      "UserWarning: No entry is found in obs log.\n",
      "RuntimeWarning: divide by zero encountered in divide\n",
      "RuntimeWarning: divide by zero encountered in divide\n",
      "RuntimeWarning: divide by zero encountered in divide\n",
      "RuntimeWarning: divide by zero encountered in divide\n",
      "RuntimeWarning: divide by zero encountered in divide\n",
      "RuntimeWarning: divide by zero encountered in divide\n",
      "RuntimeWarning: divide by zero encountered in divide\n",
      "RuntimeWarning: divide by zero encountered in divide\n",
      "RuntimeWarning: divide by zero encountered in divide\n",
      "RuntimeWarning: divide by zero encountered in divide\n",
      "RuntimeWarning: divide by zero encountered in divide\n",
      "RuntimeWarning: divide by zero encountered in divide\n",
      "RuntimeWarning: divide by zero encountered in divide\n",
      "RuntimeWarning: divide by zero encountered in divide\n",
      "RuntimeWarning: divide by zero encountered in divide\n",
      "RuntimeWarning: divide by zero encountered in divide\n",
      "RuntimeWarning: divide by zero encountered in divide\n",
      "RuntimeWarning: divide by zero encountered in divide\n",
      "RuntimeWarning: divide by zero encountered in divide\n"
     ]
    },
    {
     "ename": "TypeError",
     "evalue": "Invalid type of arr_in. Expect array.",
     "output_type": "error",
     "traceback": [
      "\u001b[0;31m---------------------------------------------------------------------------\u001b[0m",
      "\u001b[0;31mTypeError\u001b[0m                                 Traceback (most recent call last)",
      "Cell \u001b[0;32mIn[32], line 7\u001b[0m\n\u001b[1;32m      5\u001b[0m r\u001b[38;5;241m.\u001b[39mdata_dir \u001b[38;5;241m=\u001b[39m folder\n\u001b[1;32m      6\u001b[0m \u001b[38;5;66;03m#r.inject_signal = zt.mce_data.SignalInjection(amplitude=1,pixels=[am.phys_to_mce(spec,spat,400)])\u001b[39;00m\n\u001b[0;32m----> 7\u001b[0m \u001b[43mr\u001b[49m\u001b[38;5;241;43m.\u001b[39;49m\u001b[43mreduce\u001b[49m\u001b[43m(\u001b[49m\u001b[43msky\u001b[49m\u001b[43m,\u001b[49m\u001b[43mdat\u001b[49m\u001b[43m,\u001b[49m\u001b[43mbs\u001b[49m\u001b[43m)\u001b[49m\n\u001b[1;32m      8\u001b[0m times\u001b[38;5;241m.\u001b[39mappend(time\u001b[38;5;241m.\u001b[39mtime())\n",
      "File \u001b[0;32m~/Dropbox/code/zeus2/zeustools/zeustools/calibration_pipeline.py:443\u001b[0m, in \u001b[0;36mReductionHelper.reduce\u001b[0;34m(self, flat_header, data_header, bs_header)\u001b[0m\n\u001b[1;32m    440\u001b[0m bs_flux, bs_err, bs_pix_flag_list \u001b[38;5;241m=\u001b[39m bs_result[:\u001b[38;5;241m2\u001b[39m] \u001b[38;5;241m+\u001b[39m bs_result[\u001b[38;5;241m-\u001b[39m\u001b[38;5;241m1\u001b[39m:]\n\u001b[1;32m    442\u001b[0m flat_flux, flat_err, pix_flag_list \u001b[38;5;241m=\u001b[39m \u001b[38;5;241m1\u001b[39m, \u001b[38;5;241m0\u001b[39m, []\n\u001b[0;32m--> 443\u001b[0m zobs_result \u001b[38;5;241m=\u001b[39m \u001b[43mz2pipl\u001b[49m\u001b[38;5;241;43m.\u001b[39;49m\u001b[43mreduce_zobs\u001b[49m\u001b[43m(\u001b[49m\n\u001b[1;32m    444\u001b[0m \u001b[43m    \u001b[49m\u001b[43mdata_header\u001b[49m\u001b[38;5;241;43m=\u001b[39;49m\u001b[43mdata_header\u001b[49m\u001b[43m,\u001b[49m\u001b[43m \u001b[49m\u001b[43mdata_dir\u001b[49m\u001b[38;5;241;43m=\u001b[39;49m\u001b[38;5;28;43mself\u001b[39;49m\u001b[38;5;241;43m.\u001b[39;49m\u001b[43mdata_dir\u001b[49m\u001b[43m,\u001b[49m\u001b[43m \u001b[49m\u001b[43mwrite_dir\u001b[49m\u001b[38;5;241;43m=\u001b[39;49m\u001b[38;5;28;43mself\u001b[39;49m\u001b[38;5;241;43m.\u001b[39;49m\u001b[43mwrite_dir\u001b[49m\u001b[43m,\u001b[49m\n\u001b[1;32m    445\u001b[0m \u001b[43m    \u001b[49m\u001b[43marray_map\u001b[49m\u001b[38;5;241;43m=\u001b[39;49m\u001b[38;5;28;43mself\u001b[39;49m\u001b[38;5;241;43m.\u001b[39;49m\u001b[43marray_map\u001b[49m\u001b[43m,\u001b[49m\u001b[43m \u001b[49m\u001b[43mobs_log\u001b[49m\u001b[38;5;241;43m=\u001b[39;49m\u001b[38;5;28;43mself\u001b[39;49m\u001b[38;5;241;43m.\u001b[39;49m\u001b[43mobs_log\u001b[49m\u001b[43m,\u001b[49m\u001b[43m \u001b[49m\u001b[43mpix_flag_list\u001b[49m\u001b[38;5;241;43m=\u001b[39;49m\u001b[43mpix_flag_list\u001b[49m\u001b[43m,\u001b[49m\n\u001b[1;32m    446\u001b[0m \u001b[43m    \u001b[49m\u001b[43mflat_flux\u001b[49m\u001b[38;5;241;43m=\u001b[39;49m\u001b[43mflat_flux\u001b[49m\u001b[43m,\u001b[49m\u001b[43m \u001b[49m\u001b[43mflat_err\u001b[49m\u001b[38;5;241;43m=\u001b[39;49m\u001b[43mflat_err\u001b[49m\u001b[43m,\u001b[49m\u001b[43m \u001b[49m\u001b[43mparallel\u001b[49m\u001b[38;5;241;43m=\u001b[39;49m\u001b[38;5;28;43mself\u001b[39;49m\u001b[38;5;241;43m.\u001b[39;49m\u001b[43mparallel\u001b[49m\u001b[43m,\u001b[49m\u001b[43m \u001b[49m\u001b[43mstack\u001b[49m\u001b[38;5;241;43m=\u001b[39;49m\u001b[38;5;28;43mself\u001b[39;49m\u001b[38;5;241;43m.\u001b[39;49m\u001b[43mdo_ica\u001b[49m\u001b[43m,\u001b[49m\n\u001b[1;32m    447\u001b[0m \u001b[43m    \u001b[49m\u001b[43mdo_desnake\u001b[49m\u001b[38;5;241;43m=\u001b[39;49m\u001b[38;5;28;43mself\u001b[39;49m\u001b[38;5;241;43m.\u001b[39;49m\u001b[43mdo_desnake\u001b[49m\u001b[43m,\u001b[49m\u001b[43m \u001b[49m\u001b[43mref_pix\u001b[49m\u001b[38;5;241;43m=\u001b[39;49m\u001b[38;5;28;43mself\u001b[39;49m\u001b[38;5;241;43m.\u001b[39;49m\u001b[43mref_pix\u001b[49m\u001b[43m,\u001b[49m\u001b[43m \u001b[49m\u001b[43mdo_smooth\u001b[49m\u001b[38;5;241;43m=\u001b[39;49m\u001b[38;5;28;43mself\u001b[39;49m\u001b[38;5;241;43m.\u001b[39;49m\u001b[43mdo_smooth\u001b[49m\u001b[43m,\u001b[49m\u001b[43m \u001b[49m\u001b[43mreturn_ts\u001b[49m\u001b[38;5;241;43m=\u001b[39;49m\u001b[38;5;28;43;01mTrue\u001b[39;49;00m\u001b[43m,\u001b[49m\u001b[43m \u001b[49m\n\u001b[1;32m    448\u001b[0m \u001b[43m    \u001b[49m\u001b[43mdo_ica\u001b[49m\u001b[38;5;241;43m=\u001b[39;49m\u001b[38;5;28;43mself\u001b[39;49m\u001b[38;5;241;43m.\u001b[39;49m\u001b[43mdo_ica\u001b[49m\u001b[43m,\u001b[49m\u001b[43m \u001b[49m\u001b[43mspat_excl\u001b[49m\u001b[38;5;241;43m=\u001b[39;49m\u001b[38;5;28;43mself\u001b[39;49m\u001b[38;5;241;43m.\u001b[39;49m\u001b[43mspat_excl\u001b[49m\u001b[43m,\u001b[49m\u001b[43m \u001b[49m\u001b[43mreturn_pix_flag_list\u001b[49m\u001b[38;5;241;43m=\u001b[39;49m\u001b[38;5;28;43;01mTrue\u001b[39;49;00m\u001b[43m,\u001b[49m\n\u001b[1;32m    449\u001b[0m \u001b[43m    \u001b[49m\u001b[43mtable_save\u001b[49m\u001b[38;5;241;43m=\u001b[39;49m\u001b[38;5;28;43mself\u001b[39;49m\u001b[38;5;241;43m.\u001b[39;49m\u001b[43mtable_save\u001b[49m\u001b[43m,\u001b[49m\u001b[43m \u001b[49m\u001b[43mplot\u001b[49m\u001b[38;5;241;43m=\u001b[39;49m\u001b[38;5;28;43mself\u001b[39;49m\u001b[38;5;241;43m.\u001b[39;49m\u001b[43mplot\u001b[49m\u001b[43m,\u001b[49m\u001b[43m \u001b[49m\u001b[43mplot_ts\u001b[49m\u001b[38;5;241;43m=\u001b[39;49m\u001b[38;5;28;43mself\u001b[39;49m\u001b[38;5;241;43m.\u001b[39;49m\u001b[43mplot_ts\u001b[49m\u001b[43m,\u001b[49m\n\u001b[1;32m    450\u001b[0m \u001b[43m    \u001b[49m\u001b[43mreg_interest\u001b[49m\u001b[38;5;241;43m=\u001b[39;49m\u001b[38;5;28;43mself\u001b[39;49m\u001b[38;5;241;43m.\u001b[39;49m\u001b[43mreg_interest\u001b[49m\u001b[43m,\u001b[49m\u001b[43m \u001b[49m\u001b[43mplot_flux\u001b[49m\u001b[38;5;241;43m=\u001b[39;49m\u001b[38;5;28;43mself\u001b[39;49m\u001b[38;5;241;43m.\u001b[39;49m\u001b[43mplot_flux\u001b[49m\u001b[43m,\u001b[49m\n\u001b[1;32m    451\u001b[0m \u001b[43m    \u001b[49m\u001b[43mplot_show\u001b[49m\u001b[38;5;241;43m=\u001b[39;49m\u001b[38;5;28;43mself\u001b[39;49m\u001b[38;5;241;43m.\u001b[39;49m\u001b[43mplot_show\u001b[49m\u001b[43m,\u001b[49m\u001b[43m \u001b[49m\u001b[43mplot_save\u001b[49m\u001b[38;5;241;43m=\u001b[39;49m\u001b[38;5;28;43mself\u001b[39;49m\u001b[38;5;241;43m.\u001b[39;49m\u001b[43mplot_save\u001b[49m\u001b[43m,\u001b[49m\u001b[43m \u001b[49m\u001b[43manalyze\u001b[49m\u001b[38;5;241;43m=\u001b[39;49m\u001b[38;5;28;43mself\u001b[39;49m\u001b[38;5;241;43m.\u001b[39;49m\u001b[43manalyze\u001b[49m\u001b[43m,\u001b[49m\u001b[43m \u001b[49m\u001b[43muse_hk\u001b[49m\u001b[38;5;241;43m=\u001b[39;49m\u001b[38;5;28;43;01mTrue\u001b[39;49;00m\u001b[43m,\u001b[49m\u001b[43m \u001b[49m\n\u001b[1;32m    452\u001b[0m \u001b[43m    \u001b[49m\u001b[43mgrat_idx\u001b[49m\u001b[38;5;241;43m=\u001b[39;49m\u001b[38;5;28;43;01mNone\u001b[39;49;00m\u001b[43m,\u001b[49m\u001b[43m \u001b[49m\u001b[43mpwv\u001b[49m\u001b[38;5;241;43m=\u001b[39;49m\u001b[38;5;28;43;01mNone\u001b[39;49;00m\u001b[43m,\u001b[49m\u001b[43m \u001b[49m\u001b[43melev\u001b[49m\u001b[38;5;241;43m=\u001b[39;49m\u001b[38;5;28;43;01mNone\u001b[39;49;00m\u001b[43m,\u001b[49m\u001b[43m \u001b[49m\u001b[43minject_sig\u001b[49m\u001b[38;5;241;43m=\u001b[39;49m\u001b[38;5;28;43mself\u001b[39;49m\u001b[38;5;241;43m.\u001b[39;49m\u001b[43minject_signal\u001b[49m\u001b[43m)\u001b[49m\n\u001b[1;32m    454\u001b[0m zobs_flux, zobs_err, zobs_pix_flag_list \u001b[38;5;241m=\u001b[39m zobs_result[:\u001b[38;5;241m2\u001b[39m] \u001b[38;5;241m+\u001b[39m zobs_result[\u001b[38;5;241m-\u001b[39m\u001b[38;5;241m1\u001b[39m:]\n\u001b[1;32m    455\u001b[0m grat_idx \u001b[38;5;241m=\u001b[39m z2pipl\u001b[38;5;241m.\u001b[39mconfigure_helper(obs\u001b[38;5;241m=\u001b[39mzobs_flux, keyword\u001b[38;5;241m=\u001b[39m\u001b[38;5;124m\"\u001b[39m\u001b[38;5;124mgratingindex\u001b[39m\u001b[38;5;124m\"\u001b[39m, supersede\u001b[38;5;241m=\u001b[39m\u001b[38;5;28;01mTrue\u001b[39;00m)\n",
      "File \u001b[0;32m~/Dropbox/code/zeus2/zeus2_toolbox/src/zeus2_toolbox/pipeline.py:2091\u001b[0m, in \u001b[0;36mreduce_zobs\u001b[0;34m(data_header, data_dir, write_dir, write_suffix, array_map, obs_log, pix_flag_list, flat_flux, flat_err, parallel, stack, do_desnake, ref_pix, do_smooth, do_ica, spat_excl, do_clean, return_ts, return_pix_flag_list, table_save, save_wl, save_atm, plot, plot_ts, plot_atm, reg_interest, plot_flux, plot_show, plot_save, analyze, use_hk, grat_idx, pwv, elev, inject_sig)\u001b[0m\n\u001b[1;32m   2089\u001b[0m             beam_pair\u001b[38;5;241m.\u001b[39mappend(group)\n\u001b[1;32m   2090\u001b[0m \u001b[38;5;28;01melse\u001b[39;00m:\n\u001b[0;32m-> 2091\u001b[0m     result \u001b[38;5;241m=\u001b[39m \u001b[43mreduce_beam_pairs\u001b[49m\u001b[43m(\u001b[49m\n\u001b[1;32m   2092\u001b[0m \u001b[43m            \u001b[49m\u001b[43mdata_header\u001b[49m\u001b[38;5;241;43m=\u001b[39;49m\u001b[43mdata_header\u001b[49m\u001b[43m,\u001b[49m\u001b[43m \u001b[49m\u001b[43mdata_dir\u001b[49m\u001b[38;5;241;43m=\u001b[39;49m\u001b[43mdata_dir\u001b[49m\u001b[43m,\u001b[49m\u001b[43m \u001b[49m\u001b[43mwrite_dir\u001b[49m\u001b[38;5;241;43m=\u001b[39;49m\u001b[43mwrite_dir\u001b[49m\u001b[43m,\u001b[49m\n\u001b[1;32m   2093\u001b[0m \u001b[43m            \u001b[49m\u001b[43mwrite_suffix\u001b[49m\u001b[38;5;241;43m=\u001b[39;49m\u001b[43mwrite_suffix\u001b[49m\u001b[43m,\u001b[49m\u001b[43m \u001b[49m\u001b[43marray_map\u001b[49m\u001b[38;5;241;43m=\u001b[39;49m\u001b[43marray_map\u001b[49m\u001b[43m,\u001b[49m\u001b[43m \u001b[49m\u001b[43mobs_log\u001b[49m\u001b[38;5;241;43m=\u001b[39;49m\u001b[43mobs_log\u001b[49m\u001b[43m,\u001b[49m\n\u001b[1;32m   2094\u001b[0m \u001b[43m            \u001b[49m\u001b[43mis_flat\u001b[49m\u001b[38;5;241;43m=\u001b[39;49m\u001b[38;5;28;43;01mFalse\u001b[39;49;00m\u001b[43m,\u001b[49m\u001b[43m \u001b[49m\u001b[43mpix_flag_list\u001b[49m\u001b[38;5;241;43m=\u001b[39;49m\u001b[43mpix_flag_list\u001b[49m\u001b[43m,\u001b[49m\u001b[43m \u001b[49m\u001b[43mflat_flux\u001b[49m\u001b[38;5;241;43m=\u001b[39;49m\u001b[43mflat_flux\u001b[49m\u001b[43m,\u001b[49m\n\u001b[1;32m   2095\u001b[0m \u001b[43m            \u001b[49m\u001b[43mflat_err\u001b[49m\u001b[38;5;241;43m=\u001b[39;49m\u001b[43mflat_err\u001b[49m\u001b[43m,\u001b[49m\u001b[43m \u001b[49m\u001b[43mparallel\u001b[49m\u001b[38;5;241;43m=\u001b[39;49m\u001b[43mparallel\u001b[49m\u001b[43m,\u001b[49m\u001b[43m \u001b[49m\u001b[43mdo_desnake\u001b[49m\u001b[38;5;241;43m=\u001b[39;49m\u001b[43mdo_desnake\u001b[49m\u001b[43m,\u001b[49m\n\u001b[1;32m   2096\u001b[0m \u001b[43m            \u001b[49m\u001b[43mref_pix\u001b[49m\u001b[38;5;241;43m=\u001b[39;49m\u001b[43mref_pix\u001b[49m\u001b[43m,\u001b[49m\u001b[43m \u001b[49m\u001b[43mdo_smooth\u001b[49m\u001b[38;5;241;43m=\u001b[39;49m\u001b[43mdo_smooth\u001b[49m\u001b[43m,\u001b[49m\u001b[43m \u001b[49m\u001b[43mdo_ica\u001b[49m\u001b[38;5;241;43m=\u001b[39;49m\u001b[43mdo_ica\u001b[49m\u001b[43m,\u001b[49m\n\u001b[1;32m   2097\u001b[0m \u001b[43m            \u001b[49m\u001b[43mspat_excl\u001b[49m\u001b[38;5;241;43m=\u001b[39;49m\u001b[43mspat_excl\u001b[49m\u001b[43m,\u001b[49m\u001b[43m \u001b[49m\u001b[43mdo_clean\u001b[49m\u001b[38;5;241;43m=\u001b[39;49m\u001b[43mdo_clean\u001b[49m\u001b[43m,\u001b[49m\n\u001b[1;32m   2098\u001b[0m \u001b[43m            \u001b[49m\u001b[43mreturn_ts\u001b[49m\u001b[38;5;241;43m=\u001b[39;49m\u001b[43mreturn_ts\u001b[49m\u001b[43m \u001b[49m\u001b[38;5;241;43m|\u001b[39;49m\u001b[43m \u001b[49m\u001b[43manalyze\u001b[49m\u001b[43m,\u001b[49m\n\u001b[1;32m   2099\u001b[0m \u001b[43m            \u001b[49m\u001b[43mreturn_pix_flag_list\u001b[49m\u001b[38;5;241;43m=\u001b[39;49m\u001b[38;5;28;43;01mTrue\u001b[39;49;00m\u001b[43m,\u001b[49m\u001b[43m \u001b[49m\u001b[43mplot\u001b[49m\u001b[38;5;241;43m=\u001b[39;49m\u001b[43mplot\u001b[49m\u001b[43m,\u001b[49m\u001b[43m \u001b[49m\u001b[43mplot_ts\u001b[49m\u001b[38;5;241;43m=\u001b[39;49m\u001b[43mplot_ts\u001b[49m\u001b[43m,\u001b[49m\n\u001b[1;32m   2100\u001b[0m \u001b[43m            \u001b[49m\u001b[43mreg_interest\u001b[49m\u001b[38;5;241;43m=\u001b[39;49m\u001b[43mreg_interest\u001b[49m\u001b[43m,\u001b[49m\u001b[43m \u001b[49m\u001b[43mplot_flux\u001b[49m\u001b[38;5;241;43m=\u001b[39;49m\u001b[43mplot_flux\u001b[49m\u001b[43m,\u001b[49m\n\u001b[1;32m   2101\u001b[0m \u001b[43m            \u001b[49m\u001b[43mplot_show\u001b[49m\u001b[38;5;241;43m=\u001b[39;49m\u001b[43mplot_show\u001b[49m\u001b[43m,\u001b[49m\u001b[43m \u001b[49m\u001b[43mplot_save\u001b[49m\u001b[38;5;241;43m=\u001b[39;49m\u001b[43mplot_save\u001b[49m\u001b[43m,\u001b[49m\u001b[43m \u001b[49m\u001b[43muse_hk\u001b[49m\u001b[38;5;241;43m=\u001b[39;49m\u001b[43muse_hk\u001b[49m\u001b[43m,\u001b[49m\u001b[43m \u001b[49m\u001b[43minject_sig\u001b[49m\u001b[38;5;241;43m=\u001b[39;49m\u001b[43minject_sig\u001b[49m\u001b[43m)\u001b[49m\n\u001b[1;32m   2102\u001b[0m     beam_pairs_flux, beam_pairs_err, beam_pairs_wt \u001b[38;5;241m=\u001b[39m result[:\u001b[38;5;241m3\u001b[39m]\n\u001b[1;32m   2103\u001b[0m plot_dict[\u001b[38;5;124m\"\u001b[39m\u001b[38;5;124mbeam pair flux\u001b[39m\u001b[38;5;124m\"\u001b[39m] \u001b[38;5;241m=\u001b[39m (beam_pairs_flux, beam_pairs_err, {\u001b[38;5;124m\"\u001b[39m\u001b[38;5;124mc\u001b[39m\u001b[38;5;124m\"\u001b[39m: \u001b[38;5;124m\"\u001b[39m\u001b[38;5;124mk\u001b[39m\u001b[38;5;124m\"\u001b[39m})\n",
      "File \u001b[0;32m~/Dropbox/code/zeus2/zeus2_toolbox/src/zeus2_toolbox/pipeline.py:1748\u001b[0m, in \u001b[0;36mreduce_beam_pairs\u001b[0;34m(data_header, data_dir, write_dir, write_suffix, array_map, obs_log, is_flat, pix_flag_list, flat_flux, flat_err, parallel, do_desnake, ref_pix, do_smooth, do_ica, spat_excl, do_clean, return_ts, return_pix_flag_list, plot, plot_ts, reg_interest, plot_flux, plot_show, plot_save, use_hk, inject_sig, **kwargs)\u001b[0m\n\u001b[1;32m   1745\u001b[0m \u001b[38;5;28;01mif\u001b[39;00m result[\u001b[38;5;241m0\u001b[39m]\u001b[38;5;241m.\u001b[39mempty_flag_ \u001b[38;5;129;01mand\u001b[39;00m result[\u001b[38;5;241m1\u001b[39m]\u001b[38;5;241m.\u001b[39mempty_flag_:\n\u001b[1;32m   1746\u001b[0m     nan_beam_pair_obs_id \u001b[38;5;241m=\u001b[39m result[\u001b[38;5;241m0\u001b[39m]\u001b[38;5;241m.\u001b[39mobs_id_ \u001b[38;5;28;01mif\u001b[39;00m \\\n\u001b[1;32m   1747\u001b[0m         result[\u001b[38;5;241m0\u001b[39m]\u001b[38;5;241m.\u001b[39mobs_id_ \u001b[38;5;241m!=\u001b[39m \u001b[38;5;124m\"\u001b[39m\u001b[38;5;124m0\u001b[39m\u001b[38;5;124m\"\u001b[39m \u001b[38;5;28;01melse\u001b[39;00m \u001b[38;5;124m\"\u001b[39m\u001b[38;5;124mfailed to read\u001b[39m\u001b[38;5;124m\"\u001b[39m\n\u001b[0;32m-> 1748\u001b[0m     nan_beam_pair \u001b[38;5;241m=\u001b[39m \u001b[43mbeam_pairs_flux\u001b[49m\u001b[38;5;241;43m.\u001b[39;49m\u001b[43mreplace\u001b[49m\u001b[43m(\u001b[49m\n\u001b[1;32m   1749\u001b[0m \u001b[43m            \u001b[49m\u001b[43marr_in\u001b[49m\u001b[38;5;241;43m=\u001b[39;49m\u001b[43mnp\u001b[49m\u001b[38;5;241;43m.\u001b[39;49m\u001b[43mfull\u001b[49m\u001b[43m(\u001b[49m\u001b[43mbeam_pairs_flux\u001b[49m\u001b[38;5;241;43m.\u001b[39;49m\u001b[43mshape_\u001b[49m\u001b[43m[\u001b[49m\u001b[43m:\u001b[49m\u001b[38;5;241;43m-\u001b[39;49m\u001b[38;5;241;43m1\u001b[39;49m\u001b[43m]\u001b[49m\u001b[43m \u001b[49m\u001b[38;5;241;43m+\u001b[39;49m\u001b[43m \u001b[49m\u001b[43m(\u001b[49m\u001b[38;5;241;43m1\u001b[39;49m\u001b[43m,\u001b[49m\u001b[43m)\u001b[49m\u001b[43m,\u001b[49m\n\u001b[1;32m   1750\u001b[0m \u001b[43m                           \u001b[49m\u001b[43mfill_value\u001b[49m\u001b[38;5;241;43m=\u001b[39;49m\u001b[43mnp\u001b[49m\u001b[38;5;241;43m.\u001b[39;49m\u001b[43mnan\u001b[49m\u001b[43m)\u001b[49m\u001b[43m,\u001b[49m\u001b[43m \u001b[49m\u001b[43mts\u001b[49m\u001b[38;5;241;43m=\u001b[39;49m\u001b[43mresult\u001b[49m\u001b[43m[\u001b[49m\u001b[38;5;241;43m0\u001b[39;49m\u001b[43m]\u001b[49m\u001b[38;5;241;43m.\u001b[39;49m\u001b[43mts_\u001b[49m\u001b[38;5;241;43m.\u001b[39;49m\u001b[43mt_mid_\u001b[49m\u001b[43m,\u001b[49m\n\u001b[1;32m   1751\u001b[0m \u001b[43m            \u001b[49m\u001b[43mchop\u001b[49m\u001b[38;5;241;43m=\u001b[39;49m\u001b[43m[\u001b[49m\u001b[38;5;28;43;01mFalse\u001b[39;49;00m\u001b[43m]\u001b[49m\u001b[43m,\u001b[49m\u001b[43m \u001b[49m\u001b[43mobs_id\u001b[49m\u001b[38;5;241;43m=\u001b[39;49m\u001b[43mnan_beam_pair_obs_id\u001b[49m\u001b[43m,\u001b[49m\n\u001b[1;32m   1752\u001b[0m \u001b[43m            \u001b[49m\u001b[43mobs_id_list\u001b[49m\u001b[38;5;241;43m=\u001b[39;49m\u001b[43m[\u001b[49m\u001b[43mnan_beam_pair_obs_id\u001b[49m\u001b[43m]\u001b[49m\u001b[43m,\u001b[49m\n\u001b[1;32m   1753\u001b[0m \u001b[43m            \u001b[49m\u001b[43mobs_id_arr\u001b[49m\u001b[38;5;241;43m=\u001b[39;49m\u001b[43mnp\u001b[49m\u001b[38;5;241;43m.\u001b[39;49m\u001b[43marray\u001b[49m\u001b[43m(\u001b[49m\u001b[43m[\u001b[49m\u001b[43mnan_beam_pair_obs_id\u001b[49m\u001b[43m]\u001b[49m\u001b[43m)\u001b[49m\u001b[43m,\u001b[49m\n\u001b[1;32m   1754\u001b[0m \u001b[43m            \u001b[49m\u001b[43mobs_info\u001b[49m\u001b[38;5;241;43m=\u001b[39;49m\u001b[43mresult\u001b[49m\u001b[43m[\u001b[49m\u001b[38;5;241;43m0\u001b[39;49m\u001b[43m]\u001b[49m\u001b[38;5;241;43m.\u001b[39;49m\u001b[43mobs_info_\u001b[49m\u001b[43m)\u001b[49m\n\u001b[1;32m   1755\u001b[0m     beam_pairs_flux\u001b[38;5;241m.\u001b[39mappend(nan_beam_pair)\n\u001b[1;32m   1756\u001b[0m     beam_pairs_err\u001b[38;5;241m.\u001b[39mappend(nan_beam_pair)\n",
      "File \u001b[0;32m~/Dropbox/code/zeus2/zeus2_toolbox/src/zeus2_toolbox/io.py:3984\u001b[0m, in \u001b[0;36mObsArray.replace\u001b[0;34m(self, **kwargs)\u001b[0m\n\u001b[1;32m   3981\u001b[0m     \u001b[38;5;28;01mif\u001b[39;00m kw \u001b[38;5;129;01mnot\u001b[39;00m \u001b[38;5;129;01min\u001b[39;00m kwargs:\n\u001b[1;32m   3982\u001b[0m         kwargs[kw] \u001b[38;5;241m=\u001b[39m \u001b[38;5;28mself\u001b[39m\u001b[38;5;241m.\u001b[39m\u001b[38;5;18m__dict__\u001b[39m[\u001b[38;5;124m\"\u001b[39m\u001b[38;5;132;01m%s\u001b[39;00m\u001b[38;5;124m_\u001b[39m\u001b[38;5;124m\"\u001b[39m \u001b[38;5;241m%\u001b[39m kw]\n\u001b[0;32m-> 3984\u001b[0m \u001b[38;5;28;01mreturn\u001b[39;00m \u001b[38;5;28;43msuper\u001b[39;49m\u001b[43m(\u001b[49m\u001b[43mObsArray\u001b[49m\u001b[43m,\u001b[49m\u001b[43m \u001b[49m\u001b[38;5;28;43mself\u001b[39;49m\u001b[43m)\u001b[49m\u001b[38;5;241;43m.\u001b[39;49m\u001b[43mreplace\u001b[49m\u001b[43m(\u001b[49m\u001b[38;5;241;43m*\u001b[39;49m\u001b[38;5;241;43m*\u001b[39;49m\u001b[43mkwargs\u001b[49m\u001b[43m)\u001b[49m\n",
      "File \u001b[0;32m~/Dropbox/code/zeus2/zeus2_toolbox/src/zeus2_toolbox/io.py:3092\u001b[0m, in \u001b[0;36mObs.replace\u001b[0;34m(self, **kwargs)\u001b[0m\n\u001b[1;32m   3089\u001b[0m     \u001b[38;5;28;01mif\u001b[39;00m kw \u001b[38;5;129;01mnot\u001b[39;00m \u001b[38;5;129;01min\u001b[39;00m kwargs:\n\u001b[1;32m   3090\u001b[0m         kwargs[kw] \u001b[38;5;241m=\u001b[39m \u001b[38;5;28mself\u001b[39m\u001b[38;5;241m.\u001b[39m\u001b[38;5;18m__dict__\u001b[39m[\u001b[38;5;124m\"\u001b[39m\u001b[38;5;132;01m%s\u001b[39;00m\u001b[38;5;124m_\u001b[39m\u001b[38;5;124m\"\u001b[39m \u001b[38;5;241m%\u001b[39m kw]\n\u001b[0;32m-> 3092\u001b[0m \u001b[38;5;28;01mreturn\u001b[39;00m \u001b[38;5;28;43msuper\u001b[39;49m\u001b[43m(\u001b[49m\u001b[43mObs\u001b[49m\u001b[43m,\u001b[49m\u001b[43m \u001b[49m\u001b[38;5;28;43mself\u001b[39;49m\u001b[43m)\u001b[49m\u001b[38;5;241;43m.\u001b[39;49m\u001b[43mreplace\u001b[49m\u001b[43m(\u001b[49m\u001b[38;5;241;43m*\u001b[39;49m\u001b[38;5;241;43m*\u001b[39;49m\u001b[43mkwargs\u001b[49m\u001b[43m)\u001b[49m\n",
      "File \u001b[0;32m~/Dropbox/code/zeus2/zeus2_toolbox/src/zeus2_toolbox/io.py:286\u001b[0m, in \u001b[0;36mDataObj.replace\u001b[0;34m(self, **kwargs)\u001b[0m\n\u001b[1;32m    283\u001b[0m \u001b[38;5;28;01mif\u001b[39;00m \u001b[38;5;124m\"\u001b[39m\u001b[38;5;124marr_in\u001b[39m\u001b[38;5;124m\"\u001b[39m \u001b[38;5;129;01mnot\u001b[39;00m \u001b[38;5;129;01min\u001b[39;00m kwargs:\n\u001b[1;32m    284\u001b[0m     kwargs[\u001b[38;5;124m\"\u001b[39m\u001b[38;5;124marr_in\u001b[39m\u001b[38;5;124m\"\u001b[39m] \u001b[38;5;241m=\u001b[39m \u001b[38;5;28mself\u001b[39m\u001b[38;5;241m.\u001b[39m\u001b[38;5;18m__dict__\u001b[39m[\u001b[38;5;124m\"\u001b[39m\u001b[38;5;124mdata_\u001b[39m\u001b[38;5;124m\"\u001b[39m]\n\u001b[0;32m--> 286\u001b[0m \u001b[38;5;28;01mreturn\u001b[39;00m \u001b[38;5;28;43mself\u001b[39;49m\u001b[38;5;241;43m.\u001b[39;49m\u001b[38;5;18;43m__class__\u001b[39;49m\u001b[43m(\u001b[49m\u001b[38;5;241;43m*\u001b[39;49m\u001b[38;5;241;43m*\u001b[39;49m\u001b[43mkwargs\u001b[49m\u001b[43m)\u001b[49m\n",
      "File \u001b[0;32m~/Dropbox/code/zeus2/zeus2_toolbox/src/zeus2_toolbox/io.py:3954\u001b[0m, in \u001b[0;36mObsArray.__init__\u001b[0;34m(self, arr_in, array_map, **kwargs)\u001b[0m\n\u001b[1;32m   3943\u001b[0m \u001b[38;5;28;01mdef\u001b[39;00m \u001b[38;5;21m__init__\u001b[39m(\u001b[38;5;28mself\u001b[39m, arr_in\u001b[38;5;241m=\u001b[39m\u001b[38;5;28;01mNone\u001b[39;00m, array_map\u001b[38;5;241m=\u001b[39m\u001b[38;5;28;01mNone\u001b[39;00m, \u001b[38;5;241m*\u001b[39m\u001b[38;5;241m*\u001b[39mkwargs):\n\u001b[1;32m   3944\u001b[0m     \u001b[38;5;124;03m\"\"\"\u001b[39;00m\n\u001b[1;32m   3945\u001b[0m \u001b[38;5;124;03m    Initialize the object with input data array, chop, time stamps,\u001b[39;00m\n\u001b[1;32m   3946\u001b[0m \u001b[38;5;124;03m    obs_array info\u001b[39;00m\n\u001b[0;32m   (...)\u001b[0m\n\u001b[1;32m   3951\u001b[0m \u001b[38;5;124;03m    :param kwargs: keyword arguments passed to Obs()\u001b[39;00m\n\u001b[1;32m   3952\u001b[0m \u001b[38;5;124;03m    \"\"\"\u001b[39;00m\n\u001b[0;32m-> 3954\u001b[0m     \u001b[38;5;28;43msuper\u001b[39;49m\u001b[43m(\u001b[49m\u001b[43mObsArray\u001b[49m\u001b[43m,\u001b[49m\u001b[43m \u001b[49m\u001b[38;5;28;43mself\u001b[39;49m\u001b[43m)\u001b[49m\u001b[38;5;241;43m.\u001b[39;49m\u001b[38;5;21;43m__init__\u001b[39;49m\u001b[43m(\u001b[49m\u001b[43marr_in\u001b[49m\u001b[38;5;241;43m=\u001b[39;49m\u001b[43marr_in\u001b[49m\u001b[43m,\u001b[49m\u001b[43m \u001b[49m\u001b[38;5;241;43m*\u001b[39;49m\u001b[38;5;241;43m*\u001b[39;49m\u001b[43mkwargs\u001b[49m\u001b[43m)\u001b[49m\n\u001b[1;32m   3955\u001b[0m     \u001b[38;5;28;01mif\u001b[39;00m \u001b[38;5;28misinstance\u001b[39m(arr_in, \u001b[38;5;28mtype\u001b[39m(\u001b[38;5;28mself\u001b[39m)) \u001b[38;5;129;01mand\u001b[39;00m \u001b[38;5;28misinstance\u001b[39m(\u001b[38;5;28mself\u001b[39m, \u001b[38;5;28mtype\u001b[39m(arr_in)):\n\u001b[1;32m   3956\u001b[0m         \u001b[38;5;28;01mpass\u001b[39;00m\n",
      "File \u001b[0;32m~/Dropbox/code/zeus2/zeus2_toolbox/src/zeus2_toolbox/io.py:3017\u001b[0m, in \u001b[0;36mObs.__init__\u001b[0;34m(self, arr_in, chop, ts, obs_info, obs_id, obs_id_list, obs_id_arr, t_start_time, t_end_time)\u001b[0m\n\u001b[1;32m   3014\u001b[0m \u001b[38;5;28mself\u001b[39m\u001b[38;5;241m.\u001b[39mobs_id_list_ \u001b[38;5;241m=\u001b[39m [\u001b[38;5;28mself\u001b[39m\u001b[38;5;241m.\u001b[39mobs_id_] \u001b[38;5;28;01mif\u001b[39;00m obs_id_list \u001b[38;5;129;01mis\u001b[39;00m \u001b[38;5;28;01mNone\u001b[39;00m \u001b[38;5;28;01melse\u001b[39;00m \\\n\u001b[1;32m   3015\u001b[0m     \u001b[38;5;28mlist\u001b[39m(obs_id_list)\n\u001b[1;32m   3016\u001b[0m \u001b[38;5;28mself\u001b[39m\u001b[38;5;241m.\u001b[39mchop_ \u001b[38;5;241m=\u001b[39m Chop(arr_in\u001b[38;5;241m=\u001b[39mchop)\n\u001b[0;32m-> 3017\u001b[0m \u001b[38;5;28mself\u001b[39m\u001b[38;5;241m.\u001b[39mts_ \u001b[38;5;241m=\u001b[39m \u001b[43mTimeStamps\u001b[49m\u001b[43m(\u001b[49m\u001b[43marr_in\u001b[49m\u001b[38;5;241;43m=\u001b[39;49m\u001b[43mts\u001b[49m\u001b[43m)\u001b[49m\n\u001b[1;32m   3018\u001b[0m \u001b[38;5;28mself\u001b[39m\u001b[38;5;241m.\u001b[39mt_start_time_ \u001b[38;5;241m=\u001b[39m \u001b[38;5;28mself\u001b[39m\u001b[38;5;241m.\u001b[39mts_\u001b[38;5;241m.\u001b[39mt_start_time_ \u001b[38;5;28;01mif\u001b[39;00m \\\n\u001b[1;32m   3019\u001b[0m     (t_start_time \u001b[38;5;129;01mis\u001b[39;00m \u001b[38;5;28;01mNone\u001b[39;00m) \u001b[38;5;129;01mor\u001b[39;00m \\\n\u001b[1;32m   3020\u001b[0m     (\u001b[38;5;129;01mnot\u001b[39;00m \u001b[38;5;28misinstance\u001b[39m(t_start_time, (datetime, Time))) \u001b[38;5;28;01melse\u001b[39;00m \\\n\u001b[1;32m   3021\u001b[0m     t_start_time\n\u001b[1;32m   3022\u001b[0m \u001b[38;5;28mself\u001b[39m\u001b[38;5;241m.\u001b[39mt_end_time_ \u001b[38;5;241m=\u001b[39m \u001b[38;5;28mself\u001b[39m\u001b[38;5;241m.\u001b[39mts_\u001b[38;5;241m.\u001b[39mt_end_time_ \u001b[38;5;28;01mif\u001b[39;00m \\\n\u001b[1;32m   3023\u001b[0m     (t_end_time \u001b[38;5;129;01mis\u001b[39;00m \u001b[38;5;28;01mNone\u001b[39;00m) \u001b[38;5;129;01mor\u001b[39;00m \\\n\u001b[1;32m   3024\u001b[0m     (\u001b[38;5;129;01mnot\u001b[39;00m \u001b[38;5;28misinstance\u001b[39m(t_end_time, (datetime, Time))) \u001b[38;5;28;01melse\u001b[39;00m \\\n\u001b[1;32m   3025\u001b[0m     t_end_time\n",
      "File \u001b[0;32m~/Dropbox/code/zeus2/zeus2_toolbox/src/zeus2_toolbox/io.py:269\u001b[0m, in \u001b[0;36mDataObj.__init__\u001b[0;34m(self, arr_in)\u001b[0m\n\u001b[1;32m    267\u001b[0m     arr_in \u001b[38;5;241m=\u001b[39m np\u001b[38;5;241m.\u001b[39masarray(arr_in)\n\u001b[1;32m    268\u001b[0m \u001b[38;5;28;01melse\u001b[39;00m:\n\u001b[0;32m--> 269\u001b[0m     \u001b[38;5;28;01mraise\u001b[39;00m \u001b[38;5;167;01mTypeError\u001b[39;00m(\u001b[38;5;124m\"\u001b[39m\u001b[38;5;124mInvalid type of arr_in. Expect array.\u001b[39m\u001b[38;5;124m\"\u001b[39m)\n\u001b[1;32m    270\u001b[0m \u001b[38;5;28mself\u001b[39m\u001b[38;5;241m.\u001b[39m__fill_values__(arr_in\u001b[38;5;241m=\u001b[39marr_in)\n",
      "\u001b[0;31mTypeError\u001b[0m: Invalid type of arr_in. Expect array."
     ]
    }
   ],
   "source": [
    "r.do_ica = True\n",
    "r.do_smooth=False\n",
    "times.append(time.time())\n",
    "for sky,bs,dat,folder in zip(flats,bias,data,folders):\n",
    "    r.data_dir = folder\n",
    "    #r.inject_signal = zt.mce_data.SignalInjection(amplitude=1,pixels=[am.phys_to_mce(spec,spat,400)])\n",
    "    r.reduce(sky,dat,bs)\n",
    "    times.append(time.time())"
   ]
  },
  {
   "cell_type": "code",
   "execution_count": 40,
   "id": "4621f3f8",
   "metadata": {
    "hidden": true
   },
   "outputs": [
    {
     "data": {
      "text/plain": [
       "array([40.68897462, 44.36045432, 39.60523272, 43.29896283, 40.39310408,\n",
       "       39.04847455, 39.58460331, 29.90090823, 29.47289824, 88.86246943,\n",
       "       83.24869108, 85.94632244, 83.37711811, 88.79533601, 81.29240775,\n",
       "       81.91222   ])"
      ]
     },
     "execution_count": 40,
     "metadata": {},
     "output_type": "execute_result"
    }
   ],
   "source": [
    "t = np.array(times)\n",
    "t[1:]-t[:-1]"
   ]
  },
  {
   "cell_type": "code",
   "execution_count": 35,
   "id": "26092e59",
   "metadata": {
    "hidden": true
   },
   "outputs": [
    {
     "name": "stdout",
     "output_type": "stream",
     "text": [
      "Processing beam ../../APEX_2022/20221001/skychop_58800_0000.\n"
     ]
    },
    {
     "name": "stderr",
     "output_type": "stream",
     "text": [
      "RuntimeWarning: invalid value encountered in divide\n"
     ]
    },
    {
     "name": "stdout",
     "output_type": "stream",
     "text": [
      "Processing beam ../../APEX_2022/20221001/bias_step_0021.\n"
     ]
    },
    {
     "name": "stderr",
     "output_type": "stream",
     "text": [
      "RuntimeWarning: divide by zero encountered in divide\n",
      "RuntimeWarning: divide by zero encountered in divide\n",
      "RuntimeWarning: divide by zero encountered in divide\n",
      "RuntimeWarning: divide by zero encountered in divide\n"
     ]
    },
    {
     "name": "stdout",
     "output_type": "stream",
     "text": [
      "Processing beam pair ../../APEX_2022/20221001/apecs_58801_0001 and ../../APEX_2022/20221001/apecs_58801_0000.\n",
      "Processing beam pair ../../APEX_2022/20221001/apecs_58801_0003 and ../../APEX_2022/20221001/apecs_58801_0002.Processing beam pair ../../APEX_2022/20221001/apecs_58801_0005 and ../../APEX_2022/20221001/apecs_58801_0004.\n",
      "\n",
      "Processing beam pair ../../APEX_2022/20221001/apecs_58801_0007 and ../../APEX_2022/20221001/apecs_58801_0006.Processing beam pair ../../APEX_2022/20221001/apecs_58801_0009 and ../../APEX_2022/20221001/apecs_58801_0008.\n",
      "\n",
      "running in parallel on 4 threads.\n"
     ]
    },
    {
     "name": "stderr",
     "output_type": "stream",
     "text": [
      "UserWarning: No entry is found in obs log.\n",
      "RuntimeWarning: divide by zero encountered in divide\n",
      "RuntimeWarning: divide by zero encountered in divide\n",
      "RuntimeWarning: divide by zero encountered in divide\n",
      "RuntimeWarning: divide by zero encountered in divide\n",
      "RuntimeWarning: divide by zero encountered in divide\n",
      "RuntimeWarning: divide by zero encountered in divide\n",
      "RuntimeWarning: divide by zero encountered in divide\n",
      "RuntimeWarning: divide by zero encountered in divide\n",
      "RuntimeWarning: divide by zero encountered in divide\n",
      "RuntimeWarning: divide by zero encountered in divide\n",
      "RuntimeWarning: divide by zero encountered in divide\n",
      "RuntimeWarning: divide by zero encountered in divide\n",
      "RuntimeWarning: divide by zero encountered in divide\n",
      "RuntimeWarning: divide by zero encountered in divide\n",
      "RuntimeWarning: divide by zero encountered in divide\n",
      "RuntimeWarning: divide by zero encountered in divide\n",
      "RuntimeWarning: divide by zero encountered in divide\n",
      "RuntimeWarning: divide by zero encountered in divide\n",
      "RuntimeWarning: divide by zero encountered in divide\n",
      "RuntimeWarning: divide by zero encountered in divide\n",
      "UserWarning: No band specific config information found, will use the input kwargs only the DEFAULT configurations in conf_kwargs_.\n",
      "UserWarning: No band specific config information found, will use the input kwargs only the DEFAULT configurations in conf_kwargs_.\n",
      "UserWarning: No band specific config information found, will use the input kwargs only the DEFAULT configurations in conf_kwargs_.\n"
     ]
    },
    {
     "name": "stdout",
     "output_type": "stream",
     "text": [
      "Setting band using default layout.\n"
     ]
    },
    {
     "name": "stderr",
     "output_type": "stream",
     "text": [
      "RuntimeWarning: divide by zero encountered in divide\n",
      "RuntimeWarning: divide by zero encountered in divide\n",
      "RuntimeWarning: divide by zero encountered in divide\n",
      "UserWarning: No band specific config information found, will use the input kwargs only the DEFAULT configurations in conf_kwargs_.\n"
     ]
    },
    {
     "name": "stdout",
     "output_type": "stream",
     "text": [
      "Setting band using default layout.\n"
     ]
    },
    {
     "data": {
      "text/plain": [
       "(obs_id: apecs_58801_0001, start: 2022-10-01 12:44:08.577, end: 2022-10-01 12:49:34.530\n",
       " \tObsArray, len=1 shape=(290, 1) dtype=float64\n",
       " \tChop, len=1 shape=(1,) dtype=bool\n",
       " \tTimeStamps, len=1 shape=(1,) dtype=float64\n",
       " \t start: 2022-10-01 12:46:50.839  end: 2022-10-01 12:46:50.839\n",
       " \tObsInfo, len=13\n",
       " \tArrayMap, len=290 shape=(290, 4) dtype=int64, band: 400 micron,\n",
       " obs_id: bias, start: 1969-12-31 23:59:40.000, end: 1969-12-31 23:59:40.000\n",
       " \tObsArray, len=1 shape=(290, 1) dtype=float64\n",
       " \tChop, len=0 shape=(0,) dtype=None\n",
       " \tTimeStamps, len=0 shape=(0,) dtype=None\n",
       " \t start: 1969-12-31 23:59:40.000  end: 1969-12-31 23:59:40.000\n",
       " \tObsInfo, len=13\n",
       " \tArrayMap, len=290 shape=(290, 4) dtype=int64, band: 400 micron)"
      ]
     },
     "execution_count": 35,
     "metadata": {},
     "output_type": "execute_result"
    }
   ],
   "source": [
    "r.reduce(flats[-1],data[-1],bias[-1])"
   ]
  },
  {
   "cell_type": "markdown",
   "id": "b10ebb40",
   "metadata": {
    "heading_collapsed": true
   },
   "source": [
    "# W0533\n",
    "has observations on \n",
    "```\n",
    "0923\n",
    "0925\n",
    "0929\n",
    "```"
   ]
  },
  {
   "cell_type": "code",
   "execution_count": 39,
   "id": "0c4fcffa",
   "metadata": {
    "hidden": true
   },
   "outputs": [],
   "source": [
    "r.write_dir = \"W0533\"\n",
    "flats = [\n",
    "    {\"skychop_220923\": [(7, 8)]},\n",
    "    {\"skychop_220923\": [(9, 10)]},\n",
    "    {\"skychop_220923\": [(13, 14)]},\n",
    "    {\"skychop_220925\": [(15, 15)]},\n",
    "    {\"skychop_220925\": [(16, 16)]},\n",
    "    {\"skychop_220925\": [(17, 18)]},\n",
    "    {\"skychop_220925\": [(20, 21)]},\n",
    "    {\"skychop_220925\": [(22, 22)]},\n",
    "    {\"skychop_220925\": [(23, 23)]},\n",
    "    {\"skychop_220925\": [(25, 26)]},\n",
    "    {\"skychop_220925\": [(27, 28)]},\n",
    "    {\"skychop_220929\": [(12, 12)]},\n",
    "    {\"skychop_220929\": [(13, 13)]},\n",
    "]\n",
    "data = [\n",
    "    {\"w0533_220923\": [(0, 39)]},\n",
    "    {\"w0533_220923\": [(40, 79)]},\n",
    "    {\"w0533_220923\": [(80, 119)]},\n",
    "    {\"w0533_220925\": [(0, 19)]},\n",
    "    {\"w0533_220925\": [(22, 41)]}, #80 m\n",
    "    {\"w0533_220925\": [(44, 83)]},\n",
    "    {\"w0533_220925\": [(84, 123)]}, #120m\n",
    "    {\"w0533_220925\": [(124, 129)]},\n",
    "    {\"w0533_220925\": [(130, 169)]}, #130m\n",
    "    {\"w0533_220925\": [(170, 181)]},\n",
    "    {\"w0533_220925\": [(184, 223)]},\n",
    "    {\"w0533_220929\": [(0, 19)]},\n",
    "    {\"w0533_220929\": [(20, 39)]}, #170\n",
    "]\n",
    "bias = [\n",
    "    {\"bias_step\": [(1, 2)]},\n",
    "    {\"bias_step\": [(3, 4)]},\n",
    "    {\"bias_step\": [(5, 6)]},\n",
    "    {\"bias_step\": [(9, 9)]},\n",
    "    {\"bias_step\": [(10, 11)]},\n",
    "    {\"bias_step\": [(12, 14)]},\n",
    "    {\"bias_step\": [(16, 18)]},\n",
    "    {\"bias_step\": [(19, 20)]},\n",
    "    {\"bias_step\": [(20, 22)]},\n",
    "    {\"bias_step\": [(24, 25)]},\n",
    "    {\"bias_step\": [(26, 27)]},\n",
    "    {\"bias_step\": [(14, 15)]},\n",
    "    {\"bias_step\": [(17, 18)]},\n",
    "]\n",
    "folders = [\n",
    "    \"../../APEX_2022/20220923\",\n",
    "    \"../../APEX_2022/20220923\",\n",
    "    \"../../APEX_2022/20220923\",\n",
    "    \"../../APEX_2022/20220925\",\n",
    "    \"../../APEX_2022/20220925\",\n",
    "    \"../../APEX_2022/20220925\",\n",
    "    \"../../APEX_2022/20220925\",\n",
    "    \"../../APEX_2022/20220925\",\n",
    "    \"../../APEX_2022/20220925\",\n",
    "    \"../../APEX_2022/20220925\",\n",
    "    \"../../APEX_2022/20220925\",\n",
    "    \"../../APEX_2022/20220929\",\n",
    "]"
   ]
  },
  {
   "cell_type": "code",
   "execution_count": 38,
   "id": "6b36b918",
   "metadata": {
    "hidden": true
   },
   "outputs": [
    {
     "data": {
      "text/plain": [
       "(11, 11, 11, 11)"
      ]
     },
     "execution_count": 38,
     "metadata": {},
     "output_type": "execute_result"
    }
   ],
   "source": [
    "len(folders),len(bias),len(data),len(flats)"
   ]
  },
  {
   "cell_type": "code",
   "execution_count": 44,
   "id": "055fc76d",
   "metadata": {
    "hidden": true
   },
   "outputs": [
    {
     "name": "stdout",
     "output_type": "stream",
     "text": [
      "Processing beam ../../APEX_2022/20220923/skychop_220923_0007.\n",
      "Processing beam ../../APEX_2022/20220923/skychop_220923_0008.\n",
      "running in parallel on 2 threads.\n"
     ]
    },
    {
     "name": "stderr",
     "output_type": "stream",
     "text": [
      "RuntimeWarning: invalid value encountered in divide\n",
      "RuntimeWarning: invalid value encountered in divide\n"
     ]
    },
    {
     "name": "stdout",
     "output_type": "stream",
     "text": [
      "Processing beam ../../APEX_2022/20220923/bias_step_0001.\n",
      "Processing beam ../../APEX_2022/20220923/bias_step_0002.\n",
      "running in parallel on 2 threads.\n"
     ]
    },
    {
     "name": "stderr",
     "output_type": "stream",
     "text": [
      "RuntimeWarning: divide by zero encountered in divide\n",
      "RuntimeWarning: divide by zero encountered in divide\n",
      "RuntimeWarning: divide by zero encountered in divide\n",
      "RuntimeWarning: divide by zero encountered in divide\n",
      "RuntimeWarning: divide by zero encountered in divide\n",
      "RuntimeWarning: divide by zero encountered in divide\n",
      "RuntimeWarning: divide by zero encountered in divide\n",
      "RuntimeWarning: divide by zero encountered in divide\n"
     ]
    },
    {
     "name": "stdout",
     "output_type": "stream",
     "text": [
      "Processing beam pair ../../APEX_2022/20220923/w0533_220923_0001 and ../../APEX_2022/20220923/w0533_220923_0000.Processing beam pair ../../APEX_2022/20220923/w0533_220923_0005 and ../../APEX_2022/20220923/w0533_220923_0004.\n",
      "Processing beam pair ../../APEX_2022/20220923/w0533_220923_0007 and ../../APEX_2022/20220923/w0533_220923_0006.Processing beam pair ../../APEX_2022/20220923/w0533_220923_0009 and ../../APEX_2022/20220923/w0533_220923_0008.\n",
      "Processing beam pair ../../APEX_2022/20220923/w0533_220923_0011 and ../../APEX_2022/20220923/w0533_220923_0010.\n",
      "\n",
      "\n",
      "Processing beam pair ../../APEX_2022/20220923/w0533_220923_0003 and ../../APEX_2022/20220923/w0533_220923_0002.Processing beam pair ../../APEX_2022/20220923/w0533_220923_0015 and ../../APEX_2022/20220923/w0533_220923_0014.\n",
      "\n",
      "Processing beam pair ../../APEX_2022/20220923/w0533_220923_0013 and ../../APEX_2022/20220923/w0533_220923_0012.\n",
      "running in parallel on 4 threads.\n"
     ]
    },
    {
     "name": "stderr",
     "output_type": "stream",
     "text": [
      "RuntimeWarning: divide by zero encountered in divide\n",
      "RuntimeWarning: divide by zero encountered in divide\n",
      "RuntimeWarning: divide by zero encountered in divide\n",
      "RuntimeWarning: divide by zero encountered in divide\n",
      "RuntimeWarning: divide by zero encountered in divide\n",
      "RuntimeWarning: divide by zero encountered in divide\n",
      "RuntimeWarning: divide by zero encountered in divide\n"
     ]
    },
    {
     "name": "stdout",
     "output_type": "stream",
     "text": [
      "Processing beam pair ../../APEX_2022/20220923/w0533_220923_0017 and ../../APEX_2022/20220923/w0533_220923_0016.\n"
     ]
    },
    {
     "name": "stderr",
     "output_type": "stream",
     "text": [
      "RuntimeWarning: divide by zero encountered in divide\n"
     ]
    },
    {
     "name": "stdout",
     "output_type": "stream",
     "text": [
      "Processing beam pair ../../APEX_2022/20220923/w0533_220923_0019 and ../../APEX_2022/20220923/w0533_220923_0018.\n"
     ]
    },
    {
     "name": "stderr",
     "output_type": "stream",
     "text": [
      "RuntimeWarning: divide by zero encountered in divide\n",
      "RuntimeWarning: divide by zero encountered in divide\n",
      "RuntimeWarning: divide by zero encountered in divide\n",
      "RuntimeWarning: divide by zero encountered in divide\n",
      "RuntimeWarning: divide by zero encountered in divide\n",
      "RuntimeWarning: divide by zero encountered in divide\n"
     ]
    },
    {
     "name": "stdout",
     "output_type": "stream",
     "text": [
      "Processing beam pair ../../APEX_2022/20220923/w0533_220923_0021 and ../../APEX_2022/20220923/w0533_220923_0020.\n"
     ]
    },
    {
     "name": "stderr",
     "output_type": "stream",
     "text": [
      "RuntimeWarning: divide by zero encountered in divide\n",
      "RuntimeWarning: divide by zero encountered in divide\n",
      "RuntimeWarning: divide by zero encountered in divide\n",
      "RuntimeWarning: divide by zero encountered in divide\n"
     ]
    },
    {
     "name": "stdout",
     "output_type": "stream",
     "text": [
      "Processing beam pair ../../APEX_2022/20220923/w0533_220923_0023 and ../../APEX_2022/20220923/w0533_220923_0022."
     ]
    },
    {
     "name": "stderr",
     "output_type": "stream",
     "text": [
      "RuntimeWarning: divide by zero encountered in divide\n"
     ]
    },
    {
     "name": "stdout",
     "output_type": "stream",
     "text": [
      "\n"
     ]
    },
    {
     "name": "stderr",
     "output_type": "stream",
     "text": [
      "RuntimeWarning: divide by zero encountered in divide\n",
      "RuntimeWarning: divide by zero encountered in divide\n",
      "RuntimeWarning: divide by zero encountered in divide\n",
      "RuntimeWarning: divide by zero encountered in divide\n"
     ]
    },
    {
     "name": "stdout",
     "output_type": "stream",
     "text": [
      "Processing beam pair ../../APEX_2022/20220923/w0533_220923_0025 and ../../APEX_2022/20220923/w0533_220923_0024.\n"
     ]
    },
    {
     "name": "stderr",
     "output_type": "stream",
     "text": [
      "RuntimeWarning: divide by zero encountered in divide\n"
     ]
    },
    {
     "name": "stdout",
     "output_type": "stream",
     "text": [
      "Processing beam pair ../../APEX_2022/20220923/w0533_220923_0027 and ../../APEX_2022/20220923/w0533_220923_0026.\n"
     ]
    },
    {
     "name": "stderr",
     "output_type": "stream",
     "text": [
      "RuntimeWarning: divide by zero encountered in divide\n",
      "RuntimeWarning: divide by zero encountered in divide\n",
      "RuntimeWarning: divide by zero encountered in divide\n",
      "RuntimeWarning: divide by zero encountered in divide\n",
      "RuntimeWarning: divide by zero encountered in divide\n"
     ]
    },
    {
     "name": "stdout",
     "output_type": "stream",
     "text": [
      "Processing beam pair ../../APEX_2022/20220923/w0533_220923_0029 and ../../APEX_2022/20220923/w0533_220923_0028.\n"
     ]
    },
    {
     "name": "stderr",
     "output_type": "stream",
     "text": [
      "UserWarning: Extra time stamps truncated\n",
      "RuntimeWarning: divide by zero encountered in divide\n",
      "RuntimeWarning: divide by zero encountered in divide\n",
      "RuntimeWarning: divide by zero encountered in divide\n"
     ]
    },
    {
     "name": "stdout",
     "output_type": "stream",
     "text": [
      "Processing beam pair ../../APEX_2022/20220923/w0533_220923_0031 and ../../APEX_2022/20220923/w0533_220923_0030.\n"
     ]
    },
    {
     "name": "stderr",
     "output_type": "stream",
     "text": [
      "RuntimeWarning: divide by zero encountered in divide\n",
      "RuntimeWarning: divide by zero encountered in divide\n",
      "RuntimeWarning: divide by zero encountered in divide\n",
      "RuntimeWarning: divide by zero encountered in divide\n",
      "RuntimeWarning: divide by zero encountered in divide\n"
     ]
    },
    {
     "name": "stdout",
     "output_type": "stream",
     "text": [
      "Processing beam pair ../../APEX_2022/20220923/w0533_220923_0033 and ../../APEX_2022/20220923/w0533_220923_0032.\n"
     ]
    },
    {
     "name": "stderr",
     "output_type": "stream",
     "text": [
      "RuntimeWarning: divide by zero encountered in divide\n",
      "RuntimeWarning: divide by zero encountered in divide\n",
      "RuntimeWarning: divide by zero encountered in divide\n",
      "RuntimeWarning: divide by zero encountered in divide\n"
     ]
    },
    {
     "name": "stdout",
     "output_type": "stream",
     "text": [
      "Processing beam pair ../../APEX_2022/20220923/w0533_220923_0035 and ../../APEX_2022/20220923/w0533_220923_0034.\n"
     ]
    },
    {
     "name": "stderr",
     "output_type": "stream",
     "text": [
      "RuntimeWarning: divide by zero encountered in divide\n",
      "RuntimeWarning: divide by zero encountered in divide\n",
      "RuntimeWarning: divide by zero encountered in divide\n",
      "RuntimeWarning: divide by zero encountered in divide\n",
      "RuntimeWarning: divide by zero encountered in divide\n",
      "RuntimeWarning: divide by zero encountered in divide\n",
      "RuntimeWarning: divide by zero encountered in divide\n",
      "RuntimeWarning: divide by zero encountered in divide\n"
     ]
    },
    {
     "name": "stdout",
     "output_type": "stream",
     "text": [
      "Processing beam pair ../../APEX_2022/20220923/w0533_220923_0037 and ../../APEX_2022/20220923/w0533_220923_0036.\n",
      "Processing beam pair ../../APEX_2022/20220923/w0533_220923_0039 and ../../APEX_2022/20220923/w0533_220923_0038.\n"
     ]
    },
    {
     "name": "stderr",
     "output_type": "stream",
     "text": [
      "RuntimeWarning: divide by zero encountered in divide\n",
      "RuntimeWarning: divide by zero encountered in divide\n",
      "RuntimeWarning: divide by zero encountered in divide\n",
      "RuntimeWarning: divide by zero encountered in divide\n",
      "RuntimeWarning: divide by zero encountered in divide\n",
      "RuntimeWarning: divide by zero encountered in divide\n",
      "RuntimeWarning: divide by zero encountered in divide\n",
      "RuntimeWarning: divide by zero encountered in divide\n",
      "RuntimeWarning: divide by zero encountered in divide\n",
      "RuntimeWarning: divide by zero encountered in divide\n",
      "RuntimeWarning: divide by zero encountered in divide\n",
      "RuntimeWarning: divide by zero encountered in divide\n",
      "RuntimeWarning: divide by zero encountered in divide\n",
      "RuntimeWarning: divide by zero encountered in divide\n",
      "RuntimeWarning: divide by zero encountered in divide\n",
      "RuntimeWarning: divide by zero encountered in divide\n",
      "RuntimeWarning: divide by zero encountered in divide\n",
      "RuntimeWarning: divide by zero encountered in divide\n",
      "RuntimeWarning: divide by zero encountered in divide\n",
      "RuntimeWarning: divide by zero encountered in divide\n",
      "RuntimeWarning: divide by zero encountered in divide\n",
      "RuntimeWarning: divide by zero encountered in divide\n",
      "RuntimeWarning: divide by zero encountered in divide\n",
      "RuntimeWarning: divide by zero encountered in divide\n",
      "RuntimeWarning: divide by zero encountered in divide\n",
      "RuntimeWarning: divide by zero encountered in divide\n",
      "RuntimeWarning: divide by zero encountered in divide\n",
      "RuntimeWarning: divide by zero encountered in divide\n",
      "RuntimeWarning: divide by zero encountered in divide\n",
      "RuntimeWarning: divide by zero encountered in divide\n",
      "RuntimeWarning: divide by zero encountered in divide\n",
      "RuntimeWarning: divide by zero encountered in divide\n",
      "UserWarning: No band specific config information found, will use the input kwargs only the DEFAULT configurations in conf_kwargs_.\n",
      "UserWarning: No band specific config information found, will use the input kwargs only the DEFAULT configurations in conf_kwargs_.\n",
      "UserWarning: No band specific config information found, will use the input kwargs only the DEFAULT configurations in conf_kwargs_.\n"
     ]
    },
    {
     "name": "stdout",
     "output_type": "stream",
     "text": [
      "Setting band using default layout.\n"
     ]
    },
    {
     "name": "stderr",
     "output_type": "stream",
     "text": [
      "RuntimeWarning: divide by zero encountered in divide\n",
      "RuntimeWarning: divide by zero encountered in divide\n",
      "RuntimeWarning: divide by zero encountered in divide\n",
      "UserWarning: No band specific config information found, will use the input kwargs only the DEFAULT configurations in conf_kwargs_.\n"
     ]
    },
    {
     "name": "stdout",
     "output_type": "stream",
     "text": [
      "Setting band using default layout.\n",
      "Processing beam ../../APEX_2022/20220923/skychop_220923_0009.\n",
      "Processing beam ../../APEX_2022/20220923/skychop_220923_0010.\n",
      "running in parallel on 2 threads.\n"
     ]
    },
    {
     "name": "stderr",
     "output_type": "stream",
     "text": [
      "RuntimeWarning: invalid value encountered in divide\n",
      "RuntimeWarning: invalid value encountered in divide\n"
     ]
    },
    {
     "name": "stdout",
     "output_type": "stream",
     "text": [
      "Processing beam ../../APEX_2022/20220923/bias_step_0003.Processing beam ../../APEX_2022/20220923/bias_step_0004.\n",
      "\n",
      "running in parallel on 2 threads.\n"
     ]
    },
    {
     "name": "stderr",
     "output_type": "stream",
     "text": [
      "RuntimeWarning: divide by zero encountered in divide\n",
      "RuntimeWarning: divide by zero encountered in divide\n",
      "RuntimeWarning: divide by zero encountered in divide\n",
      "RuntimeWarning: divide by zero encountered in divide\n",
      "RuntimeWarning: divide by zero encountered in divide\n",
      "RuntimeWarning: divide by zero encountered in divide\n",
      "RuntimeWarning: divide by zero encountered in divide\n",
      "RuntimeWarning: divide by zero encountered in divide\n"
     ]
    },
    {
     "name": "stdout",
     "output_type": "stream",
     "text": [
      "Processing beam pair ../../APEX_2022/20220923/w0533_220923_0043 and ../../APEX_2022/20220923/w0533_220923_0042.Processing beam pair ../../APEX_2022/20220923/w0533_220923_0041 and ../../APEX_2022/20220923/w0533_220923_0040.Processing beam pair ../../APEX_2022/20220923/w0533_220923_0047 and ../../APEX_2022/20220923/w0533_220923_0046.Processing beam pair ../../APEX_2022/20220923/w0533_220923_0049 and ../../APEX_2022/20220923/w0533_220923_0048.Processing beam pair ../../APEX_2022/20220923/w0533_220923_0045 and ../../APEX_2022/20220923/w0533_220923_0044.\n",
      "\n",
      "Processing beam pair ../../APEX_2022/20220923/w0533_220923_0051 and ../../APEX_2022/20220923/w0533_220923_0050.\n",
      "\n",
      "\n",
      "Processing beam pair ../../APEX_2022/20220923/w0533_220923_0055 and ../../APEX_2022/20220923/w0533_220923_0054.\n",
      "\n",
      "Processing beam pair ../../APEX_2022/20220923/w0533_220923_0053 and ../../APEX_2022/20220923/w0533_220923_0052.\n",
      "running in parallel on 4 threads.\n"
     ]
    },
    {
     "name": "stderr",
     "output_type": "stream",
     "text": [
      "UserWarning: Extra time stamps truncated\n",
      "UserWarning: Extra time stamps truncated\n",
      "RuntimeWarning: divide by zero encountered in divide\n",
      "RuntimeWarning: divide by zero encountered in divide\n",
      "RuntimeWarning: divide by zero encountered in divide\n",
      "RuntimeWarning: divide by zero encountered in divide\n"
     ]
    },
    {
     "name": "stdout",
     "output_type": "stream",
     "text": [
      "Processing beam pair ../../APEX_2022/20220923/w0533_220923_0057 and ../../APEX_2022/20220923/w0533_220923_0056.\n"
     ]
    },
    {
     "name": "stderr",
     "output_type": "stream",
     "text": [
      "RuntimeWarning: divide by zero encountered in divide\n",
      "RuntimeWarning: divide by zero encountered in divide\n",
      "RuntimeWarning: divide by zero encountered in divide\n",
      "RuntimeWarning: divide by zero encountered in divide\n",
      "RuntimeWarning: divide by zero encountered in divide\n"
     ]
    },
    {
     "name": "stdout",
     "output_type": "stream",
     "text": [
      "Processing beam pair ../../APEX_2022/20220923/w0533_220923_0059 and ../../APEX_2022/20220923/w0533_220923_0058.\n"
     ]
    },
    {
     "name": "stderr",
     "output_type": "stream",
     "text": [
      "RuntimeWarning: divide by zero encountered in divide\n",
      "RuntimeWarning: divide by zero encountered in divide\n",
      "RuntimeWarning: divide by zero encountered in divide\n"
     ]
    },
    {
     "name": "stdout",
     "output_type": "stream",
     "text": [
      "Processing beam pair ../../APEX_2022/20220923/w0533_220923_0061 and ../../APEX_2022/20220923/w0533_220923_0060.\n"
     ]
    },
    {
     "name": "stderr",
     "output_type": "stream",
     "text": [
      "RuntimeWarning: divide by zero encountered in divide\n",
      "RuntimeWarning: divide by zero encountered in divide\n",
      "RuntimeWarning: divide by zero encountered in divide\n",
      "RuntimeWarning: divide by zero encountered in divide\n"
     ]
    },
    {
     "name": "stdout",
     "output_type": "stream",
     "text": [
      "Processing beam pair ../../APEX_2022/20220923/w0533_220923_0063 and ../../APEX_2022/20220923/w0533_220923_0062.\n"
     ]
    },
    {
     "name": "stderr",
     "output_type": "stream",
     "text": [
      "RuntimeWarning: divide by zero encountered in divide\n",
      "RuntimeWarning: divide by zero encountered in divide\n",
      "RuntimeWarning: divide by zero encountered in divide\n",
      "RuntimeWarning: divide by zero encountered in divide\n"
     ]
    },
    {
     "name": "stdout",
     "output_type": "stream",
     "text": [
      "Processing beam pair ../../APEX_2022/20220923/w0533_220923_0065 and ../../APEX_2022/20220923/w0533_220923_0064.\n"
     ]
    },
    {
     "name": "stderr",
     "output_type": "stream",
     "text": [
      "RuntimeWarning: divide by zero encountered in divide\n",
      "RuntimeWarning: divide by zero encountered in divide\n",
      "RuntimeWarning: divide by zero encountered in divide\n",
      "RuntimeWarning: divide by zero encountered in divide\n",
      "RuntimeWarning: divide by zero encountered in divide\n",
      "RuntimeWarning: divide by zero encountered in divide\n",
      "RuntimeWarning: divide by zero encountered in divide\n",
      "RuntimeWarning: divide by zero encountered in divide\n"
     ]
    },
    {
     "name": "stdout",
     "output_type": "stream",
     "text": [
      "Processing beam pair ../../APEX_2022/20220923/w0533_220923_0067 and ../../APEX_2022/20220923/w0533_220923_0066.\n",
      "Processing beam pair ../../APEX_2022/20220923/w0533_220923_0069 and ../../APEX_2022/20220923/w0533_220923_0068.\n"
     ]
    },
    {
     "name": "stderr",
     "output_type": "stream",
     "text": [
      "UserWarning: Extra time stamps truncated\n",
      "RuntimeWarning: divide by zero encountered in divide\n",
      "RuntimeWarning: divide by zero encountered in divide\n",
      "RuntimeWarning: divide by zero encountered in divide\n",
      "RuntimeWarning: divide by zero encountered in divide\n"
     ]
    },
    {
     "name": "stdout",
     "output_type": "stream",
     "text": [
      "Processing beam pair ../../APEX_2022/20220923/w0533_220923_0071 and ../../APEX_2022/20220923/w0533_220923_0070.\n"
     ]
    },
    {
     "name": "stderr",
     "output_type": "stream",
     "text": [
      "RuntimeWarning: divide by zero encountered in divide\n",
      "RuntimeWarning: divide by zero encountered in divide\n",
      "RuntimeWarning: divide by zero encountered in divide\n",
      "RuntimeWarning: divide by zero encountered in divide\n",
      "RuntimeWarning: divide by zero encountered in divide\n"
     ]
    },
    {
     "name": "stdout",
     "output_type": "stream",
     "text": [
      "Processing beam pair ../../APEX_2022/20220923/w0533_220923_0073 and ../../APEX_2022/20220923/w0533_220923_0072.\n"
     ]
    },
    {
     "name": "stderr",
     "output_type": "stream",
     "text": [
      "RuntimeWarning: divide by zero encountered in divide\n",
      "RuntimeWarning: divide by zero encountered in divide\n",
      "RuntimeWarning: divide by zero encountered in divide\n"
     ]
    },
    {
     "name": "stdout",
     "output_type": "stream",
     "text": [
      "Processing beam pair ../../APEX_2022/20220923/w0533_220923_0075 and ../../APEX_2022/20220923/w0533_220923_0074.\n"
     ]
    },
    {
     "name": "stderr",
     "output_type": "stream",
     "text": [
      "RuntimeWarning: divide by zero encountered in divide\n",
      "RuntimeWarning: divide by zero encountered in divide\n",
      "RuntimeWarning: divide by zero encountered in divide\n",
      "RuntimeWarning: divide by zero encountered in divide\n"
     ]
    },
    {
     "name": "stdout",
     "output_type": "stream",
     "text": [
      "Processing beam pair ../../APEX_2022/20220923/w0533_220923_0077 and ../../APEX_2022/20220923/w0533_220923_0076.\n"
     ]
    },
    {
     "name": "stderr",
     "output_type": "stream",
     "text": [
      "RuntimeWarning: divide by zero encountered in divide\n",
      "RuntimeWarning: divide by zero encountered in divide\n",
      "RuntimeWarning: divide by zero encountered in divide\n",
      "RuntimeWarning: divide by zero encountered in divide\n"
     ]
    },
    {
     "name": "stdout",
     "output_type": "stream",
     "text": [
      "Processing beam pair ../../APEX_2022/20220923/w0533_220923_0079 and ../../APEX_2022/20220923/w0533_220923_0078.\n"
     ]
    },
    {
     "name": "stderr",
     "output_type": "stream",
     "text": [
      "RuntimeWarning: divide by zero encountered in divide\n",
      "RuntimeWarning: divide by zero encountered in divide\n",
      "RuntimeWarning: divide by zero encountered in divide\n",
      "RuntimeWarning: divide by zero encountered in divide\n",
      "RuntimeWarning: divide by zero encountered in divide\n",
      "RuntimeWarning: divide by zero encountered in divide\n",
      "RuntimeWarning: divide by zero encountered in divide\n",
      "RuntimeWarning: divide by zero encountered in divide\n",
      "RuntimeWarning: divide by zero encountered in divide\n",
      "RuntimeWarning: divide by zero encountered in divide\n",
      "RuntimeWarning: divide by zero encountered in divide\n",
      "RuntimeWarning: divide by zero encountered in divide\n",
      "RuntimeWarning: divide by zero encountered in divide\n",
      "RuntimeWarning: divide by zero encountered in divide\n",
      "RuntimeWarning: divide by zero encountered in divide\n",
      "RuntimeWarning: divide by zero encountered in divide\n",
      "RuntimeWarning: divide by zero encountered in divide\n",
      "RuntimeWarning: divide by zero encountered in divide\n",
      "RuntimeWarning: divide by zero encountered in divide\n",
      "RuntimeWarning: divide by zero encountered in divide\n",
      "RuntimeWarning: divide by zero encountered in divide\n",
      "RuntimeWarning: divide by zero encountered in divide\n",
      "RuntimeWarning: divide by zero encountered in divide\n",
      "RuntimeWarning: divide by zero encountered in divide\n",
      "RuntimeWarning: divide by zero encountered in divide\n",
      "RuntimeWarning: divide by zero encountered in divide\n",
      "RuntimeWarning: divide by zero encountered in divide\n",
      "RuntimeWarning: divide by zero encountered in divide\n",
      "RuntimeWarning: divide by zero encountered in divide\n",
      "RuntimeWarning: divide by zero encountered in divide\n",
      "RuntimeWarning: divide by zero encountered in divide\n",
      "RuntimeWarning: divide by zero encountered in divide\n",
      "RuntimeWarning: divide by zero encountered in divide\n",
      "UserWarning: No band specific config information found, will use the input kwargs only the DEFAULT configurations in conf_kwargs_.\n",
      "UserWarning: No band specific config information found, will use the input kwargs only the DEFAULT configurations in conf_kwargs_.\n",
      "UserWarning: No band specific config information found, will use the input kwargs only the DEFAULT configurations in conf_kwargs_.\n"
     ]
    },
    {
     "name": "stdout",
     "output_type": "stream",
     "text": [
      "Setting band using default layout.\n"
     ]
    },
    {
     "name": "stderr",
     "output_type": "stream",
     "text": [
      "RuntimeWarning: divide by zero encountered in divide\n",
      "RuntimeWarning: divide by zero encountered in divide\n",
      "RuntimeWarning: divide by zero encountered in divide\n",
      "UserWarning: No band specific config information found, will use the input kwargs only the DEFAULT configurations in conf_kwargs_.\n"
     ]
    },
    {
     "name": "stdout",
     "output_type": "stream",
     "text": [
      "Setting band using default layout.\n",
      "Processing beam ../../APEX_2022/20220923/skychop_220923_0013.\n",
      "Processing beam ../../APEX_2022/20220923/skychop_220923_0014.\n",
      "running in parallel on 2 threads.\n"
     ]
    },
    {
     "name": "stderr",
     "output_type": "stream",
     "text": [
      "RuntimeWarning: divide by zero encountered in divide\n",
      "RuntimeWarning: divide by zero encountered in divide\n",
      "RuntimeWarning: invalid value encountered in divide\n",
      "RuntimeWarning: invalid value encountered in divide\n"
     ]
    },
    {
     "name": "stdout",
     "output_type": "stream",
     "text": [
      "Processing beam ../../APEX_2022/20220923/bias_step_0005.Processing beam ../../APEX_2022/20220923/bias_step_0006.\n",
      "\n",
      "running in parallel on 2 threads.\n"
     ]
    },
    {
     "name": "stderr",
     "output_type": "stream",
     "text": [
      "RuntimeWarning: divide by zero encountered in divide\n",
      "RuntimeWarning: divide by zero encountered in divide\n",
      "RuntimeWarning: divide by zero encountered in divide\n",
      "RuntimeWarning: divide by zero encountered in divide\n",
      "RuntimeWarning: divide by zero encountered in divide\n",
      "RuntimeWarning: divide by zero encountered in divide\n",
      "RuntimeWarning: divide by zero encountered in divide\n",
      "RuntimeWarning: divide by zero encountered in divide\n"
     ]
    },
    {
     "name": "stdout",
     "output_type": "stream",
     "text": [
      "Processing beam pair ../../APEX_2022/20220923/w0533_220923_0083 and ../../APEX_2022/20220923/w0533_220923_0082.\n",
      "Processing beam pair ../../APEX_2022/20220923/w0533_220923_0085 and ../../APEX_2022/20220923/w0533_220923_0084.Processing beam pair ../../APEX_2022/20220923/w0533_220923_0087 and ../../APEX_2022/20220923/w0533_220923_0086.\n",
      "Processing beam pair ../../APEX_2022/20220923/w0533_220923_0091 and ../../APEX_2022/20220923/w0533_220923_0090.Processing beam pair ../../APEX_2022/20220923/w0533_220923_0081 and ../../APEX_2022/20220923/w0533_220923_0080.\n",
      "Processing beam pair ../../APEX_2022/20220923/w0533_220923_0089 and ../../APEX_2022/20220923/w0533_220923_0088.Processing beam pair ../../APEX_2022/20220923/w0533_220923_0095 and ../../APEX_2022/20220923/w0533_220923_0094.\n",
      "Processing beam pair ../../APEX_2022/20220923/w0533_220923_0093 and ../../APEX_2022/20220923/w0533_220923_0092.\n",
      "\n",
      "\n",
      "\n",
      "running in parallel on 4 threads.\n"
     ]
    },
    {
     "name": "stderr",
     "output_type": "stream",
     "text": [
      "UserWarning: Extra time stamps truncated\n",
      "RuntimeWarning: divide by zero encountered in divide\n",
      "RuntimeWarning: divide by zero encountered in divide\n",
      "RuntimeWarning: divide by zero encountered in divide\n",
      "RuntimeWarning: divide by zero encountered in divide\n",
      "RuntimeWarning: divide by zero encountered in divide\n",
      "RuntimeWarning: divide by zero encountered in divide\n",
      "RuntimeWarning: divide by zero encountered in divide\n"
     ]
    },
    {
     "name": "stdout",
     "output_type": "stream",
     "text": [
      "Processing beam pair ../../APEX_2022/20220923/w0533_220923_0097 and ../../APEX_2022/20220923/w0533_220923_0096.\n"
     ]
    },
    {
     "name": "stderr",
     "output_type": "stream",
     "text": [
      "RuntimeWarning: divide by zero encountered in divide\n",
      "RuntimeWarning: divide by zero encountered in divide\n",
      "RuntimeWarning: divide by zero encountered in divide\n",
      "RuntimeWarning: divide by zero encountered in divide\n",
      "RuntimeWarning: divide by zero encountered in divide\n",
      "RuntimeWarning: divide by zero encountered in divide\n",
      "RuntimeWarning: divide by zero encountered in divide\n",
      "RuntimeWarning: divide by zero encountered in divide\n",
      "RuntimeWarning: divide by zero encountered in divide\n"
     ]
    },
    {
     "name": "stdout",
     "output_type": "stream",
     "text": [
      "Processing beam pair ../../APEX_2022/20220923/w0533_220923_0099 and ../../APEX_2022/20220923/w0533_220923_0098.\n"
     ]
    },
    {
     "name": "stderr",
     "output_type": "stream",
     "text": [
      "RuntimeWarning: divide by zero encountered in divide\n"
     ]
    },
    {
     "name": "stdout",
     "output_type": "stream",
     "text": [
      "Processing beam pair ../../APEX_2022/20220923/w0533_220923_0101 and ../../APEX_2022/20220923/w0533_220923_0100.\n",
      "Processing beam pair ../../APEX_2022/20220923/w0533_220923_0103 and ../../APEX_2022/20220923/w0533_220923_0102.\n"
     ]
    },
    {
     "name": "stderr",
     "output_type": "stream",
     "text": [
      "RuntimeWarning: divide by zero encountered in divide\n",
      "RuntimeWarning: divide by zero encountered in divide\n",
      "RuntimeWarning: divide by zero encountered in divide\n",
      "RuntimeWarning: divide by zero encountered in divide\n"
     ]
    },
    {
     "name": "stdout",
     "output_type": "stream",
     "text": [
      "Processing beam pair ../../APEX_2022/20220923/w0533_220923_0105 and ../../APEX_2022/20220923/w0533_220923_0104.\n"
     ]
    },
    {
     "name": "stderr",
     "output_type": "stream",
     "text": [
      "UserWarning: Extra time stamps truncated\n",
      "RuntimeWarning: divide by zero encountered in divide\n",
      "RuntimeWarning: divide by zero encountered in divide\n",
      "RuntimeWarning: divide by zero encountered in divide\n"
     ]
    },
    {
     "name": "stdout",
     "output_type": "stream",
     "text": [
      "Processing beam pair ../../APEX_2022/20220923/w0533_220923_0107 and ../../APEX_2022/20220923/w0533_220923_0106.\n"
     ]
    },
    {
     "name": "stderr",
     "output_type": "stream",
     "text": [
      "RuntimeWarning: divide by zero encountered in divide\n",
      "RuntimeWarning: divide by zero encountered in divide\n",
      "RuntimeWarning: divide by zero encountered in divide\n",
      "RuntimeWarning: divide by zero encountered in divide\n",
      "RuntimeWarning: divide by zero encountered in divide\n"
     ]
    },
    {
     "name": "stdout",
     "output_type": "stream",
     "text": [
      "Processing beam pair ../../APEX_2022/20220923/w0533_220923_0109 and ../../APEX_2022/20220923/w0533_220923_0108.\n"
     ]
    },
    {
     "name": "stderr",
     "output_type": "stream",
     "text": [
      "RuntimeWarning: divide by zero encountered in divide\n",
      "RuntimeWarning: divide by zero encountered in divide\n",
      "RuntimeWarning: divide by zero encountered in divide\n"
     ]
    },
    {
     "name": "stdout",
     "output_type": "stream",
     "text": [
      "Processing beam pair ../../APEX_2022/20220923/w0533_220923_0111 and ../../APEX_2022/20220923/w0533_220923_0110.\n"
     ]
    },
    {
     "name": "stderr",
     "output_type": "stream",
     "text": [
      "RuntimeWarning: divide by zero encountered in divide\n",
      "RuntimeWarning: divide by zero encountered in divide\n",
      "RuntimeWarning: divide by zero encountered in divide\n",
      "RuntimeWarning: divide by zero encountered in divide\n"
     ]
    },
    {
     "name": "stdout",
     "output_type": "stream",
     "text": [
      "Processing beam pair ../../APEX_2022/20220923/w0533_220923_0113 and ../../APEX_2022/20220923/w0533_220923_0112.\n"
     ]
    },
    {
     "name": "stderr",
     "output_type": "stream",
     "text": [
      "RuntimeWarning: divide by zero encountered in divide\n",
      "RuntimeWarning: divide by zero encountered in divide\n",
      "RuntimeWarning: divide by zero encountered in divide\n",
      "RuntimeWarning: divide by zero encountered in divide\n",
      "RuntimeWarning: divide by zero encountered in divide\n",
      "RuntimeWarning: divide by zero encountered in divide\n",
      "RuntimeWarning: divide by zero encountered in divide\n",
      "RuntimeWarning: divide by zero encountered in divide\n",
      "RuntimeWarning: divide by zero encountered in divide\n",
      "RuntimeWarning: divide by zero encountered in divide\n",
      "RuntimeWarning: divide by zero encountered in divide\n",
      "RuntimeWarning: divide by zero encountered in divide\n"
     ]
    },
    {
     "name": "stdout",
     "output_type": "stream",
     "text": [
      "Processing beam pair ../../APEX_2022/20220923/w0533_220923_0115 and ../../APEX_2022/20220923/w0533_220923_0114.\n",
      "Processing beam pair ../../APEX_2022/20220923/w0533_220923_0117 and ../../APEX_2022/20220923/w0533_220923_0116."
     ]
    },
    {
     "name": "stderr",
     "output_type": "stream",
     "text": [
      "RuntimeWarning: divide by zero encountered in divide\n"
     ]
    },
    {
     "name": "stdout",
     "output_type": "stream",
     "text": [
      "\n",
      "Processing beam pair ../../APEX_2022/20220923/w0533_220923_0119 and ../../APEX_2022/20220923/w0533_220923_0118.\n"
     ]
    },
    {
     "name": "stderr",
     "output_type": "stream",
     "text": [
      "RuntimeWarning: divide by zero encountered in divide\n",
      "RuntimeWarning: divide by zero encountered in divide\n",
      "RuntimeWarning: divide by zero encountered in divide\n",
      "RuntimeWarning: divide by zero encountered in divide\n",
      "RuntimeWarning: divide by zero encountered in divide\n",
      "RuntimeWarning: divide by zero encountered in divide\n",
      "RuntimeWarning: divide by zero encountered in divide\n",
      "RuntimeWarning: divide by zero encountered in divide\n",
      "RuntimeWarning: divide by zero encountered in divide\n",
      "RuntimeWarning: divide by zero encountered in divide\n",
      "RuntimeWarning: divide by zero encountered in divide\n",
      "RuntimeWarning: divide by zero encountered in divide\n",
      "RuntimeWarning: divide by zero encountered in divide\n",
      "RuntimeWarning: divide by zero encountered in divide\n",
      "RuntimeWarning: divide by zero encountered in divide\n",
      "RuntimeWarning: divide by zero encountered in divide\n",
      "RuntimeWarning: divide by zero encountered in divide\n",
      "RuntimeWarning: divide by zero encountered in divide\n",
      "RuntimeWarning: divide by zero encountered in divide\n",
      "RuntimeWarning: divide by zero encountered in divide\n",
      "RuntimeWarning: divide by zero encountered in divide\n",
      "RuntimeWarning: divide by zero encountered in divide\n",
      "RuntimeWarning: divide by zero encountered in divide\n",
      "RuntimeWarning: divide by zero encountered in divide\n",
      "RuntimeWarning: divide by zero encountered in divide\n",
      "RuntimeWarning: divide by zero encountered in divide\n",
      "RuntimeWarning: divide by zero encountered in divide\n",
      "RuntimeWarning: divide by zero encountered in divide\n",
      "RuntimeWarning: divide by zero encountered in divide\n",
      "RuntimeWarning: divide by zero encountered in divide\n",
      "RuntimeWarning: divide by zero encountered in divide\n",
      "RuntimeWarning: divide by zero encountered in divide\n",
      "UserWarning: No band specific config information found, will use the input kwargs only the DEFAULT configurations in conf_kwargs_.\n",
      "UserWarning: No band specific config information found, will use the input kwargs only the DEFAULT configurations in conf_kwargs_.\n",
      "UserWarning: No band specific config information found, will use the input kwargs only the DEFAULT configurations in conf_kwargs_.\n"
     ]
    },
    {
     "name": "stdout",
     "output_type": "stream",
     "text": [
      "Setting band using default layout.\n"
     ]
    },
    {
     "name": "stderr",
     "output_type": "stream",
     "text": [
      "RuntimeWarning: divide by zero encountered in divide\n",
      "RuntimeWarning: divide by zero encountered in divide\n",
      "RuntimeWarning: divide by zero encountered in divide\n",
      "UserWarning: No band specific config information found, will use the input kwargs only the DEFAULT configurations in conf_kwargs_.\n"
     ]
    },
    {
     "name": "stdout",
     "output_type": "stream",
     "text": [
      "Setting band using default layout.\n",
      "Processing beam ../../APEX_2022/20220925/skychop_220925_0015.\n"
     ]
    },
    {
     "name": "stderr",
     "output_type": "stream",
     "text": [
      "RuntimeWarning: invalid value encountered in divide\n"
     ]
    },
    {
     "name": "stdout",
     "output_type": "stream",
     "text": [
      "Processing beam ../../APEX_2022/20220925/bias_step_0009.\n"
     ]
    },
    {
     "name": "stderr",
     "output_type": "stream",
     "text": [
      "RuntimeWarning: divide by zero encountered in divide\n",
      "RuntimeWarning: divide by zero encountered in divide\n",
      "RuntimeWarning: divide by zero encountered in divide\n",
      "RuntimeWarning: divide by zero encountered in divide\n"
     ]
    },
    {
     "name": "stdout",
     "output_type": "stream",
     "text": [
      "Processing beam pair ../../APEX_2022/20220925/w0533_220925_0001 and ../../APEX_2022/20220925/w0533_220925_0000.Processing beam pair ../../APEX_2022/20220925/w0533_220925_0003 and ../../APEX_2022/20220925/w0533_220925_0002.\n",
      "Processing beam pair ../../APEX_2022/20220925/w0533_220925_0005 and ../../APEX_2022/20220925/w0533_220925_0004.\n",
      "Processing beam pair ../../APEX_2022/20220925/w0533_220925_0009 and ../../APEX_2022/20220925/w0533_220925_0008.\n",
      "Processing beam pair ../../APEX_2022/20220925/w0533_220925_0011 and ../../APEX_2022/20220925/w0533_220925_0010.Processing beam pair ../../APEX_2022/20220925/w0533_220925_0007 and ../../APEX_2022/20220925/w0533_220925_0006.Processing beam pair ../../APEX_2022/20220925/w0533_220925_0013 and ../../APEX_2022/20220925/w0533_220925_0012.\n",
      "\n",
      "\n",
      "\n",
      "Processing beam pair ../../APEX_2022/20220925/w0533_220925_0015 and ../../APEX_2022/20220925/w0533_220925_0014.\n",
      "running in parallel on 4 threads.\n"
     ]
    },
    {
     "name": "stderr",
     "output_type": "stream",
     "text": [
      "UserWarning: Extra time stamps truncated\n",
      "UserWarning: Extra time stamps truncated\n",
      "UserWarning: Extra time stamps truncated\n",
      "RuntimeWarning: divide by zero encountered in divide\n",
      "RuntimeWarning: divide by zero encountered in divide\n",
      "RuntimeWarning: divide by zero encountered in divide\n",
      "RuntimeWarning: divide by zero encountered in divide\n"
     ]
    },
    {
     "name": "stdout",
     "output_type": "stream",
     "text": [
      "Processing beam pair ../../APEX_2022/20220925/w0533_220925_0017 and ../../APEX_2022/20220925/w0533_220925_0016.\n"
     ]
    },
    {
     "name": "stderr",
     "output_type": "stream",
     "text": [
      "RuntimeWarning: divide by zero encountered in divide\n",
      "RuntimeWarning: divide by zero encountered in divide\n",
      "RuntimeWarning: divide by zero encountered in divide\n",
      "RuntimeWarning: divide by zero encountered in divide\n",
      "RuntimeWarning: divide by zero encountered in divide\n",
      "RuntimeWarning: divide by zero encountered in divide\n",
      "RuntimeWarning: divide by zero encountered in divide\n",
      "RuntimeWarning: divide by zero encountered in divide\n",
      "RuntimeWarning: divide by zero encountered in divide\n",
      "RuntimeWarning: divide by zero encountered in divide\n"
     ]
    },
    {
     "name": "stdout",
     "output_type": "stream",
     "text": [
      "Processing beam pair ../../APEX_2022/20220925/w0533_220925_0019 and ../../APEX_2022/20220925/w0533_220925_0018.\n"
     ]
    },
    {
     "name": "stderr",
     "output_type": "stream",
     "text": [
      "RuntimeWarning: divide by zero encountered in divide\n",
      "RuntimeWarning: divide by zero encountered in divide\n",
      "RuntimeWarning: divide by zero encountered in divide\n",
      "RuntimeWarning: divide by zero encountered in divide\n",
      "RuntimeWarning: divide by zero encountered in divide\n",
      "RuntimeWarning: divide by zero encountered in divide\n",
      "RuntimeWarning: divide by zero encountered in divide\n",
      "RuntimeWarning: divide by zero encountered in divide\n",
      "RuntimeWarning: divide by zero encountered in divide\n",
      "RuntimeWarning: divide by zero encountered in divide\n",
      "RuntimeWarning: divide by zero encountered in divide\n",
      "RuntimeWarning: divide by zero encountered in divide\n",
      "RuntimeWarning: divide by zero encountered in divide\n",
      "RuntimeWarning: divide by zero encountered in divide\n",
      "RuntimeWarning: divide by zero encountered in divide\n",
      "RuntimeWarning: divide by zero encountered in divide\n",
      "RuntimeWarning: divide by zero encountered in divide\n",
      "RuntimeWarning: divide by zero encountered in divide\n",
      "RuntimeWarning: divide by zero encountered in divide\n",
      "RuntimeWarning: divide by zero encountered in divide\n",
      "RuntimeWarning: divide by zero encountered in divide\n",
      "RuntimeWarning: divide by zero encountered in divide\n",
      "RuntimeWarning: divide by zero encountered in divide\n",
      "RuntimeWarning: divide by zero encountered in divide\n",
      "RuntimeWarning: divide by zero encountered in divide\n",
      "RuntimeWarning: divide by zero encountered in divide\n",
      "RuntimeWarning: divide by zero encountered in divide\n",
      "UserWarning: No band specific config information found, will use the input kwargs only the DEFAULT configurations in conf_kwargs_.\n",
      "UserWarning: No band specific config information found, will use the input kwargs only the DEFAULT configurations in conf_kwargs_.\n",
      "UserWarning: No band specific config information found, will use the input kwargs only the DEFAULT configurations in conf_kwargs_.\n"
     ]
    },
    {
     "name": "stdout",
     "output_type": "stream",
     "text": [
      "Setting band using default layout.\n"
     ]
    },
    {
     "name": "stderr",
     "output_type": "stream",
     "text": [
      "RuntimeWarning: divide by zero encountered in divide\n",
      "RuntimeWarning: divide by zero encountered in divide\n",
      "RuntimeWarning: divide by zero encountered in divide\n",
      "UserWarning: No band specific config information found, will use the input kwargs only the DEFAULT configurations in conf_kwargs_.\n"
     ]
    },
    {
     "name": "stdout",
     "output_type": "stream",
     "text": [
      "Setting band using default layout.\n",
      "Processing beam ../../APEX_2022/20220925/skychop_220925_0016.\n"
     ]
    },
    {
     "name": "stderr",
     "output_type": "stream",
     "text": [
      "RuntimeWarning: invalid value encountered in divide\n"
     ]
    },
    {
     "name": "stdout",
     "output_type": "stream",
     "text": [
      "Processing beam ../../APEX_2022/20220925/bias_step_0011.\n",
      "Processing beam ../../APEX_2022/20220925/bias_step_0010.\n",
      "running in parallel on 2 threads.\n"
     ]
    },
    {
     "name": "stderr",
     "output_type": "stream",
     "text": [
      "RuntimeWarning: divide by zero encountered in divide\n",
      "RuntimeWarning: divide by zero encountered in divide\n",
      "RuntimeWarning: divide by zero encountered in divide\n",
      "RuntimeWarning: divide by zero encountered in divide\n",
      "RuntimeWarning: divide by zero encountered in divide\n",
      "RuntimeWarning: divide by zero encountered in divide\n",
      "RuntimeWarning: divide by zero encountered in divide\n",
      "RuntimeWarning: divide by zero encountered in divide\n"
     ]
    },
    {
     "name": "stdout",
     "output_type": "stream",
     "text": [
      "Processing beam pair ../../APEX_2022/20220925/w0533_220925_0023 and ../../APEX_2022/20220925/w0533_220925_0022.Processing beam pair ../../APEX_2022/20220925/w0533_220925_0025 and ../../APEX_2022/20220925/w0533_220925_0024.\n",
      "Processing beam pair ../../APEX_2022/20220925/w0533_220925_0027 and ../../APEX_2022/20220925/w0533_220925_0026.Processing beam pair ../../APEX_2022/20220925/w0533_220925_0029 and ../../APEX_2022/20220925/w0533_220925_0028.\n",
      "Processing beam pair ../../APEX_2022/20220925/w0533_220925_0031 and ../../APEX_2022/20220925/w0533_220925_0030.\n",
      "Processing beam pair ../../APEX_2022/20220925/w0533_220925_0033 and ../../APEX_2022/20220925/w0533_220925_0032.\n",
      "Processing beam pair ../../APEX_2022/20220925/w0533_220925_0035 and ../../APEX_2022/20220925/w0533_220925_0034.\n",
      "\n",
      "Processing beam pair ../../APEX_2022/20220925/w0533_220925_0037 and ../../APEX_2022/20220925/w0533_220925_0036.\n",
      "\n",
      "running in parallel on 4 threads.\n"
     ]
    },
    {
     "name": "stderr",
     "output_type": "stream",
     "text": [
      "RuntimeWarning: divide by zero encountered in divide\n",
      "RuntimeWarning: divide by zero encountered in divide\n",
      "RuntimeWarning: divide by zero encountered in divide\n",
      "RuntimeWarning: divide by zero encountered in divide\n",
      "RuntimeWarning: divide by zero encountered in divide\n"
     ]
    },
    {
     "name": "stdout",
     "output_type": "stream",
     "text": [
      "Processing beam pair ../../APEX_2022/20220925/w0533_220925_0039 and ../../APEX_2022/20220925/w0533_220925_0038.\n"
     ]
    },
    {
     "name": "stderr",
     "output_type": "stream",
     "text": [
      "RuntimeWarning: divide by zero encountered in divide\n",
      "RuntimeWarning: divide by zero encountered in divide\n",
      "RuntimeWarning: divide by zero encountered in divide\n"
     ]
    },
    {
     "name": "stdout",
     "output_type": "stream",
     "text": [
      "Processing beam pair ../../APEX_2022/20220925/w0533_220925_0041 and ../../APEX_2022/20220925/w0533_220925_0040.\n"
     ]
    },
    {
     "name": "stderr",
     "output_type": "stream",
     "text": [
      "RuntimeWarning: divide by zero encountered in divide\n",
      "RuntimeWarning: divide by zero encountered in divide\n",
      "RuntimeWarning: divide by zero encountered in divide\n",
      "RuntimeWarning: divide by zero encountered in divide\n",
      "RuntimeWarning: divide by zero encountered in divide\n",
      "RuntimeWarning: divide by zero encountered in divide\n",
      "RuntimeWarning: divide by zero encountered in divide\n",
      "RuntimeWarning: divide by zero encountered in divide\n",
      "RuntimeWarning: divide by zero encountered in divide\n",
      "RuntimeWarning: divide by zero encountered in divide\n",
      "RuntimeWarning: divide by zero encountered in divide\n",
      "RuntimeWarning: divide by zero encountered in divide\n",
      "RuntimeWarning: divide by zero encountered in divide\n",
      "RuntimeWarning: divide by zero encountered in divide\n",
      "RuntimeWarning: divide by zero encountered in divide\n",
      "RuntimeWarning: divide by zero encountered in divide\n",
      "RuntimeWarning: divide by zero encountered in divide\n",
      "RuntimeWarning: divide by zero encountered in divide\n",
      "RuntimeWarning: divide by zero encountered in divide\n",
      "RuntimeWarning: divide by zero encountered in divide\n",
      "RuntimeWarning: divide by zero encountered in divide\n",
      "RuntimeWarning: divide by zero encountered in divide\n",
      "RuntimeWarning: divide by zero encountered in divide\n",
      "RuntimeWarning: divide by zero encountered in divide\n",
      "RuntimeWarning: divide by zero encountered in divide\n",
      "RuntimeWarning: divide by zero encountered in divide\n",
      "RuntimeWarning: divide by zero encountered in divide\n",
      "RuntimeWarning: divide by zero encountered in divide\n",
      "RuntimeWarning: divide by zero encountered in divide\n",
      "RuntimeWarning: divide by zero encountered in divide\n",
      "RuntimeWarning: divide by zero encountered in divide\n",
      "RuntimeWarning: divide by zero encountered in divide\n",
      "RuntimeWarning: divide by zero encountered in divide\n",
      "UserWarning: No band specific config information found, will use the input kwargs only the DEFAULT configurations in conf_kwargs_.\n",
      "UserWarning: No band specific config information found, will use the input kwargs only the DEFAULT configurations in conf_kwargs_.\n",
      "UserWarning: No band specific config information found, will use the input kwargs only the DEFAULT configurations in conf_kwargs_.\n"
     ]
    },
    {
     "name": "stdout",
     "output_type": "stream",
     "text": [
      "Setting band using default layout.\n"
     ]
    },
    {
     "name": "stderr",
     "output_type": "stream",
     "text": [
      "RuntimeWarning: divide by zero encountered in divide\n",
      "RuntimeWarning: divide by zero encountered in divide\n",
      "RuntimeWarning: divide by zero encountered in divide\n",
      "UserWarning: No band specific config information found, will use the input kwargs only the DEFAULT configurations in conf_kwargs_.\n"
     ]
    },
    {
     "name": "stdout",
     "output_type": "stream",
     "text": [
      "Setting band using default layout.\n",
      "Processing beam ../../APEX_2022/20220925/skychop_220925_0017.\n",
      "Processing beam ../../APEX_2022/20220925/skychop_220925_0018.\n",
      "running in parallel on 2 threads.\n"
     ]
    },
    {
     "name": "stderr",
     "output_type": "stream",
     "text": [
      "RuntimeWarning: invalid value encountered in divide\n",
      "RuntimeWarning: invalid value encountered in divide\n"
     ]
    },
    {
     "name": "stdout",
     "output_type": "stream",
     "text": [
      "Processing beam ../../APEX_2022/20220925/bias_step_0013.Processing beam ../../APEX_2022/20220925/bias_step_0012.\n",
      "\n",
      "Processing beam ../../APEX_2022/20220925/bias_step_0014.\n",
      "running in parallel on 3 threads.\n"
     ]
    },
    {
     "name": "stderr",
     "output_type": "stream",
     "text": [
      "RuntimeWarning: divide by zero encountered in divide\n",
      "RuntimeWarning: divide by zero encountered in divide\n",
      "RuntimeWarning: divide by zero encountered in divide\n",
      "RuntimeWarning: divide by zero encountered in divide\n",
      "RuntimeWarning: divide by zero encountered in divide\n",
      "RuntimeWarning: divide by zero encountered in divide\n",
      "RuntimeWarning: divide by zero encountered in divide\n",
      "RuntimeWarning: divide by zero encountered in divide\n",
      "RuntimeWarning: divide by zero encountered in divide\n",
      "RuntimeWarning: divide by zero encountered in divide\n",
      "RuntimeWarning: divide by zero encountered in divide\n",
      "RuntimeWarning: divide by zero encountered in divide\n"
     ]
    },
    {
     "name": "stdout",
     "output_type": "stream",
     "text": [
      "Processing beam pair ../../APEX_2022/20220925/w0533_220925_0045 and ../../APEX_2022/20220925/w0533_220925_0044.Processing beam pair ../../APEX_2022/20220925/w0533_220925_0047 and ../../APEX_2022/20220925/w0533_220925_0046.Processing beam pair ../../APEX_2022/20220925/w0533_220925_0051 and ../../APEX_2022/20220925/w0533_220925_0050.Processing beam pair ../../APEX_2022/20220925/w0533_220925_0049 and ../../APEX_2022/20220925/w0533_220925_0048.\n",
      "Processing beam pair ../../APEX_2022/20220925/w0533_220925_0055 and ../../APEX_2022/20220925/w0533_220925_0054.\n",
      "\n",
      "Processing beam pair ../../APEX_2022/20220925/w0533_220925_0053 and ../../APEX_2022/20220925/w0533_220925_0052.Processing beam pair ../../APEX_2022/20220925/w0533_220925_0057 and ../../APEX_2022/20220925/w0533_220925_0056.\n",
      "\n",
      "\n",
      "Processing beam pair ../../APEX_2022/20220925/w0533_220925_0059 and ../../APEX_2022/20220925/w0533_220925_0058.\n",
      "\n",
      "running in parallel on 4 threads.\n"
     ]
    },
    {
     "name": "stderr",
     "output_type": "stream",
     "text": [
      "RuntimeWarning: divide by zero encountered in divide\n",
      "RuntimeWarning: divide by zero encountered in divide\n",
      "RuntimeWarning: divide by zero encountered in divide\n",
      "RuntimeWarning: divide by zero encountered in divide\n",
      "RuntimeWarning: divide by zero encountered in divide\n"
     ]
    },
    {
     "name": "stdout",
     "output_type": "stream",
     "text": [
      "Processing beam pair ../../APEX_2022/20220925/w0533_220925_0061 and ../../APEX_2022/20220925/w0533_220925_0060.\n"
     ]
    },
    {
     "name": "stderr",
     "output_type": "stream",
     "text": [
      "RuntimeWarning: divide by zero encountered in divide\n",
      "RuntimeWarning: divide by zero encountered in divide\n",
      "RuntimeWarning: divide by zero encountered in divide\n",
      "RuntimeWarning: divide by zero encountered in divide\n",
      "RuntimeWarning: divide by zero encountered in divide\n",
      "RuntimeWarning: divide by zero encountered in divide\n",
      "RuntimeWarning: divide by zero encountered in divide\n",
      "RuntimeWarning: divide by zero encountered in divide\n",
      "RuntimeWarning: divide by zero encountered in divide\n"
     ]
    },
    {
     "name": "stdout",
     "output_type": "stream",
     "text": [
      "Processing beam pair ../../APEX_2022/20220925/w0533_220925_0063 and ../../APEX_2022/20220925/w0533_220925_0062.\n",
      "Processing beam pair ../../APEX_2022/20220925/w0533_220925_0065 and ../../APEX_2022/20220925/w0533_220925_0064.\n"
     ]
    },
    {
     "name": "stderr",
     "output_type": "stream",
     "text": [
      "RuntimeWarning: divide by zero encountered in divide\n",
      "RuntimeWarning: divide by zero encountered in divide\n",
      "RuntimeWarning: divide by zero encountered in divide\n",
      "RuntimeWarning: divide by zero encountered in divide\n",
      "RuntimeWarning: divide by zero encountered in divide\n",
      "RuntimeWarning: divide by zero encountered in divide\n",
      "RuntimeWarning: divide by zero encountered in divide\n",
      "RuntimeWarning: divide by zero encountered in divide\n"
     ]
    },
    {
     "name": "stdout",
     "output_type": "stream",
     "text": [
      "Processing beam pair ../../APEX_2022/20220925/w0533_220925_0067 and ../../APEX_2022/20220925/w0533_220925_0066.\n"
     ]
    },
    {
     "name": "stderr",
     "output_type": "stream",
     "text": [
      "RuntimeWarning: divide by zero encountered in divide\n",
      "RuntimeWarning: divide by zero encountered in divide\n",
      "RuntimeWarning: divide by zero encountered in divide\n"
     ]
    },
    {
     "name": "stdout",
     "output_type": "stream",
     "text": [
      "Processing beam pair ../../APEX_2022/20220925/w0533_220925_0069 and ../../APEX_2022/20220925/w0533_220925_0068.\n",
      "Processing beam pair ../../APEX_2022/20220925/w0533_220925_0071 and ../../APEX_2022/20220925/w0533_220925_0070.\n"
     ]
    },
    {
     "name": "stderr",
     "output_type": "stream",
     "text": [
      "RuntimeWarning: divide by zero encountered in divide\n",
      "RuntimeWarning: divide by zero encountered in divide\n",
      "RuntimeWarning: divide by zero encountered in divide\n"
     ]
    },
    {
     "name": "stdout",
     "output_type": "stream",
     "text": [
      "Processing beam pair ../../APEX_2022/20220925/w0533_220925_0073 and ../../APEX_2022/20220925/w0533_220925_0072.\n"
     ]
    },
    {
     "name": "stderr",
     "output_type": "stream",
     "text": [
      "UserWarning: Extra time stamps truncated\n",
      "RuntimeWarning: divide by zero encountered in divide\n",
      "RuntimeWarning: divide by zero encountered in divide\n",
      "RuntimeWarning: divide by zero encountered in divide\n",
      "RuntimeWarning: divide by zero encountered in divide\n"
     ]
    },
    {
     "name": "stdout",
     "output_type": "stream",
     "text": [
      "Processing beam pair ../../APEX_2022/20220925/w0533_220925_0075 and ../../APEX_2022/20220925/w0533_220925_0074.\n"
     ]
    },
    {
     "name": "stderr",
     "output_type": "stream",
     "text": [
      "RuntimeWarning: divide by zero encountered in divide\n",
      "RuntimeWarning: divide by zero encountered in divide\n",
      "RuntimeWarning: divide by zero encountered in divide\n",
      "RuntimeWarning: divide by zero encountered in divide\n"
     ]
    },
    {
     "name": "stdout",
     "output_type": "stream",
     "text": [
      "Processing beam pair ../../APEX_2022/20220925/w0533_220925_0077 and ../../APEX_2022/20220925/w0533_220925_0076.\n"
     ]
    },
    {
     "name": "stderr",
     "output_type": "stream",
     "text": [
      "RuntimeWarning: divide by zero encountered in divide\n",
      "RuntimeWarning: divide by zero encountered in divide\n",
      "RuntimeWarning: divide by zero encountered in divide\n",
      "RuntimeWarning: divide by zero encountered in divide\n",
      "RuntimeWarning: divide by zero encountered in divide\n"
     ]
    },
    {
     "name": "stdout",
     "output_type": "stream",
     "text": [
      "Processing beam pair ../../APEX_2022/20220925/w0533_220925_0079 and ../../APEX_2022/20220925/w0533_220925_0078.\n"
     ]
    },
    {
     "name": "stderr",
     "output_type": "stream",
     "text": [
      "RuntimeWarning: divide by zero encountered in divide\n",
      "RuntimeWarning: divide by zero encountered in divide\n",
      "RuntimeWarning: divide by zero encountered in divide\n",
      "RuntimeWarning: divide by zero encountered in divide\n",
      "RuntimeWarning: divide by zero encountered in divide\n",
      "RuntimeWarning: divide by zero encountered in divide\n",
      "RuntimeWarning: divide by zero encountered in divide\n"
     ]
    },
    {
     "name": "stdout",
     "output_type": "stream",
     "text": [
      "Processing beam pair ../../APEX_2022/20220925/w0533_220925_0081 and ../../APEX_2022/20220925/w0533_220925_0080.\n"
     ]
    },
    {
     "name": "stderr",
     "output_type": "stream",
     "text": [
      "RuntimeWarning: divide by zero encountered in divide\n",
      "RuntimeWarning: divide by zero encountered in divide\n",
      "RuntimeWarning: divide by zero encountered in divide\n",
      "RuntimeWarning: divide by zero encountered in divide\n"
     ]
    },
    {
     "name": "stdout",
     "output_type": "stream",
     "text": [
      "Processing beam pair ../../APEX_2022/20220925/w0533_220925_0083 and ../../APEX_2022/20220925/w0533_220925_0082.\n"
     ]
    },
    {
     "name": "stderr",
     "output_type": "stream",
     "text": [
      "RuntimeWarning: divide by zero encountered in divide\n",
      "RuntimeWarning: divide by zero encountered in divide\n",
      "RuntimeWarning: divide by zero encountered in divide\n",
      "RuntimeWarning: divide by zero encountered in divide\n",
      "RuntimeWarning: divide by zero encountered in divide\n",
      "RuntimeWarning: divide by zero encountered in divide\n",
      "RuntimeWarning: divide by zero encountered in divide\n",
      "RuntimeWarning: divide by zero encountered in divide\n",
      "RuntimeWarning: divide by zero encountered in divide\n",
      "RuntimeWarning: divide by zero encountered in divide\n",
      "RuntimeWarning: divide by zero encountered in divide\n",
      "RuntimeWarning: divide by zero encountered in divide\n",
      "RuntimeWarning: divide by zero encountered in divide\n",
      "RuntimeWarning: divide by zero encountered in divide\n",
      "RuntimeWarning: divide by zero encountered in divide\n",
      "RuntimeWarning: divide by zero encountered in divide\n",
      "RuntimeWarning: divide by zero encountered in divide\n",
      "RuntimeWarning: divide by zero encountered in divide\n",
      "RuntimeWarning: divide by zero encountered in divide\n",
      "RuntimeWarning: divide by zero encountered in divide\n",
      "RuntimeWarning: divide by zero encountered in divide\n",
      "RuntimeWarning: divide by zero encountered in divide\n",
      "RuntimeWarning: divide by zero encountered in divide\n",
      "RuntimeWarning: divide by zero encountered in divide\n",
      "RuntimeWarning: divide by zero encountered in divide\n",
      "RuntimeWarning: divide by zero encountered in divide\n",
      "RuntimeWarning: divide by zero encountered in divide\n",
      "RuntimeWarning: divide by zero encountered in divide\n",
      "RuntimeWarning: divide by zero encountered in divide\n",
      "UserWarning: No band specific config information found, will use the input kwargs only the DEFAULT configurations in conf_kwargs_.\n",
      "UserWarning: No band specific config information found, will use the input kwargs only the DEFAULT configurations in conf_kwargs_.\n",
      "UserWarning: More than one values found inobs_info_.table[mm PWV], will average.\n",
      "UserWarning: More than one values found inobs_info_.table[Elevation], will average.\n",
      "UserWarning: No band specific config information found, will use the input kwargs only the DEFAULT configurations in conf_kwargs_.\n"
     ]
    },
    {
     "name": "stdout",
     "output_type": "stream",
     "text": [
      "Setting band using default layout.\n"
     ]
    },
    {
     "name": "stderr",
     "output_type": "stream",
     "text": [
      "UserWarning: More than one values found inobs_info_.table[mm PWV], will average.\n",
      "UserWarning: More than one values found inobs_info_.table[Elevation], will average.\n",
      "RuntimeWarning: divide by zero encountered in divide\n",
      "RuntimeWarning: divide by zero encountered in divide\n",
      "RuntimeWarning: divide by zero encountered in divide\n",
      "UserWarning: No band specific config information found, will use the input kwargs only the DEFAULT configurations in conf_kwargs_.\n"
     ]
    },
    {
     "name": "stdout",
     "output_type": "stream",
     "text": [
      "Setting band using default layout.\n",
      "Processing beam ../../APEX_2022/20220925/skychop_220925_0020.\n",
      "Processing beam ../../APEX_2022/20220925/skychop_220925_0021.\n",
      "running in parallel on 2 threads.\n"
     ]
    },
    {
     "name": "stderr",
     "output_type": "stream",
     "text": [
      "RuntimeWarning: invalid value encountered in divide\n",
      "RuntimeWarning: invalid value encountered in divide\n"
     ]
    },
    {
     "name": "stdout",
     "output_type": "stream",
     "text": [
      "Processing beam ../../APEX_2022/20220925/bias_step_0016.\n",
      "Processing beam ../../APEX_2022/20220925/bias_step_0017.\n",
      "Processing beam ../../APEX_2022/20220925/bias_step_0018.\n",
      "running in parallel on 3 threads.\n"
     ]
    },
    {
     "name": "stderr",
     "output_type": "stream",
     "text": [
      "RuntimeWarning: divide by zero encountered in divide\n",
      "RuntimeWarning: divide by zero encountered in divide\n",
      "RuntimeWarning: divide by zero encountered in divide\n",
      "RuntimeWarning: divide by zero encountered in divide\n",
      "RuntimeWarning: divide by zero encountered in divide\n",
      "RuntimeWarning: divide by zero encountered in divide\n",
      "RuntimeWarning: divide by zero encountered in divide\n",
      "RuntimeWarning: divide by zero encountered in divide\n",
      "RuntimeWarning: divide by zero encountered in divide\n",
      "RuntimeWarning: divide by zero encountered in divide\n",
      "RuntimeWarning: divide by zero encountered in divide\n",
      "RuntimeWarning: divide by zero encountered in divide\n"
     ]
    },
    {
     "name": "stdout",
     "output_type": "stream",
     "text": [
      "Processing beam pair ../../APEX_2022/20220925/w0533_220925_0087 and ../../APEX_2022/20220925/w0533_220925_0086.Processing beam pair ../../APEX_2022/20220925/w0533_220925_0085 and ../../APEX_2022/20220925/w0533_220925_0084.Processing beam pair ../../APEX_2022/20220925/w0533_220925_0089 and ../../APEX_2022/20220925/w0533_220925_0088.\n",
      "\n",
      "Processing beam pair ../../APEX_2022/20220925/w0533_220925_0091 and ../../APEX_2022/20220925/w0533_220925_0090.Processing beam pair ../../APEX_2022/20220925/w0533_220925_0093 and ../../APEX_2022/20220925/w0533_220925_0092.\n",
      "\n",
      "Processing beam pair ../../APEX_2022/20220925/w0533_220925_0095 and ../../APEX_2022/20220925/w0533_220925_0094.Processing beam pair ../../APEX_2022/20220925/w0533_220925_0097 and ../../APEX_2022/20220925/w0533_220925_0096.\n",
      "Processing beam pair ../../APEX_2022/20220925/w0533_220925_0099 and ../../APEX_2022/20220925/w0533_220925_0098.\n",
      "\n",
      "\n",
      "running in parallel on 4 threads.\n"
     ]
    },
    {
     "name": "stderr",
     "output_type": "stream",
     "text": [
      "UserWarning: Extra time stamps truncated\n",
      "RuntimeWarning: divide by zero encountered in divide\n",
      "RuntimeWarning: divide by zero encountered in divide\n",
      "RuntimeWarning: divide by zero encountered in divide\n",
      "RuntimeWarning: divide by zero encountered in divide\n",
      "RuntimeWarning: divide by zero encountered in divide\n",
      "RuntimeWarning: divide by zero encountered in divide\n",
      "RuntimeWarning: divide by zero encountered in divide\n",
      "RuntimeWarning: divide by zero encountered in divide\n"
     ]
    },
    {
     "name": "stdout",
     "output_type": "stream",
     "text": [
      "Processing beam pair ../../APEX_2022/20220925/w0533_220925_0101 and ../../APEX_2022/20220925/w0533_220925_0100.\n"
     ]
    },
    {
     "name": "stderr",
     "output_type": "stream",
     "text": [
      "RuntimeWarning: divide by zero encountered in divide\n"
     ]
    },
    {
     "name": "stdout",
     "output_type": "stream",
     "text": [
      "Processing beam pair ../../APEX_2022/20220925/w0533_220925_0103 and ../../APEX_2022/20220925/w0533_220925_0102.\n"
     ]
    },
    {
     "name": "stderr",
     "output_type": "stream",
     "text": [
      "RuntimeWarning: divide by zero encountered in divide\n",
      "RuntimeWarning: divide by zero encountered in divide\n",
      "RuntimeWarning: divide by zero encountered in divide\n",
      "RuntimeWarning: divide by zero encountered in divide\n",
      "RuntimeWarning: divide by zero encountered in divide\n",
      "RuntimeWarning: divide by zero encountered in divide\n",
      "RuntimeWarning: divide by zero encountered in divide\n"
     ]
    },
    {
     "name": "stdout",
     "output_type": "stream",
     "text": [
      "Processing beam pair ../../APEX_2022/20220925/w0533_220925_0105 and ../../APEX_2022/20220925/w0533_220925_0104.\n",
      "Processing beam pair ../../APEX_2022/20220925/w0533_220925_0107 and ../../APEX_2022/20220925/w0533_220925_0106.\n"
     ]
    },
    {
     "name": "stderr",
     "output_type": "stream",
     "text": [
      "RuntimeWarning: divide by zero encountered in divide\n",
      "RuntimeWarning: divide by zero encountered in divide\n",
      "RuntimeWarning: divide by zero encountered in divide\n",
      "RuntimeWarning: divide by zero encountered in divide\n",
      "UserWarning: Extra time stamps truncated\n",
      "RuntimeWarning: divide by zero encountered in divide\n"
     ]
    },
    {
     "name": "stdout",
     "output_type": "stream",
     "text": [
      "Processing beam pair ../../APEX_2022/20220925/w0533_220925_0109 and ../../APEX_2022/20220925/w0533_220925_0108.\n"
     ]
    },
    {
     "name": "stderr",
     "output_type": "stream",
     "text": [
      "RuntimeWarning: divide by zero encountered in divide\n",
      "RuntimeWarning: divide by zero encountered in divide\n",
      "RuntimeWarning: divide by zero encountered in divide\n",
      "RuntimeWarning: divide by zero encountered in divide\n",
      "RuntimeWarning: divide by zero encountered in divide\n",
      "RuntimeWarning: divide by zero encountered in divide\n",
      "RuntimeWarning: divide by zero encountered in divide\n"
     ]
    },
    {
     "name": "stdout",
     "output_type": "stream",
     "text": [
      "Processing beam pair ../../APEX_2022/20220925/w0533_220925_0111 and ../../APEX_2022/20220925/w0533_220925_0110.\n",
      "Processing beam pair ../../APEX_2022/20220925/w0533_220925_0113 and ../../APEX_2022/20220925/w0533_220925_0112.\n"
     ]
    },
    {
     "name": "stderr",
     "output_type": "stream",
     "text": [
      "RuntimeWarning: divide by zero encountered in divide\n",
      "RuntimeWarning: divide by zero encountered in divide\n",
      "RuntimeWarning: divide by zero encountered in divide\n",
      "RuntimeWarning: divide by zero encountered in divide\n"
     ]
    },
    {
     "name": "stdout",
     "output_type": "stream",
     "text": [
      "Processing beam pair ../../APEX_2022/20220925/w0533_220925_0115 and ../../APEX_2022/20220925/w0533_220925_0114.\n"
     ]
    },
    {
     "name": "stderr",
     "output_type": "stream",
     "text": [
      "UserWarning: Extra time stamps truncated\n",
      "RuntimeWarning: divide by zero encountered in divide\n",
      "RuntimeWarning: divide by zero encountered in divide\n",
      "RuntimeWarning: divide by zero encountered in divide\n",
      "RuntimeWarning: divide by zero encountered in divide\n"
     ]
    },
    {
     "name": "stdout",
     "output_type": "stream",
     "text": [
      "Processing beam pair ../../APEX_2022/20220925/w0533_220925_0117 and ../../APEX_2022/20220925/w0533_220925_0116.\n"
     ]
    },
    {
     "name": "stderr",
     "output_type": "stream",
     "text": [
      "RuntimeWarning: divide by zero encountered in divide\n",
      "RuntimeWarning: divide by zero encountered in divide\n",
      "RuntimeWarning: divide by zero encountered in divide\n",
      "RuntimeWarning: divide by zero encountered in divide\n"
     ]
    },
    {
     "name": "stdout",
     "output_type": "stream",
     "text": [
      "Processing beam pair ../../APEX_2022/20220925/w0533_220925_0119 and ../../APEX_2022/20220925/w0533_220925_0118.\n"
     ]
    },
    {
     "name": "stderr",
     "output_type": "stream",
     "text": [
      "RuntimeWarning: divide by zero encountered in divide\n",
      "RuntimeWarning: divide by zero encountered in divide\n",
      "RuntimeWarning: divide by zero encountered in divide\n",
      "RuntimeWarning: divide by zero encountered in divide\n"
     ]
    },
    {
     "name": "stdout",
     "output_type": "stream",
     "text": [
      "Processing beam pair ../../APEX_2022/20220925/w0533_220925_0121 and ../../APEX_2022/20220925/w0533_220925_0120.\n"
     ]
    },
    {
     "name": "stderr",
     "output_type": "stream",
     "text": [
      "RuntimeWarning: divide by zero encountered in divide\n",
      "RuntimeWarning: divide by zero encountered in divide\n",
      "RuntimeWarning: divide by zero encountered in divide\n",
      "RuntimeWarning: divide by zero encountered in divide\n",
      "RuntimeWarning: divide by zero encountered in divide\n",
      "RuntimeWarning: divide by zero encountered in divide\n",
      "RuntimeWarning: divide by zero encountered in divide\n",
      "RuntimeWarning: divide by zero encountered in divide\n",
      "RuntimeWarning: divide by zero encountered in divide\n"
     ]
    },
    {
     "name": "stdout",
     "output_type": "stream",
     "text": [
      "Processing beam pair ../../APEX_2022/20220925/w0533_220925_0123 and ../../APEX_2022/20220925/w0533_220925_0122.\n"
     ]
    },
    {
     "name": "stderr",
     "output_type": "stream",
     "text": [
      "RuntimeWarning: divide by zero encountered in divide\n",
      "RuntimeWarning: divide by zero encountered in divide\n",
      "RuntimeWarning: divide by zero encountered in divide\n",
      "RuntimeWarning: divide by zero encountered in divide\n",
      "RuntimeWarning: divide by zero encountered in divide\n",
      "RuntimeWarning: divide by zero encountered in divide\n",
      "RuntimeWarning: divide by zero encountered in divide\n",
      "RuntimeWarning: divide by zero encountered in divide\n",
      "RuntimeWarning: divide by zero encountered in divide\n",
      "RuntimeWarning: divide by zero encountered in divide\n",
      "RuntimeWarning: divide by zero encountered in divide\n",
      "RuntimeWarning: divide by zero encountered in divide\n",
      "RuntimeWarning: divide by zero encountered in divide\n",
      "RuntimeWarning: divide by zero encountered in divide\n",
      "RuntimeWarning: divide by zero encountered in divide\n",
      "RuntimeWarning: divide by zero encountered in divide\n",
      "RuntimeWarning: divide by zero encountered in divide\n",
      "RuntimeWarning: divide by zero encountered in divide\n",
      "RuntimeWarning: divide by zero encountered in divide\n",
      "RuntimeWarning: divide by zero encountered in divide\n",
      "RuntimeWarning: divide by zero encountered in divide\n",
      "RuntimeWarning: divide by zero encountered in divide\n",
      "RuntimeWarning: divide by zero encountered in divide\n",
      "RuntimeWarning: divide by zero encountered in divide\n",
      "RuntimeWarning: divide by zero encountered in divide\n",
      "RuntimeWarning: divide by zero encountered in divide\n",
      "RuntimeWarning: divide by zero encountered in divide\n",
      "RuntimeWarning: divide by zero encountered in divide\n",
      "UserWarning: No band specific config information found, will use the input kwargs only the DEFAULT configurations in conf_kwargs_.\n",
      "UserWarning: No band specific config information found, will use the input kwargs only the DEFAULT configurations in conf_kwargs_.\n",
      "UserWarning: More than one values found inobs_info_.table[Elevation], will average.\n",
      "UserWarning: No band specific config information found, will use the input kwargs only the DEFAULT configurations in conf_kwargs_.\n"
     ]
    },
    {
     "name": "stdout",
     "output_type": "stream",
     "text": [
      "Setting band using default layout.\n"
     ]
    },
    {
     "name": "stderr",
     "output_type": "stream",
     "text": [
      "UserWarning: More than one values found inobs_info_.table[Elevation], will average.\n",
      "RuntimeWarning: divide by zero encountered in divide\n",
      "RuntimeWarning: divide by zero encountered in divide\n",
      "RuntimeWarning: divide by zero encountered in divide\n",
      "UserWarning: No band specific config information found, will use the input kwargs only the DEFAULT configurations in conf_kwargs_.\n"
     ]
    },
    {
     "name": "stdout",
     "output_type": "stream",
     "text": [
      "Setting band using default layout.\n",
      "Processing beam ../../APEX_2022/20220925/skychop_220925_0022.\n"
     ]
    },
    {
     "name": "stderr",
     "output_type": "stream",
     "text": [
      "RuntimeWarning: invalid value encountered in divide\n"
     ]
    },
    {
     "name": "stdout",
     "output_type": "stream",
     "text": [
      "Processing beam ../../APEX_2022/20220925/bias_step_0019.\n",
      "Processing beam ../../APEX_2022/20220925/bias_step_0020.\n",
      "running in parallel on 2 threads.\n"
     ]
    },
    {
     "name": "stderr",
     "output_type": "stream",
     "text": [
      "RuntimeWarning: divide by zero encountered in divide\n",
      "RuntimeWarning: divide by zero encountered in divide\n",
      "RuntimeWarning: divide by zero encountered in divide\n",
      "RuntimeWarning: divide by zero encountered in divide\n",
      "RuntimeWarning: divide by zero encountered in divide\n",
      "RuntimeWarning: divide by zero encountered in divide\n",
      "RuntimeWarning: divide by zero encountered in divide\n",
      "RuntimeWarning: divide by zero encountered in divide\n"
     ]
    },
    {
     "name": "stdout",
     "output_type": "stream",
     "text": [
      "Processing beam pair ../../APEX_2022/20220925/w0533_220925_0125 and ../../APEX_2022/20220925/w0533_220925_0124.\n",
      "Processing beam pair ../../APEX_2022/20220925/w0533_220925_0127 and ../../APEX_2022/20220925/w0533_220925_0126.\n",
      "Processing beam pair ../../APEX_2022/20220925/w0533_220925_0129 and ../../APEX_2022/20220925/w0533_220925_0128.\n",
      "running in parallel on 3 threads.\n"
     ]
    },
    {
     "name": "stderr",
     "output_type": "stream",
     "text": [
      "RuntimeWarning: divide by zero encountered in divide\n",
      "RuntimeWarning: divide by zero encountered in divide\n",
      "RuntimeWarning: divide by zero encountered in divide\n",
      "RuntimeWarning: divide by zero encountered in divide\n",
      "RuntimeWarning: divide by zero encountered in divide\n",
      "RuntimeWarning: divide by zero encountered in divide\n",
      "RuntimeWarning: divide by zero encountered in divide\n",
      "RuntimeWarning: divide by zero encountered in divide\n",
      "RuntimeWarning: divide by zero encountered in divide\n",
      "RuntimeWarning: divide by zero encountered in divide\n",
      "RuntimeWarning: divide by zero encountered in divide\n",
      "RuntimeWarning: divide by zero encountered in divide\n",
      "RuntimeWarning: divide by zero encountered in divide\n",
      "UserWarning: No band specific config information found, will use the input kwargs only the DEFAULT configurations in conf_kwargs_.\n",
      "UserWarning: No band specific config information found, will use the input kwargs only the DEFAULT configurations in conf_kwargs_.\n",
      "UserWarning: No band specific config information found, will use the input kwargs only the DEFAULT configurations in conf_kwargs_.\n"
     ]
    },
    {
     "name": "stdout",
     "output_type": "stream",
     "text": [
      "Setting band using default layout.\n"
     ]
    },
    {
     "name": "stderr",
     "output_type": "stream",
     "text": [
      "RuntimeWarning: divide by zero encountered in divide\n",
      "RuntimeWarning: divide by zero encountered in divide\n",
      "RuntimeWarning: divide by zero encountered in divide\n",
      "UserWarning: No band specific config information found, will use the input kwargs only the DEFAULT configurations in conf_kwargs_.\n"
     ]
    },
    {
     "name": "stdout",
     "output_type": "stream",
     "text": [
      "Setting band using default layout.\n",
      "Processing beam ../../APEX_2022/20220925/skychop_220925_0023.\n"
     ]
    },
    {
     "name": "stderr",
     "output_type": "stream",
     "text": [
      "RuntimeWarning: invalid value encountered in divide\n"
     ]
    },
    {
     "name": "stdout",
     "output_type": "stream",
     "text": [
      "Processing beam ../../APEX_2022/20220925/bias_step_0021.\n",
      "Processing beam ../../APEX_2022/20220925/bias_step_0022.Processing beam ../../APEX_2022/20220925/bias_step_0020.\n",
      "\n",
      "running in parallel on 3 threads.\n"
     ]
    },
    {
     "name": "stderr",
     "output_type": "stream",
     "text": [
      "RuntimeWarning: divide by zero encountered in divide\n",
      "RuntimeWarning: divide by zero encountered in divide\n",
      "RuntimeWarning: divide by zero encountered in divide\n",
      "RuntimeWarning: divide by zero encountered in divide\n",
      "RuntimeWarning: divide by zero encountered in divide\n",
      "RuntimeWarning: divide by zero encountered in divide\n",
      "RuntimeWarning: divide by zero encountered in divide\n",
      "RuntimeWarning: divide by zero encountered in divide\n",
      "RuntimeWarning: divide by zero encountered in divide\n",
      "RuntimeWarning: divide by zero encountered in divide\n",
      "RuntimeWarning: divide by zero encountered in divide\n",
      "RuntimeWarning: divide by zero encountered in divide\n"
     ]
    },
    {
     "name": "stdout",
     "output_type": "stream",
     "text": [
      "Processing beam pair ../../APEX_2022/20220925/w0533_220925_0133 and ../../APEX_2022/20220925/w0533_220925_0132.Processing beam pair ../../APEX_2022/20220925/w0533_220925_0135 and ../../APEX_2022/20220925/w0533_220925_0134.Processing beam pair ../../APEX_2022/20220925/w0533_220925_0137 and ../../APEX_2022/20220925/w0533_220925_0136.Processing beam pair ../../APEX_2022/20220925/w0533_220925_0131 and ../../APEX_2022/20220925/w0533_220925_0130.\n",
      "Processing beam pair ../../APEX_2022/20220925/w0533_220925_0139 and ../../APEX_2022/20220925/w0533_220925_0138.\n",
      "\n",
      "Processing beam pair ../../APEX_2022/20220925/w0533_220925_0141 and ../../APEX_2022/20220925/w0533_220925_0140.\n",
      "Processing beam pair ../../APEX_2022/20220925/w0533_220925_0143 and ../../APEX_2022/20220925/w0533_220925_0142.\n",
      "\n",
      "Processing beam pair ../../APEX_2022/20220925/w0533_220925_0145 and ../../APEX_2022/20220925/w0533_220925_0144.\n",
      "\n",
      "running in parallel on 4 threads.\n"
     ]
    },
    {
     "name": "stderr",
     "output_type": "stream",
     "text": [
      "RuntimeWarning: divide by zero encountered in divide\n",
      "RuntimeWarning: divide by zero encountered in divide\n",
      "RuntimeWarning: divide by zero encountered in divide\n",
      "RuntimeWarning: divide by zero encountered in divide\n",
      "RuntimeWarning: divide by zero encountered in divide\n",
      "RuntimeWarning: divide by zero encountered in divide\n"
     ]
    },
    {
     "name": "stdout",
     "output_type": "stream",
     "text": [
      "Processing beam pair ../../APEX_2022/20220925/w0533_220925_0147 and ../../APEX_2022/20220925/w0533_220925_0146.\n"
     ]
    },
    {
     "name": "stderr",
     "output_type": "stream",
     "text": [
      "RuntimeWarning: divide by zero encountered in divide\n",
      "RuntimeWarning: divide by zero encountered in divide\n",
      "RuntimeWarning: divide by zero encountered in divide\n",
      "RuntimeWarning: divide by zero encountered in divide\n",
      "RuntimeWarning: divide by zero encountered in divide\n",
      "RuntimeWarning: divide by zero encountered in divide\n"
     ]
    },
    {
     "name": "stdout",
     "output_type": "stream",
     "text": [
      "Processing beam pair ../../APEX_2022/20220925/w0533_220925_0149 and ../../APEX_2022/20220925/w0533_220925_0148.\n",
      "Processing beam pair ../../APEX_2022/20220925/w0533_220925_0151 and ../../APEX_2022/20220925/w0533_220925_0150.\n"
     ]
    },
    {
     "name": "stderr",
     "output_type": "stream",
     "text": [
      "UserWarning: Extra time stamps truncated\n",
      "RuntimeWarning: divide by zero encountered in divide\n",
      "RuntimeWarning: divide by zero encountered in divide\n",
      "RuntimeWarning: divide by zero encountered in divide\n",
      "RuntimeWarning: divide by zero encountered in divide\n",
      "RuntimeWarning: divide by zero encountered in divide\n",
      "RuntimeWarning: divide by zero encountered in divide\n",
      "RuntimeWarning: divide by zero encountered in divide\n",
      "RuntimeWarning: divide by zero encountered in divide\n",
      "RuntimeWarning: divide by zero encountered in divide\n"
     ]
    },
    {
     "name": "stdout",
     "output_type": "stream",
     "text": [
      "Processing beam pair ../../APEX_2022/20220925/w0533_220925_0153 and ../../APEX_2022/20220925/w0533_220925_0152.\n"
     ]
    },
    {
     "name": "stderr",
     "output_type": "stream",
     "text": [
      "RuntimeWarning: divide by zero encountered in divide\n",
      "RuntimeWarning: divide by zero encountered in divide\n"
     ]
    },
    {
     "name": "stdout",
     "output_type": "stream",
     "text": [
      "Processing beam pair ../../APEX_2022/20220925/w0533_220925_0155 and ../../APEX_2022/20220925/w0533_220925_0154.\n"
     ]
    },
    {
     "name": "stderr",
     "output_type": "stream",
     "text": [
      "RuntimeWarning: divide by zero encountered in divide\n"
     ]
    },
    {
     "name": "stdout",
     "output_type": "stream",
     "text": [
      "Processing beam pair ../../APEX_2022/20220925/w0533_220925_0157 and ../../APEX_2022/20220925/w0533_220925_0156.\n"
     ]
    },
    {
     "name": "stderr",
     "output_type": "stream",
     "text": [
      "UserWarning: Extra time stamps truncated\n",
      "RuntimeWarning: divide by zero encountered in divide\n",
      "RuntimeWarning: divide by zero encountered in divide\n",
      "RuntimeWarning: divide by zero encountered in divide\n",
      "RuntimeWarning: divide by zero encountered in divide\n"
     ]
    },
    {
     "name": "stdout",
     "output_type": "stream",
     "text": [
      "Processing beam pair ../../APEX_2022/20220925/w0533_220925_0159 and ../../APEX_2022/20220925/w0533_220925_0158.\n"
     ]
    },
    {
     "name": "stderr",
     "output_type": "stream",
     "text": [
      "RuntimeWarning: divide by zero encountered in divide\n",
      "RuntimeWarning: divide by zero encountered in divide\n",
      "RuntimeWarning: divide by zero encountered in divide\n",
      "RuntimeWarning: divide by zero encountered in divide\n"
     ]
    },
    {
     "name": "stdout",
     "output_type": "stream",
     "text": [
      "Processing beam pair ../../APEX_2022/20220925/w0533_220925_0161 and ../../APEX_2022/20220925/w0533_220925_0160.\n"
     ]
    },
    {
     "name": "stderr",
     "output_type": "stream",
     "text": [
      "RuntimeWarning: divide by zero encountered in divide\n",
      "RuntimeWarning: divide by zero encountered in divide\n",
      "RuntimeWarning: divide by zero encountered in divide\n",
      "RuntimeWarning: divide by zero encountered in divide\n"
     ]
    },
    {
     "name": "stdout",
     "output_type": "stream",
     "text": [
      "Processing beam pair ../../APEX_2022/20220925/w0533_220925_0163 and ../../APEX_2022/20220925/w0533_220925_0162.\n"
     ]
    },
    {
     "name": "stderr",
     "output_type": "stream",
     "text": [
      "RuntimeWarning: divide by zero encountered in divide\n",
      "RuntimeWarning: divide by zero encountered in divide\n",
      "RuntimeWarning: divide by zero encountered in divide\n",
      "RuntimeWarning: divide by zero encountered in divide\n",
      "RuntimeWarning: divide by zero encountered in divide\n",
      "RuntimeWarning: divide by zero encountered in divide\n",
      "RuntimeWarning: divide by zero encountered in divide\n",
      "RuntimeWarning: divide by zero encountered in divide\n",
      "RuntimeWarning: divide by zero encountered in divide\n",
      "RuntimeWarning: divide by zero encountered in divide\n",
      "RuntimeWarning: divide by zero encountered in divide\n"
     ]
    },
    {
     "name": "stdout",
     "output_type": "stream",
     "text": [
      "Processing beam pair ../../APEX_2022/20220925/w0533_220925_0165 and ../../APEX_2022/20220925/w0533_220925_0164.\n"
     ]
    },
    {
     "name": "stderr",
     "output_type": "stream",
     "text": [
      "RuntimeWarning: divide by zero encountered in divide\n"
     ]
    },
    {
     "name": "stdout",
     "output_type": "stream",
     "text": [
      "Processing beam pair ../../APEX_2022/20220925/w0533_220925_0167 and ../../APEX_2022/20220925/w0533_220925_0166.\n",
      "Processing beam pair ../../APEX_2022/20220925/w0533_220925_0169 and ../../APEX_2022/20220925/w0533_220925_0168.\n"
     ]
    },
    {
     "name": "stderr",
     "output_type": "stream",
     "text": [
      "RuntimeWarning: divide by zero encountered in divide\n",
      "RuntimeWarning: divide by zero encountered in divide\n",
      "RuntimeWarning: divide by zero encountered in divide\n",
      "UserWarning: Extra time stamps truncated\n",
      "RuntimeWarning: divide by zero encountered in divide\n",
      "RuntimeWarning: divide by zero encountered in divide\n",
      "RuntimeWarning: divide by zero encountered in divide\n",
      "RuntimeWarning: divide by zero encountered in divide\n",
      "RuntimeWarning: divide by zero encountered in divide\n",
      "RuntimeWarning: divide by zero encountered in divide\n",
      "RuntimeWarning: divide by zero encountered in divide\n",
      "RuntimeWarning: divide by zero encountered in divide\n",
      "RuntimeWarning: divide by zero encountered in divide\n",
      "RuntimeWarning: divide by zero encountered in divide\n",
      "RuntimeWarning: divide by zero encountered in divide\n",
      "RuntimeWarning: divide by zero encountered in divide\n",
      "RuntimeWarning: divide by zero encountered in divide\n",
      "RuntimeWarning: divide by zero encountered in divide\n",
      "RuntimeWarning: divide by zero encountered in divide\n",
      "RuntimeWarning: divide by zero encountered in divide\n",
      "RuntimeWarning: divide by zero encountered in divide\n",
      "RuntimeWarning: divide by zero encountered in divide\n",
      "RuntimeWarning: divide by zero encountered in divide\n",
      "RuntimeWarning: divide by zero encountered in divide\n",
      "RuntimeWarning: divide by zero encountered in divide\n",
      "RuntimeWarning: divide by zero encountered in divide\n",
      "RuntimeWarning: divide by zero encountered in divide\n",
      "RuntimeWarning: divide by zero encountered in divide\n",
      "RuntimeWarning: divide by zero encountered in divide\n",
      "RuntimeWarning: divide by zero encountered in divide\n",
      "RuntimeWarning: divide by zero encountered in divide\n",
      "RuntimeWarning: divide by zero encountered in divide\n",
      "RuntimeWarning: divide by zero encountered in divide\n",
      "UserWarning: No band specific config information found, will use the input kwargs only the DEFAULT configurations in conf_kwargs_.\n",
      "UserWarning: No band specific config information found, will use the input kwargs only the DEFAULT configurations in conf_kwargs_.\n",
      "UserWarning: More than one values found inobs_info_.table[mm PWV], will average.\n",
      "UserWarning: More than one values found inobs_info_.table[Elevation], will average.\n",
      "UserWarning: No band specific config information found, will use the input kwargs only the DEFAULT configurations in conf_kwargs_.\n"
     ]
    },
    {
     "name": "stdout",
     "output_type": "stream",
     "text": [
      "Setting band using default layout.\n"
     ]
    },
    {
     "name": "stderr",
     "output_type": "stream",
     "text": [
      "UserWarning: More than one values found inobs_info_.table[mm PWV], will average.\n",
      "UserWarning: More than one values found inobs_info_.table[Elevation], will average.\n",
      "RuntimeWarning: divide by zero encountered in divide\n",
      "RuntimeWarning: divide by zero encountered in divide\n",
      "RuntimeWarning: divide by zero encountered in divide\n",
      "UserWarning: No band specific config information found, will use the input kwargs only the DEFAULT configurations in conf_kwargs_.\n"
     ]
    },
    {
     "name": "stdout",
     "output_type": "stream",
     "text": [
      "Setting band using default layout.\n",
      "Processing beam ../../APEX_2022/20220925/skychop_220925_0025.\n",
      "Processing beam ../../APEX_2022/20220925/skychop_220925_0026.\n",
      "running in parallel on 2 threads.\n"
     ]
    },
    {
     "name": "stderr",
     "output_type": "stream",
     "text": [
      "RuntimeWarning: invalid value encountered in divide\n",
      "RuntimeWarning: invalid value encountered in divide\n"
     ]
    },
    {
     "name": "stdout",
     "output_type": "stream",
     "text": [
      "Processing beam ../../APEX_2022/20220925/bias_step_0024.\n",
      "Processing beam ../../APEX_2022/20220925/bias_step_0025.\n",
      "running in parallel on 2 threads.\n"
     ]
    },
    {
     "name": "stderr",
     "output_type": "stream",
     "text": [
      "RuntimeWarning: divide by zero encountered in divide\n",
      "RuntimeWarning: divide by zero encountered in divide\n",
      "RuntimeWarning: divide by zero encountered in divide\n",
      "RuntimeWarning: divide by zero encountered in divide\n",
      "RuntimeWarning: divide by zero encountered in divide\n",
      "RuntimeWarning: divide by zero encountered in divide\n",
      "RuntimeWarning: divide by zero encountered in divide\n",
      "RuntimeWarning: divide by zero encountered in divide\n"
     ]
    },
    {
     "name": "stdout",
     "output_type": "stream",
     "text": [
      "Processing beam pair ../../APEX_2022/20220925/w0533_220925_0173 and ../../APEX_2022/20220925/w0533_220925_0172.\n",
      "Processing beam pair ../../APEX_2022/20220925/w0533_220925_0171 and ../../APEX_2022/20220925/w0533_220925_0170.Processing beam pair ../../APEX_2022/20220925/w0533_220925_0179 and ../../APEX_2022/20220925/w0533_220925_0178.\n",
      "Processing beam pair ../../APEX_2022/20220925/w0533_220925_0177 and ../../APEX_2022/20220925/w0533_220925_0176.Processing beam pair ../../APEX_2022/20220925/w0533_220925_0175 and ../../APEX_2022/20220925/w0533_220925_0174.\n",
      "Processing beam pair ../../APEX_2022/20220925/w0533_220925_0181 and ../../APEX_2022/20220925/w0533_220925_0180.\n",
      "\n",
      "\n",
      "running in parallel on 4 threads.\n"
     ]
    },
    {
     "name": "stderr",
     "output_type": "stream",
     "text": [
      "UserWarning: Extra time stamps truncated\n",
      "RuntimeWarning: divide by zero encountered in divide\n",
      "RuntimeWarning: divide by zero encountered in divide\n",
      "RuntimeWarning: divide by zero encountered in divide\n",
      "RuntimeWarning: divide by zero encountered in divide\n",
      "RuntimeWarning: divide by zero encountered in divide\n",
      "RuntimeWarning: divide by zero encountered in divide\n",
      "RuntimeWarning: divide by zero encountered in divide\n",
      "RuntimeWarning: divide by zero encountered in divide\n",
      "RuntimeWarning: divide by zero encountered in divide\n",
      "RuntimeWarning: divide by zero encountered in divide\n",
      "RuntimeWarning: divide by zero encountered in divide\n",
      "RuntimeWarning: divide by zero encountered in divide\n",
      "RuntimeWarning: divide by zero encountered in divide\n",
      "RuntimeWarning: divide by zero encountered in divide\n",
      "RuntimeWarning: divide by zero encountered in divide\n",
      "RuntimeWarning: divide by zero encountered in divide\n",
      "RuntimeWarning: divide by zero encountered in divide\n",
      "RuntimeWarning: divide by zero encountered in divide\n",
      "RuntimeWarning: divide by zero encountered in divide\n",
      "RuntimeWarning: divide by zero encountered in divide\n",
      "RuntimeWarning: divide by zero encountered in divide\n",
      "RuntimeWarning: divide by zero encountered in divide\n",
      "RuntimeWarning: divide by zero encountered in divide\n",
      "RuntimeWarning: divide by zero encountered in divide\n",
      "RuntimeWarning: divide by zero encountered in divide\n",
      "UserWarning: More than one values found inobs_info_.table[gratingindex], will average.\n",
      "UserWarning: No band specific config information found, will use the input kwargs only the DEFAULT configurations in conf_kwargs_.\n",
      "UserWarning: No band specific config information found, will use the input kwargs only the DEFAULT configurations in conf_kwargs_.\n",
      "UserWarning: No band specific config information found, will use the input kwargs only the DEFAULT configurations in conf_kwargs_.\n"
     ]
    },
    {
     "name": "stdout",
     "output_type": "stream",
     "text": [
      "Setting band using default layout.\n"
     ]
    },
    {
     "name": "stderr",
     "output_type": "stream",
     "text": [
      "UserWarning: More than one values found inobs_info_.table[gratingindex], will average.\n",
      "RuntimeWarning: divide by zero encountered in divide\n",
      "RuntimeWarning: divide by zero encountered in divide\n",
      "RuntimeWarning: divide by zero encountered in divide\n",
      "UserWarning: No band specific config information found, will use the input kwargs only the DEFAULT configurations in conf_kwargs_.\n"
     ]
    },
    {
     "name": "stdout",
     "output_type": "stream",
     "text": [
      "Setting band using default layout.\n",
      "Processing beam ../../APEX_2022/20220925/skychop_220925_0027.\n",
      "Processing beam ../../APEX_2022/20220925/skychop_220925_0028.\n",
      "running in parallel on 2 threads.\n"
     ]
    },
    {
     "name": "stderr",
     "output_type": "stream",
     "text": [
      "RuntimeWarning: invalid value encountered in divide\n",
      "RuntimeWarning: invalid value encountered in divide\n"
     ]
    },
    {
     "name": "stdout",
     "output_type": "stream",
     "text": [
      "Processing beam ../../APEX_2022/20220925/bias_step_0027.\n",
      "Processing beam ../../APEX_2022/20220925/bias_step_0026.\n",
      "running in parallel on 2 threads.\n"
     ]
    },
    {
     "name": "stderr",
     "output_type": "stream",
     "text": [
      "RuntimeWarning: divide by zero encountered in divide\n",
      "RuntimeWarning: divide by zero encountered in divide\n",
      "RuntimeWarning: divide by zero encountered in divide\n",
      "RuntimeWarning: divide by zero encountered in divide\n",
      "RuntimeWarning: divide by zero encountered in divide\n",
      "RuntimeWarning: divide by zero encountered in divide\n",
      "RuntimeWarning: divide by zero encountered in divide\n",
      "RuntimeWarning: divide by zero encountered in divide\n"
     ]
    },
    {
     "name": "stdout",
     "output_type": "stream",
     "text": [
      "Processing beam pair ../../APEX_2022/20220925/w0533_220925_0187 and ../../APEX_2022/20220925/w0533_220925_0186.Processing beam pair ../../APEX_2022/20220925/w0533_220925_0185 and ../../APEX_2022/20220925/w0533_220925_0184.\n",
      "Processing beam pair ../../APEX_2022/20220925/w0533_220925_0191 and ../../APEX_2022/20220925/w0533_220925_0190.Processing beam pair ../../APEX_2022/20220925/w0533_220925_0189 and ../../APEX_2022/20220925/w0533_220925_0188.Processing beam pair ../../APEX_2022/20220925/w0533_220925_0193 and ../../APEX_2022/20220925/w0533_220925_0192.Processing beam pair ../../APEX_2022/20220925/w0533_220925_0195 and ../../APEX_2022/20220925/w0533_220925_0194.\n",
      "Processing beam pair ../../APEX_2022/20220925/w0533_220925_0197 and ../../APEX_2022/20220925/w0533_220925_0196.\n",
      "\n",
      "Processing beam pair ../../APEX_2022/20220925/w0533_220925_0199 and ../../APEX_2022/20220925/w0533_220925_0198.\n",
      "\n",
      "\n",
      "\n",
      "running in parallel on 4 threads.\n"
     ]
    },
    {
     "name": "stderr",
     "output_type": "stream",
     "text": [
      "RuntimeWarning: divide by zero encountered in divide\n",
      "RuntimeWarning: divide by zero encountered in divide\n",
      "RuntimeWarning: divide by zero encountered in divide\n",
      "RuntimeWarning: divide by zero encountered in divide\n",
      "RuntimeWarning: divide by zero encountered in divide\n",
      "RuntimeWarning: divide by zero encountered in divide\n",
      "RuntimeWarning: divide by zero encountered in divide\n",
      "RuntimeWarning: divide by zero encountered in divide\n"
     ]
    },
    {
     "name": "stdout",
     "output_type": "stream",
     "text": [
      "Processing beam pair ../../APEX_2022/20220925/w0533_220925_0201 and ../../APEX_2022/20220925/w0533_220925_0200.\n",
      "Processing beam pair ../../APEX_2022/20220925/w0533_220925_0203 and ../../APEX_2022/20220925/w0533_220925_0202.\n"
     ]
    },
    {
     "name": "stderr",
     "output_type": "stream",
     "text": [
      "RuntimeWarning: divide by zero encountered in divide\n",
      "RuntimeWarning: divide by zero encountered in divide\n",
      "RuntimeWarning: divide by zero encountered in divide\n",
      "RuntimeWarning: divide by zero encountered in divide\n",
      "RuntimeWarning: divide by zero encountered in divide\n",
      "RuntimeWarning: divide by zero encountered in divide\n"
     ]
    },
    {
     "name": "stdout",
     "output_type": "stream",
     "text": [
      "Processing beam pair ../../APEX_2022/20220925/w0533_220925_0205 and ../../APEX_2022/20220925/w0533_220925_0204.\n"
     ]
    },
    {
     "name": "stderr",
     "output_type": "stream",
     "text": [
      "RuntimeWarning: divide by zero encountered in divide\n",
      "RuntimeWarning: divide by zero encountered in divide\n",
      "RuntimeWarning: divide by zero encountered in divide\n",
      "RuntimeWarning: divide by zero encountered in divide\n",
      "RuntimeWarning: divide by zero encountered in divide\n",
      "RuntimeWarning: divide by zero encountered in divide\n"
     ]
    },
    {
     "name": "stdout",
     "output_type": "stream",
     "text": [
      "Processing beam pair ../../APEX_2022/20220925/w0533_220925_0207 and ../../APEX_2022/20220925/w0533_220925_0206.\n"
     ]
    },
    {
     "name": "stderr",
     "output_type": "stream",
     "text": [
      "RuntimeWarning: divide by zero encountered in divide\n"
     ]
    },
    {
     "name": "stdout",
     "output_type": "stream",
     "text": [
      "Processing beam pair ../../APEX_2022/20220925/w0533_220925_0209 and ../../APEX_2022/20220925/w0533_220925_0208."
     ]
    },
    {
     "name": "stderr",
     "output_type": "stream",
     "text": [
      "RuntimeWarning: divide by zero encountered in divide\n"
     ]
    },
    {
     "name": "stdout",
     "output_type": "stream",
     "text": [
      "\n"
     ]
    },
    {
     "name": "stderr",
     "output_type": "stream",
     "text": [
      "RuntimeWarning: divide by zero encountered in divide\n",
      "RuntimeWarning: divide by zero encountered in divide\n",
      "RuntimeWarning: divide by zero encountered in divide\n"
     ]
    },
    {
     "name": "stdout",
     "output_type": "stream",
     "text": [
      "Processing beam pair ../../APEX_2022/20220925/w0533_220925_0211 and ../../APEX_2022/20220925/w0533_220925_0210.\n"
     ]
    },
    {
     "name": "stderr",
     "output_type": "stream",
     "text": [
      "RuntimeWarning: divide by zero encountered in divide\n",
      "RuntimeWarning: divide by zero encountered in divide\n",
      "RuntimeWarning: divide by zero encountered in divide\n"
     ]
    },
    {
     "name": "stdout",
     "output_type": "stream",
     "text": [
      "Processing beam pair ../../APEX_2022/20220925/w0533_220925_0213 and ../../APEX_2022/20220925/w0533_220925_0212.\n"
     ]
    },
    {
     "name": "stderr",
     "output_type": "stream",
     "text": [
      "RuntimeWarning: divide by zero encountered in divide\n",
      "RuntimeWarning: divide by zero encountered in divide\n",
      "RuntimeWarning: divide by zero encountered in divide\n",
      "RuntimeWarning: divide by zero encountered in divide\n"
     ]
    },
    {
     "name": "stdout",
     "output_type": "stream",
     "text": [
      "Processing beam pair ../../APEX_2022/20220925/w0533_220925_0215 and ../../APEX_2022/20220925/w0533_220925_0214.\n"
     ]
    },
    {
     "name": "stderr",
     "output_type": "stream",
     "text": [
      "RuntimeWarning: divide by zero encountered in divide\n",
      "RuntimeWarning: divide by zero encountered in divide\n",
      "RuntimeWarning: divide by zero encountered in divide\n",
      "RuntimeWarning: divide by zero encountered in divide\n",
      "RuntimeWarning: divide by zero encountered in divide\n",
      "RuntimeWarning: divide by zero encountered in divide\n",
      "RuntimeWarning: divide by zero encountered in divide\n",
      "RuntimeWarning: divide by zero encountered in divide\n",
      "RuntimeWarning: divide by zero encountered in divide\n"
     ]
    },
    {
     "name": "stdout",
     "output_type": "stream",
     "text": [
      "Processing beam pair ../../APEX_2022/20220925/w0533_220925_0217 and ../../APEX_2022/20220925/w0533_220925_0216.\n",
      "Processing beam pair ../../APEX_2022/20220925/w0533_220925_0219 and ../../APEX_2022/20220925/w0533_220925_0218.\n"
     ]
    },
    {
     "name": "stderr",
     "output_type": "stream",
     "text": [
      "RuntimeWarning: divide by zero encountered in divide\n",
      "RuntimeWarning: divide by zero encountered in divide\n",
      "RuntimeWarning: divide by zero encountered in divide\n",
      "RuntimeWarning: divide by zero encountered in divide\n",
      "RuntimeWarning: divide by zero encountered in divide\n"
     ]
    },
    {
     "name": "stdout",
     "output_type": "stream",
     "text": [
      "Processing beam pair ../../APEX_2022/20220925/w0533_220925_0221 and ../../APEX_2022/20220925/w0533_220925_0220.\n"
     ]
    },
    {
     "name": "stderr",
     "output_type": "stream",
     "text": [
      "RuntimeWarning: divide by zero encountered in divide\n",
      "RuntimeWarning: divide by zero encountered in divide\n",
      "RuntimeWarning: divide by zero encountered in divide\n"
     ]
    },
    {
     "name": "stdout",
     "output_type": "stream",
     "text": [
      "Processing beam pair ../../APEX_2022/20220925/w0533_220925_0223 and ../../APEX_2022/20220925/w0533_220925_0222.\n"
     ]
    },
    {
     "name": "stderr",
     "output_type": "stream",
     "text": [
      "RuntimeWarning: divide by zero encountered in divide\n",
      "RuntimeWarning: divide by zero encountered in divide\n",
      "RuntimeWarning: divide by zero encountered in divide\n",
      "RuntimeWarning: divide by zero encountered in divide\n",
      "RuntimeWarning: divide by zero encountered in divide\n",
      "RuntimeWarning: divide by zero encountered in divide\n",
      "RuntimeWarning: divide by zero encountered in divide\n",
      "RuntimeWarning: divide by zero encountered in divide\n",
      "RuntimeWarning: divide by zero encountered in divide\n",
      "RuntimeWarning: divide by zero encountered in divide\n",
      "RuntimeWarning: divide by zero encountered in divide\n",
      "RuntimeWarning: divide by zero encountered in divide\n",
      "RuntimeWarning: divide by zero encountered in divide\n",
      "RuntimeWarning: divide by zero encountered in divide\n",
      "RuntimeWarning: divide by zero encountered in divide\n",
      "RuntimeWarning: divide by zero encountered in divide\n",
      "RuntimeWarning: divide by zero encountered in divide\n",
      "RuntimeWarning: divide by zero encountered in divide\n",
      "RuntimeWarning: divide by zero encountered in divide\n",
      "RuntimeWarning: divide by zero encountered in divide\n",
      "RuntimeWarning: divide by zero encountered in divide\n",
      "RuntimeWarning: divide by zero encountered in divide\n",
      "RuntimeWarning: divide by zero encountered in divide\n",
      "RuntimeWarning: divide by zero encountered in divide\n",
      "RuntimeWarning: divide by zero encountered in divide\n",
      "RuntimeWarning: divide by zero encountered in divide\n",
      "RuntimeWarning: divide by zero encountered in divide\n",
      "RuntimeWarning: divide by zero encountered in divide\n",
      "RuntimeWarning: divide by zero encountered in divide\n",
      "RuntimeWarning: divide by zero encountered in divide\n",
      "RuntimeWarning: divide by zero encountered in divide\n",
      "RuntimeWarning: divide by zero encountered in divide\n",
      "UserWarning: No band specific config information found, will use the input kwargs only the DEFAULT configurations in conf_kwargs_.\n",
      "UserWarning: No band specific config information found, will use the input kwargs only the DEFAULT configurations in conf_kwargs_.\n",
      "UserWarning: More than one values found inobs_info_.table[Elevation], will average.\n",
      "UserWarning: No band specific config information found, will use the input kwargs only the DEFAULT configurations in conf_kwargs_.\n"
     ]
    },
    {
     "name": "stdout",
     "output_type": "stream",
     "text": [
      "Setting band using default layout.\n"
     ]
    },
    {
     "name": "stderr",
     "output_type": "stream",
     "text": [
      "UserWarning: More than one values found inobs_info_.table[Elevation], will average.\n",
      "RuntimeWarning: divide by zero encountered in divide\n",
      "RuntimeWarning: divide by zero encountered in divide\n",
      "RuntimeWarning: divide by zero encountered in divide\n",
      "UserWarning: No band specific config information found, will use the input kwargs only the DEFAULT configurations in conf_kwargs_.\n"
     ]
    },
    {
     "name": "stdout",
     "output_type": "stream",
     "text": [
      "Setting band using default layout.\n",
      "Processing beam ../../APEX_2022/20220929/skychop_220929_0012.\n"
     ]
    },
    {
     "name": "stderr",
     "output_type": "stream",
     "text": [
      "RuntimeWarning: invalid value encountered in divide\n"
     ]
    },
    {
     "name": "stdout",
     "output_type": "stream",
     "text": [
      "Processing beam ../../APEX_2022/20220929/bias_step_0015.Processing beam ../../APEX_2022/20220929/bias_step_0014.\n",
      "\n",
      "running in parallel on 2 threads.\n"
     ]
    },
    {
     "name": "stderr",
     "output_type": "stream",
     "text": [
      "RuntimeWarning: divide by zero encountered in divide\n",
      "RuntimeWarning: divide by zero encountered in divide\n",
      "RuntimeWarning: divide by zero encountered in divide\n",
      "RuntimeWarning: divide by zero encountered in divide\n",
      "RuntimeWarning: divide by zero encountered in divide\n",
      "RuntimeWarning: divide by zero encountered in divide\n",
      "RuntimeWarning: divide by zero encountered in divide\n",
      "RuntimeWarning: divide by zero encountered in divide\n"
     ]
    },
    {
     "name": "stdout",
     "output_type": "stream",
     "text": [
      "Processing beam pair ../../APEX_2022/20220929/w0533_220929_0003 and ../../APEX_2022/20220929/w0533_220929_0002.Processing beam pair ../../APEX_2022/20220929/w0533_220929_0001 and ../../APEX_2022/20220929/w0533_220929_0000.Processing beam pair ../../APEX_2022/20220929/w0533_220929_0007 and ../../APEX_2022/20220929/w0533_220929_0006.\n",
      "Processing beam pair ../../APEX_2022/20220929/w0533_220929_0009 and ../../APEX_2022/20220929/w0533_220929_0008.Processing beam pair ../../APEX_2022/20220929/w0533_220929_0005 and ../../APEX_2022/20220929/w0533_220929_0004.\n",
      "\n",
      "Processing beam pair ../../APEX_2022/20220929/w0533_220929_0011 and ../../APEX_2022/20220929/w0533_220929_0010.\n",
      "Processing beam pair ../../APEX_2022/20220929/w0533_220929_0013 and ../../APEX_2022/20220929/w0533_220929_0012.Processing beam pair ../../APEX_2022/20220929/w0533_220929_0015 and ../../APEX_2022/20220929/w0533_220929_0014.\n",
      "\n",
      "\n",
      "\n",
      "running in parallel on 4 threads.\n"
     ]
    },
    {
     "name": "stderr",
     "output_type": "stream",
     "text": [
      "RuntimeWarning: divide by zero encountered in divide\n",
      "RuntimeWarning: divide by zero encountered in divide\n",
      "RuntimeWarning: divide by zero encountered in divide\n",
      "RuntimeWarning: divide by zero encountered in divide\n"
     ]
    },
    {
     "name": "stdout",
     "output_type": "stream",
     "text": [
      "Processing beam pair ../../APEX_2022/20220929/w0533_220929_0017 and ../../APEX_2022/20220929/w0533_220929_0016.\n"
     ]
    },
    {
     "name": "stderr",
     "output_type": "stream",
     "text": [
      "RuntimeWarning: divide by zero encountered in divide\n",
      "RuntimeWarning: divide by zero encountered in divide\n",
      "RuntimeWarning: divide by zero encountered in divide\n"
     ]
    },
    {
     "name": "stdout",
     "output_type": "stream",
     "text": [
      "Processing beam pair ../../APEX_2022/20220929/w0533_220929_0019 and ../../APEX_2022/20220929/w0533_220929_0018.\n"
     ]
    },
    {
     "name": "stderr",
     "output_type": "stream",
     "text": [
      "RuntimeWarning: divide by zero encountered in divide\n",
      "RuntimeWarning: divide by zero encountered in divide\n",
      "RuntimeWarning: divide by zero encountered in divide\n",
      "RuntimeWarning: divide by zero encountered in divide\n",
      "RuntimeWarning: divide by zero encountered in divide\n",
      "RuntimeWarning: divide by zero encountered in divide\n",
      "RuntimeWarning: divide by zero encountered in divide\n",
      "RuntimeWarning: divide by zero encountered in divide\n",
      "RuntimeWarning: divide by zero encountered in divide\n",
      "RuntimeWarning: divide by zero encountered in divide\n",
      "RuntimeWarning: divide by zero encountered in divide\n",
      "RuntimeWarning: divide by zero encountered in divide\n",
      "RuntimeWarning: divide by zero encountered in divide\n",
      "RuntimeWarning: divide by zero encountered in divide\n",
      "RuntimeWarning: divide by zero encountered in divide\n",
      "RuntimeWarning: divide by zero encountered in divide\n",
      "RuntimeWarning: divide by zero encountered in divide\n",
      "RuntimeWarning: divide by zero encountered in divide\n",
      "RuntimeWarning: divide by zero encountered in divide\n",
      "RuntimeWarning: divide by zero encountered in divide\n",
      "RuntimeWarning: divide by zero encountered in divide\n",
      "RuntimeWarning: divide by zero encountered in divide\n",
      "RuntimeWarning: divide by zero encountered in divide\n",
      "RuntimeWarning: divide by zero encountered in divide\n",
      "RuntimeWarning: divide by zero encountered in divide\n",
      "RuntimeWarning: divide by zero encountered in divide\n",
      "RuntimeWarning: divide by zero encountered in divide\n",
      "RuntimeWarning: divide by zero encountered in divide\n",
      "RuntimeWarning: divide by zero encountered in divide\n",
      "UserWarning: No band specific config information found, will use the input kwargs only the DEFAULT configurations in conf_kwargs_.\n",
      "UserWarning: No band specific config information found, will use the input kwargs only the DEFAULT configurations in conf_kwargs_.\n",
      "UserWarning: No band specific config information found, will use the input kwargs only the DEFAULT configurations in conf_kwargs_.\n"
     ]
    },
    {
     "name": "stdout",
     "output_type": "stream",
     "text": [
      "Setting band using default layout.\n"
     ]
    },
    {
     "name": "stderr",
     "output_type": "stream",
     "text": [
      "RuntimeWarning: divide by zero encountered in divide\n",
      "RuntimeWarning: divide by zero encountered in divide\n",
      "RuntimeWarning: divide by zero encountered in divide\n",
      "UserWarning: No band specific config information found, will use the input kwargs only the DEFAULT configurations in conf_kwargs_.\n"
     ]
    },
    {
     "name": "stdout",
     "output_type": "stream",
     "text": [
      "Setting band using default layout.\n"
     ]
    }
   ],
   "source": [
    "times = []\n",
    "r.do_ica = True\n",
    "r.do_smooth=False\n",
    "times.append(time.time())\n",
    "for sky,bs,dat,folder in zip(flats,bias,data,folders):\n",
    "    r.data_dir = folder\n",
    "    #r.inject_signal = zt.mce_data.SignalInjection(amplitude=1,pixels=[am.phys_to_mce(spec,spat,400)])\n",
    "    r.reduce(sky,dat,bs)\n",
    "    times.append(time.time())"
   ]
  },
  {
   "cell_type": "code",
   "execution_count": 46,
   "id": "17fdff82",
   "metadata": {
    "hidden": true
   },
   "outputs": [
    {
     "data": {
      "text/plain": [
       "array([156.12410116, 175.51199102, 159.89656401,  83.97980332,\n",
       "        77.36696506, 165.68574524, 158.59229589,  23.39044809,\n",
       "       171.15913153,  49.38591671, 164.4329257 ,  91.11881351])"
      ]
     },
     "execution_count": 46,
     "metadata": {},
     "output_type": "execute_result"
    }
   ],
   "source": [
    "t = np.array(times)\n",
    "t[1:]-t[:-1]"
   ]
  },
  {
   "cell_type": "code",
   "execution_count": null,
   "id": "a47f2731",
   "metadata": {
    "hidden": true
   },
   "outputs": [],
   "source": []
  },
  {
   "cell_type": "markdown",
   "id": "63adfe4e",
   "metadata": {},
   "source": [
    "# PLCK G200\n",
    "has observations on \n",
    "```\n",
    "0922\n",
    "0923\n",
    "0929\n",
    "0930\n",
    "```"
   ]
  },
  {
   "cell_type": "code",
   "execution_count": 71,
   "id": "0187dd83",
   "metadata": {},
   "outputs": [],
   "source": [
    "r.write_dir = \"G200\"\n",
    "flats = [\n",
    "    {\"skychop_220922\": [(76, 77)]},\n",
    "    {\"skychop_220923\": [(19, 20)]},\n",
    "    {\"skychop_220923\": [(22, 22)]},\n",
    "    {\"skychop_220929\": [(14, 14)]},\n",
    "    {\"skychop_220929\": [(15, 15)]},\n",
    "    {\"skychop_220929\": [(17, 17)]},\n",
    "    {\"skychop_220929\": [(18, 18)]},\n",
    "    {\"skychop_220929\": [(19, 19)]},\n",
    "    {\"skychop_220929\": [(20, 20)]},\n",
    "    {\"skychop_220930\": [(34, 35)]},\n",
    "    {\"skychop_220930\": [(36, 37)]},\n",
    "    {\"skychop_220930\": [(38, 39)]}\n",
    "]\n",
    "data = [\n",
    "    {\"PLK_G200_220922\": [(0, 39)]},\n",
    "    {\"plck_g200_220923\": [(0, 39)]},\n",
    "    {\"plck_g200_220923\": [(40, 49)]},\n",
    "    {\"g244_220929\": [(0, 19)]},\n",
    "    {\"g244_220929\": [(20, 39)]},\n",
    "    {\"plckg200_220929\": [(0, 19)]},\n",
    "    {\"plckg200_220929\": [(20, 39)]},\n",
    "    {\"SCIENCE_220929\": [(0, 19)]},\n",
    "    {\"SCIENCE_220929\": [(20, 39)]},\n",
    "    {\"plckg200_220930\": [(0, 39)]},\n",
    "    {\"plckg200_220930\": [(40, 79)]},\n",
    "    {\"plckg200_220930\": [(80, 119)]}\n",
    "]\n",
    "bias = [\n",
    "    {\"bias_step\": [(27, 28)]},\n",
    "    {\"bias_step\": [(7, 8)]},\n",
    "    {\"bias_step\": [(9, 9)]},\n",
    "    {\"bias_step\": [(19, 20)]},\n",
    "    {\"bias_step\": [(21, 21)]},\n",
    "    {\"bias_step\": [(22, 23)]},\n",
    "    {\"bias_step\": [(24, 24)]},\n",
    "    {\"bias_step\": [(25, 25)]},\n",
    "    {\"bias_step\": [(26, 26)]},\n",
    "    {\"bias_step\": [(62, 64)]},\n",
    "    {\"bias_step\": [(65, 67)]},\n",
    "    {\"bias_step\": [(68, 70)]}\n",
    "    \n",
    "]\n",
    "folders = [\n",
    "    \"../../APEX_2022/20220922\",\n",
    "    \"../../APEX_2022/20220923\",\n",
    "    \"../../APEX_2022/20220923\",\n",
    "    \"../../APEX_2022/20220929\",\n",
    "    \"../../APEX_2022/20220929\",\n",
    "    \"../../APEX_2022/20220929\",\n",
    "    \"../../APEX_2022/20220929\",\n",
    "    \"../../APEX_2022/20220929\",\n",
    "    \"../../APEX_2022/20220929\",\n",
    "    \"../../APEX_2022/20220930\",\n",
    "    \"../../APEX_2022/20220930\",\n",
    "    \"../../APEX_2022/20220930\"\n",
    "]"
   ]
  },
  {
   "cell_type": "code",
   "execution_count": 72,
   "id": "0d98c7c2",
   "metadata": {},
   "outputs": [
    {
     "name": "stdout",
     "output_type": "stream",
     "text": [
      "{'PLK_G200_220922': [(0, 39)]} ../../APEX_2022/20220922 {'bias_step': [(27, 28)]} {'skychop_220922': [(76, 77)]}\n",
      "{'plck_g200_220923': [(0, 39)]} ../../APEX_2022/20220923 {'bias_step': [(7, 8)]} {'skychop_220923': [(19, 20)]}\n",
      "{'plck_g200_220923': [(40, 49)]} ../../APEX_2022/20220923 {'bias_step': [(9, 9)]} {'skychop_220923': [(22, 22)]}\n",
      "{'g244_220929': [(0, 19)]} ../../APEX_2022/20220929 {'bias_step': [(19, 20)]} {'skychop_220929': [(14, 14)]}\n",
      "{'g244_220929': [(20, 39)]} ../../APEX_2022/20220929 {'bias_step': [(21, 21)]} {'skychop_220929': [(15, 15)]}\n",
      "{'plckg200_220929': [(0, 19)]} ../../APEX_2022/20220929 {'bias_step': [(22, 23)]} {'skychop_220929': [(17, 17)]}\n",
      "{'plckg200_220929': [(20, 39)]} ../../APEX_2022/20220929 {'bias_step': [(24, 24)]} {'skychop_220929': [(18, 18)]}\n",
      "{'SCIENCE_220929': [(0, 19)]} ../../APEX_2022/20220929 {'bias_step': [(25, 25)]} {'skychop_220929': [(19, 19)]}\n",
      "{'SCIENCE_220929': [(20, 39)]} ../../APEX_2022/20220929 {'bias_step': [(26, 26)]} {'skychop_220929': [(20, 20)]}\n",
      "{'plckg200_220930': [(0, 39)]} ../../APEX_2022/20220930 {'bias_step': [(62, 64)]} {'skychop_220930': [(34, 35)]}\n",
      "{'plckg200_220930': [(40, 79)]} ../../APEX_2022/20220930 {'bias_step': [(65, 67)]} {'skychop_220930': [(36, 37)]}\n",
      "{'plckg200_220930': [(80, 119)]} ../../APEX_2022/20220930 {'bias_step': [(68, 70)]} {'skychop_220930': [(38, 39)]}\n"
     ]
    }
   ],
   "source": [
    "for file,folder,bs,sky in zip(data,folders,bias,flats):\n",
    "    print(file,folder,bs,sky)"
   ]
  },
  {
   "cell_type": "code",
   "execution_count": 75,
   "id": "38c124b3",
   "metadata": {},
   "outputs": [
    {
     "name": "stdout",
     "output_type": "stream",
     "text": [
      "Processing beam ../../APEX_2022/20220922/skychop_220922_0077.Processing beam ../../APEX_2022/20220922/skychop_220922_0076.\n",
      "\n",
      "running in parallel on 2 threads.\n"
     ]
    },
    {
     "name": "stderr",
     "output_type": "stream",
     "text": [
      "RuntimeWarning: invalid value encountered in divide\n",
      "RuntimeWarning: invalid value encountered in divide\n"
     ]
    },
    {
     "name": "stdout",
     "output_type": "stream",
     "text": [
      "Processing beam ../../APEX_2022/20220922/bias_step_0027.\n",
      "Processing beam ../../APEX_2022/20220922/bias_step_0028.\n",
      "running in parallel on 2 threads.\n"
     ]
    },
    {
     "name": "stderr",
     "output_type": "stream",
     "text": [
      "RuntimeWarning: divide by zero encountered in divide\n",
      "RuntimeWarning: divide by zero encountered in divide\n",
      "RuntimeWarning: divide by zero encountered in divide\n",
      "RuntimeWarning: divide by zero encountered in divide\n",
      "RuntimeWarning: divide by zero encountered in divide\n",
      "RuntimeWarning: divide by zero encountered in divide\n",
      "RuntimeWarning: divide by zero encountered in divide\n",
      "RuntimeWarning: divide by zero encountered in divide\n"
     ]
    },
    {
     "name": "stdout",
     "output_type": "stream",
     "text": [
      "Processing beam pair ../../APEX_2022/20220922/PLK_G200_220922_0001 and ../../APEX_2022/20220922/PLK_G200_220922_0000.\n",
      "Processing beam pair ../../APEX_2022/20220922/PLK_G200_220922_0005 and ../../APEX_2022/20220922/PLK_G200_220922_0004.Processing beam pair ../../APEX_2022/20220922/PLK_G200_220922_0007 and ../../APEX_2022/20220922/PLK_G200_220922_0006.Processing beam pair ../../APEX_2022/20220922/PLK_G200_220922_0003 and ../../APEX_2022/20220922/PLK_G200_220922_0002.\n",
      "Processing beam pair ../../APEX_2022/20220922/PLK_G200_220922_0009 and ../../APEX_2022/20220922/PLK_G200_220922_0008.\n",
      "\n",
      "Processing beam pair ../../APEX_2022/20220922/PLK_G200_220922_0011 and ../../APEX_2022/20220922/PLK_G200_220922_0010.\n",
      "Processing beam pair ../../APEX_2022/20220922/PLK_G200_220922_0013 and ../../APEX_2022/20220922/PLK_G200_220922_0012.\n",
      "\n",
      "Processing beam pair ../../APEX_2022/20220922/PLK_G200_220922_0015 and ../../APEX_2022/20220922/PLK_G200_220922_0014.\n",
      "running in parallel on 4 threads.\n"
     ]
    },
    {
     "name": "stderr",
     "output_type": "stream",
     "text": [
      "RuntimeWarning: divide by zero encountered in divide\n",
      "RuntimeWarning: divide by zero encountered in divide\n",
      "RuntimeWarning: divide by zero encountered in divide\n",
      "RuntimeWarning: divide by zero encountered in divide\n",
      "RuntimeWarning: divide by zero encountered in divide\n",
      "RuntimeWarning: divide by zero encountered in divide\n",
      "RuntimeWarning: divide by zero encountered in divide\n",
      "RuntimeWarning: divide by zero encountered in divide\n",
      "RuntimeWarning: divide by zero encountered in divide\n"
     ]
    },
    {
     "name": "stdout",
     "output_type": "stream",
     "text": [
      "Processing beam pair ../../APEX_2022/20220922/PLK_G200_220922_0017 and ../../APEX_2022/20220922/PLK_G200_220922_0016.\n"
     ]
    },
    {
     "name": "stderr",
     "output_type": "stream",
     "text": [
      "RuntimeWarning: divide by zero encountered in divide\n"
     ]
    },
    {
     "name": "stdout",
     "output_type": "stream",
     "text": [
      "Processing beam pair ../../APEX_2022/20220922/PLK_G200_220922_0019 and ../../APEX_2022/20220922/PLK_G200_220922_0018.\n"
     ]
    },
    {
     "name": "stderr",
     "output_type": "stream",
     "text": [
      "RuntimeWarning: divide by zero encountered in divide\n",
      "RuntimeWarning: divide by zero encountered in divide\n",
      "RuntimeWarning: divide by zero encountered in divide\n",
      "RuntimeWarning: divide by zero encountered in divide\n",
      "RuntimeWarning: divide by zero encountered in divide\n",
      "UserWarning: Extra time stamps truncated\n",
      "RuntimeWarning: divide by zero encountered in divide\n"
     ]
    },
    {
     "name": "stdout",
     "output_type": "stream",
     "text": [
      "Processing beam pair ../../APEX_2022/20220922/PLK_G200_220922_0021 and ../../APEX_2022/20220922/PLK_G200_220922_0020.\n",
      "Processing beam pair ../../APEX_2022/20220922/PLK_G200_220922_0023 and ../../APEX_2022/20220922/PLK_G200_220922_0022.\n"
     ]
    },
    {
     "name": "stderr",
     "output_type": "stream",
     "text": [
      "RuntimeWarning: divide by zero encountered in divide\n",
      "RuntimeWarning: divide by zero encountered in divide\n",
      "RuntimeWarning: divide by zero encountered in divide\n",
      "RuntimeWarning: divide by zero encountered in divide\n",
      "RuntimeWarning: divide by zero encountered in divide\n",
      "RuntimeWarning: divide by zero encountered in divide\n",
      "RuntimeWarning: divide by zero encountered in divide\n",
      "RuntimeWarning: divide by zero encountered in divide\n",
      "RuntimeWarning: divide by zero encountered in divide\n",
      "RuntimeWarning: divide by zero encountered in divide\n",
      "RuntimeWarning: divide by zero encountered in divide\n",
      "RuntimeWarning: divide by zero encountered in divide\n"
     ]
    },
    {
     "name": "stdout",
     "output_type": "stream",
     "text": [
      "Processing beam pair ../../APEX_2022/20220922/PLK_G200_220922_0025 and ../../APEX_2022/20220922/PLK_G200_220922_0024.\n",
      "Processing beam pair ../../APEX_2022/20220922/PLK_G200_220922_0027 and ../../APEX_2022/20220922/PLK_G200_220922_0026.\n",
      "Processing beam pair ../../APEX_2022/20220922/PLK_G200_220922_0029 and ../../APEX_2022/20220922/PLK_G200_220922_0028.\n"
     ]
    },
    {
     "name": "stderr",
     "output_type": "stream",
     "text": [
      "RuntimeWarning: divide by zero encountered in divide\n",
      "RuntimeWarning: divide by zero encountered in divide\n",
      "RuntimeWarning: divide by zero encountered in divide\n",
      "RuntimeWarning: divide by zero encountered in divide\n"
     ]
    },
    {
     "name": "stdout",
     "output_type": "stream",
     "text": [
      "Processing beam pair ../../APEX_2022/20220922/PLK_G200_220922_0031 and ../../APEX_2022/20220922/PLK_G200_220922_0030.\n"
     ]
    },
    {
     "name": "stderr",
     "output_type": "stream",
     "text": [
      "RuntimeWarning: divide by zero encountered in divide\n",
      "RuntimeWarning: divide by zero encountered in divide\n",
      "RuntimeWarning: divide by zero encountered in divide\n",
      "RuntimeWarning: divide by zero encountered in divide\n",
      "RuntimeWarning: divide by zero encountered in divide\n",
      "RuntimeWarning: divide by zero encountered in divide\n"
     ]
    },
    {
     "name": "stdout",
     "output_type": "stream",
     "text": [
      "Processing beam pair ../../APEX_2022/20220922/PLK_G200_220922_0033 and ../../APEX_2022/20220922/PLK_G200_220922_0032.\n"
     ]
    },
    {
     "name": "stderr",
     "output_type": "stream",
     "text": [
      "RuntimeWarning: divide by zero encountered in divide\n",
      "RuntimeWarning: divide by zero encountered in divide\n",
      "RuntimeWarning: divide by zero encountered in divide\n",
      "RuntimeWarning: divide by zero encountered in divide\n"
     ]
    },
    {
     "name": "stdout",
     "output_type": "stream",
     "text": [
      "Processing beam pair ../../APEX_2022/20220922/PLK_G200_220922_0035 and ../../APEX_2022/20220922/PLK_G200_220922_0034.\n"
     ]
    },
    {
     "name": "stderr",
     "output_type": "stream",
     "text": [
      "RuntimeWarning: divide by zero encountered in divide\n",
      "RuntimeWarning: divide by zero encountered in divide\n",
      "RuntimeWarning: divide by zero encountered in divide\n",
      "RuntimeWarning: divide by zero encountered in divide\n",
      "RuntimeWarning: divide by zero encountered in divide\n"
     ]
    },
    {
     "name": "stdout",
     "output_type": "stream",
     "text": [
      "Processing beam pair ../../APEX_2022/20220922/PLK_G200_220922_0037 and ../../APEX_2022/20220922/PLK_G200_220922_0036.\n"
     ]
    },
    {
     "name": "stderr",
     "output_type": "stream",
     "text": [
      "RuntimeWarning: divide by zero encountered in divide\n",
      "RuntimeWarning: divide by zero encountered in divide\n",
      "RuntimeWarning: divide by zero encountered in divide\n"
     ]
    },
    {
     "name": "stdout",
     "output_type": "stream",
     "text": [
      "Processing beam pair ../../APEX_2022/20220922/PLK_G200_220922_0039 and ../../APEX_2022/20220922/PLK_G200_220922_0038.\n"
     ]
    },
    {
     "name": "stderr",
     "output_type": "stream",
     "text": [
      "RuntimeWarning: divide by zero encountered in divide\n",
      "RuntimeWarning: divide by zero encountered in divide\n",
      "RuntimeWarning: divide by zero encountered in divide\n",
      "RuntimeWarning: divide by zero encountered in divide\n",
      "RuntimeWarning: divide by zero encountered in divide\n",
      "RuntimeWarning: divide by zero encountered in divide\n",
      "RuntimeWarning: divide by zero encountered in divide\n",
      "RuntimeWarning: divide by zero encountered in divide\n",
      "RuntimeWarning: divide by zero encountered in divide\n",
      "RuntimeWarning: divide by zero encountered in divide\n",
      "RuntimeWarning: divide by zero encountered in divide\n",
      "RuntimeWarning: divide by zero encountered in divide\n",
      "RuntimeWarning: divide by zero encountered in divide\n",
      "RuntimeWarning: divide by zero encountered in divide\n",
      "RuntimeWarning: divide by zero encountered in divide\n",
      "RuntimeWarning: divide by zero encountered in divide\n",
      "RuntimeWarning: divide by zero encountered in divide\n",
      "RuntimeWarning: divide by zero encountered in divide\n",
      "RuntimeWarning: divide by zero encountered in divide\n",
      "RuntimeWarning: divide by zero encountered in divide\n",
      "RuntimeWarning: divide by zero encountered in divide\n",
      "RuntimeWarning: divide by zero encountered in divide\n",
      "RuntimeWarning: divide by zero encountered in divide\n",
      "RuntimeWarning: divide by zero encountered in divide\n",
      "RuntimeWarning: divide by zero encountered in divide\n",
      "RuntimeWarning: divide by zero encountered in divide\n",
      "RuntimeWarning: divide by zero encountered in divide\n",
      "RuntimeWarning: divide by zero encountered in divide\n",
      "RuntimeWarning: divide by zero encountered in divide\n",
      "RuntimeWarning: divide by zero encountered in divide\n",
      "RuntimeWarning: divide by zero encountered in divide\n",
      "UserWarning: No band specific config information found, will use the input kwargs only the DEFAULT configurations in conf_kwargs_.\n",
      "UserWarning: No band specific config information found, will use the input kwargs only the DEFAULT configurations in conf_kwargs_.\n",
      "UserWarning: No band specific config information found, will use the input kwargs only the DEFAULT configurations in conf_kwargs_.\n"
     ]
    },
    {
     "name": "stdout",
     "output_type": "stream",
     "text": [
      "Setting band using default layout.\n"
     ]
    },
    {
     "name": "stderr",
     "output_type": "stream",
     "text": [
      "RuntimeWarning: divide by zero encountered in divide\n",
      "RuntimeWarning: divide by zero encountered in divide\n",
      "RuntimeWarning: divide by zero encountered in divide\n",
      "UserWarning: No band specific config information found, will use the input kwargs only the DEFAULT configurations in conf_kwargs_.\n"
     ]
    },
    {
     "name": "stdout",
     "output_type": "stream",
     "text": [
      "Setting band using default layout.\n",
      "Processing beam ../../APEX_2022/20220923/skychop_220923_0019.\n",
      "Processing beam ../../APEX_2022/20220923/skychop_220923_0020.\n",
      "running in parallel on 2 threads.\n"
     ]
    },
    {
     "name": "stderr",
     "output_type": "stream",
     "text": [
      "RuntimeWarning: invalid value encountered in divide\n",
      "RuntimeWarning: invalid value encountered in divide\n"
     ]
    },
    {
     "name": "stdout",
     "output_type": "stream",
     "text": [
      "Processing beam ../../APEX_2022/20220923/bias_step_0007.\n",
      "Processing beam ../../APEX_2022/20220923/bias_step_0008.\n",
      "running in parallel on 2 threads.\n"
     ]
    },
    {
     "name": "stderr",
     "output_type": "stream",
     "text": [
      "RuntimeWarning: divide by zero encountered in divide\n",
      "RuntimeWarning: divide by zero encountered in divide\n",
      "RuntimeWarning: divide by zero encountered in divide\n",
      "RuntimeWarning: divide by zero encountered in divide\n",
      "RuntimeWarning: divide by zero encountered in divide\n",
      "RuntimeWarning: divide by zero encountered in divide\n",
      "RuntimeWarning: divide by zero encountered in divide\n",
      "RuntimeWarning: divide by zero encountered in divide\n"
     ]
    },
    {
     "name": "stdout",
     "output_type": "stream",
     "text": [
      "Processing beam pair ../../APEX_2022/20220923/plck_g200_220923_0001 and ../../APEX_2022/20220923/plck_g200_220923_0000.\n",
      "Processing beam pair ../../APEX_2022/20220923/plck_g200_220923_0003 and ../../APEX_2022/20220923/plck_g200_220923_0002.Processing beam pair ../../APEX_2022/20220923/plck_g200_220923_0007 and ../../APEX_2022/20220923/plck_g200_220923_0006.\n",
      "Processing beam pair ../../APEX_2022/20220923/plck_g200_220923_0005 and ../../APEX_2022/20220923/plck_g200_220923_0004.Processing beam pair ../../APEX_2022/20220923/plck_g200_220923_0011 and ../../APEX_2022/20220923/plck_g200_220923_0010.Processing beam pair ../../APEX_2022/20220923/plck_g200_220923_0009 and ../../APEX_2022/20220923/plck_g200_220923_0008.\n",
      "Processing beam pair ../../APEX_2022/20220923/plck_g200_220923_0013 and ../../APEX_2022/20220923/plck_g200_220923_0012.\n",
      "\n",
      "\n",
      "Processing beam pair ../../APEX_2022/20220923/plck_g200_220923_0015 and ../../APEX_2022/20220923/plck_g200_220923_0014.\n",
      "\n",
      "running in parallel on 4 threads.\n"
     ]
    },
    {
     "name": "stderr",
     "output_type": "stream",
     "text": [
      "UserWarning: Extra time stamps truncated\n",
      "RuntimeWarning: divide by zero encountered in divide\n",
      "RuntimeWarning: divide by zero encountered in divide\n",
      "RuntimeWarning: divide by zero encountered in divide\n",
      "RuntimeWarning: divide by zero encountered in divide\n",
      "RuntimeWarning: divide by zero encountered in divide\n",
      "RuntimeWarning: divide by zero encountered in divide\n",
      "RuntimeWarning: divide by zero encountered in divide\n",
      "RuntimeWarning: divide by zero encountered in divide\n",
      "RuntimeWarning: divide by zero encountered in divide\n"
     ]
    },
    {
     "name": "stdout",
     "output_type": "stream",
     "text": [
      "Processing beam pair ../../APEX_2022/20220923/plck_g200_220923_0017 and ../../APEX_2022/20220923/plck_g200_220923_0016.\n"
     ]
    },
    {
     "name": "stderr",
     "output_type": "stream",
     "text": [
      "RuntimeWarning: divide by zero encountered in divide\n"
     ]
    },
    {
     "name": "stdout",
     "output_type": "stream",
     "text": [
      "Processing beam pair ../../APEX_2022/20220923/plck_g200_220923_0019 and ../../APEX_2022/20220923/plck_g200_220923_0018.\n"
     ]
    },
    {
     "name": "stderr",
     "output_type": "stream",
     "text": [
      "RuntimeWarning: divide by zero encountered in divide\n",
      "RuntimeWarning: divide by zero encountered in divide\n",
      "RuntimeWarning: divide by zero encountered in divide\n",
      "RuntimeWarning: divide by zero encountered in divide\n",
      "RuntimeWarning: divide by zero encountered in divide\n",
      "RuntimeWarning: divide by zero encountered in divide\n"
     ]
    },
    {
     "name": "stdout",
     "output_type": "stream",
     "text": [
      "Processing beam pair ../../APEX_2022/20220923/plck_g200_220923_0021 and ../../APEX_2022/20220923/plck_g200_220923_0020.\n",
      "Processing beam pair ../../APEX_2022/20220923/plck_g200_220923_0023 and ../../APEX_2022/20220923/plck_g200_220923_0022.\n"
     ]
    },
    {
     "name": "stderr",
     "output_type": "stream",
     "text": [
      "RuntimeWarning: divide by zero encountered in divide\n",
      "RuntimeWarning: divide by zero encountered in divide\n",
      "RuntimeWarning: divide by zero encountered in divide\n",
      "RuntimeWarning: divide by zero encountered in divide\n",
      "RuntimeWarning: divide by zero encountered in divide\n"
     ]
    },
    {
     "name": "stdout",
     "output_type": "stream",
     "text": [
      "Processing beam pair ../../APEX_2022/20220923/plck_g200_220923_0025 and ../../APEX_2022/20220923/plck_g200_220923_0024.\n"
     ]
    },
    {
     "name": "stderr",
     "output_type": "stream",
     "text": [
      "RuntimeWarning: divide by zero encountered in divide\n",
      "RuntimeWarning: divide by zero encountered in divide\n",
      "RuntimeWarning: divide by zero encountered in divide\n"
     ]
    },
    {
     "name": "stdout",
     "output_type": "stream",
     "text": [
      "Processing beam pair ../../APEX_2022/20220923/plck_g200_220923_0027 and ../../APEX_2022/20220923/plck_g200_220923_0026.\n"
     ]
    },
    {
     "name": "stderr",
     "output_type": "stream",
     "text": [
      "RuntimeWarning: divide by zero encountered in divide\n",
      "RuntimeWarning: divide by zero encountered in divide\n",
      "RuntimeWarning: divide by zero encountered in divide\n",
      "RuntimeWarning: divide by zero encountered in divide\n"
     ]
    },
    {
     "name": "stdout",
     "output_type": "stream",
     "text": [
      "Processing beam pair ../../APEX_2022/20220923/plck_g200_220923_0029 and ../../APEX_2022/20220923/plck_g200_220923_0028.\n"
     ]
    },
    {
     "name": "stderr",
     "output_type": "stream",
     "text": [
      "RuntimeWarning: divide by zero encountered in divide\n",
      "RuntimeWarning: divide by zero encountered in divide\n",
      "RuntimeWarning: divide by zero encountered in divide\n",
      "RuntimeWarning: divide by zero encountered in divide\n"
     ]
    },
    {
     "name": "stdout",
     "output_type": "stream",
     "text": [
      "Processing beam pair ../../APEX_2022/20220923/plck_g200_220923_0031 and ../../APEX_2022/20220923/plck_g200_220923_0030.\n"
     ]
    },
    {
     "name": "stderr",
     "output_type": "stream",
     "text": [
      "RuntimeWarning: divide by zero encountered in divide\n",
      "RuntimeWarning: divide by zero encountered in divide\n",
      "RuntimeWarning: divide by zero encountered in divide\n",
      "RuntimeWarning: divide by zero encountered in divide\n"
     ]
    },
    {
     "name": "stdout",
     "output_type": "stream",
     "text": [
      "Processing beam pair ../../APEX_2022/20220923/plck_g200_220923_0033 and ../../APEX_2022/20220923/plck_g200_220923_0032.\n"
     ]
    },
    {
     "name": "stderr",
     "output_type": "stream",
     "text": [
      "RuntimeWarning: divide by zero encountered in divide\n",
      "RuntimeWarning: divide by zero encountered in divide\n",
      "RuntimeWarning: divide by zero encountered in divide\n",
      "RuntimeWarning: divide by zero encountered in divide\n",
      "RuntimeWarning: divide by zero encountered in divide\n",
      "RuntimeWarning: divide by zero encountered in divide\n"
     ]
    },
    {
     "name": "stdout",
     "output_type": "stream",
     "text": [
      "Processing beam pair ../../APEX_2022/20220923/plck_g200_220923_0035 and ../../APEX_2022/20220923/plck_g200_220923_0034.\n"
     ]
    },
    {
     "name": "stderr",
     "output_type": "stream",
     "text": [
      "RuntimeWarning: divide by zero encountered in divide\n",
      "RuntimeWarning: divide by zero encountered in divide\n",
      "RuntimeWarning: divide by zero encountered in divide\n",
      "RuntimeWarning: divide by zero encountered in divide\n",
      "RuntimeWarning: divide by zero encountered in divide\n",
      "RuntimeWarning: divide by zero encountered in divide\n",
      "RuntimeWarning: divide by zero encountered in divide\n"
     ]
    },
    {
     "name": "stdout",
     "output_type": "stream",
     "text": [
      "Processing beam pair ../../APEX_2022/20220923/plck_g200_220923_0037 and ../../APEX_2022/20220923/plck_g200_220923_0036.\n",
      "Processing beam pair ../../APEX_2022/20220923/plck_g200_220923_0039 and ../../APEX_2022/20220923/plck_g200_220923_0038.\n"
     ]
    },
    {
     "name": "stderr",
     "output_type": "stream",
     "text": [
      "RuntimeWarning: divide by zero encountered in divide\n",
      "RuntimeWarning: divide by zero encountered in divide\n",
      "RuntimeWarning: divide by zero encountered in divide\n",
      "RuntimeWarning: divide by zero encountered in divide\n",
      "RuntimeWarning: divide by zero encountered in divide\n",
      "RuntimeWarning: divide by zero encountered in divide\n",
      "RuntimeWarning: divide by zero encountered in divide\n",
      "RuntimeWarning: divide by zero encountered in divide\n",
      "RuntimeWarning: divide by zero encountered in divide\n",
      "RuntimeWarning: divide by zero encountered in divide\n",
      "RuntimeWarning: divide by zero encountered in divide\n",
      "RuntimeWarning: divide by zero encountered in divide\n",
      "RuntimeWarning: divide by zero encountered in divide\n",
      "RuntimeWarning: divide by zero encountered in divide\n",
      "RuntimeWarning: divide by zero encountered in divide\n",
      "RuntimeWarning: divide by zero encountered in divide\n",
      "RuntimeWarning: divide by zero encountered in divide\n",
      "RuntimeWarning: divide by zero encountered in divide\n",
      "RuntimeWarning: divide by zero encountered in divide\n",
      "RuntimeWarning: divide by zero encountered in divide\n",
      "RuntimeWarning: divide by zero encountered in divide\n",
      "RuntimeWarning: divide by zero encountered in divide\n",
      "RuntimeWarning: divide by zero encountered in divide\n",
      "RuntimeWarning: divide by zero encountered in divide\n",
      "RuntimeWarning: divide by zero encountered in divide\n",
      "RuntimeWarning: divide by zero encountered in divide\n",
      "RuntimeWarning: divide by zero encountered in divide\n",
      "RuntimeWarning: divide by zero encountered in divide\n",
      "RuntimeWarning: divide by zero encountered in divide\n",
      "RuntimeWarning: divide by zero encountered in divide\n",
      "RuntimeWarning: divide by zero encountered in divide\n",
      "RuntimeWarning: divide by zero encountered in divide\n",
      "UserWarning: No band specific config information found, will use the input kwargs only the DEFAULT configurations in conf_kwargs_.\n",
      "UserWarning: No band specific config information found, will use the input kwargs only the DEFAULT configurations in conf_kwargs_.\n",
      "UserWarning: No band specific config information found, will use the input kwargs only the DEFAULT configurations in conf_kwargs_.\n"
     ]
    },
    {
     "name": "stdout",
     "output_type": "stream",
     "text": [
      "Setting band using default layout.\n"
     ]
    },
    {
     "name": "stderr",
     "output_type": "stream",
     "text": [
      "RuntimeWarning: divide by zero encountered in divide\n",
      "RuntimeWarning: divide by zero encountered in divide\n",
      "RuntimeWarning: divide by zero encountered in divide\n",
      "UserWarning: No band specific config information found, will use the input kwargs only the DEFAULT configurations in conf_kwargs_.\n"
     ]
    },
    {
     "name": "stdout",
     "output_type": "stream",
     "text": [
      "Setting band using default layout.\n",
      "Processing beam ../../APEX_2022/20220923/skychop_220923_0022.\n"
     ]
    },
    {
     "name": "stderr",
     "output_type": "stream",
     "text": [
      "RuntimeWarning: invalid value encountered in divide\n"
     ]
    },
    {
     "name": "stdout",
     "output_type": "stream",
     "text": [
      "Processing beam ../../APEX_2022/20220923/bias_step_0009.\n"
     ]
    },
    {
     "name": "stderr",
     "output_type": "stream",
     "text": [
      "RuntimeWarning: divide by zero encountered in divide\n",
      "RuntimeWarning: divide by zero encountered in divide\n",
      "RuntimeWarning: divide by zero encountered in divide\n",
      "RuntimeWarning: divide by zero encountered in divide\n"
     ]
    },
    {
     "name": "stdout",
     "output_type": "stream",
     "text": [
      "Processing beam pair ../../APEX_2022/20220923/plck_g200_220923_0043 and ../../APEX_2022/20220923/plck_g200_220923_0042.Processing beam pair ../../APEX_2022/20220923/plck_g200_220923_0041 and ../../APEX_2022/20220923/plck_g200_220923_0040.\n",
      "\n",
      "Processing beam pair ../../APEX_2022/20220923/plck_g200_220923_0045 and ../../APEX_2022/20220923/plck_g200_220923_0044.\n",
      "Processing beam pair ../../APEX_2022/20220923/plck_g200_220923_0047 and ../../APEX_2022/20220923/plck_g200_220923_0046.\n",
      "Processing beam pair ../../APEX_2022/20220923/plck_g200_220923_0049 and ../../APEX_2022/20220923/plck_g200_220923_0048.\n",
      "running in parallel on 4 threads.\n"
     ]
    },
    {
     "name": "stderr",
     "output_type": "stream",
     "text": [
      "RuntimeWarning: divide by zero encountered in divide\n",
      "RuntimeWarning: divide by zero encountered in divide\n",
      "RuntimeWarning: divide by zero encountered in divide\n",
      "RuntimeWarning: divide by zero encountered in divide\n",
      "RuntimeWarning: divide by zero encountered in divide\n",
      "RuntimeWarning: divide by zero encountered in divide\n",
      "RuntimeWarning: divide by zero encountered in divide\n",
      "RuntimeWarning: divide by zero encountered in divide\n",
      "RuntimeWarning: divide by zero encountered in divide\n",
      "RuntimeWarning: divide by zero encountered in divide\n",
      "RuntimeWarning: divide by zero encountered in divide\n",
      "RuntimeWarning: divide by zero encountered in divide\n",
      "RuntimeWarning: divide by zero encountered in divide\n",
      "RuntimeWarning: divide by zero encountered in divide\n",
      "RuntimeWarning: divide by zero encountered in divide\n",
      "RuntimeWarning: divide by zero encountered in divide\n",
      "RuntimeWarning: divide by zero encountered in divide\n",
      "RuntimeWarning: divide by zero encountered in divide\n",
      "RuntimeWarning: divide by zero encountered in divide\n",
      "RuntimeWarning: divide by zero encountered in divide\n",
      "RuntimeWarning: divide by zero encountered in divide\n",
      "UserWarning: No band specific config information found, will use the input kwargs only the DEFAULT configurations in conf_kwargs_.\n",
      "UserWarning: No band specific config information found, will use the input kwargs only the DEFAULT configurations in conf_kwargs_.\n",
      "UserWarning: No band specific config information found, will use the input kwargs only the DEFAULT configurations in conf_kwargs_.\n"
     ]
    },
    {
     "name": "stdout",
     "output_type": "stream",
     "text": [
      "Setting band using default layout.\n"
     ]
    },
    {
     "name": "stderr",
     "output_type": "stream",
     "text": [
      "RuntimeWarning: divide by zero encountered in divide\n",
      "RuntimeWarning: divide by zero encountered in divide\n",
      "RuntimeWarning: divide by zero encountered in divide\n",
      "UserWarning: No band specific config information found, will use the input kwargs only the DEFAULT configurations in conf_kwargs_.\n"
     ]
    },
    {
     "name": "stdout",
     "output_type": "stream",
     "text": [
      "Setting band using default layout.\n",
      "Processing beam ../../APEX_2022/20220929/skychop_220929_0014.\n"
     ]
    },
    {
     "name": "stderr",
     "output_type": "stream",
     "text": [
      "RuntimeWarning: divide by zero encountered in divide\n",
      "RuntimeWarning: invalid value encountered in divide\n"
     ]
    },
    {
     "name": "stdout",
     "output_type": "stream",
     "text": [
      "Processing beam ../../APEX_2022/20220929/bias_step_0019.\n",
      "Processing beam ../../APEX_2022/20220929/bias_step_0020.\n",
      "running in parallel on 2 threads.\n"
     ]
    },
    {
     "name": "stderr",
     "output_type": "stream",
     "text": [
      "RuntimeWarning: divide by zero encountered in divide\n",
      "RuntimeWarning: divide by zero encountered in divide\n",
      "RuntimeWarning: divide by zero encountered in divide\n",
      "RuntimeWarning: divide by zero encountered in divide\n",
      "RuntimeWarning: divide by zero encountered in divide\n",
      "RuntimeWarning: divide by zero encountered in divide\n",
      "RuntimeWarning: divide by zero encountered in divide\n",
      "RuntimeWarning: divide by zero encountered in divide\n"
     ]
    },
    {
     "name": "stdout",
     "output_type": "stream",
     "text": [
      "Processing beam pair ../../APEX_2022/20220929/g244_220929_0001 and ../../APEX_2022/20220929/g244_220929_0000.Processing beam pair ../../APEX_2022/20220929/g244_220929_0007 and ../../APEX_2022/20220929/g244_220929_0006.Processing beam pair ../../APEX_2022/20220929/g244_220929_0005 and ../../APEX_2022/20220929/g244_220929_0004.Processing beam pair ../../APEX_2022/20220929/g244_220929_0003 and ../../APEX_2022/20220929/g244_220929_0002.\n",
      "Processing beam pair ../../APEX_2022/20220929/g244_220929_0009 and ../../APEX_2022/20220929/g244_220929_0008.\n",
      "\n",
      "\n",
      "Processing beam pair ../../APEX_2022/20220929/g244_220929_0011 and ../../APEX_2022/20220929/g244_220929_0010.Processing beam pair ../../APEX_2022/20220929/g244_220929_0013 and ../../APEX_2022/20220929/g244_220929_0012.\n",
      "Processing beam pair ../../APEX_2022/20220929/g244_220929_0015 and ../../APEX_2022/20220929/g244_220929_0014.\n",
      "\n",
      "\n",
      "running in parallel on 4 threads.\n"
     ]
    },
    {
     "name": "stderr",
     "output_type": "stream",
     "text": [
      "RuntimeWarning: divide by zero encountered in divide\n",
      "RuntimeWarning: divide by zero encountered in divide\n",
      "RuntimeWarning: divide by zero encountered in divide\n",
      "RuntimeWarning: divide by zero encountered in divide\n"
     ]
    },
    {
     "name": "stdout",
     "output_type": "stream",
     "text": [
      "Processing beam pair ../../APEX_2022/20220929/g244_220929_0017 and ../../APEX_2022/20220929/g244_220929_0016.\n"
     ]
    },
    {
     "name": "stderr",
     "output_type": "stream",
     "text": [
      "RuntimeWarning: divide by zero encountered in divide\n",
      "RuntimeWarning: divide by zero encountered in divide\n",
      "RuntimeWarning: divide by zero encountered in divide\n",
      "RuntimeWarning: divide by zero encountered in divide\n"
     ]
    },
    {
     "name": "stdout",
     "output_type": "stream",
     "text": [
      "Processing beam pair ../../APEX_2022/20220929/g244_220929_0019 and ../../APEX_2022/20220929/g244_220929_0018.\n"
     ]
    },
    {
     "name": "stderr",
     "output_type": "stream",
     "text": [
      "RuntimeWarning: divide by zero encountered in divide\n",
      "RuntimeWarning: divide by zero encountered in divide\n",
      "UserWarning: Extra time stamps truncated\n",
      "RuntimeWarning: divide by zero encountered in divide\n",
      "RuntimeWarning: divide by zero encountered in divide\n",
      "RuntimeWarning: divide by zero encountered in divide\n",
      "RuntimeWarning: divide by zero encountered in divide\n",
      "RuntimeWarning: divide by zero encountered in divide\n",
      "RuntimeWarning: divide by zero encountered in divide\n",
      "RuntimeWarning: divide by zero encountered in divide\n",
      "RuntimeWarning: divide by zero encountered in divide\n",
      "RuntimeWarning: divide by zero encountered in divide\n",
      "RuntimeWarning: divide by zero encountered in divide\n",
      "RuntimeWarning: divide by zero encountered in divide\n",
      "RuntimeWarning: divide by zero encountered in divide\n",
      "RuntimeWarning: divide by zero encountered in divide\n",
      "RuntimeWarning: divide by zero encountered in divide\n",
      "RuntimeWarning: divide by zero encountered in divide\n",
      "RuntimeWarning: divide by zero encountered in divide\n",
      "RuntimeWarning: divide by zero encountered in divide\n",
      "RuntimeWarning: divide by zero encountered in divide\n",
      "RuntimeWarning: divide by zero encountered in divide\n",
      "RuntimeWarning: divide by zero encountered in divide\n",
      "RuntimeWarning: divide by zero encountered in divide\n",
      "RuntimeWarning: divide by zero encountered in divide\n",
      "RuntimeWarning: divide by zero encountered in divide\n",
      "RuntimeWarning: divide by zero encountered in divide\n",
      "RuntimeWarning: divide by zero encountered in divide\n",
      "RuntimeWarning: divide by zero encountered in divide\n",
      "RuntimeWarning: divide by zero encountered in divide\n",
      "RuntimeWarning: divide by zero encountered in divide\n",
      "UserWarning: No band specific config information found, will use the input kwargs only the DEFAULT configurations in conf_kwargs_.\n",
      "UserWarning: No band specific config information found, will use the input kwargs only the DEFAULT configurations in conf_kwargs_.\n",
      "UserWarning: No band specific config information found, will use the input kwargs only the DEFAULT configurations in conf_kwargs_.\n"
     ]
    },
    {
     "name": "stdout",
     "output_type": "stream",
     "text": [
      "Setting band using default layout.\n"
     ]
    },
    {
     "name": "stderr",
     "output_type": "stream",
     "text": [
      "RuntimeWarning: divide by zero encountered in divide\n",
      "RuntimeWarning: divide by zero encountered in divide\n",
      "RuntimeWarning: divide by zero encountered in divide\n",
      "UserWarning: No band specific config information found, will use the input kwargs only the DEFAULT configurations in conf_kwargs_.\n"
     ]
    },
    {
     "name": "stdout",
     "output_type": "stream",
     "text": [
      "Setting band using default layout.\n",
      "Processing beam ../../APEX_2022/20220929/skychop_220929_0015.\n"
     ]
    },
    {
     "name": "stderr",
     "output_type": "stream",
     "text": [
      "RuntimeWarning: invalid value encountered in divide\n"
     ]
    },
    {
     "name": "stdout",
     "output_type": "stream",
     "text": [
      "Processing beam ../../APEX_2022/20220929/bias_step_0021.\n"
     ]
    },
    {
     "name": "stderr",
     "output_type": "stream",
     "text": [
      "RuntimeWarning: divide by zero encountered in divide\n",
      "RuntimeWarning: divide by zero encountered in divide\n",
      "RuntimeWarning: divide by zero encountered in divide\n",
      "RuntimeWarning: divide by zero encountered in divide\n"
     ]
    },
    {
     "name": "stdout",
     "output_type": "stream",
     "text": [
      "Processing beam pair ../../APEX_2022/20220929/g244_220929_0021 and ../../APEX_2022/20220929/g244_220929_0020.Processing beam pair ../../APEX_2022/20220929/g244_220929_0023 and ../../APEX_2022/20220929/g244_220929_0022.Processing beam pair ../../APEX_2022/20220929/g244_220929_0025 and ../../APEX_2022/20220929/g244_220929_0024.Processing beam pair ../../APEX_2022/20220929/g244_220929_0027 and ../../APEX_2022/20220929/g244_220929_0026.\n",
      "\n",
      "\n",
      "Processing beam pair ../../APEX_2022/20220929/g244_220929_0029 and ../../APEX_2022/20220929/g244_220929_0028.\n",
      "Processing beam pair ../../APEX_2022/20220929/g244_220929_0031 and ../../APEX_2022/20220929/g244_220929_0030.\n",
      "\n",
      "Processing beam pair ../../APEX_2022/20220929/g244_220929_0033 and ../../APEX_2022/20220929/g244_220929_0032.Processing beam pair ../../APEX_2022/20220929/g244_220929_0035 and ../../APEX_2022/20220929/g244_220929_0034.\n",
      "\n",
      "running in parallel on 4 threads.\n"
     ]
    },
    {
     "name": "stderr",
     "output_type": "stream",
     "text": [
      "UserWarning: Extra time stamps truncated\n",
      "RuntimeWarning: divide by zero encountered in divide\n",
      "RuntimeWarning: divide by zero encountered in divide\n",
      "RuntimeWarning: divide by zero encountered in divide\n",
      "RuntimeWarning: divide by zero encountered in divide\n",
      "RuntimeWarning: divide by zero encountered in divide\n",
      "RuntimeWarning: divide by zero encountered in divide\n",
      "RuntimeWarning: divide by zero encountered in divide\n"
     ]
    },
    {
     "name": "stdout",
     "output_type": "stream",
     "text": [
      "Processing beam pair ../../APEX_2022/20220929/g244_220929_0037 and ../../APEX_2022/20220929/g244_220929_0036.\n",
      "Processing beam pair ../../APEX_2022/20220929/g244_220929_0039 and ../../APEX_2022/20220929/g244_220929_0038.\n"
     ]
    },
    {
     "name": "stderr",
     "output_type": "stream",
     "text": [
      "RuntimeWarning: divide by zero encountered in divide\n",
      "RuntimeWarning: divide by zero encountered in divide\n",
      "RuntimeWarning: divide by zero encountered in divide\n",
      "RuntimeWarning: divide by zero encountered in divide\n",
      "RuntimeWarning: divide by zero encountered in divide\n",
      "RuntimeWarning: divide by zero encountered in divide\n",
      "RuntimeWarning: divide by zero encountered in divide\n",
      "RuntimeWarning: divide by zero encountered in divide\n",
      "RuntimeWarning: divide by zero encountered in divide\n",
      "RuntimeWarning: divide by zero encountered in divide\n",
      "RuntimeWarning: divide by zero encountered in divide\n",
      "RuntimeWarning: divide by zero encountered in divide\n",
      "RuntimeWarning: divide by zero encountered in divide\n",
      "RuntimeWarning: divide by zero encountered in divide\n",
      "RuntimeWarning: divide by zero encountered in divide\n",
      "RuntimeWarning: divide by zero encountered in divide\n",
      "RuntimeWarning: divide by zero encountered in divide\n",
      "RuntimeWarning: divide by zero encountered in divide\n",
      "RuntimeWarning: divide by zero encountered in divide\n",
      "RuntimeWarning: divide by zero encountered in divide\n",
      "RuntimeWarning: divide by zero encountered in divide\n",
      "RuntimeWarning: divide by zero encountered in divide\n",
      "RuntimeWarning: divide by zero encountered in divide\n",
      "RuntimeWarning: divide by zero encountered in divide\n",
      "RuntimeWarning: divide by zero encountered in divide\n",
      "RuntimeWarning: divide by zero encountered in divide\n",
      "RuntimeWarning: divide by zero encountered in divide\n",
      "RuntimeWarning: divide by zero encountered in divide\n",
      "RuntimeWarning: divide by zero encountered in divide\n",
      "RuntimeWarning: divide by zero encountered in divide\n",
      "RuntimeWarning: divide by zero encountered in divide\n",
      "UserWarning: No band specific config information found, will use the input kwargs only the DEFAULT configurations in conf_kwargs_.\n",
      "UserWarning: No band specific config information found, will use the input kwargs only the DEFAULT configurations in conf_kwargs_.\n",
      "UserWarning: No band specific config information found, will use the input kwargs only the DEFAULT configurations in conf_kwargs_.\n"
     ]
    },
    {
     "name": "stdout",
     "output_type": "stream",
     "text": [
      "Setting band using default layout.\n"
     ]
    },
    {
     "name": "stderr",
     "output_type": "stream",
     "text": [
      "RuntimeWarning: divide by zero encountered in divide\n",
      "RuntimeWarning: divide by zero encountered in divide\n",
      "RuntimeWarning: divide by zero encountered in divide\n",
      "UserWarning: No band specific config information found, will use the input kwargs only the DEFAULT configurations in conf_kwargs_.\n"
     ]
    },
    {
     "name": "stdout",
     "output_type": "stream",
     "text": [
      "Setting band using default layout.\n",
      "Processing beam ../../APEX_2022/20220929/skychop_220929_0017.\n"
     ]
    },
    {
     "name": "stderr",
     "output_type": "stream",
     "text": [
      "RuntimeWarning: invalid value encountered in divide\n"
     ]
    },
    {
     "name": "stdout",
     "output_type": "stream",
     "text": [
      "Processing beam ../../APEX_2022/20220929/bias_step_0022.\n",
      "Processing beam ../../APEX_2022/20220929/bias_step_0023.\n",
      "running in parallel on 2 threads.\n"
     ]
    },
    {
     "name": "stderr",
     "output_type": "stream",
     "text": [
      "RuntimeWarning: divide by zero encountered in divide\n",
      "RuntimeWarning: divide by zero encountered in divide\n",
      "RuntimeWarning: divide by zero encountered in divide\n",
      "RuntimeWarning: divide by zero encountered in divide\n",
      "RuntimeWarning: divide by zero encountered in divide\n",
      "RuntimeWarning: divide by zero encountered in divide\n",
      "RuntimeWarning: divide by zero encountered in divide\n",
      "RuntimeWarning: divide by zero encountered in divide\n"
     ]
    },
    {
     "name": "stdout",
     "output_type": "stream",
     "text": [
      "Processing beam pair ../../APEX_2022/20220929/plckg200_220929_0001 and ../../APEX_2022/20220929/plckg200_220929_0000.Processing beam pair ../../APEX_2022/20220929/plckg200_220929_0003 and ../../APEX_2022/20220929/plckg200_220929_0002.Processing beam pair ../../APEX_2022/20220929/plckg200_220929_0007 and ../../APEX_2022/20220929/plckg200_220929_0006.Processing beam pair ../../APEX_2022/20220929/plckg200_220929_0005 and ../../APEX_2022/20220929/plckg200_220929_0004.\n",
      "\n",
      "\n",
      "Processing beam pair ../../APEX_2022/20220929/plckg200_220929_0013 and ../../APEX_2022/20220929/plckg200_220929_0012.Processing beam pair ../../APEX_2022/20220929/plckg200_220929_0011 and ../../APEX_2022/20220929/plckg200_220929_0010.Processing beam pair ../../APEX_2022/20220929/plckg200_220929_0009 and ../../APEX_2022/20220929/plckg200_220929_0008.\n",
      "\n",
      "\n",
      "Processing beam pair ../../APEX_2022/20220929/plckg200_220929_0015 and ../../APEX_2022/20220929/plckg200_220929_0014.\n",
      "\n",
      "running in parallel on 4 threads.\n"
     ]
    },
    {
     "name": "stderr",
     "output_type": "stream",
     "text": [
      "UserWarning: Extra time stamps truncated\n",
      "RuntimeWarning: divide by zero encountered in divide\n",
      "RuntimeWarning: divide by zero encountered in divide\n",
      "RuntimeWarning: divide by zero encountered in divide\n",
      "RuntimeWarning: divide by zero encountered in divide\n"
     ]
    },
    {
     "name": "stdout",
     "output_type": "stream",
     "text": [
      "Processing beam pair ../../APEX_2022/20220929/plckg200_220929_0017 and ../../APEX_2022/20220929/plckg200_220929_0016.\n"
     ]
    },
    {
     "name": "stderr",
     "output_type": "stream",
     "text": [
      "RuntimeWarning: divide by zero encountered in divide\n",
      "RuntimeWarning: divide by zero encountered in divide\n",
      "RuntimeWarning: divide by zero encountered in divide\n",
      "UserWarning: Extra time stamps truncated\n",
      "RuntimeWarning: divide by zero encountered in divide\n",
      "RuntimeWarning: divide by zero encountered in divide\n",
      "RuntimeWarning: divide by zero encountered in divide\n",
      "RuntimeWarning: divide by zero encountered in divide\n"
     ]
    },
    {
     "name": "stdout",
     "output_type": "stream",
     "text": [
      "Processing beam pair ../../APEX_2022/20220929/plckg200_220929_0019 and ../../APEX_2022/20220929/plckg200_220929_0018.\n"
     ]
    },
    {
     "name": "stderr",
     "output_type": "stream",
     "text": [
      "RuntimeWarning: divide by zero encountered in divide\n",
      "RuntimeWarning: divide by zero encountered in divide\n",
      "RuntimeWarning: divide by zero encountered in divide\n",
      "RuntimeWarning: divide by zero encountered in divide\n",
      "RuntimeWarning: divide by zero encountered in divide\n",
      "RuntimeWarning: divide by zero encountered in divide\n",
      "RuntimeWarning: divide by zero encountered in divide\n",
      "RuntimeWarning: divide by zero encountered in divide\n",
      "RuntimeWarning: divide by zero encountered in divide\n",
      "RuntimeWarning: divide by zero encountered in divide\n",
      "RuntimeWarning: divide by zero encountered in divide\n",
      "RuntimeWarning: divide by zero encountered in divide\n",
      "RuntimeWarning: divide by zero encountered in divide\n",
      "RuntimeWarning: divide by zero encountered in divide\n",
      "RuntimeWarning: divide by zero encountered in divide\n",
      "RuntimeWarning: divide by zero encountered in divide\n",
      "RuntimeWarning: divide by zero encountered in divide\n",
      "RuntimeWarning: divide by zero encountered in divide\n",
      "RuntimeWarning: divide by zero encountered in divide\n",
      "RuntimeWarning: divide by zero encountered in divide\n",
      "RuntimeWarning: divide by zero encountered in divide\n",
      "RuntimeWarning: divide by zero encountered in divide\n",
      "RuntimeWarning: divide by zero encountered in divide\n",
      "RuntimeWarning: divide by zero encountered in divide\n",
      "RuntimeWarning: divide by zero encountered in divide\n",
      "RuntimeWarning: divide by zero encountered in divide\n",
      "RuntimeWarning: divide by zero encountered in divide\n",
      "UserWarning: No band specific config information found, will use the input kwargs only the DEFAULT configurations in conf_kwargs_.\n",
      "UserWarning: No band specific config information found, will use the input kwargs only the DEFAULT configurations in conf_kwargs_.\n",
      "UserWarning: No band specific config information found, will use the input kwargs only the DEFAULT configurations in conf_kwargs_.\n"
     ]
    },
    {
     "name": "stdout",
     "output_type": "stream",
     "text": [
      "Setting band using default layout.\n"
     ]
    },
    {
     "name": "stderr",
     "output_type": "stream",
     "text": [
      "RuntimeWarning: divide by zero encountered in divide\n",
      "RuntimeWarning: divide by zero encountered in divide\n",
      "RuntimeWarning: divide by zero encountered in divide\n",
      "UserWarning: No band specific config information found, will use the input kwargs only the DEFAULT configurations in conf_kwargs_.\n"
     ]
    },
    {
     "name": "stdout",
     "output_type": "stream",
     "text": [
      "Setting band using default layout.\n",
      "Processing beam ../../APEX_2022/20220929/skychop_220929_0018.\n"
     ]
    },
    {
     "name": "stderr",
     "output_type": "stream",
     "text": [
      "RuntimeWarning: invalid value encountered in divide\n"
     ]
    },
    {
     "name": "stdout",
     "output_type": "stream",
     "text": [
      "Processing beam ../../APEX_2022/20220929/bias_step_0024.\n"
     ]
    },
    {
     "name": "stderr",
     "output_type": "stream",
     "text": [
      "RuntimeWarning: divide by zero encountered in divide\n",
      "RuntimeWarning: divide by zero encountered in divide\n",
      "RuntimeWarning: divide by zero encountered in divide\n",
      "RuntimeWarning: divide by zero encountered in divide\n"
     ]
    },
    {
     "name": "stdout",
     "output_type": "stream",
     "text": [
      "Processing beam pair ../../APEX_2022/20220929/plckg200_220929_0021 and ../../APEX_2022/20220929/plckg200_220929_0020.\n",
      "Processing beam pair ../../APEX_2022/20220929/plckg200_220929_0023 and ../../APEX_2022/20220929/plckg200_220929_0022.Processing beam pair ../../APEX_2022/20220929/plckg200_220929_0027 and ../../APEX_2022/20220929/plckg200_220929_0026.Processing beam pair ../../APEX_2022/20220929/plckg200_220929_0025 and ../../APEX_2022/20220929/plckg200_220929_0024.\n",
      "Processing beam pair ../../APEX_2022/20220929/plckg200_220929_0029 and ../../APEX_2022/20220929/plckg200_220929_0028.Processing beam pair ../../APEX_2022/20220929/plckg200_220929_0031 and ../../APEX_2022/20220929/plckg200_220929_0030.\n",
      "Processing beam pair ../../APEX_2022/20220929/plckg200_220929_0033 and ../../APEX_2022/20220929/plckg200_220929_0032.\n",
      "\n",
      "\n",
      "\n",
      "Processing beam pair ../../APEX_2022/20220929/plckg200_220929_0035 and ../../APEX_2022/20220929/plckg200_220929_0034.\n",
      "running in parallel on 4 threads.\n"
     ]
    },
    {
     "name": "stderr",
     "output_type": "stream",
     "text": [
      "UserWarning: Extra time stamps truncated\n",
      "RuntimeWarning: divide by zero encountered in divide\n",
      "RuntimeWarning: divide by zero encountered in divide\n",
      "RuntimeWarning: divide by zero encountered in divide\n",
      "RuntimeWarning: divide by zero encountered in divide\n"
     ]
    },
    {
     "name": "stdout",
     "output_type": "stream",
     "text": [
      "Processing beam pair ../../APEX_2022/20220929/plckg200_220929_0037 and ../../APEX_2022/20220929/plckg200_220929_0036.\n"
     ]
    },
    {
     "name": "stderr",
     "output_type": "stream",
     "text": [
      "RuntimeWarning: divide by zero encountered in divide\n",
      "RuntimeWarning: divide by zero encountered in divide\n",
      "RuntimeWarning: divide by zero encountered in divide\n"
     ]
    },
    {
     "name": "stdout",
     "output_type": "stream",
     "text": [
      "Processing beam pair ../../APEX_2022/20220929/plckg200_220929_0039 and ../../APEX_2022/20220929/plckg200_220929_0038.\n"
     ]
    },
    {
     "name": "stderr",
     "output_type": "stream",
     "text": [
      "RuntimeWarning: divide by zero encountered in divide\n",
      "RuntimeWarning: divide by zero encountered in divide\n",
      "RuntimeWarning: divide by zero encountered in divide\n",
      "RuntimeWarning: divide by zero encountered in divide\n",
      "RuntimeWarning: divide by zero encountered in divide\n",
      "RuntimeWarning: divide by zero encountered in divide\n",
      "RuntimeWarning: divide by zero encountered in divide\n",
      "RuntimeWarning: divide by zero encountered in divide\n",
      "RuntimeWarning: divide by zero encountered in divide\n",
      "RuntimeWarning: divide by zero encountered in divide\n",
      "RuntimeWarning: divide by zero encountered in divide\n",
      "RuntimeWarning: divide by zero encountered in divide\n",
      "RuntimeWarning: divide by zero encountered in divide\n",
      "RuntimeWarning: divide by zero encountered in divide\n",
      "RuntimeWarning: divide by zero encountered in divide\n",
      "RuntimeWarning: divide by zero encountered in divide\n",
      "RuntimeWarning: divide by zero encountered in divide\n",
      "RuntimeWarning: divide by zero encountered in divide\n",
      "RuntimeWarning: divide by zero encountered in divide\n",
      "RuntimeWarning: divide by zero encountered in divide\n",
      "RuntimeWarning: divide by zero encountered in divide\n",
      "RuntimeWarning: divide by zero encountered in divide\n",
      "RuntimeWarning: divide by zero encountered in divide\n",
      "RuntimeWarning: divide by zero encountered in divide\n",
      "RuntimeWarning: divide by zero encountered in divide\n",
      "RuntimeWarning: divide by zero encountered in divide\n",
      "RuntimeWarning: divide by zero encountered in divide\n",
      "RuntimeWarning: divide by zero encountered in divide\n",
      "RuntimeWarning: divide by zero encountered in divide\n",
      "UserWarning: No band specific config information found, will use the input kwargs only the DEFAULT configurations in conf_kwargs_.\n",
      "UserWarning: No band specific config information found, will use the input kwargs only the DEFAULT configurations in conf_kwargs_.\n",
      "UserWarning: No band specific config information found, will use the input kwargs only the DEFAULT configurations in conf_kwargs_.\n"
     ]
    },
    {
     "name": "stdout",
     "output_type": "stream",
     "text": [
      "Setting band using default layout.\n"
     ]
    },
    {
     "name": "stderr",
     "output_type": "stream",
     "text": [
      "RuntimeWarning: divide by zero encountered in divide\n",
      "RuntimeWarning: divide by zero encountered in divide\n",
      "RuntimeWarning: divide by zero encountered in divide\n",
      "UserWarning: No band specific config information found, will use the input kwargs only the DEFAULT configurations in conf_kwargs_.\n"
     ]
    },
    {
     "name": "stdout",
     "output_type": "stream",
     "text": [
      "Setting band using default layout.\n",
      "Processing beam ../../APEX_2022/20220929/skychop_220929_0019.\n"
     ]
    },
    {
     "name": "stderr",
     "output_type": "stream",
     "text": [
      "RuntimeWarning: divide by zero encountered in divide\n",
      "RuntimeWarning: invalid value encountered in divide\n"
     ]
    },
    {
     "name": "stdout",
     "output_type": "stream",
     "text": [
      "Processing beam ../../APEX_2022/20220929/bias_step_0025.\n"
     ]
    },
    {
     "name": "stderr",
     "output_type": "stream",
     "text": [
      "RuntimeWarning: divide by zero encountered in divide\n",
      "RuntimeWarning: divide by zero encountered in divide\n",
      "RuntimeWarning: divide by zero encountered in divide\n",
      "RuntimeWarning: divide by zero encountered in divide\n"
     ]
    },
    {
     "name": "stdout",
     "output_type": "stream",
     "text": [
      "Processing beam pair ../../APEX_2022/20220929/SCIENCE_220929_0003 and ../../APEX_2022/20220929/SCIENCE_220929_0002.\n",
      "Processing beam pair ../../APEX_2022/20220929/SCIENCE_220929_0007 and ../../APEX_2022/20220929/SCIENCE_220929_0006.Processing beam pair ../../APEX_2022/20220929/SCIENCE_220929_0005 and ../../APEX_2022/20220929/SCIENCE_220929_0004.Processing beam pair ../../APEX_2022/20220929/SCIENCE_220929_0009 and ../../APEX_2022/20220929/SCIENCE_220929_0008.Processing beam pair ../../APEX_2022/20220929/SCIENCE_220929_0001 and ../../APEX_2022/20220929/SCIENCE_220929_0000.Processing beam pair ../../APEX_2022/20220929/SCIENCE_220929_0011 and ../../APEX_2022/20220929/SCIENCE_220929_0010.\n",
      "\n",
      "\n",
      "Processing beam pair ../../APEX_2022/20220929/SCIENCE_220929_0013 and ../../APEX_2022/20220929/SCIENCE_220929_0012.\n",
      "Processing beam pair ../../APEX_2022/20220929/SCIENCE_220929_0015 and ../../APEX_2022/20220929/SCIENCE_220929_0014.\n",
      "\n",
      "\n",
      "running in parallel on 4 threads.\n"
     ]
    },
    {
     "name": "stderr",
     "output_type": "stream",
     "text": [
      "UserWarning: Extra time stamps truncated\n",
      "UserWarning: Extra time stamps truncated\n",
      "RuntimeWarning: divide by zero encountered in divide\n",
      "RuntimeWarning: divide by zero encountered in divide\n",
      "RuntimeWarning: divide by zero encountered in divide\n",
      "RuntimeWarning: divide by zero encountered in divide\n",
      "RuntimeWarning: divide by zero encountered in divide\n",
      "RuntimeWarning: divide by zero encountered in divide\n",
      "RuntimeWarning: divide by zero encountered in divide\n",
      "RuntimeWarning: divide by zero encountered in divide\n",
      "RuntimeWarning: divide by zero encountered in divide\n",
      "RuntimeWarning: divide by zero encountered in divide\n"
     ]
    },
    {
     "name": "stdout",
     "output_type": "stream",
     "text": [
      "Processing beam pair ../../APEX_2022/20220929/SCIENCE_220929_0017 and ../../APEX_2022/20220929/SCIENCE_220929_0016.\n"
     ]
    },
    {
     "name": "stderr",
     "output_type": "stream",
     "text": [
      "RuntimeWarning: divide by zero encountered in divide\n"
     ]
    },
    {
     "name": "stdout",
     "output_type": "stream",
     "text": [
      "Processing beam pair ../../APEX_2022/20220929/SCIENCE_220929_0019 and ../../APEX_2022/20220929/SCIENCE_220929_0018.\n"
     ]
    },
    {
     "name": "stderr",
     "output_type": "stream",
     "text": [
      "RuntimeWarning: divide by zero encountered in divide\n",
      "RuntimeWarning: divide by zero encountered in divide\n",
      "RuntimeWarning: divide by zero encountered in divide\n",
      "RuntimeWarning: divide by zero encountered in divide\n",
      "RuntimeWarning: divide by zero encountered in divide\n",
      "RuntimeWarning: divide by zero encountered in divide\n",
      "RuntimeWarning: divide by zero encountered in divide\n",
      "RuntimeWarning: divide by zero encountered in divide\n",
      "RuntimeWarning: divide by zero encountered in divide\n",
      "RuntimeWarning: divide by zero encountered in divide\n",
      "RuntimeWarning: divide by zero encountered in divide\n",
      "RuntimeWarning: divide by zero encountered in divide\n",
      "RuntimeWarning: divide by zero encountered in divide\n",
      "RuntimeWarning: divide by zero encountered in divide\n",
      "RuntimeWarning: divide by zero encountered in divide\n",
      "RuntimeWarning: divide by zero encountered in divide\n",
      "RuntimeWarning: divide by zero encountered in divide\n",
      "RuntimeWarning: divide by zero encountered in divide\n",
      "RuntimeWarning: divide by zero encountered in divide\n",
      "RuntimeWarning: divide by zero encountered in divide\n",
      "RuntimeWarning: divide by zero encountered in divide\n",
      "RuntimeWarning: divide by zero encountered in divide\n",
      "RuntimeWarning: divide by zero encountered in divide\n",
      "RuntimeWarning: divide by zero encountered in divide\n",
      "RuntimeWarning: divide by zero encountered in divide\n",
      "RuntimeWarning: divide by zero encountered in divide\n",
      "RuntimeWarning: divide by zero encountered in divide\n",
      "UserWarning: No band specific config information found, will use the input kwargs only the DEFAULT configurations in conf_kwargs_.\n",
      "UserWarning: No band specific config information found, will use the input kwargs only the DEFAULT configurations in conf_kwargs_.\n",
      "UserWarning: No band specific config information found, will use the input kwargs only the DEFAULT configurations in conf_kwargs_.\n"
     ]
    },
    {
     "name": "stdout",
     "output_type": "stream",
     "text": [
      "Setting band using default layout.\n"
     ]
    },
    {
     "name": "stderr",
     "output_type": "stream",
     "text": [
      "RuntimeWarning: divide by zero encountered in divide\n",
      "RuntimeWarning: divide by zero encountered in divide\n",
      "RuntimeWarning: divide by zero encountered in divide\n",
      "UserWarning: No band specific config information found, will use the input kwargs only the DEFAULT configurations in conf_kwargs_.\n"
     ]
    },
    {
     "name": "stdout",
     "output_type": "stream",
     "text": [
      "Setting band using default layout.\n",
      "Processing beam ../../APEX_2022/20220929/skychop_220929_0020.\n"
     ]
    },
    {
     "name": "stderr",
     "output_type": "stream",
     "text": [
      "RuntimeWarning: invalid value encountered in divide\n"
     ]
    },
    {
     "name": "stdout",
     "output_type": "stream",
     "text": [
      "Processing beam ../../APEX_2022/20220929/bias_step_0026.\n"
     ]
    },
    {
     "name": "stderr",
     "output_type": "stream",
     "text": [
      "RuntimeWarning: divide by zero encountered in divide\n",
      "RuntimeWarning: divide by zero encountered in divide\n",
      "RuntimeWarning: divide by zero encountered in divide\n",
      "RuntimeWarning: divide by zero encountered in divide\n"
     ]
    },
    {
     "name": "stdout",
     "output_type": "stream",
     "text": [
      "Processing beam pair ../../APEX_2022/20220929/SCIENCE_220929_0021 and ../../APEX_2022/20220929/SCIENCE_220929_0020.Processing beam pair ../../APEX_2022/20220929/SCIENCE_220929_0023 and ../../APEX_2022/20220929/SCIENCE_220929_0022.Processing beam pair ../../APEX_2022/20220929/SCIENCE_220929_0025 and ../../APEX_2022/20220929/SCIENCE_220929_0024.\n",
      "\n",
      "Processing beam pair ../../APEX_2022/20220929/SCIENCE_220929_0029 and ../../APEX_2022/20220929/SCIENCE_220929_0028.Processing beam pair ../../APEX_2022/20220929/SCIENCE_220929_0027 and ../../APEX_2022/20220929/SCIENCE_220929_0026.\n",
      "\n",
      "Processing beam pair ../../APEX_2022/20220929/SCIENCE_220929_0033 and ../../APEX_2022/20220929/SCIENCE_220929_0032.\n",
      "Processing beam pair ../../APEX_2022/20220929/SCIENCE_220929_0031 and ../../APEX_2022/20220929/SCIENCE_220929_0030.\n",
      "Processing beam pair ../../APEX_2022/20220929/SCIENCE_220929_0035 and ../../APEX_2022/20220929/SCIENCE_220929_0034.\n",
      "\n",
      "running in parallel on 4 threads.\n"
     ]
    },
    {
     "name": "stderr",
     "output_type": "stream",
     "text": [
      "RuntimeWarning: divide by zero encountered in divide\n",
      "RuntimeWarning: divide by zero encountered in divide\n",
      "RuntimeWarning: divide by zero encountered in divide\n",
      "RuntimeWarning: divide by zero encountered in divide\n",
      "RuntimeWarning: divide by zero encountered in divide\n",
      "RuntimeWarning: divide by zero encountered in divide\n",
      "RuntimeWarning: divide by zero encountered in divide\n"
     ]
    },
    {
     "name": "stdout",
     "output_type": "stream",
     "text": [
      "Processing beam pair ../../APEX_2022/20220929/SCIENCE_220929_0037 and ../../APEX_2022/20220929/SCIENCE_220929_0036.\n"
     ]
    },
    {
     "name": "stderr",
     "output_type": "stream",
     "text": [
      "RuntimeWarning: divide by zero encountered in divide\n",
      "RuntimeWarning: divide by zero encountered in divide\n",
      "RuntimeWarning: divide by zero encountered in divide\n",
      "RuntimeWarning: divide by zero encountered in divide\n",
      "RuntimeWarning: divide by zero encountered in divide\n",
      "RuntimeWarning: divide by zero encountered in divide\n",
      "RuntimeWarning: divide by zero encountered in divide\n",
      "RuntimeWarning: divide by zero encountered in divide\n",
      "RuntimeWarning: divide by zero encountered in divide\n"
     ]
    },
    {
     "name": "stdout",
     "output_type": "stream",
     "text": [
      "Processing beam pair ../../APEX_2022/20220929/SCIENCE_220929_0039 and ../../APEX_2022/20220929/SCIENCE_220929_0038.\n"
     ]
    },
    {
     "name": "stderr",
     "output_type": "stream",
     "text": [
      "RuntimeWarning: divide by zero encountered in divide\n",
      "RuntimeWarning: divide by zero encountered in divide\n",
      "RuntimeWarning: divide by zero encountered in divide\n",
      "RuntimeWarning: divide by zero encountered in divide\n",
      "RuntimeWarning: divide by zero encountered in divide\n",
      "RuntimeWarning: divide by zero encountered in divide\n",
      "RuntimeWarning: divide by zero encountered in divide\n",
      "RuntimeWarning: divide by zero encountered in divide\n",
      "RuntimeWarning: divide by zero encountered in divide\n",
      "RuntimeWarning: divide by zero encountered in divide\n",
      "RuntimeWarning: divide by zero encountered in divide\n",
      "RuntimeWarning: divide by zero encountered in divide\n",
      "RuntimeWarning: divide by zero encountered in divide\n",
      "RuntimeWarning: divide by zero encountered in divide\n",
      "RuntimeWarning: divide by zero encountered in divide\n",
      "RuntimeWarning: divide by zero encountered in divide\n",
      "RuntimeWarning: divide by zero encountered in divide\n",
      "RuntimeWarning: divide by zero encountered in divide\n",
      "RuntimeWarning: divide by zero encountered in divide\n",
      "RuntimeWarning: divide by zero encountered in divide\n",
      "RuntimeWarning: divide by zero encountered in divide\n",
      "RuntimeWarning: divide by zero encountered in divide\n",
      "RuntimeWarning: divide by zero encountered in divide\n",
      "UserWarning: No band specific config information found, will use the input kwargs only the DEFAULT configurations in conf_kwargs_.\n",
      "UserWarning: No band specific config information found, will use the input kwargs only the DEFAULT configurations in conf_kwargs_.\n",
      "UserWarning: No band specific config information found, will use the input kwargs only the DEFAULT configurations in conf_kwargs_.\n"
     ]
    },
    {
     "name": "stdout",
     "output_type": "stream",
     "text": [
      "Setting band using default layout.\n"
     ]
    },
    {
     "name": "stderr",
     "output_type": "stream",
     "text": [
      "RuntimeWarning: divide by zero encountered in divide\n",
      "RuntimeWarning: divide by zero encountered in divide\n",
      "RuntimeWarning: divide by zero encountered in divide\n",
      "UserWarning: No band specific config information found, will use the input kwargs only the DEFAULT configurations in conf_kwargs_.\n"
     ]
    },
    {
     "name": "stdout",
     "output_type": "stream",
     "text": [
      "Setting band using default layout.\n",
      "Processing beam ../../APEX_2022/20220930/skychop_220930_0034.\n",
      "Processing beam ../../APEX_2022/20220930/skychop_220930_0035.\n",
      "running in parallel on 2 threads.\n"
     ]
    },
    {
     "name": "stderr",
     "output_type": "stream",
     "text": [
      "RuntimeWarning: invalid value encountered in divide\n",
      "RuntimeWarning: invalid value encountered in divide\n"
     ]
    },
    {
     "name": "stdout",
     "output_type": "stream",
     "text": [
      "Processing beam ../../APEX_2022/20220930/bias_step_0063.Processing beam ../../APEX_2022/20220930/bias_step_0062.\n",
      "\n",
      "Processing beam ../../APEX_2022/20220930/bias_step_0064.\n",
      "running in parallel on 3 threads.\n"
     ]
    },
    {
     "name": "stderr",
     "output_type": "stream",
     "text": [
      "RuntimeWarning: divide by zero encountered in divide\n",
      "RuntimeWarning: divide by zero encountered in divide\n",
      "RuntimeWarning: divide by zero encountered in divide\n",
      "RuntimeWarning: divide by zero encountered in divide\n",
      "RuntimeWarning: divide by zero encountered in divide\n",
      "RuntimeWarning: divide by zero encountered in divide\n",
      "RuntimeWarning: divide by zero encountered in divide\n",
      "RuntimeWarning: divide by zero encountered in divide\n",
      "RuntimeWarning: divide by zero encountered in divide\n",
      "RuntimeWarning: divide by zero encountered in divide\n",
      "RuntimeWarning: divide by zero encountered in divide\n",
      "RuntimeWarning: divide by zero encountered in divide\n"
     ]
    },
    {
     "name": "stdout",
     "output_type": "stream",
     "text": [
      "Processing beam pair ../../APEX_2022/20220930/plckg200_220930_0003 and ../../APEX_2022/20220930/plckg200_220930_0002.Processing beam pair ../../APEX_2022/20220930/plckg200_220930_0005 and ../../APEX_2022/20220930/plckg200_220930_0004.Processing beam pair ../../APEX_2022/20220930/plckg200_220930_0007 and ../../APEX_2022/20220930/plckg200_220930_0006.Processing beam pair ../../APEX_2022/20220930/plckg200_220930_0001 and ../../APEX_2022/20220930/plckg200_220930_0000.\n",
      "\n",
      "Processing beam pair ../../APEX_2022/20220930/plckg200_220930_0013 and ../../APEX_2022/20220930/plckg200_220930_0012.\n",
      "Processing beam pair ../../APEX_2022/20220930/plckg200_220930_0009 and ../../APEX_2022/20220930/plckg200_220930_0008.\n",
      "Processing beam pair ../../APEX_2022/20220930/plckg200_220930_0011 and ../../APEX_2022/20220930/plckg200_220930_0010.Processing beam pair ../../APEX_2022/20220930/plckg200_220930_0015 and ../../APEX_2022/20220930/plckg200_220930_0014.\n",
      "\n",
      "\n",
      "\n",
      "running in parallel on 4 threads.\n"
     ]
    },
    {
     "name": "stderr",
     "output_type": "stream",
     "text": [
      "UserWarning: Extra time stamps truncated\n",
      "RuntimeWarning: divide by zero encountered in divide\n",
      "RuntimeWarning: divide by zero encountered in divide\n",
      "RuntimeWarning: divide by zero encountered in divide\n",
      "RuntimeWarning: divide by zero encountered in divide\n",
      "RuntimeWarning: divide by zero encountered in divide\n",
      "RuntimeWarning: divide by zero encountered in divide\n",
      "RuntimeWarning: divide by zero encountered in divide\n"
     ]
    },
    {
     "name": "stdout",
     "output_type": "stream",
     "text": [
      "Processing beam pair ../../APEX_2022/20220930/plckg200_220930_0017 and ../../APEX_2022/20220930/plckg200_220930_0016.\n",
      "Processing beam pair ../../APEX_2022/20220930/plckg200_220930_0019 and ../../APEX_2022/20220930/plckg200_220930_0018.\n"
     ]
    },
    {
     "name": "stderr",
     "output_type": "stream",
     "text": [
      "RuntimeWarning: divide by zero encountered in divide\n",
      "RuntimeWarning: divide by zero encountered in divide\n",
      "RuntimeWarning: divide by zero encountered in divide\n",
      "RuntimeWarning: divide by zero encountered in divide\n",
      "RuntimeWarning: divide by zero encountered in divide\n"
     ]
    },
    {
     "name": "stdout",
     "output_type": "stream",
     "text": [
      "\n",
      "Processing beam pair ../../APEX_2022/20220930/plckg200_220930_0021 and ../../APEX_2022/20220930/plckg200_220930_0020."
     ]
    },
    {
     "name": "stderr",
     "output_type": "stream",
     "text": [
      "RuntimeWarning: divide by zero encountered in divide\n",
      "RuntimeWarning: divide by zero encountered in divide\n",
      "RuntimeWarning: divide by zero encountered in divide\n",
      "RuntimeWarning: divide by zero encountered in divide\n"
     ]
    },
    {
     "name": "stdout",
     "output_type": "stream",
     "text": [
      "Processing beam pair ../../APEX_2022/20220930/plckg200_220930_0023 and ../../APEX_2022/20220930/plckg200_220930_0022.\n"
     ]
    },
    {
     "name": "stderr",
     "output_type": "stream",
     "text": [
      "RuntimeWarning: divide by zero encountered in divide\n",
      "RuntimeWarning: divide by zero encountered in divide\n",
      "RuntimeWarning: divide by zero encountered in divide\n"
     ]
    },
    {
     "name": "stdout",
     "output_type": "stream",
     "text": [
      "Processing beam pair ../../APEX_2022/20220930/plckg200_220930_0025 and ../../APEX_2022/20220930/plckg200_220930_0024.\n"
     ]
    },
    {
     "name": "stderr",
     "output_type": "stream",
     "text": [
      "RuntimeWarning: divide by zero encountered in divide\n",
      "RuntimeWarning: divide by zero encountered in divide\n",
      "RuntimeWarning: divide by zero encountered in divide\n",
      "RuntimeWarning: divide by zero encountered in divide\n",
      "RuntimeWarning: divide by zero encountered in divide\n"
     ]
    },
    {
     "name": "stdout",
     "output_type": "stream",
     "text": [
      "Processing beam pair ../../APEX_2022/20220930/plckg200_220930_0027 and ../../APEX_2022/20220930/plckg200_220930_0026.\n"
     ]
    },
    {
     "name": "stderr",
     "output_type": "stream",
     "text": [
      "RuntimeWarning: divide by zero encountered in divide\n",
      "RuntimeWarning: divide by zero encountered in divide\n",
      "RuntimeWarning: divide by zero encountered in divide\n"
     ]
    },
    {
     "name": "stdout",
     "output_type": "stream",
     "text": [
      "Processing beam pair ../../APEX_2022/20220930/plckg200_220930_0029 and ../../APEX_2022/20220930/plckg200_220930_0028.\n"
     ]
    },
    {
     "name": "stderr",
     "output_type": "stream",
     "text": [
      "RuntimeWarning: divide by zero encountered in divide\n",
      "RuntimeWarning: divide by zero encountered in divide\n",
      "RuntimeWarning: divide by zero encountered in divide\n",
      "RuntimeWarning: divide by zero encountered in divide\n"
     ]
    },
    {
     "name": "stdout",
     "output_type": "stream",
     "text": [
      "Processing beam pair ../../APEX_2022/20220930/plckg200_220930_0031 and ../../APEX_2022/20220930/plckg200_220930_0030.\n"
     ]
    },
    {
     "name": "stderr",
     "output_type": "stream",
     "text": [
      "RuntimeWarning: divide by zero encountered in divide\n",
      "RuntimeWarning: divide by zero encountered in divide\n",
      "RuntimeWarning: divide by zero encountered in divide\n",
      "RuntimeWarning: divide by zero encountered in divide\n",
      "RuntimeWarning: divide by zero encountered in divide\n"
     ]
    },
    {
     "name": "stdout",
     "output_type": "stream",
     "text": [
      "Processing beam pair ../../APEX_2022/20220930/plckg200_220930_0033 and ../../APEX_2022/20220930/plckg200_220930_0032.\n"
     ]
    },
    {
     "name": "stderr",
     "output_type": "stream",
     "text": [
      "RuntimeWarning: divide by zero encountered in divide\n",
      "RuntimeWarning: divide by zero encountered in divide\n",
      "RuntimeWarning: divide by zero encountered in divide\n"
     ]
    },
    {
     "name": "stdout",
     "output_type": "stream",
     "text": [
      "Processing beam pair ../../APEX_2022/20220930/plckg200_220930_0035 and ../../APEX_2022/20220930/plckg200_220930_0034.\n"
     ]
    },
    {
     "name": "stderr",
     "output_type": "stream",
     "text": [
      "RuntimeWarning: divide by zero encountered in divide\n",
      "RuntimeWarning: divide by zero encountered in divide\n",
      "RuntimeWarning: divide by zero encountered in divide\n",
      "RuntimeWarning: divide by zero encountered in divide\n",
      "RuntimeWarning: divide by zero encountered in divide\n",
      "RuntimeWarning: divide by zero encountered in divide\n",
      "RuntimeWarning: divide by zero encountered in divide\n"
     ]
    },
    {
     "name": "stdout",
     "output_type": "stream",
     "text": [
      "Processing beam pair ../../APEX_2022/20220930/plckg200_220930_0037 and ../../APEX_2022/20220930/plckg200_220930_0036.\n",
      "Processing beam pair ../../APEX_2022/20220930/plckg200_220930_0039 and ../../APEX_2022/20220930/plckg200_220930_0038.\n"
     ]
    },
    {
     "name": "stderr",
     "output_type": "stream",
     "text": [
      "RuntimeWarning: divide by zero encountered in divide\n",
      "RuntimeWarning: divide by zero encountered in divide\n",
      "RuntimeWarning: divide by zero encountered in divide\n",
      "RuntimeWarning: divide by zero encountered in divide\n",
      "RuntimeWarning: divide by zero encountered in divide\n",
      "RuntimeWarning: divide by zero encountered in divide\n",
      "RuntimeWarning: divide by zero encountered in divide\n",
      "RuntimeWarning: divide by zero encountered in divide\n",
      "RuntimeWarning: divide by zero encountered in divide\n",
      "RuntimeWarning: divide by zero encountered in divide\n",
      "RuntimeWarning: divide by zero encountered in divide\n",
      "RuntimeWarning: divide by zero encountered in divide\n",
      "RuntimeWarning: divide by zero encountered in divide\n",
      "RuntimeWarning: divide by zero encountered in divide\n",
      "RuntimeWarning: divide by zero encountered in divide\n",
      "RuntimeWarning: divide by zero encountered in divide\n",
      "RuntimeWarning: divide by zero encountered in divide\n",
      "RuntimeWarning: divide by zero encountered in divide\n",
      "RuntimeWarning: divide by zero encountered in divide\n",
      "RuntimeWarning: divide by zero encountered in divide\n",
      "RuntimeWarning: divide by zero encountered in divide\n",
      "RuntimeWarning: divide by zero encountered in divide\n",
      "RuntimeWarning: divide by zero encountered in divide\n",
      "RuntimeWarning: divide by zero encountered in divide\n",
      "RuntimeWarning: divide by zero encountered in divide\n",
      "RuntimeWarning: divide by zero encountered in divide\n",
      "RuntimeWarning: divide by zero encountered in divide\n",
      "UserWarning: No band specific config information found, will use the input kwargs only the DEFAULT configurations in conf_kwargs_.\n",
      "UserWarning: No band specific config information found, will use the input kwargs only the DEFAULT configurations in conf_kwargs_.\n",
      "UserWarning: More than one values found inobs_info_.table[Elevation], will average.\n",
      "UserWarning: No band specific config information found, will use the input kwargs only the DEFAULT configurations in conf_kwargs_.\n"
     ]
    },
    {
     "name": "stdout",
     "output_type": "stream",
     "text": [
      "Setting band using default layout.\n"
     ]
    },
    {
     "name": "stderr",
     "output_type": "stream",
     "text": [
      "UserWarning: More than one values found inobs_info_.table[Elevation], will average.\n",
      "RuntimeWarning: divide by zero encountered in divide\n",
      "RuntimeWarning: divide by zero encountered in divide\n",
      "RuntimeWarning: divide by zero encountered in divide\n",
      "UserWarning: No band specific config information found, will use the input kwargs only the DEFAULT configurations in conf_kwargs_.\n"
     ]
    },
    {
     "name": "stdout",
     "output_type": "stream",
     "text": [
      "Setting band using default layout.\n",
      "Processing beam ../../APEX_2022/20220930/skychop_220930_0036.\n",
      "Processing beam ../../APEX_2022/20220930/skychop_220930_0037.\n",
      "running in parallel on 2 threads.\n"
     ]
    },
    {
     "name": "stderr",
     "output_type": "stream",
     "text": [
      "RuntimeWarning: invalid value encountered in divide\n",
      "RuntimeWarning: invalid value encountered in divide\n"
     ]
    },
    {
     "name": "stdout",
     "output_type": "stream",
     "text": [
      "Processing beam ../../APEX_2022/20220930/bias_step_0066.\n",
      "Processing beam ../../APEX_2022/20220930/bias_step_0065.\n",
      "Processing beam ../../APEX_2022/20220930/bias_step_0067.\n",
      "running in parallel on 3 threads.\n"
     ]
    },
    {
     "name": "stderr",
     "output_type": "stream",
     "text": [
      "RuntimeWarning: divide by zero encountered in divide\n",
      "RuntimeWarning: divide by zero encountered in divide\n",
      "RuntimeWarning: divide by zero encountered in divide\n",
      "RuntimeWarning: divide by zero encountered in divide\n",
      "RuntimeWarning: divide by zero encountered in divide\n",
      "RuntimeWarning: divide by zero encountered in divide\n",
      "RuntimeWarning: divide by zero encountered in divide\n",
      "RuntimeWarning: divide by zero encountered in divide\n",
      "RuntimeWarning: divide by zero encountered in divide\n",
      "RuntimeWarning: divide by zero encountered in divide\n",
      "RuntimeWarning: divide by zero encountered in divide\n",
      "RuntimeWarning: divide by zero encountered in divide\n"
     ]
    },
    {
     "name": "stdout",
     "output_type": "stream",
     "text": [
      "Processing beam pair ../../APEX_2022/20220930/plckg200_220930_0041 and ../../APEX_2022/20220930/plckg200_220930_0040.\n",
      "Processing beam pair ../../APEX_2022/20220930/plckg200_220930_0047 and ../../APEX_2022/20220930/plckg200_220930_0046.Processing beam pair ../../APEX_2022/20220930/plckg200_220930_0045 and ../../APEX_2022/20220930/plckg200_220930_0044.Processing beam pair ../../APEX_2022/20220930/plckg200_220930_0043 and ../../APEX_2022/20220930/plckg200_220930_0042.Processing beam pair ../../APEX_2022/20220930/plckg200_220930_0049 and ../../APEX_2022/20220930/plckg200_220930_0048.\n",
      "Processing beam pair ../../APEX_2022/20220930/plckg200_220930_0051 and ../../APEX_2022/20220930/plckg200_220930_0050.\n",
      "\n",
      "Processing beam pair ../../APEX_2022/20220930/plckg200_220930_0053 and ../../APEX_2022/20220930/plckg200_220930_0052.\n",
      "\n",
      "\n",
      "Processing beam pair ../../APEX_2022/20220930/plckg200_220930_0055 and ../../APEX_2022/20220930/plckg200_220930_0054.\n",
      "running in parallel on 4 threads.\n"
     ]
    },
    {
     "name": "stderr",
     "output_type": "stream",
     "text": [
      "UserWarning: Extra time stamps truncated\n",
      "RuntimeWarning: divide by zero encountered in divide\n",
      "RuntimeWarning: divide by zero encountered in divide\n",
      "RuntimeWarning: divide by zero encountered in divide\n",
      "RuntimeWarning: divide by zero encountered in divide\n"
     ]
    },
    {
     "name": "stdout",
     "output_type": "stream",
     "text": [
      "Processing beam pair ../../APEX_2022/20220930/plckg200_220930_0057 and ../../APEX_2022/20220930/plckg200_220930_0056.\n"
     ]
    },
    {
     "name": "stderr",
     "output_type": "stream",
     "text": [
      "RuntimeWarning: divide by zero encountered in divide\n",
      "RuntimeWarning: divide by zero encountered in divide\n",
      "RuntimeWarning: divide by zero encountered in divide\n",
      "RuntimeWarning: divide by zero encountered in divide\n",
      "RuntimeWarning: divide by zero encountered in divide\n"
     ]
    },
    {
     "name": "stdout",
     "output_type": "stream",
     "text": [
      "Processing beam pair ../../APEX_2022/20220930/plckg200_220930_0059 and ../../APEX_2022/20220930/plckg200_220930_0058.\n"
     ]
    },
    {
     "name": "stderr",
     "output_type": "stream",
     "text": [
      "RuntimeWarning: divide by zero encountered in divide\n",
      "RuntimeWarning: divide by zero encountered in divide\n",
      "RuntimeWarning: divide by zero encountered in divide\n",
      "RuntimeWarning: divide by zero encountered in divide\n",
      "RuntimeWarning: divide by zero encountered in divide\n",
      "RuntimeWarning: divide by zero encountered in divide\n"
     ]
    },
    {
     "name": "stdout",
     "output_type": "stream",
     "text": [
      "Processing beam pair ../../APEX_2022/20220930/plckg200_220930_0061 and ../../APEX_2022/20220930/plckg200_220930_0060.\n",
      "Processing beam pair ../../APEX_2022/20220930/plckg200_220930_0063 and ../../APEX_2022/20220930/plckg200_220930_0062.\n"
     ]
    },
    {
     "name": "stderr",
     "output_type": "stream",
     "text": [
      "RuntimeWarning: divide by zero encountered in divide\n",
      "RuntimeWarning: divide by zero encountered in divide\n",
      "RuntimeWarning: divide by zero encountered in divide\n",
      "RuntimeWarning: divide by zero encountered in divide\n"
     ]
    },
    {
     "name": "stdout",
     "output_type": "stream",
     "text": [
      "Processing beam pair ../../APEX_2022/20220930/plckg200_220930_0065 and ../../APEX_2022/20220930/plckg200_220930_0064.\n"
     ]
    },
    {
     "name": "stderr",
     "output_type": "stream",
     "text": [
      "RuntimeWarning: divide by zero encountered in divide\n",
      "RuntimeWarning: divide by zero encountered in divide\n",
      "RuntimeWarning: divide by zero encountered in divide\n"
     ]
    },
    {
     "name": "stdout",
     "output_type": "stream",
     "text": [
      "Processing beam pair ../../APEX_2022/20220930/plckg200_220930_0067 and ../../APEX_2022/20220930/plckg200_220930_0066.\n"
     ]
    },
    {
     "name": "stderr",
     "output_type": "stream",
     "text": [
      "RuntimeWarning: divide by zero encountered in divide\n",
      "RuntimeWarning: divide by zero encountered in divide\n",
      "RuntimeWarning: divide by zero encountered in divide\n",
      "RuntimeWarning: divide by zero encountered in divide\n"
     ]
    },
    {
     "name": "stdout",
     "output_type": "stream",
     "text": [
      "Processing beam pair ../../APEX_2022/20220930/plckg200_220930_0069 and ../../APEX_2022/20220930/plckg200_220930_0068.\n"
     ]
    },
    {
     "name": "stderr",
     "output_type": "stream",
     "text": [
      "RuntimeWarning: divide by zero encountered in divide\n",
      "RuntimeWarning: divide by zero encountered in divide\n",
      "RuntimeWarning: divide by zero encountered in divide\n",
      "RuntimeWarning: divide by zero encountered in divide\n"
     ]
    },
    {
     "name": "stdout",
     "output_type": "stream",
     "text": [
      "Processing beam pair ../../APEX_2022/20220930/plckg200_220930_0071 and ../../APEX_2022/20220930/plckg200_220930_0070.\n"
     ]
    },
    {
     "name": "stderr",
     "output_type": "stream",
     "text": [
      "RuntimeWarning: divide by zero encountered in divide\n",
      "RuntimeWarning: divide by zero encountered in divide\n",
      "RuntimeWarning: divide by zero encountered in divide\n",
      "RuntimeWarning: divide by zero encountered in divide\n"
     ]
    },
    {
     "name": "stdout",
     "output_type": "stream",
     "text": [
      "Processing beam pair ../../APEX_2022/20220930/plckg200_220930_0073 and ../../APEX_2022/20220930/plckg200_220930_0072.\n"
     ]
    },
    {
     "name": "stderr",
     "output_type": "stream",
     "text": [
      "RuntimeWarning: divide by zero encountered in divide\n",
      "RuntimeWarning: divide by zero encountered in divide\n",
      "RuntimeWarning: divide by zero encountered in divide\n",
      "RuntimeWarning: divide by zero encountered in divide\n"
     ]
    },
    {
     "name": "stdout",
     "output_type": "stream",
     "text": [
      "Processing beam pair ../../APEX_2022/20220930/plckg200_220930_0075 and ../../APEX_2022/20220930/plckg200_220930_0074.\n"
     ]
    },
    {
     "name": "stderr",
     "output_type": "stream",
     "text": [
      "RuntimeWarning: divide by zero encountered in divide\n",
      "RuntimeWarning: divide by zero encountered in divide\n",
      "RuntimeWarning: divide by zero encountered in divide\n"
     ]
    },
    {
     "name": "stdout",
     "output_type": "stream",
     "text": [
      "Processing beam pair ../../APEX_2022/20220930/plckg200_220930_0077 and ../../APEX_2022/20220930/plckg200_220930_0076.\n"
     ]
    },
    {
     "name": "stderr",
     "output_type": "stream",
     "text": [
      "RuntimeWarning: divide by zero encountered in divide\n",
      "RuntimeWarning: divide by zero encountered in divide\n",
      "RuntimeWarning: divide by zero encountered in divide\n",
      "RuntimeWarning: divide by zero encountered in divide\n"
     ]
    },
    {
     "name": "stdout",
     "output_type": "stream",
     "text": [
      "Processing beam pair ../../APEX_2022/20220930/plckg200_220930_0079 and ../../APEX_2022/20220930/plckg200_220930_0078.\n"
     ]
    },
    {
     "name": "stderr",
     "output_type": "stream",
     "text": [
      "RuntimeWarning: divide by zero encountered in divide\n",
      "RuntimeWarning: divide by zero encountered in divide\n",
      "RuntimeWarning: divide by zero encountered in divide\n",
      "RuntimeWarning: divide by zero encountered in divide\n",
      "RuntimeWarning: divide by zero encountered in divide\n",
      "RuntimeWarning: divide by zero encountered in divide\n",
      "RuntimeWarning: divide by zero encountered in divide\n",
      "RuntimeWarning: divide by zero encountered in divide\n",
      "RuntimeWarning: divide by zero encountered in divide\n",
      "RuntimeWarning: divide by zero encountered in divide\n",
      "RuntimeWarning: divide by zero encountered in divide\n",
      "RuntimeWarning: divide by zero encountered in divide\n",
      "RuntimeWarning: divide by zero encountered in divide\n",
      "RuntimeWarning: divide by zero encountered in divide\n",
      "RuntimeWarning: divide by zero encountered in divide\n",
      "RuntimeWarning: divide by zero encountered in divide\n",
      "RuntimeWarning: divide by zero encountered in divide\n",
      "RuntimeWarning: divide by zero encountered in divide\n",
      "RuntimeWarning: divide by zero encountered in divide\n",
      "RuntimeWarning: divide by zero encountered in divide\n",
      "RuntimeWarning: divide by zero encountered in divide\n",
      "RuntimeWarning: divide by zero encountered in divide\n",
      "RuntimeWarning: divide by zero encountered in divide\n",
      "RuntimeWarning: divide by zero encountered in divide\n",
      "RuntimeWarning: divide by zero encountered in divide\n",
      "RuntimeWarning: divide by zero encountered in divide\n",
      "RuntimeWarning: divide by zero encountered in divide\n",
      "RuntimeWarning: divide by zero encountered in divide\n",
      "UserWarning: No band specific config information found, will use the input kwargs only the DEFAULT configurations in conf_kwargs_.\n",
      "UserWarning: No band specific config information found, will use the input kwargs only the DEFAULT configurations in conf_kwargs_.\n",
      "UserWarning: More than one values found inobs_info_.table[Elevation], will average.\n",
      "UserWarning: No band specific config information found, will use the input kwargs only the DEFAULT configurations in conf_kwargs_.\n"
     ]
    },
    {
     "name": "stdout",
     "output_type": "stream",
     "text": [
      "Setting band using default layout.\n"
     ]
    },
    {
     "name": "stderr",
     "output_type": "stream",
     "text": [
      "UserWarning: More than one values found inobs_info_.table[Elevation], will average.\n",
      "RuntimeWarning: divide by zero encountered in divide\n",
      "RuntimeWarning: divide by zero encountered in divide\n",
      "RuntimeWarning: divide by zero encountered in divide\n",
      "UserWarning: No band specific config information found, will use the input kwargs only the DEFAULT configurations in conf_kwargs_.\n"
     ]
    },
    {
     "name": "stdout",
     "output_type": "stream",
     "text": [
      "Setting band using default layout.\n",
      "Processing beam ../../APEX_2022/20220930/skychop_220930_0038.\n",
      "Processing beam ../../APEX_2022/20220930/skychop_220930_0039.\n",
      "running in parallel on 2 threads.\n"
     ]
    },
    {
     "name": "stderr",
     "output_type": "stream",
     "text": [
      "RuntimeWarning: invalid value encountered in divide\n",
      "RuntimeWarning: invalid value encountered in divide\n"
     ]
    },
    {
     "name": "stdout",
     "output_type": "stream",
     "text": [
      "Processing beam ../../APEX_2022/20220930/bias_step_0068.\n",
      "Processing beam ../../APEX_2022/20220930/bias_step_0070.Processing beam ../../APEX_2022/20220930/bias_step_0069.\n",
      "\n",
      "running in parallel on 3 threads.\n"
     ]
    },
    {
     "name": "stderr",
     "output_type": "stream",
     "text": [
      "RuntimeWarning: divide by zero encountered in divide\n",
      "RuntimeWarning: divide by zero encountered in divide\n",
      "RuntimeWarning: divide by zero encountered in divide\n",
      "RuntimeWarning: divide by zero encountered in divide\n",
      "RuntimeWarning: divide by zero encountered in divide\n",
      "RuntimeWarning: divide by zero encountered in divide\n",
      "RuntimeWarning: divide by zero encountered in divide\n",
      "RuntimeWarning: divide by zero encountered in divide\n",
      "RuntimeWarning: divide by zero encountered in divide\n",
      "RuntimeWarning: divide by zero encountered in divide\n",
      "RuntimeWarning: divide by zero encountered in divide\n",
      "RuntimeWarning: divide by zero encountered in divide\n"
     ]
    },
    {
     "name": "stdout",
     "output_type": "stream",
     "text": [
      "Processing beam pair ../../APEX_2022/20220930/plckg200_220930_0081 and ../../APEX_2022/20220930/plckg200_220930_0080.Processing beam pair ../../APEX_2022/20220930/plckg200_220930_0083 and ../../APEX_2022/20220930/plckg200_220930_0082.Processing beam pair ../../APEX_2022/20220930/plckg200_220930_0085 and ../../APEX_2022/20220930/plckg200_220930_0084.Processing beam pair ../../APEX_2022/20220930/plckg200_220930_0087 and ../../APEX_2022/20220930/plckg200_220930_0086.\n",
      "\n",
      "Processing beam pair ../../APEX_2022/20220930/plckg200_220930_0089 and ../../APEX_2022/20220930/plckg200_220930_0088.\n",
      "\n",
      "\n",
      "Processing beam pair ../../APEX_2022/20220930/plckg200_220930_0093 and ../../APEX_2022/20220930/plckg200_220930_0092.Processing beam pair ../../APEX_2022/20220930/plckg200_220930_0091 and ../../APEX_2022/20220930/plckg200_220930_0090.\n",
      "\n",
      "Processing beam pair ../../APEX_2022/20220930/plckg200_220930_0095 and ../../APEX_2022/20220930/plckg200_220930_0094.\n",
      "running in parallel on 4 threads.\n"
     ]
    },
    {
     "name": "stderr",
     "output_type": "stream",
     "text": [
      "RuntimeWarning: divide by zero encountered in divide\n",
      "RuntimeWarning: divide by zero encountered in divide\n",
      "RuntimeWarning: divide by zero encountered in divide\n",
      "RuntimeWarning: divide by zero encountered in divide\n",
      "RuntimeWarning: divide by zero encountered in divide\n",
      "RuntimeWarning: divide by zero encountered in divide\n"
     ]
    },
    {
     "name": "stdout",
     "output_type": "stream",
     "text": [
      "Processing beam pair ../../APEX_2022/20220930/plckg200_220930_0097 and ../../APEX_2022/20220930/plckg200_220930_0096.\n",
      "Processing beam pair ../../APEX_2022/20220930/plckg200_220930_0099 and ../../APEX_2022/20220930/plckg200_220930_0098.\n"
     ]
    },
    {
     "name": "stderr",
     "output_type": "stream",
     "text": [
      "RuntimeWarning: divide by zero encountered in divide\n",
      "UserWarning: Extra time stamps truncated\n",
      "RuntimeWarning: divide by zero encountered in divide\n",
      "RuntimeWarning: divide by zero encountered in divide\n"
     ]
    },
    {
     "name": "stdout",
     "output_type": "stream",
     "text": [
      "Processing beam pair ../../APEX_2022/20220930/plckg200_220930_0101 and ../../APEX_2022/20220930/plckg200_220930_0100.\n"
     ]
    },
    {
     "name": "stderr",
     "output_type": "stream",
     "text": [
      "RuntimeWarning: divide by zero encountered in divide\n",
      "RuntimeWarning: divide by zero encountered in divide\n",
      "RuntimeWarning: divide by zero encountered in divide\n",
      "RuntimeWarning: divide by zero encountered in divide\n",
      "RuntimeWarning: divide by zero encountered in divide\n",
      "RuntimeWarning: divide by zero encountered in divide\n",
      "RuntimeWarning: divide by zero encountered in divide\n",
      "RuntimeWarning: divide by zero encountered in divide\n",
      "RuntimeWarning: divide by zero encountered in divide\n",
      "RuntimeWarning: divide by zero encountered in divide\n",
      "RuntimeWarning: divide by zero encountered in divide\n"
     ]
    },
    {
     "name": "stdout",
     "output_type": "stream",
     "text": [
      "Processing beam pair ../../APEX_2022/20220930/plckg200_220930_0103 and ../../APEX_2022/20220930/plckg200_220930_0102.\n",
      "Processing beam pair ../../APEX_2022/20220930/plckg200_220930_0105 and ../../APEX_2022/20220930/plckg200_220930_0104.\n",
      "Processing beam pair ../../APEX_2022/20220930/plckg200_220930_0107 and ../../APEX_2022/20220930/plckg200_220930_0106.\n"
     ]
    },
    {
     "name": "stderr",
     "output_type": "stream",
     "text": [
      "UserWarning: Extra time stamps truncated\n",
      "RuntimeWarning: divide by zero encountered in divide\n",
      "RuntimeWarning: divide by zero encountered in divide\n",
      "RuntimeWarning: divide by zero encountered in divide\n",
      "RuntimeWarning: divide by zero encountered in divide\n",
      "RuntimeWarning: divide by zero encountered in divide\n",
      "RuntimeWarning: divide by zero encountered in divide\n",
      "RuntimeWarning: divide by zero encountered in divide\n"
     ]
    },
    {
     "name": "stdout",
     "output_type": "stream",
     "text": [
      "Processing beam pair ../../APEX_2022/20220930/plckg200_220930_0109 and ../../APEX_2022/20220930/plckg200_220930_0108.\n"
     ]
    },
    {
     "name": "stderr",
     "output_type": "stream",
     "text": [
      "RuntimeWarning: divide by zero encountered in divide\n"
     ]
    },
    {
     "name": "stdout",
     "output_type": "stream",
     "text": [
      "Processing beam pair ../../APEX_2022/20220930/plckg200_220930_0111 and ../../APEX_2022/20220930/plckg200_220930_0110.\n"
     ]
    },
    {
     "name": "stderr",
     "output_type": "stream",
     "text": [
      "RuntimeWarning: divide by zero encountered in divide\n",
      "RuntimeWarning: divide by zero encountered in divide\n",
      "RuntimeWarning: divide by zero encountered in divide\n",
      "RuntimeWarning: divide by zero encountered in divide\n",
      "RuntimeWarning: divide by zero encountered in divide\n",
      "RuntimeWarning: divide by zero encountered in divide\n"
     ]
    },
    {
     "name": "stdout",
     "output_type": "stream",
     "text": [
      "Processing beam pair ../../APEX_2022/20220930/plckg200_220930_0113 and ../../APEX_2022/20220930/plckg200_220930_0112.\n"
     ]
    },
    {
     "name": "stderr",
     "output_type": "stream",
     "text": [
      "RuntimeWarning: divide by zero encountered in divide\n",
      "RuntimeWarning: divide by zero encountered in divide\n",
      "RuntimeWarning: divide by zero encountered in divide\n"
     ]
    },
    {
     "name": "stdout",
     "output_type": "stream",
     "text": [
      "Processing beam pair ../../APEX_2022/20220930/plckg200_220930_0115 and ../../APEX_2022/20220930/plckg200_220930_0114."
     ]
    },
    {
     "name": "stderr",
     "output_type": "stream",
     "text": [
      "RuntimeWarning: divide by zero encountered in divide\n"
     ]
    },
    {
     "name": "stdout",
     "output_type": "stream",
     "text": [
      "\n"
     ]
    },
    {
     "name": "stderr",
     "output_type": "stream",
     "text": [
      "RuntimeWarning: divide by zero encountered in divide\n",
      "RuntimeWarning: divide by zero encountered in divide\n",
      "RuntimeWarning: divide by zero encountered in divide\n",
      "RuntimeWarning: divide by zero encountered in divide\n"
     ]
    },
    {
     "name": "stdout",
     "output_type": "stream",
     "text": [
      "Processing beam pair ../../APEX_2022/20220930/plckg200_220930_0117 and ../../APEX_2022/20220930/plckg200_220930_0116.\n"
     ]
    },
    {
     "name": "stderr",
     "output_type": "stream",
     "text": [
      "RuntimeWarning: divide by zero encountered in divide\n",
      "RuntimeWarning: divide by zero encountered in divide\n",
      "RuntimeWarning: divide by zero encountered in divide\n"
     ]
    },
    {
     "name": "stdout",
     "output_type": "stream",
     "text": [
      "Processing beam pair ../../APEX_2022/20220930/plckg200_220930_0119 and ../../APEX_2022/20220930/plckg200_220930_0118.\n"
     ]
    },
    {
     "name": "stderr",
     "output_type": "stream",
     "text": [
      "RuntimeWarning: divide by zero encountered in divide\n",
      "RuntimeWarning: divide by zero encountered in divide\n",
      "RuntimeWarning: divide by zero encountered in divide\n",
      "RuntimeWarning: divide by zero encountered in divide\n",
      "RuntimeWarning: divide by zero encountered in divide\n",
      "RuntimeWarning: divide by zero encountered in divide\n",
      "RuntimeWarning: divide by zero encountered in divide\n",
      "RuntimeWarning: divide by zero encountered in divide\n",
      "RuntimeWarning: divide by zero encountered in divide\n",
      "RuntimeWarning: divide by zero encountered in divide\n",
      "RuntimeWarning: divide by zero encountered in divide\n",
      "RuntimeWarning: divide by zero encountered in divide\n",
      "RuntimeWarning: divide by zero encountered in divide\n",
      "RuntimeWarning: divide by zero encountered in divide\n",
      "RuntimeWarning: divide by zero encountered in divide\n",
      "RuntimeWarning: divide by zero encountered in divide\n",
      "RuntimeWarning: divide by zero encountered in divide\n",
      "RuntimeWarning: divide by zero encountered in divide\n",
      "RuntimeWarning: divide by zero encountered in divide\n",
      "RuntimeWarning: divide by zero encountered in divide\n",
      "RuntimeWarning: divide by zero encountered in divide\n",
      "RuntimeWarning: divide by zero encountered in divide\n",
      "RuntimeWarning: divide by zero encountered in divide\n",
      "RuntimeWarning: divide by zero encountered in divide\n",
      "RuntimeWarning: divide by zero encountered in divide\n",
      "RuntimeWarning: divide by zero encountered in divide\n",
      "RuntimeWarning: divide by zero encountered in divide\n",
      "RuntimeWarning: divide by zero encountered in divide\n",
      "RuntimeWarning: divide by zero encountered in divide\n",
      "UserWarning: No band specific config information found, will use the input kwargs only the DEFAULT configurations in conf_kwargs_.\n",
      "UserWarning: No band specific config information found, will use the input kwargs only the DEFAULT configurations in conf_kwargs_.\n",
      "UserWarning: More than one values found inobs_info_.table[mm PWV], will average.\n",
      "UserWarning: More than one values found inobs_info_.table[Elevation], will average.\n",
      "UserWarning: No band specific config information found, will use the input kwargs only the DEFAULT configurations in conf_kwargs_.\n"
     ]
    },
    {
     "name": "stdout",
     "output_type": "stream",
     "text": [
      "Setting band using default layout.\n"
     ]
    },
    {
     "name": "stderr",
     "output_type": "stream",
     "text": [
      "UserWarning: More than one values found inobs_info_.table[mm PWV], will average.\n",
      "UserWarning: More than one values found inobs_info_.table[Elevation], will average.\n",
      "RuntimeWarning: divide by zero encountered in divide\n",
      "RuntimeWarning: divide by zero encountered in divide\n",
      "RuntimeWarning: divide by zero encountered in divide\n",
      "UserWarning: No band specific config information found, will use the input kwargs only the DEFAULT configurations in conf_kwargs_.\n"
     ]
    },
    {
     "name": "stdout",
     "output_type": "stream",
     "text": [
      "Setting band using default layout.\n"
     ]
    }
   ],
   "source": [
    "times = []\n",
    "r.do_ica = True\n",
    "r.do_smooth=False\n",
    "times.append(time.time())\n",
    "for sky,bs,dat,folder in zip(flats,bias,data,folders):\n",
    "    r.data_dir = folder\n",
    "    #r.inject_signal = zt.mce_data.SignalInjection(amplitude=1,pixels=[am.phys_to_mce(spec,spat,400)])\n",
    "    r.reduce(sky,dat,bs)\n",
    "    times.append(time.time())"
   ]
  },
  {
   "cell_type": "code",
   "execution_count": 46,
   "id": "33fe9fb1",
   "metadata": {},
   "outputs": [
    {
     "data": {
      "text/plain": [
       "array([156.12410116, 175.51199102, 159.89656401,  83.97980332,\n",
       "        77.36696506, 165.68574524, 158.59229589,  23.39044809,\n",
       "       171.15913153,  49.38591671, 164.4329257 ,  91.11881351])"
      ]
     },
     "execution_count": 46,
     "metadata": {},
     "output_type": "execute_result"
    }
   ],
   "source": [
    "t = np.array(times)\n",
    "t[1:]-t[:-1]"
   ]
  }
 ],
 "metadata": {
  "hide_input": false,
  "kernelspec": {
   "display_name": "Python 3 (ipykernel)",
   "language": "python",
   "name": "python3"
  },
  "language_info": {
   "codemirror_mode": {
    "name": "ipython",
    "version": 3
   },
   "file_extension": ".py",
   "mimetype": "text/x-python",
   "name": "python",
   "nbconvert_exporter": "python",
   "pygments_lexer": "ipython3",
   "version": "3.10.8"
  }
 },
 "nbformat": 4,
 "nbformat_minor": 5
}
